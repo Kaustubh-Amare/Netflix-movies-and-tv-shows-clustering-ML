{
  "nbformat": 4,
  "nbformat_minor": 0,
  "metadata": {
    "colab": {
      "provenance": [],
      "include_colab_link": true
    },
    "kernelspec": {
      "name": "python3",
      "display_name": "Python 3"
    },
    "language_info": {
      "name": "python"
    },
    "gpuClass": "standard"
  },
  "cells": [
    {
      "cell_type": "markdown",
      "metadata": {
        "id": "view-in-github",
        "colab_type": "text"
      },
      "source": [
        "<a href=\"https://colab.research.google.com/github/Kaustubh-Amare/Netflix-movies-and-tv-shows-clustering-ML/blob/main/Netflix_Movies_%26_TV_shows_clustering_ML.ipynb\" target=\"_parent\"><img src=\"https://colab.research.google.com/assets/colab-badge.svg\" alt=\"Open In Colab\"/></a>"
      ]
    },
    {
      "cell_type": "markdown",
      "source": [
        "# **Project Name**    - Netflix Movies & TV shows clustering (Unsupervised ML)\n",
        "\n"
      ],
      "metadata": {
        "id": "vncDsAP0Gaoa"
      }
    },
    {
      "cell_type": "markdown",
      "source": [
        "##### **Project Type**    - Unsupervised\n",
        "##### **Contribution**    - Individual/Team\n",
        "##### **Team Member 1 -**\n",
        "##### **Team Member 2 -**\n",
        "##### **Team Member 3 -**\n",
        "##### **Team Member 4 -**"
      ],
      "metadata": {
        "id": "beRrZCGUAJYm"
      }
    },
    {
      "cell_type": "markdown",
      "source": [
        "# **Project Summary -**"
      ],
      "metadata": {
        "id": "FJNUwmbgGyua"
      }
    },
    {
      "cell_type": "markdown",
      "source": [
        "Write the summary here within 500-600 words."
      ],
      "metadata": {
        "id": "F6v_1wHtG2nS"
      }
    },
    {
      "cell_type": "markdown",
      "source": [
        "# **GitHub Link -**"
      ],
      "metadata": {
        "id": "w6K7xa23Elo4"
      }
    },
    {
      "cell_type": "markdown",
      "source": [
        "Provide your GitHub Link here."
      ],
      "metadata": {
        "id": "h1o69JH3Eqqn"
      }
    },
    {
      "cell_type": "markdown",
      "source": [
        "# **Problem Statement**\n"
      ],
      "metadata": {
        "id": "yQaldy8SH6Dl"
      }
    },
    {
      "cell_type": "markdown",
      "source": [
        "**Write Problem Statement Here.**"
      ],
      "metadata": {
        "id": "DpeJGUA3kjGy"
      }
    },
    {
      "cell_type": "markdown",
      "source": [
        "# **General Guidelines** : -  "
      ],
      "metadata": {
        "id": "mDgbUHAGgjLW"
      }
    },
    {
      "cell_type": "markdown",
      "source": [
        "1.   Well-structured, formatted, and commented code is required. \n",
        "2.   Exception Handling, Production Grade Code & Deployment Ready Code will be a plus. Those students will be awarded some additional credits. \n",
        "     \n",
        "     The additional credits will have advantages over other students during Star Student selection.\n",
        "       \n",
        "             [ Note: - Deployment Ready Code is defined as, the whole .ipynb notebook should be executable in one go\n",
        "                       without a single error logged. ]\n",
        "\n",
        "3.   Each and every logic should have proper comments.\n",
        "4. You may add as many number of charts you want. Make Sure for each and every chart the following format should be answered.\n",
        "        \n",
        "\n",
        "```\n",
        "# Chart visualization code\n",
        "```\n",
        "            \n",
        "\n",
        "*   Why did you pick the specific chart?\n",
        "*   What is/are the insight(s) found from the chart?\n",
        "* Will the gained insights help creating a positive business impact? \n",
        "Are there any insights that lead to negative growth? Justify with specific reason.\n",
        "\n",
        "5. You have to create at least 15 logical & meaningful charts having important insights.\n",
        "\n",
        "\n",
        "[ Hints : - Do the Vizualization in  a structured way while following \"UBM\" Rule. \n",
        "\n",
        "U - Univariate Analysis,\n",
        "\n",
        "B - Bivariate Analysis (Numerical - Categorical, Numerical - Numerical, Categorical - Categorical)\n",
        "\n",
        "M - Multivariate Analysis\n",
        " ]\n",
        "\n",
        "\n",
        "\n",
        "\n",
        "\n",
        "6. You may add more ml algorithms for model creation. Make sure for each and every algorithm, the following format should be answered.\n",
        "\n",
        "\n",
        "*   Explain the ML Model used and it's performance using Evaluation metric Score Chart.\n",
        "\n",
        "\n",
        "*   Cross- Validation & Hyperparameter Tuning\n",
        "\n",
        "*   Have you seen any improvement? Note down the improvement with updates Evaluation metric Score Chart.\n",
        "\n",
        "*   Explain each evaluation metric's indication towards business and the business impact pf the ML model used.\n",
        "\n",
        "\n",
        "\n",
        "\n",
        "\n",
        "\n",
        "\n",
        "\n",
        "\n",
        "\n",
        "\n",
        "\n",
        "\n",
        "\n",
        "\n",
        "\n",
        "\n",
        "\n"
      ],
      "metadata": {
        "id": "ZrxVaUj-hHfC"
      }
    },
    {
      "cell_type": "markdown",
      "source": [
        "# ***Let's Begin !***"
      ],
      "metadata": {
        "id": "O_i_v8NEhb9l"
      }
    },
    {
      "cell_type": "markdown",
      "source": [
        "## ***1. Know Your Data***"
      ],
      "metadata": {
        "id": "HhfV-JJviCcP"
      }
    },
    {
      "cell_type": "markdown",
      "source": [
        "### Import Libraries"
      ],
      "metadata": {
        "id": "Y3lxredqlCYt"
      }
    },
    {
      "cell_type": "code",
      "source": [
        "#neccessary packages\n",
        "!pip install xplotter --upgrade\n",
        "!pip install pycountry-convert\n",
        "!pip install geopy\n",
        "!pip install folium\n",
        "!pip install geopandas\n",
        "###################\n",
        "import pandas as pd\n",
        "import numpy as np\n",
        "\n",
        "import missingno as msno\n",
        "\n",
        "import seaborn as sns\n",
        "import matplotlib.pyplot as plt\n",
        "import plotly.express as px\n",
        "import plotly.graph_objects as go\n",
        "from plotly.subplots import make_subplots\n",
        "import matplotlib.cm as cm\n",
        "\n",
        "\n",
        "\n",
        "%matplotlib inline\n",
        "\n",
        "# Importing Date & Time util modules\n",
        "from dateutil.parser import parse\n",
        "\n",
        "import collections as c\n",
        "\n",
        "\n",
        "import re\n",
        "import nltk\n",
        "nltk.download('stopwords')\n",
        "from nltk.corpus import stopwords\n",
        "\n",
        "#for nlp\n",
        "from sklearn import preprocessing\n",
        "from sklearn.feature_extraction.text import CountVectorizer, TfidfVectorizer\n",
        "from sklearn.model_selection import train_test_split, KFold\n",
        "from nltk.corpus import stopwords\n",
        "from nltk.stem.snowball import SnowballStemmer\n",
        "\n",
        "from sklearn.metrics import silhouette_score\n",
        "from sklearn.cluster import KMeans\n",
        "from sklearn.metrics import silhouette_samples\n",
        "import scipy.cluster.hierarchy as sch\n",
        "\n",
        "\n",
        "import warnings\n",
        "warnings.filterwarnings('ignore')\n",
        "%matplotlib inline\n",
        "\n",
        "# Importing Date & Time util modules\n",
        "from dateutil.parser import parse\n",
        "\n",
        "import collections as c\n",
        "\n",
        "\n",
        "# Xplotter\n",
        "from xplotter.insights import *\n",
        "from xplotter.formatter import format_spines\n",
        "\n",
        "#neccessary packages\n",
        "!pip install xplotter --upgrade\n",
        "!pip install pycountry-convert\n",
        "!pip install geopy\n",
        "!pip install folium\n",
        "!pip install geopandas\n"
      ],
      "metadata": {
        "id": "M8Vqi-pPk-HR",
        "colab": {
          "base_uri": "https://localhost:8080/"
        },
        "outputId": "d3484036-0e93-4d0d-c59e-e53078b69df9"
      },
      "execution_count": 2,
      "outputs": [
        {
          "output_type": "stream",
          "name": "stdout",
          "text": [
            "Looking in indexes: https://pypi.org/simple, https://us-python.pkg.dev/colab-wheels/public/simple/\n",
            "Collecting xplotter\n",
            "  Downloading xplotter-0.0.6-py3-none-any.whl (21 kB)\n",
            "Requirement already satisfied: seaborn in /usr/local/lib/python3.8/dist-packages (from xplotter) (0.11.2)\n",
            "Requirement already satisfied: pandas in /usr/local/lib/python3.8/dist-packages (from xplotter) (1.3.5)\n",
            "Requirement already satisfied: matplotlib in /usr/local/lib/python3.8/dist-packages (from xplotter) (3.2.2)\n",
            "Requirement already satisfied: cycler>=0.10 in /usr/local/lib/python3.8/dist-packages (from matplotlib->xplotter) (0.11.0)\n",
            "Requirement already satisfied: numpy>=1.11 in /usr/local/lib/python3.8/dist-packages (from matplotlib->xplotter) (1.21.6)\n",
            "Requirement already satisfied: python-dateutil>=2.1 in /usr/local/lib/python3.8/dist-packages (from matplotlib->xplotter) (2.8.2)\n",
            "Requirement already satisfied: kiwisolver>=1.0.1 in /usr/local/lib/python3.8/dist-packages (from matplotlib->xplotter) (1.4.4)\n",
            "Requirement already satisfied: pyparsing!=2.0.4,!=2.1.2,!=2.1.6,>=2.0.1 in /usr/local/lib/python3.8/dist-packages (from matplotlib->xplotter) (3.0.9)\n",
            "Requirement already satisfied: six>=1.5 in /usr/local/lib/python3.8/dist-packages (from python-dateutil>=2.1->matplotlib->xplotter) (1.15.0)\n",
            "Requirement already satisfied: pytz>=2017.3 in /usr/local/lib/python3.8/dist-packages (from pandas->xplotter) (2022.6)\n",
            "Requirement already satisfied: scipy>=1.0 in /usr/local/lib/python3.8/dist-packages (from seaborn->xplotter) (1.7.3)\n",
            "Installing collected packages: xplotter\n",
            "Successfully installed xplotter-0.0.6\n",
            "Looking in indexes: https://pypi.org/simple, https://us-python.pkg.dev/colab-wheels/public/simple/\n",
            "Collecting pycountry-convert\n",
            "  Downloading pycountry_convert-0.7.2-py3-none-any.whl (13 kB)\n",
            "Collecting pytest-cov>=2.5.1\n",
            "  Downloading pytest_cov-4.0.0-py3-none-any.whl (21 kB)\n",
            "Collecting pprintpp>=0.3.0\n",
            "  Downloading pprintpp-0.4.0-py2.py3-none-any.whl (16 kB)\n",
            "Requirement already satisfied: wheel>=0.30.0 in /usr/local/lib/python3.8/dist-packages (from pycountry-convert) (0.38.4)\n",
            "Collecting repoze.lru>=0.7\n",
            "  Downloading repoze.lru-0.7-py3-none-any.whl (10 kB)\n",
            "Collecting pytest-mock>=1.6.3\n",
            "  Downloading pytest_mock-3.10.0-py3-none-any.whl (9.3 kB)\n",
            "Requirement already satisfied: pytest>=3.4.0 in /usr/local/lib/python3.8/dist-packages (from pycountry-convert) (3.6.4)\n",
            "Collecting pycountry>=16.11.27.1\n",
            "  Downloading pycountry-22.3.5.tar.gz (10.1 MB)\n",
            "\u001b[K     |████████████████████████████████| 10.1 MB 6.1 MB/s \n",
            "\u001b[?25h  Installing build dependencies ... \u001b[?25l\u001b[?25hdone\n",
            "  Getting requirements to build wheel ... \u001b[?25l\u001b[?25hdone\n",
            "    Preparing wheel metadata ... \u001b[?25l\u001b[?25hdone\n",
            "Requirement already satisfied: setuptools in /usr/local/lib/python3.8/dist-packages (from pycountry>=16.11.27.1->pycountry-convert) (57.4.0)\n",
            "Requirement already satisfied: more-itertools>=4.0.0 in /usr/local/lib/python3.8/dist-packages (from pytest>=3.4.0->pycountry-convert) (9.0.0)\n",
            "Requirement already satisfied: six>=1.10.0 in /usr/local/lib/python3.8/dist-packages (from pytest>=3.4.0->pycountry-convert) (1.15.0)\n",
            "Requirement already satisfied: pluggy<0.8,>=0.5 in /usr/local/lib/python3.8/dist-packages (from pytest>=3.4.0->pycountry-convert) (0.7.1)\n",
            "Requirement already satisfied: attrs>=17.4.0 in /usr/local/lib/python3.8/dist-packages (from pytest>=3.4.0->pycountry-convert) (22.1.0)\n",
            "Requirement already satisfied: py>=1.5.0 in /usr/local/lib/python3.8/dist-packages (from pytest>=3.4.0->pycountry-convert) (1.11.0)\n",
            "Requirement already satisfied: atomicwrites>=1.0 in /usr/local/lib/python3.8/dist-packages (from pytest>=3.4.0->pycountry-convert) (1.4.1)\n",
            "Collecting pytest>=3.4.0\n",
            "  Downloading pytest-7.2.0-py3-none-any.whl (316 kB)\n",
            "\u001b[K     |████████████████████████████████| 316 kB 74.1 MB/s \n",
            "\u001b[?25hCollecting coverage[toml]>=5.2.1\n",
            "  Downloading coverage-7.0.0-cp38-cp38-manylinux_2_5_x86_64.manylinux1_x86_64.manylinux_2_17_x86_64.manylinux2014_x86_64.whl (217 kB)\n",
            "\u001b[K     |████████████████████████████████| 217 kB 62.8 MB/s \n",
            "\u001b[?25hRequirement already satisfied: tomli in /usr/local/lib/python3.8/dist-packages (from coverage[toml]>=5.2.1->pytest-cov>=2.5.1->pycountry-convert) (2.0.1)\n",
            "Collecting pytest>=3.4.0\n",
            "  Downloading pytest-7.1.3-py3-none-any.whl (298 kB)\n",
            "\u001b[K     |████████████████████████████████| 298 kB 59.6 MB/s \n",
            "\u001b[?25h  Downloading pytest-7.1.2-py3-none-any.whl (297 kB)\n",
            "\u001b[K     |████████████████████████████████| 297 kB 57.0 MB/s \n",
            "\u001b[?25h  Downloading pytest-7.1.1-py3-none-any.whl (297 kB)\n",
            "\u001b[K     |████████████████████████████████| 297 kB 71.2 MB/s \n",
            "\u001b[?25h  Downloading pytest-7.1.0-py3-none-any.whl (297 kB)\n",
            "\u001b[K     |████████████████████████████████| 297 kB 79.7 MB/s \n",
            "\u001b[?25h  Downloading pytest-7.0.1-py3-none-any.whl (296 kB)\n",
            "\u001b[K     |████████████████████████████████| 296 kB 64.0 MB/s \n",
            "\u001b[?25h  Downloading pytest-7.0.0-py3-none-any.whl (296 kB)\n",
            "\u001b[K     |████████████████████████████████| 296 kB 40.4 MB/s \n",
            "\u001b[?25h  Downloading pytest-6.2.5-py3-none-any.whl (280 kB)\n",
            "\u001b[K     |████████████████████████████████| 280 kB 74.6 MB/s \n",
            "\u001b[?25h  Downloading pytest-6.2.4-py3-none-any.whl (280 kB)\n",
            "\u001b[K     |████████████████████████████████| 280 kB 74.9 MB/s \n",
            "\u001b[?25hCollecting iniconfig\n",
            "  Downloading iniconfig-1.1.1-py2.py3-none-any.whl (5.0 kB)\n",
            "Collecting pytest>=3.4.0\n",
            "  Downloading pytest-6.2.3-py3-none-any.whl (280 kB)\n",
            "\u001b[K     |████████████████████████████████| 280 kB 44.5 MB/s \n",
            "\u001b[?25h  Downloading pytest-6.2.2-py3-none-any.whl (280 kB)\n",
            "\u001b[K     |████████████████████████████████| 280 kB 64.5 MB/s \n",
            "\u001b[?25h  Downloading pytest-6.2.1-py3-none-any.whl (279 kB)\n",
            "\u001b[K     |████████████████████████████████| 279 kB 61.6 MB/s \n",
            "\u001b[?25h  Downloading pytest-6.2.0-py3-none-any.whl (279 kB)\n",
            "\u001b[K     |████████████████████████████████| 279 kB 47.7 MB/s \n",
            "\u001b[?25h  Downloading pytest-6.1.2-py3-none-any.whl (272 kB)\n",
            "\u001b[K     |████████████████████████████████| 272 kB 45.1 MB/s \n",
            "\u001b[?25h  Downloading pytest-6.1.1-py3-none-any.whl (272 kB)\n",
            "\u001b[K     |████████████████████████████████| 272 kB 59.6 MB/s \n",
            "\u001b[?25h  Downloading pytest-6.1.0-py3-none-any.whl (272 kB)\n",
            "\u001b[K     |████████████████████████████████| 272 kB 72.3 MB/s \n",
            "\u001b[?25h  Downloading pytest-6.0.2-py3-none-any.whl (270 kB)\n",
            "\u001b[K     |████████████████████████████████| 270 kB 53.7 MB/s \n",
            "\u001b[?25h  Downloading pytest-6.0.1-py3-none-any.whl (270 kB)\n",
            "\u001b[K     |████████████████████████████████| 270 kB 58.2 MB/s \n",
            "\u001b[?25h  Downloading pytest-6.0.0-py3-none-any.whl (270 kB)\n",
            "\u001b[K     |████████████████████████████████| 270 kB 60.7 MB/s \n",
            "\u001b[?25h  Downloading pytest-5.4.3-py3-none-any.whl (248 kB)\n",
            "\u001b[K     |████████████████████████████████| 248 kB 84.4 MB/s \n",
            "\u001b[?25h  Downloading pytest-5.4.2-py3-none-any.whl (247 kB)\n",
            "\u001b[K     |████████████████████████████████| 247 kB 64.5 MB/s \n",
            "\u001b[?25h  Downloading pytest-5.4.1-py3-none-any.whl (246 kB)\n",
            "\u001b[K     |████████████████████████████████| 246 kB 58.8 MB/s \n",
            "\u001b[?25h  Downloading pytest-5.4.0-py3-none-any.whl (247 kB)\n",
            "\u001b[K     |████████████████████████████████| 247 kB 59.8 MB/s \n",
            "\u001b[?25h  Downloading pytest-5.3.5-py3-none-any.whl (235 kB)\n",
            "\u001b[K     |████████████████████████████████| 235 kB 56.9 MB/s \n",
            "\u001b[?25h  Downloading pytest-5.3.4-py3-none-any.whl (235 kB)\n",
            "\u001b[K     |████████████████████████████████| 235 kB 49.9 MB/s \n",
            "\u001b[?25h  Downloading pytest-5.3.3-py3-none-any.whl (235 kB)\n",
            "\u001b[K     |████████████████████████████████| 235 kB 60.3 MB/s \n",
            "\u001b[?25h  Downloading pytest-5.3.2-py3-none-any.whl (234 kB)\n",
            "\u001b[K     |████████████████████████████████| 234 kB 58.8 MB/s \n",
            "\u001b[?25h  Downloading pytest-5.3.1-py3-none-any.whl (233 kB)\n",
            "\u001b[K     |████████████████████████████████| 233 kB 59.2 MB/s \n",
            "\u001b[?25h  Downloading pytest-5.3.0-py3-none-any.whl (233 kB)\n",
            "\u001b[K     |████████████████████████████████| 233 kB 44.4 MB/s \n",
            "\u001b[?25h  Downloading pytest-5.2.4-py3-none-any.whl (227 kB)\n",
            "\u001b[K     |████████████████████████████████| 227 kB 49.5 MB/s \n",
            "\u001b[?25h  Downloading pytest-5.2.3-py3-none-any.whl (227 kB)\n",
            "\u001b[K     |████████████████████████████████| 227 kB 45.1 MB/s \n",
            "\u001b[?25h  Downloading pytest-5.2.2-py3-none-any.whl (227 kB)\n",
            "\u001b[K     |████████████████████████████████| 227 kB 78.8 MB/s \n",
            "\u001b[?25h  Downloading pytest-5.2.1-py3-none-any.whl (226 kB)\n",
            "\u001b[K     |████████████████████████████████| 226 kB 79.3 MB/s \n",
            "\u001b[?25h  Downloading pytest-5.2.0-py3-none-any.whl (226 kB)\n",
            "\u001b[K     |████████████████████████████████| 226 kB 81.5 MB/s \n",
            "\u001b[?25h  Downloading pytest-5.1.3-py3-none-any.whl (224 kB)\n",
            "\u001b[K     |████████████████████████████████| 224 kB 83.4 MB/s \n",
            "\u001b[?25h  Downloading pytest-5.1.2-py3-none-any.whl (224 kB)\n",
            "\u001b[K     |████████████████████████████████| 224 kB 57.6 MB/s \n",
            "\u001b[?25h  Downloading pytest-5.1.1-py3-none-any.whl (223 kB)\n",
            "\u001b[K     |████████████████████████████████| 223 kB 63.3 MB/s \n",
            "\u001b[?25h  Downloading pytest-5.1.0-py3-none-any.whl (223 kB)\n",
            "\u001b[K     |████████████████████████████████| 223 kB 49.9 MB/s \n",
            "\u001b[?25h  Downloading pytest-5.0.1-py3-none-any.whl (221 kB)\n",
            "\u001b[K     |████████████████████████████████| 221 kB 69.7 MB/s \n",
            "\u001b[?25h  Downloading pytest-5.0.0-py3-none-any.whl (221 kB)\n",
            "\u001b[K     |████████████████████████████████| 221 kB 63.9 MB/s \n",
            "\u001b[?25h  Downloading pytest-4.6.11-py2.py3-none-any.whl (231 kB)\n",
            "\u001b[K     |████████████████████████████████| 231 kB 55.7 MB/s \n",
            "\u001b[?25h  Downloading pytest-4.6.10-py2.py3-none-any.whl (231 kB)\n",
            "\u001b[K     |████████████████████████████████| 231 kB 74.4 MB/s \n",
            "\u001b[?25h  Downloading pytest-4.6.9-py2.py3-none-any.whl (231 kB)\n",
            "\u001b[K     |████████████████████████████████| 231 kB 70.6 MB/s \n",
            "\u001b[?25h  Downloading pytest-4.6.8-py2.py3-none-any.whl (230 kB)\n",
            "\u001b[K     |████████████████████████████████| 230 kB 58.3 MB/s \n",
            "\u001b[?25h  Downloading pytest-4.6.7-py2.py3-none-any.whl (230 kB)\n",
            "\u001b[K     |████████████████████████████████| 230 kB 76.2 MB/s \n",
            "\u001b[?25h  Downloading pytest-4.6.6-py2.py3-none-any.whl (230 kB)\n",
            "\u001b[K     |████████████████████████████████| 230 kB 45.3 MB/s \n",
            "\u001b[?25h  Downloading pytest-4.6.5-py2.py3-none-any.whl (230 kB)\n",
            "\u001b[K     |████████████████████████████████| 230 kB 67.4 MB/s \n",
            "\u001b[?25h  Downloading pytest-4.6.4-py2.py3-none-any.whl (229 kB)\n",
            "\u001b[K     |████████████████████████████████| 229 kB 56.8 MB/s \n",
            "\u001b[?25h  Downloading pytest-4.6.3-py2.py3-none-any.whl (229 kB)\n",
            "\u001b[K     |████████████████████████████████| 229 kB 76.2 MB/s \n",
            "\u001b[?25h  Downloading pytest-4.6.2-py2.py3-none-any.whl (229 kB)\n",
            "\u001b[K     |████████████████████████████████| 229 kB 77.0 MB/s \n",
            "\u001b[?25h  Downloading pytest-4.6.1-py2.py3-none-any.whl (229 kB)\n",
            "\u001b[K     |████████████████████████████████| 229 kB 59.6 MB/s \n",
            "\u001b[?25h  Downloading pytest-4.6.0-py2.py3-none-any.whl (229 kB)\n",
            "\u001b[K     |████████████████████████████████| 229 kB 77.9 MB/s \n",
            "\u001b[?25hINFO: pip is looking at multiple versions of coverage to determine which version is compatible with other requirements. This could take a while.\n",
            "INFO: pip is looking at multiple versions of coverage[toml] to determine which version is compatible with other requirements. This could take a while.\n",
            "Collecting coverage[toml]>=5.2.1\n",
            "  Downloading coverage-6.5.0-cp38-cp38-manylinux_2_5_x86_64.manylinux1_x86_64.manylinux_2_17_x86_64.manylinux2014_x86_64.whl (214 kB)\n",
            "\u001b[K     |████████████████████████████████| 214 kB 63.5 MB/s \n",
            "\u001b[?25h  Downloading coverage-6.4.4-cp38-cp38-manylinux_2_5_x86_64.manylinux1_x86_64.manylinux_2_17_x86_64.manylinux2014_x86_64.whl (213 kB)\n",
            "\u001b[K     |████████████████████████████████| 213 kB 61.9 MB/s \n",
            "\u001b[?25h  Downloading coverage-6.4.3-cp38-cp38-manylinux_2_5_x86_64.manylinux1_x86_64.manylinux_2_17_x86_64.manylinux2014_x86_64.whl (213 kB)\n",
            "\u001b[K     |████████████████████████████████| 213 kB 56.1 MB/s \n",
            "\u001b[?25h  Downloading coverage-6.4.2-cp38-cp38-manylinux_2_5_x86_64.manylinux1_x86_64.manylinux_2_17_x86_64.manylinux2014_x86_64.whl (213 kB)\n",
            "\u001b[K     |████████████████████████████████| 213 kB 56.5 MB/s \n",
            "\u001b[?25h  Downloading coverage-6.4.1-cp38-cp38-manylinux_2_5_x86_64.manylinux1_x86_64.manylinux_2_17_x86_64.manylinux2014_x86_64.whl (213 kB)\n",
            "\u001b[K     |████████████████████████████████| 213 kB 49.3 MB/s \n",
            "\u001b[?25h  Downloading coverage-6.4-cp38-cp38-manylinux_2_5_x86_64.manylinux1_x86_64.manylinux_2_17_x86_64.manylinux2014_x86_64.whl (212 kB)\n",
            "\u001b[K     |████████████████████████████████| 212 kB 60.4 MB/s \n",
            "\u001b[?25h  Downloading coverage-6.3.3-cp38-cp38-manylinux_2_5_x86_64.manylinux1_x86_64.manylinux_2_17_x86_64.manylinux2014_x86_64.whl (212 kB)\n",
            "\u001b[K     |████████████████████████████████| 212 kB 65.3 MB/s \n",
            "\u001b[?25hINFO: pip is looking at multiple versions of coverage to determine which version is compatible with other requirements. This could take a while.\n",
            "INFO: pip is looking at multiple versions of coverage[toml] to determine which version is compatible with other requirements. This could take a while.\n",
            "  Downloading coverage-6.3.2-cp38-cp38-manylinux_2_5_x86_64.manylinux1_x86_64.manylinux_2_17_x86_64.manylinux2014_x86_64.whl (212 kB)\n",
            "\u001b[K     |████████████████████████████████| 212 kB 50.7 MB/s \n",
            "\u001b[?25h  Downloading coverage-6.3.1-cp38-cp38-manylinux_2_5_x86_64.manylinux1_x86_64.manylinux_2_17_x86_64.manylinux2014_x86_64.whl (211 kB)\n",
            "\u001b[K     |████████████████████████████████| 211 kB 59.4 MB/s \n",
            "\u001b[?25h  Downloading coverage-6.3-cp38-cp38-manylinux_2_5_x86_64.manylinux1_x86_64.manylinux_2_17_x86_64.manylinux2014_x86_64.whl (211 kB)\n",
            "\u001b[K     |████████████████████████████████| 211 kB 50.4 MB/s \n",
            "\u001b[?25h  Downloading coverage-6.2-cp38-cp38-manylinux_2_5_x86_64.manylinux1_x86_64.manylinux_2_12_x86_64.manylinux2010_x86_64.whl (217 kB)\n",
            "\u001b[K     |████████████████████████████████| 217 kB 60.8 MB/s \n",
            "\u001b[?25h  Downloading coverage-6.1.2-cp38-cp38-manylinux_2_5_x86_64.manylinux1_x86_64.manylinux_2_12_x86_64.manylinux2010_x86_64.whl (216 kB)\n",
            "\u001b[K     |████████████████████████████████| 216 kB 64.3 MB/s \n",
            "\u001b[?25hINFO: This is taking longer than usual. You might need to provide the dependency resolver with stricter constraints to reduce runtime. If you want to abort this run, you can press Ctrl + C to do so. To improve how pip performs, tell us what happened here: https://pip.pypa.io/surveys/backtracking\n",
            "INFO: This is taking longer than usual. You might need to provide the dependency resolver with stricter constraints to reduce runtime. If you want to abort this run, you can press Ctrl + C to do so. To improve how pip performs, tell us what happened here: https://pip.pypa.io/surveys/backtracking\n",
            "  Downloading coverage-6.1.1-cp38-cp38-manylinux_2_5_x86_64.manylinux1_x86_64.manylinux_2_12_x86_64.manylinux2010_x86_64.whl (216 kB)\n",
            "\u001b[K     |████████████████████████████████| 216 kB 63.9 MB/s \n",
            "\u001b[?25h  Downloading coverage-6.1-cp38-cp38-manylinux_2_5_x86_64.manylinux1_x86_64.manylinux_2_12_x86_64.manylinux2010_x86_64.whl (216 kB)\n",
            "\u001b[K     |████████████████████████████████| 216 kB 63.6 MB/s \n",
            "\u001b[?25h  Downloading coverage-6.0.2-cp38-cp38-manylinux_2_5_x86_64.manylinux1_x86_64.manylinux_2_12_x86_64.manylinux2010_x86_64.whl (256 kB)\n",
            "\u001b[K     |████████████████████████████████| 256 kB 55.5 MB/s \n",
            "\u001b[?25h  Downloading coverage-6.0.1-cp38-cp38-manylinux_2_5_x86_64.manylinux1_x86_64.manylinux_2_12_x86_64.manylinux2010_x86_64.whl (255 kB)\n",
            "\u001b[K     |████████████████████████████████| 255 kB 73.4 MB/s \n",
            "\u001b[?25h  Downloading coverage-6.0-cp38-cp38-manylinux_2_5_x86_64.manylinux1_x86_64.manylinux_2_12_x86_64.manylinux2010_x86_64.whl (255 kB)\n",
            "\u001b[K     |████████████████████████████████| 255 kB 60.7 MB/s \n",
            "\u001b[?25h  Downloading coverage-5.5-cp38-cp38-manylinux2010_x86_64.whl (245 kB)\n",
            "\u001b[K     |████████████████████████████████| 245 kB 63.6 MB/s \n",
            "\u001b[?25hRequirement already satisfied: toml in /usr/local/lib/python3.8/dist-packages (from coverage[toml]>=5.2.1->pytest-cov>=2.5.1->pycountry-convert) (0.10.2)\n",
            "  Downloading coverage-5.4-cp38-cp38-manylinux2010_x86_64.whl (245 kB)\n",
            "\u001b[K     |████████████████████████████████| 245 kB 72.0 MB/s \n",
            "\u001b[?25h  Downloading coverage-5.3.1-cp38-cp38-manylinux2010_x86_64.whl (245 kB)\n",
            "\u001b[K     |████████████████████████████████| 245 kB 76.5 MB/s \n",
            "\u001b[?25h  Downloading coverage-5.3-cp38-cp38-manylinux1_x86_64.whl (230 kB)\n",
            "\u001b[K     |████████████████████████████████| 230 kB 71.9 MB/s \n",
            "\u001b[?25h  Downloading coverage-5.2.1-cp38-cp38-manylinux1_x86_64.whl (231 kB)\n",
            "\u001b[K     |████████████████████████████████| 231 kB 75.1 MB/s \n",
            "\u001b[?25hINFO: pip is looking at multiple versions of pytest-cov to determine which version is compatible with other requirements. This could take a while.\n",
            "Collecting pytest-cov>=2.5.1\n",
            "  Downloading pytest_cov-3.0.0-py3-none-any.whl (20 kB)\n",
            "  Downloading pytest_cov-2.12.1-py2.py3-none-any.whl (20 kB)\n",
            "  Downloading pytest_cov-2.12.0-py2.py3-none-any.whl (20 kB)\n",
            "  Downloading pytest_cov-2.11.1-py2.py3-none-any.whl (20 kB)\n",
            "  Downloading pytest_cov-2.11.0-py2.py3-none-any.whl (20 kB)\n",
            "  Downloading pytest_cov-2.10.1-py2.py3-none-any.whl (19 kB)\n",
            "Collecting coverage>=4.4\n",
            "  Downloading coverage-5.2-cp38-cp38-manylinux1_x86_64.whl (231 kB)\n",
            "\u001b[K     |████████████████████████████████| 231 kB 60.3 MB/s \n",
            "\u001b[?25h  Downloading coverage-5.1-cp38-cp38-manylinux1_x86_64.whl (229 kB)\n",
            "\u001b[K     |████████████████████████████████| 229 kB 78.9 MB/s \n",
            "\u001b[?25h  Downloading coverage-5.0.4-cp38-cp38-manylinux1_x86_64.whl (228 kB)\n",
            "\u001b[K     |████████████████████████████████| 228 kB 67.6 MB/s \n",
            "\u001b[?25h  Downloading coverage-5.0.3-cp38-cp38-manylinux1_x86_64.whl (228 kB)\n",
            "\u001b[K     |████████████████████████████████| 228 kB 65.6 MB/s \n",
            "\u001b[?25h  Downloading coverage-5.0.2-cp38-cp38-manylinux1_x86_64.whl (228 kB)\n",
            "\u001b[K     |████████████████████████████████| 228 kB 71.5 MB/s \n",
            "\u001b[?25h  Downloading coverage-5.0.1-cp38-cp38-manylinux1_x86_64.whl (228 kB)\n",
            "\u001b[K     |████████████████████████████████| 228 kB 60.7 MB/s \n",
            "\u001b[?25h  Downloading coverage-5.0-cp38-cp38-manylinux1_x86_64.whl (227 kB)\n",
            "\u001b[K     |████████████████████████████████| 227 kB 27.7 MB/s \n",
            "\u001b[?25h  Downloading coverage-4.5.4.tar.gz (385 kB)\n",
            "\u001b[K     |████████████████████████████████| 385 kB 61.8 MB/s \n",
            "\u001b[?25h  Downloading coverage-4.5.3.tar.gz (384 kB)\n",
            "\u001b[K     |████████████████████████████████| 384 kB 53.7 MB/s \n",
            "\u001b[?25h  Downloading coverage-4.5.2.tar.gz (384 kB)\n",
            "\u001b[K     |████████████████████████████████| 384 kB 48.7 MB/s \n",
            "\u001b[?25h  Downloading coverage-4.5.1.tar.gz (379 kB)\n",
            "\u001b[K     |████████████████████████████████| 379 kB 61.2 MB/s \n",
            "\u001b[?25h  Downloading coverage-4.5.tar.gz (378 kB)\n",
            "\u001b[K     |████████████████████████████████| 378 kB 66.6 MB/s \n",
            "\u001b[?25h  Downloading coverage-4.4.2.tar.gz (374 kB)\n",
            "\u001b[K     |████████████████████████████████| 374 kB 58.3 MB/s \n",
            "\u001b[?25h  Downloading coverage-4.4.1.tar.gz (369 kB)\n",
            "\u001b[K     |████████████████████████████████| 369 kB 51.9 MB/s \n",
            "\u001b[?25h  Downloading coverage-4.4.tar.gz (369 kB)\n",
            "\u001b[K     |████████████████████████████████| 369 kB 56.8 MB/s \n",
            "\u001b[?25hCollecting pytest-cov>=2.5.1\n",
            "  Downloading pytest_cov-2.10.0-py2.py3-none-any.whl (19 kB)\n",
            "INFO: pip is looking at multiple versions of pytest-cov to determine which version is compatible with other requirements. This could take a while.\n",
            "  Downloading pytest_cov-2.9.0-py2.py3-none-any.whl (19 kB)\n",
            "INFO: pip is looking at multiple versions of pytest-mock to determine which version is compatible with other requirements. This could take a while.\n",
            "Collecting pytest-mock>=1.6.3\n",
            "  Downloading pytest_mock-3.9.0-py3-none-any.whl (9.1 kB)\n",
            "  Downloading pytest_mock-3.8.2-py3-none-any.whl (9.1 kB)\n",
            "  Downloading pytest_mock-3.8.1-py3-none-any.whl (9.1 kB)\n",
            "  Downloading pytest_mock-3.8.0-py3-none-any.whl (9.1 kB)\n",
            "  Downloading pytest_mock-3.7.0-py3-none-any.whl (12 kB)\n",
            "  Downloading pytest_mock-3.6.1-py3-none-any.whl (12 kB)\n",
            "  Downloading pytest_mock-3.6.0-py3-none-any.whl (12 kB)\n",
            "INFO: pip is looking at multiple versions of pytest-mock to determine which version is compatible with other requirements. This could take a while.\n",
            "  Downloading pytest_mock-3.5.1-py3-none-any.whl (12 kB)\n",
            "  Downloading pytest_mock-3.5.0-py3-none-any.whl (12 kB)\n",
            "  Downloading pytest_mock-3.4.0-py3-none-any.whl (11 kB)\n",
            "  Downloading pytest_mock-3.3.1-py3-none-any.whl (11 kB)\n",
            "  Downloading pytest_mock-3.3.0-py3-none-any.whl (11 kB)\n",
            "INFO: This is taking longer than usual. You might need to provide the dependency resolver with stricter constraints to reduce runtime. If you want to abort this run, you can press Ctrl + C to do so. To improve how pip performs, tell us what happened here: https://pip.pypa.io/surveys/backtracking\n",
            "  Downloading pytest_mock-3.2.0-py3-none-any.whl (10 kB)\n",
            "Building wheels for collected packages: pycountry\n",
            "  Building wheel for pycountry (PEP 517) ... \u001b[?25l\u001b[?25hdone\n",
            "  Created wheel for pycountry: filename=pycountry-22.3.5-py2.py3-none-any.whl size=10681845 sha256=67dd86fd0f51a550cb8badfac69e237e4eb12742f14f3151c3ce3ba456c2a91d\n",
            "  Stored in directory: /root/.cache/pip/wheels/e2/aa/0f/c224e473b464387170b83ca7c66947b4a7e33e8d903a679748\n",
            "Successfully built pycountry\n",
            "Installing collected packages: coverage, repoze.lru, pytest-mock, pytest-cov, pycountry, pprintpp, pycountry-convert\n",
            "Successfully installed coverage-7.0.0 pprintpp-0.4.0 pycountry-22.3.5 pycountry-convert-0.7.2 pytest-cov-2.9.0 pytest-mock-3.2.0 repoze.lru-0.7\n",
            "Looking in indexes: https://pypi.org/simple, https://us-python.pkg.dev/colab-wheels/public/simple/\n",
            "Requirement already satisfied: geopy in /usr/local/lib/python3.8/dist-packages (1.17.0)\n",
            "Requirement already satisfied: geographiclib<2,>=1.49 in /usr/local/lib/python3.8/dist-packages (from geopy) (1.52)\n",
            "Looking in indexes: https://pypi.org/simple, https://us-python.pkg.dev/colab-wheels/public/simple/\n",
            "Requirement already satisfied: folium in /usr/local/lib/python3.8/dist-packages (0.12.1.post1)\n",
            "Requirement already satisfied: branca>=0.3.0 in /usr/local/lib/python3.8/dist-packages (from folium) (0.6.0)\n",
            "Requirement already satisfied: numpy in /usr/local/lib/python3.8/dist-packages (from folium) (1.21.6)\n",
            "Requirement already satisfied: requests in /usr/local/lib/python3.8/dist-packages (from folium) (2.23.0)\n",
            "Requirement already satisfied: jinja2>=2.9 in /usr/local/lib/python3.8/dist-packages (from folium) (2.11.3)\n",
            "Requirement already satisfied: MarkupSafe>=0.23 in /usr/local/lib/python3.8/dist-packages (from jinja2>=2.9->folium) (2.0.1)\n",
            "Requirement already satisfied: idna<3,>=2.5 in /usr/local/lib/python3.8/dist-packages (from requests->folium) (2.10)\n",
            "Requirement already satisfied: certifi>=2017.4.17 in /usr/local/lib/python3.8/dist-packages (from requests->folium) (2022.12.7)\n",
            "Requirement already satisfied: chardet<4,>=3.0.2 in /usr/local/lib/python3.8/dist-packages (from requests->folium) (3.0.4)\n",
            "Requirement already satisfied: urllib3!=1.25.0,!=1.25.1,<1.26,>=1.21.1 in /usr/local/lib/python3.8/dist-packages (from requests->folium) (1.24.3)\n",
            "Looking in indexes: https://pypi.org/simple, https://us-python.pkg.dev/colab-wheels/public/simple/\n",
            "Collecting geopandas\n",
            "  Downloading geopandas-0.12.2-py3-none-any.whl (1.1 MB)\n",
            "\u001b[K     |████████████████████████████████| 1.1 MB 4.0 MB/s \n",
            "\u001b[?25hRequirement already satisfied: shapely>=1.7 in /usr/local/lib/python3.8/dist-packages (from geopandas) (2.0.0)\n",
            "Requirement already satisfied: pandas>=1.0.0 in /usr/local/lib/python3.8/dist-packages (from geopandas) (1.3.5)\n",
            "Collecting fiona>=1.8\n",
            "  Downloading Fiona-1.8.22-cp38-cp38-manylinux_2_17_x86_64.manylinux2014_x86_64.whl (16.6 MB)\n",
            "\u001b[K     |████████████████████████████████| 16.6 MB 52.9 MB/s \n",
            "\u001b[?25hRequirement already satisfied: packaging in /usr/local/lib/python3.8/dist-packages (from geopandas) (21.3)\n",
            "Collecting pyproj>=2.6.1.post1\n",
            "  Downloading pyproj-3.4.1-cp38-cp38-manylinux_2_17_x86_64.manylinux2014_x86_64.whl (7.8 MB)\n",
            "\u001b[K     |████████████████████████████████| 7.8 MB 58.9 MB/s \n",
            "\u001b[?25hCollecting munch\n",
            "  Downloading munch-2.5.0-py2.py3-none-any.whl (10 kB)\n",
            "Requirement already satisfied: click>=4.0 in /usr/local/lib/python3.8/dist-packages (from fiona>=1.8->geopandas) (7.1.2)\n",
            "Requirement already satisfied: certifi in /usr/local/lib/python3.8/dist-packages (from fiona>=1.8->geopandas) (2022.12.7)\n",
            "Requirement already satisfied: six>=1.7 in /usr/local/lib/python3.8/dist-packages (from fiona>=1.8->geopandas) (1.15.0)\n",
            "Collecting click-plugins>=1.0\n",
            "  Downloading click_plugins-1.1.1-py2.py3-none-any.whl (7.5 kB)\n",
            "Requirement already satisfied: attrs>=17 in /usr/local/lib/python3.8/dist-packages (from fiona>=1.8->geopandas) (22.1.0)\n",
            "Requirement already satisfied: setuptools in /usr/local/lib/python3.8/dist-packages (from fiona>=1.8->geopandas) (57.4.0)\n",
            "Collecting cligj>=0.5\n",
            "  Downloading cligj-0.7.2-py3-none-any.whl (7.1 kB)\n",
            "Requirement already satisfied: pytz>=2017.3 in /usr/local/lib/python3.8/dist-packages (from pandas>=1.0.0->geopandas) (2022.6)\n",
            "Requirement already satisfied: python-dateutil>=2.7.3 in /usr/local/lib/python3.8/dist-packages (from pandas>=1.0.0->geopandas) (2.8.2)\n",
            "Requirement already satisfied: numpy>=1.17.3 in /usr/local/lib/python3.8/dist-packages (from pandas>=1.0.0->geopandas) (1.21.6)\n",
            "Requirement already satisfied: pyparsing!=3.0.5,>=2.0.2 in /usr/local/lib/python3.8/dist-packages (from packaging->geopandas) (3.0.9)\n",
            "Installing collected packages: munch, cligj, click-plugins, pyproj, fiona, geopandas\n",
            "Successfully installed click-plugins-1.1.1 cligj-0.7.2 fiona-1.8.22 geopandas-0.12.2 munch-2.5.0 pyproj-3.4.1\n"
          ]
        },
        {
          "output_type": "stream",
          "name": "stderr",
          "text": [
            "[nltk_data] Downloading package stopwords to /root/nltk_data...\n",
            "[nltk_data]   Unzipping corpora/stopwords.zip.\n"
          ]
        },
        {
          "output_type": "stream",
          "name": "stdout",
          "text": [
            "Looking in indexes: https://pypi.org/simple, https://us-python.pkg.dev/colab-wheels/public/simple/\n",
            "Requirement already satisfied: xplotter in /usr/local/lib/python3.8/dist-packages (0.0.6)\n",
            "Requirement already satisfied: matplotlib in /usr/local/lib/python3.8/dist-packages (from xplotter) (3.2.2)\n",
            "Requirement already satisfied: seaborn in /usr/local/lib/python3.8/dist-packages (from xplotter) (0.11.2)\n",
            "Requirement already satisfied: pandas in /usr/local/lib/python3.8/dist-packages (from xplotter) (1.3.5)\n",
            "Requirement already satisfied: kiwisolver>=1.0.1 in /usr/local/lib/python3.8/dist-packages (from matplotlib->xplotter) (1.4.4)\n",
            "Requirement already satisfied: numpy>=1.11 in /usr/local/lib/python3.8/dist-packages (from matplotlib->xplotter) (1.21.6)\n",
            "Requirement already satisfied: python-dateutil>=2.1 in /usr/local/lib/python3.8/dist-packages (from matplotlib->xplotter) (2.8.2)\n",
            "Requirement already satisfied: pyparsing!=2.0.4,!=2.1.2,!=2.1.6,>=2.0.1 in /usr/local/lib/python3.8/dist-packages (from matplotlib->xplotter) (3.0.9)\n",
            "Requirement already satisfied: cycler>=0.10 in /usr/local/lib/python3.8/dist-packages (from matplotlib->xplotter) (0.11.0)\n",
            "Requirement already satisfied: six>=1.5 in /usr/local/lib/python3.8/dist-packages (from python-dateutil>=2.1->matplotlib->xplotter) (1.15.0)\n",
            "Requirement already satisfied: pytz>=2017.3 in /usr/local/lib/python3.8/dist-packages (from pandas->xplotter) (2022.6)\n",
            "Requirement already satisfied: scipy>=1.0 in /usr/local/lib/python3.8/dist-packages (from seaborn->xplotter) (1.7.3)\n",
            "Looking in indexes: https://pypi.org/simple, https://us-python.pkg.dev/colab-wheels/public/simple/\n",
            "Requirement already satisfied: pycountry-convert in /usr/local/lib/python3.8/dist-packages (0.7.2)\n",
            "Requirement already satisfied: pycountry>=16.11.27.1 in /usr/local/lib/python3.8/dist-packages (from pycountry-convert) (22.3.5)\n",
            "Requirement already satisfied: pprintpp>=0.3.0 in /usr/local/lib/python3.8/dist-packages (from pycountry-convert) (0.4.0)\n",
            "Requirement already satisfied: pytest>=3.4.0 in /usr/local/lib/python3.8/dist-packages (from pycountry-convert) (3.6.4)\n",
            "Requirement already satisfied: repoze.lru>=0.7 in /usr/local/lib/python3.8/dist-packages (from pycountry-convert) (0.7)\n",
            "Requirement already satisfied: wheel>=0.30.0 in /usr/local/lib/python3.8/dist-packages (from pycountry-convert) (0.38.4)\n",
            "Requirement already satisfied: pytest-cov>=2.5.1 in /usr/local/lib/python3.8/dist-packages (from pycountry-convert) (2.9.0)\n",
            "Requirement already satisfied: pytest-mock>=1.6.3 in /usr/local/lib/python3.8/dist-packages (from pycountry-convert) (3.2.0)\n",
            "Requirement already satisfied: setuptools in /usr/local/lib/python3.8/dist-packages (from pycountry>=16.11.27.1->pycountry-convert) (57.4.0)\n",
            "Requirement already satisfied: pluggy<0.8,>=0.5 in /usr/local/lib/python3.8/dist-packages (from pytest>=3.4.0->pycountry-convert) (0.7.1)\n",
            "Requirement already satisfied: atomicwrites>=1.0 in /usr/local/lib/python3.8/dist-packages (from pytest>=3.4.0->pycountry-convert) (1.4.1)\n",
            "Requirement already satisfied: six>=1.10.0 in /usr/local/lib/python3.8/dist-packages (from pytest>=3.4.0->pycountry-convert) (1.15.0)\n",
            "Requirement already satisfied: more-itertools>=4.0.0 in /usr/local/lib/python3.8/dist-packages (from pytest>=3.4.0->pycountry-convert) (9.0.0)\n",
            "Requirement already satisfied: py>=1.5.0 in /usr/local/lib/python3.8/dist-packages (from pytest>=3.4.0->pycountry-convert) (1.11.0)\n",
            "Requirement already satisfied: attrs>=17.4.0 in /usr/local/lib/python3.8/dist-packages (from pytest>=3.4.0->pycountry-convert) (22.1.0)\n",
            "Requirement already satisfied: coverage>=4.4 in /usr/local/lib/python3.8/dist-packages (from pytest-cov>=2.5.1->pycountry-convert) (7.0.0)\n",
            "Looking in indexes: https://pypi.org/simple, https://us-python.pkg.dev/colab-wheels/public/simple/\n",
            "Requirement already satisfied: geopy in /usr/local/lib/python3.8/dist-packages (1.17.0)\n",
            "Requirement already satisfied: geographiclib<2,>=1.49 in /usr/local/lib/python3.8/dist-packages (from geopy) (1.52)\n",
            "Looking in indexes: https://pypi.org/simple, https://us-python.pkg.dev/colab-wheels/public/simple/\n",
            "Requirement already satisfied: folium in /usr/local/lib/python3.8/dist-packages (0.12.1.post1)\n",
            "Requirement already satisfied: jinja2>=2.9 in /usr/local/lib/python3.8/dist-packages (from folium) (2.11.3)\n",
            "Requirement already satisfied: numpy in /usr/local/lib/python3.8/dist-packages (from folium) (1.21.6)\n",
            "Requirement already satisfied: branca>=0.3.0 in /usr/local/lib/python3.8/dist-packages (from folium) (0.6.0)\n",
            "Requirement already satisfied: requests in /usr/local/lib/python3.8/dist-packages (from folium) (2.23.0)\n",
            "Requirement already satisfied: MarkupSafe>=0.23 in /usr/local/lib/python3.8/dist-packages (from jinja2>=2.9->folium) (2.0.1)\n",
            "Requirement already satisfied: idna<3,>=2.5 in /usr/local/lib/python3.8/dist-packages (from requests->folium) (2.10)\n",
            "Requirement already satisfied: certifi>=2017.4.17 in /usr/local/lib/python3.8/dist-packages (from requests->folium) (2022.12.7)\n",
            "Requirement already satisfied: chardet<4,>=3.0.2 in /usr/local/lib/python3.8/dist-packages (from requests->folium) (3.0.4)\n",
            "Requirement already satisfied: urllib3!=1.25.0,!=1.25.1,<1.26,>=1.21.1 in /usr/local/lib/python3.8/dist-packages (from requests->folium) (1.24.3)\n",
            "Looking in indexes: https://pypi.org/simple, https://us-python.pkg.dev/colab-wheels/public/simple/\n",
            "Requirement already satisfied: geopandas in /usr/local/lib/python3.8/dist-packages (0.12.2)\n",
            "Requirement already satisfied: shapely>=1.7 in /usr/local/lib/python3.8/dist-packages (from geopandas) (2.0.0)\n",
            "Requirement already satisfied: pyproj>=2.6.1.post1 in /usr/local/lib/python3.8/dist-packages (from geopandas) (3.4.1)\n",
            "Requirement already satisfied: packaging in /usr/local/lib/python3.8/dist-packages (from geopandas) (21.3)\n",
            "Requirement already satisfied: fiona>=1.8 in /usr/local/lib/python3.8/dist-packages (from geopandas) (1.8.22)\n",
            "Requirement already satisfied: pandas>=1.0.0 in /usr/local/lib/python3.8/dist-packages (from geopandas) (1.3.5)\n",
            "Requirement already satisfied: cligj>=0.5 in /usr/local/lib/python3.8/dist-packages (from fiona>=1.8->geopandas) (0.7.2)\n",
            "Requirement already satisfied: munch in /usr/local/lib/python3.8/dist-packages (from fiona>=1.8->geopandas) (2.5.0)\n",
            "Requirement already satisfied: six>=1.7 in /usr/local/lib/python3.8/dist-packages (from fiona>=1.8->geopandas) (1.15.0)\n",
            "Requirement already satisfied: setuptools in /usr/local/lib/python3.8/dist-packages (from fiona>=1.8->geopandas) (57.4.0)\n",
            "Requirement already satisfied: attrs>=17 in /usr/local/lib/python3.8/dist-packages (from fiona>=1.8->geopandas) (22.1.0)\n",
            "Requirement already satisfied: click>=4.0 in /usr/local/lib/python3.8/dist-packages (from fiona>=1.8->geopandas) (7.1.2)\n",
            "Requirement already satisfied: click-plugins>=1.0 in /usr/local/lib/python3.8/dist-packages (from fiona>=1.8->geopandas) (1.1.1)\n",
            "Requirement already satisfied: certifi in /usr/local/lib/python3.8/dist-packages (from fiona>=1.8->geopandas) (2022.12.7)\n",
            "Requirement already satisfied: pytz>=2017.3 in /usr/local/lib/python3.8/dist-packages (from pandas>=1.0.0->geopandas) (2022.6)\n",
            "Requirement already satisfied: numpy>=1.17.3 in /usr/local/lib/python3.8/dist-packages (from pandas>=1.0.0->geopandas) (1.21.6)\n",
            "Requirement already satisfied: python-dateutil>=2.7.3 in /usr/local/lib/python3.8/dist-packages (from pandas>=1.0.0->geopandas) (2.8.2)\n",
            "Requirement already satisfied: pyparsing!=3.0.5,>=2.0.2 in /usr/local/lib/python3.8/dist-packages (from packaging->geopandas) (3.0.9)\n"
          ]
        }
      ]
    },
    {
      "cell_type": "markdown",
      "source": [
        "### Dataset Loading"
      ],
      "metadata": {
        "id": "3RnN4peoiCZX"
      }
    },
    {
      "cell_type": "code",
      "source": [
        "from google.colab import drive\n",
        "drive.mount('/content/drive')"
      ],
      "metadata": {
        "id": "xnyS_H0f4X0L",
        "colab": {
          "base_uri": "https://localhost:8080/"
        },
        "outputId": "a087c309-131d-46f8-8226-02dc04e68d81"
      },
      "execution_count": 3,
      "outputs": [
        {
          "output_type": "stream",
          "name": "stdout",
          "text": [
            "Drive already mounted at /content/drive; to attempt to forcibly remount, call drive.mount(\"/content/drive\", force_remount=True).\n"
          ]
        }
      ]
    },
    {
      "cell_type": "code",
      "source": [
        "# Load Dataset\n",
        "file_path = '/content/drive/MyDrive/DATA_SCI_almabetter/drive_data/NETFLIX MOVIES AND TV SHOWS CLUSTERING.csv'\n",
        "content_df = pd.read_csv(file_path)\n"
      ],
      "metadata": {
        "id": "4CkvbW_SlZ_R"
      },
      "execution_count": 4,
      "outputs": []
    },
    {
      "cell_type": "markdown",
      "source": [
        "### Dataset First View"
      ],
      "metadata": {
        "id": "x71ZqKXriCWQ"
      }
    },
    {
      "cell_type": "code",
      "source": [
        "# Dataset First Look (head)\n",
        "content_df.head()"
      ],
      "metadata": {
        "id": "LWNFOSvLl09H",
        "colab": {
          "base_uri": "https://localhost:8080/",
          "height": 424
        },
        "outputId": "6ead49bc-0235-4f23-eec9-4289fb341621"
      },
      "execution_count": 5,
      "outputs": [
        {
          "output_type": "execute_result",
          "data": {
            "text/plain": [
              "  show_id     type  title           director  \\\n",
              "0      s1  TV Show     3%                NaN   \n",
              "1      s2    Movie   7:19  Jorge Michel Grau   \n",
              "2      s3    Movie  23:59       Gilbert Chan   \n",
              "3      s4    Movie      9        Shane Acker   \n",
              "4      s5    Movie     21     Robert Luketic   \n",
              "\n",
              "                                                cast        country  \\\n",
              "0  João Miguel, Bianca Comparato, Michel Gomes, R...         Brazil   \n",
              "1  Demián Bichir, Héctor Bonilla, Oscar Serrano, ...         Mexico   \n",
              "2  Tedd Chan, Stella Chung, Henley Hii, Lawrence ...      Singapore   \n",
              "3  Elijah Wood, John C. Reilly, Jennifer Connelly...  United States   \n",
              "4  Jim Sturgess, Kevin Spacey, Kate Bosworth, Aar...  United States   \n",
              "\n",
              "          date_added  release_year rating   duration  \\\n",
              "0    August 14, 2020          2020  TV-MA  4 Seasons   \n",
              "1  December 23, 2016          2016  TV-MA     93 min   \n",
              "2  December 20, 2018          2011      R     78 min   \n",
              "3  November 16, 2017          2009  PG-13     80 min   \n",
              "4    January 1, 2020          2008  PG-13    123 min   \n",
              "\n",
              "                                           listed_in  \\\n",
              "0  International TV Shows, TV Dramas, TV Sci-Fi &...   \n",
              "1                       Dramas, International Movies   \n",
              "2                Horror Movies, International Movies   \n",
              "3  Action & Adventure, Independent Movies, Sci-Fi...   \n",
              "4                                             Dramas   \n",
              "\n",
              "                                         description  \n",
              "0  In a future where the elite inhabit an island ...  \n",
              "1  After a devastating earthquake hits Mexico Cit...  \n",
              "2  When an army recruit is found dead, his fellow...  \n",
              "3  In a postapocalyptic world, rag-doll robots hi...  \n",
              "4  A brilliant group of students become card-coun...  "
            ],
            "text/html": [
              "\n",
              "  <div id=\"df-4102efb9-1bfd-4268-8a16-15af64b6fb70\">\n",
              "    <div class=\"colab-df-container\">\n",
              "      <div>\n",
              "<style scoped>\n",
              "    .dataframe tbody tr th:only-of-type {\n",
              "        vertical-align: middle;\n",
              "    }\n",
              "\n",
              "    .dataframe tbody tr th {\n",
              "        vertical-align: top;\n",
              "    }\n",
              "\n",
              "    .dataframe thead th {\n",
              "        text-align: right;\n",
              "    }\n",
              "</style>\n",
              "<table border=\"1\" class=\"dataframe\">\n",
              "  <thead>\n",
              "    <tr style=\"text-align: right;\">\n",
              "      <th></th>\n",
              "      <th>show_id</th>\n",
              "      <th>type</th>\n",
              "      <th>title</th>\n",
              "      <th>director</th>\n",
              "      <th>cast</th>\n",
              "      <th>country</th>\n",
              "      <th>date_added</th>\n",
              "      <th>release_year</th>\n",
              "      <th>rating</th>\n",
              "      <th>duration</th>\n",
              "      <th>listed_in</th>\n",
              "      <th>description</th>\n",
              "    </tr>\n",
              "  </thead>\n",
              "  <tbody>\n",
              "    <tr>\n",
              "      <th>0</th>\n",
              "      <td>s1</td>\n",
              "      <td>TV Show</td>\n",
              "      <td>3%</td>\n",
              "      <td>NaN</td>\n",
              "      <td>João Miguel, Bianca Comparato, Michel Gomes, R...</td>\n",
              "      <td>Brazil</td>\n",
              "      <td>August 14, 2020</td>\n",
              "      <td>2020</td>\n",
              "      <td>TV-MA</td>\n",
              "      <td>4 Seasons</td>\n",
              "      <td>International TV Shows, TV Dramas, TV Sci-Fi &amp;...</td>\n",
              "      <td>In a future where the elite inhabit an island ...</td>\n",
              "    </tr>\n",
              "    <tr>\n",
              "      <th>1</th>\n",
              "      <td>s2</td>\n",
              "      <td>Movie</td>\n",
              "      <td>7:19</td>\n",
              "      <td>Jorge Michel Grau</td>\n",
              "      <td>Demián Bichir, Héctor Bonilla, Oscar Serrano, ...</td>\n",
              "      <td>Mexico</td>\n",
              "      <td>December 23, 2016</td>\n",
              "      <td>2016</td>\n",
              "      <td>TV-MA</td>\n",
              "      <td>93 min</td>\n",
              "      <td>Dramas, International Movies</td>\n",
              "      <td>After a devastating earthquake hits Mexico Cit...</td>\n",
              "    </tr>\n",
              "    <tr>\n",
              "      <th>2</th>\n",
              "      <td>s3</td>\n",
              "      <td>Movie</td>\n",
              "      <td>23:59</td>\n",
              "      <td>Gilbert Chan</td>\n",
              "      <td>Tedd Chan, Stella Chung, Henley Hii, Lawrence ...</td>\n",
              "      <td>Singapore</td>\n",
              "      <td>December 20, 2018</td>\n",
              "      <td>2011</td>\n",
              "      <td>R</td>\n",
              "      <td>78 min</td>\n",
              "      <td>Horror Movies, International Movies</td>\n",
              "      <td>When an army recruit is found dead, his fellow...</td>\n",
              "    </tr>\n",
              "    <tr>\n",
              "      <th>3</th>\n",
              "      <td>s4</td>\n",
              "      <td>Movie</td>\n",
              "      <td>9</td>\n",
              "      <td>Shane Acker</td>\n",
              "      <td>Elijah Wood, John C. Reilly, Jennifer Connelly...</td>\n",
              "      <td>United States</td>\n",
              "      <td>November 16, 2017</td>\n",
              "      <td>2009</td>\n",
              "      <td>PG-13</td>\n",
              "      <td>80 min</td>\n",
              "      <td>Action &amp; Adventure, Independent Movies, Sci-Fi...</td>\n",
              "      <td>In a postapocalyptic world, rag-doll robots hi...</td>\n",
              "    </tr>\n",
              "    <tr>\n",
              "      <th>4</th>\n",
              "      <td>s5</td>\n",
              "      <td>Movie</td>\n",
              "      <td>21</td>\n",
              "      <td>Robert Luketic</td>\n",
              "      <td>Jim Sturgess, Kevin Spacey, Kate Bosworth, Aar...</td>\n",
              "      <td>United States</td>\n",
              "      <td>January 1, 2020</td>\n",
              "      <td>2008</td>\n",
              "      <td>PG-13</td>\n",
              "      <td>123 min</td>\n",
              "      <td>Dramas</td>\n",
              "      <td>A brilliant group of students become card-coun...</td>\n",
              "    </tr>\n",
              "  </tbody>\n",
              "</table>\n",
              "</div>\n",
              "      <button class=\"colab-df-convert\" onclick=\"convertToInteractive('df-4102efb9-1bfd-4268-8a16-15af64b6fb70')\"\n",
              "              title=\"Convert this dataframe to an interactive table.\"\n",
              "              style=\"display:none;\">\n",
              "        \n",
              "  <svg xmlns=\"http://www.w3.org/2000/svg\" height=\"24px\"viewBox=\"0 0 24 24\"\n",
              "       width=\"24px\">\n",
              "    <path d=\"M0 0h24v24H0V0z\" fill=\"none\"/>\n",
              "    <path d=\"M18.56 5.44l.94 2.06.94-2.06 2.06-.94-2.06-.94-.94-2.06-.94 2.06-2.06.94zm-11 1L8.5 8.5l.94-2.06 2.06-.94-2.06-.94L8.5 2.5l-.94 2.06-2.06.94zm10 10l.94 2.06.94-2.06 2.06-.94-2.06-.94-.94-2.06-.94 2.06-2.06.94z\"/><path d=\"M17.41 7.96l-1.37-1.37c-.4-.4-.92-.59-1.43-.59-.52 0-1.04.2-1.43.59L10.3 9.45l-7.72 7.72c-.78.78-.78 2.05 0 2.83L4 21.41c.39.39.9.59 1.41.59.51 0 1.02-.2 1.41-.59l7.78-7.78 2.81-2.81c.8-.78.8-2.07 0-2.86zM5.41 20L4 18.59l7.72-7.72 1.47 1.35L5.41 20z\"/>\n",
              "  </svg>\n",
              "      </button>\n",
              "      \n",
              "  <style>\n",
              "    .colab-df-container {\n",
              "      display:flex;\n",
              "      flex-wrap:wrap;\n",
              "      gap: 12px;\n",
              "    }\n",
              "\n",
              "    .colab-df-convert {\n",
              "      background-color: #E8F0FE;\n",
              "      border: none;\n",
              "      border-radius: 50%;\n",
              "      cursor: pointer;\n",
              "      display: none;\n",
              "      fill: #1967D2;\n",
              "      height: 32px;\n",
              "      padding: 0 0 0 0;\n",
              "      width: 32px;\n",
              "    }\n",
              "\n",
              "    .colab-df-convert:hover {\n",
              "      background-color: #E2EBFA;\n",
              "      box-shadow: 0px 1px 2px rgba(60, 64, 67, 0.3), 0px 1px 3px 1px rgba(60, 64, 67, 0.15);\n",
              "      fill: #174EA6;\n",
              "    }\n",
              "\n",
              "    [theme=dark] .colab-df-convert {\n",
              "      background-color: #3B4455;\n",
              "      fill: #D2E3FC;\n",
              "    }\n",
              "\n",
              "    [theme=dark] .colab-df-convert:hover {\n",
              "      background-color: #434B5C;\n",
              "      box-shadow: 0px 1px 3px 1px rgba(0, 0, 0, 0.15);\n",
              "      filter: drop-shadow(0px 1px 2px rgba(0, 0, 0, 0.3));\n",
              "      fill: #FFFFFF;\n",
              "    }\n",
              "  </style>\n",
              "\n",
              "      <script>\n",
              "        const buttonEl =\n",
              "          document.querySelector('#df-4102efb9-1bfd-4268-8a16-15af64b6fb70 button.colab-df-convert');\n",
              "        buttonEl.style.display =\n",
              "          google.colab.kernel.accessAllowed ? 'block' : 'none';\n",
              "\n",
              "        async function convertToInteractive(key) {\n",
              "          const element = document.querySelector('#df-4102efb9-1bfd-4268-8a16-15af64b6fb70');\n",
              "          const dataTable =\n",
              "            await google.colab.kernel.invokeFunction('convertToInteractive',\n",
              "                                                     [key], {});\n",
              "          if (!dataTable) return;\n",
              "\n",
              "          const docLinkHtml = 'Like what you see? Visit the ' +\n",
              "            '<a target=\"_blank\" href=https://colab.research.google.com/notebooks/data_table.ipynb>data table notebook</a>'\n",
              "            + ' to learn more about interactive tables.';\n",
              "          element.innerHTML = '';\n",
              "          dataTable['output_type'] = 'display_data';\n",
              "          await google.colab.output.renderOutput(dataTable, element);\n",
              "          const docLink = document.createElement('div');\n",
              "          docLink.innerHTML = docLinkHtml;\n",
              "          element.appendChild(docLink);\n",
              "        }\n",
              "      </script>\n",
              "    </div>\n",
              "  </div>\n",
              "  "
            ]
          },
          "metadata": {},
          "execution_count": 5
        }
      ]
    },
    {
      "cell_type": "code",
      "source": [
        "# Dataset First Look (tail)\n",
        "content_df.tail()"
      ],
      "metadata": {
        "id": "jM5dyxX356uw",
        "colab": {
          "base_uri": "https://localhost:8080/",
          "height": 476
        },
        "outputId": "f39bdd11-6163-4f69-d3b9-88db736e0f2d"
      },
      "execution_count": 6,
      "outputs": [
        {
          "output_type": "execute_result",
          "data": {
            "text/plain": [
              "     show_id     type                                    title     director  \\\n",
              "7782   s7783    Movie                                     Zozo  Josef Fares   \n",
              "7783   s7784    Movie                                   Zubaan  Mozez Singh   \n",
              "7784   s7785    Movie                        Zulu Man in Japan          NaN   \n",
              "7785   s7786  TV Show                    Zumbo's Just Desserts          NaN   \n",
              "7786   s7787    Movie  ZZ TOP: THAT LITTLE OL' BAND FROM TEXAS     Sam Dunn   \n",
              "\n",
              "                                                   cast  \\\n",
              "7782  Imad Creidi, Antoinette Turk, Elias Gergi, Car...   \n",
              "7783  Vicky Kaushal, Sarah-Jane Dias, Raaghav Chanan...   \n",
              "7784                                            Nasty C   \n",
              "7785                         Adriano Zumbo, Rachel Khoo   \n",
              "7786                                                NaN   \n",
              "\n",
              "                                                country          date_added  \\\n",
              "7782  Sweden, Czech Republic, United Kingdom, Denmar...    October 19, 2020   \n",
              "7783                                              India       March 2, 2019   \n",
              "7784                                                NaN  September 25, 2020   \n",
              "7785                                          Australia    October 31, 2020   \n",
              "7786              United Kingdom, Canada, United States       March 1, 2020   \n",
              "\n",
              "      release_year rating  duration  \\\n",
              "7782          2005  TV-MA    99 min   \n",
              "7783          2015  TV-14   111 min   \n",
              "7784          2019  TV-MA    44 min   \n",
              "7785          2019  TV-PG  1 Season   \n",
              "7786          2019  TV-MA    90 min   \n",
              "\n",
              "                                              listed_in  \\\n",
              "7782                       Dramas, International Movies   \n",
              "7783     Dramas, International Movies, Music & Musicals   \n",
              "7784  Documentaries, International Movies, Music & M...   \n",
              "7785                 International TV Shows, Reality TV   \n",
              "7786                    Documentaries, Music & Musicals   \n",
              "\n",
              "                                            description  \n",
              "7782  When Lebanon's Civil War deprives Zozo of his ...  \n",
              "7783  A scrappy but poor boy worms his way into a ty...  \n",
              "7784  In this documentary, South African rapper Nast...  \n",
              "7785  Dessert wizard Adriano Zumbo looks for the nex...  \n",
              "7786  This documentary delves into the mystique behi...  "
            ],
            "text/html": [
              "\n",
              "  <div id=\"df-6e838747-88c0-4c71-93df-91013a420d50\">\n",
              "    <div class=\"colab-df-container\">\n",
              "      <div>\n",
              "<style scoped>\n",
              "    .dataframe tbody tr th:only-of-type {\n",
              "        vertical-align: middle;\n",
              "    }\n",
              "\n",
              "    .dataframe tbody tr th {\n",
              "        vertical-align: top;\n",
              "    }\n",
              "\n",
              "    .dataframe thead th {\n",
              "        text-align: right;\n",
              "    }\n",
              "</style>\n",
              "<table border=\"1\" class=\"dataframe\">\n",
              "  <thead>\n",
              "    <tr style=\"text-align: right;\">\n",
              "      <th></th>\n",
              "      <th>show_id</th>\n",
              "      <th>type</th>\n",
              "      <th>title</th>\n",
              "      <th>director</th>\n",
              "      <th>cast</th>\n",
              "      <th>country</th>\n",
              "      <th>date_added</th>\n",
              "      <th>release_year</th>\n",
              "      <th>rating</th>\n",
              "      <th>duration</th>\n",
              "      <th>listed_in</th>\n",
              "      <th>description</th>\n",
              "    </tr>\n",
              "  </thead>\n",
              "  <tbody>\n",
              "    <tr>\n",
              "      <th>7782</th>\n",
              "      <td>s7783</td>\n",
              "      <td>Movie</td>\n",
              "      <td>Zozo</td>\n",
              "      <td>Josef Fares</td>\n",
              "      <td>Imad Creidi, Antoinette Turk, Elias Gergi, Car...</td>\n",
              "      <td>Sweden, Czech Republic, United Kingdom, Denmar...</td>\n",
              "      <td>October 19, 2020</td>\n",
              "      <td>2005</td>\n",
              "      <td>TV-MA</td>\n",
              "      <td>99 min</td>\n",
              "      <td>Dramas, International Movies</td>\n",
              "      <td>When Lebanon's Civil War deprives Zozo of his ...</td>\n",
              "    </tr>\n",
              "    <tr>\n",
              "      <th>7783</th>\n",
              "      <td>s7784</td>\n",
              "      <td>Movie</td>\n",
              "      <td>Zubaan</td>\n",
              "      <td>Mozez Singh</td>\n",
              "      <td>Vicky Kaushal, Sarah-Jane Dias, Raaghav Chanan...</td>\n",
              "      <td>India</td>\n",
              "      <td>March 2, 2019</td>\n",
              "      <td>2015</td>\n",
              "      <td>TV-14</td>\n",
              "      <td>111 min</td>\n",
              "      <td>Dramas, International Movies, Music &amp; Musicals</td>\n",
              "      <td>A scrappy but poor boy worms his way into a ty...</td>\n",
              "    </tr>\n",
              "    <tr>\n",
              "      <th>7784</th>\n",
              "      <td>s7785</td>\n",
              "      <td>Movie</td>\n",
              "      <td>Zulu Man in Japan</td>\n",
              "      <td>NaN</td>\n",
              "      <td>Nasty C</td>\n",
              "      <td>NaN</td>\n",
              "      <td>September 25, 2020</td>\n",
              "      <td>2019</td>\n",
              "      <td>TV-MA</td>\n",
              "      <td>44 min</td>\n",
              "      <td>Documentaries, International Movies, Music &amp; M...</td>\n",
              "      <td>In this documentary, South African rapper Nast...</td>\n",
              "    </tr>\n",
              "    <tr>\n",
              "      <th>7785</th>\n",
              "      <td>s7786</td>\n",
              "      <td>TV Show</td>\n",
              "      <td>Zumbo's Just Desserts</td>\n",
              "      <td>NaN</td>\n",
              "      <td>Adriano Zumbo, Rachel Khoo</td>\n",
              "      <td>Australia</td>\n",
              "      <td>October 31, 2020</td>\n",
              "      <td>2019</td>\n",
              "      <td>TV-PG</td>\n",
              "      <td>1 Season</td>\n",
              "      <td>International TV Shows, Reality TV</td>\n",
              "      <td>Dessert wizard Adriano Zumbo looks for the nex...</td>\n",
              "    </tr>\n",
              "    <tr>\n",
              "      <th>7786</th>\n",
              "      <td>s7787</td>\n",
              "      <td>Movie</td>\n",
              "      <td>ZZ TOP: THAT LITTLE OL' BAND FROM TEXAS</td>\n",
              "      <td>Sam Dunn</td>\n",
              "      <td>NaN</td>\n",
              "      <td>United Kingdom, Canada, United States</td>\n",
              "      <td>March 1, 2020</td>\n",
              "      <td>2019</td>\n",
              "      <td>TV-MA</td>\n",
              "      <td>90 min</td>\n",
              "      <td>Documentaries, Music &amp; Musicals</td>\n",
              "      <td>This documentary delves into the mystique behi...</td>\n",
              "    </tr>\n",
              "  </tbody>\n",
              "</table>\n",
              "</div>\n",
              "      <button class=\"colab-df-convert\" onclick=\"convertToInteractive('df-6e838747-88c0-4c71-93df-91013a420d50')\"\n",
              "              title=\"Convert this dataframe to an interactive table.\"\n",
              "              style=\"display:none;\">\n",
              "        \n",
              "  <svg xmlns=\"http://www.w3.org/2000/svg\" height=\"24px\"viewBox=\"0 0 24 24\"\n",
              "       width=\"24px\">\n",
              "    <path d=\"M0 0h24v24H0V0z\" fill=\"none\"/>\n",
              "    <path d=\"M18.56 5.44l.94 2.06.94-2.06 2.06-.94-2.06-.94-.94-2.06-.94 2.06-2.06.94zm-11 1L8.5 8.5l.94-2.06 2.06-.94-2.06-.94L8.5 2.5l-.94 2.06-2.06.94zm10 10l.94 2.06.94-2.06 2.06-.94-2.06-.94-.94-2.06-.94 2.06-2.06.94z\"/><path d=\"M17.41 7.96l-1.37-1.37c-.4-.4-.92-.59-1.43-.59-.52 0-1.04.2-1.43.59L10.3 9.45l-7.72 7.72c-.78.78-.78 2.05 0 2.83L4 21.41c.39.39.9.59 1.41.59.51 0 1.02-.2 1.41-.59l7.78-7.78 2.81-2.81c.8-.78.8-2.07 0-2.86zM5.41 20L4 18.59l7.72-7.72 1.47 1.35L5.41 20z\"/>\n",
              "  </svg>\n",
              "      </button>\n",
              "      \n",
              "  <style>\n",
              "    .colab-df-container {\n",
              "      display:flex;\n",
              "      flex-wrap:wrap;\n",
              "      gap: 12px;\n",
              "    }\n",
              "\n",
              "    .colab-df-convert {\n",
              "      background-color: #E8F0FE;\n",
              "      border: none;\n",
              "      border-radius: 50%;\n",
              "      cursor: pointer;\n",
              "      display: none;\n",
              "      fill: #1967D2;\n",
              "      height: 32px;\n",
              "      padding: 0 0 0 0;\n",
              "      width: 32px;\n",
              "    }\n",
              "\n",
              "    .colab-df-convert:hover {\n",
              "      background-color: #E2EBFA;\n",
              "      box-shadow: 0px 1px 2px rgba(60, 64, 67, 0.3), 0px 1px 3px 1px rgba(60, 64, 67, 0.15);\n",
              "      fill: #174EA6;\n",
              "    }\n",
              "\n",
              "    [theme=dark] .colab-df-convert {\n",
              "      background-color: #3B4455;\n",
              "      fill: #D2E3FC;\n",
              "    }\n",
              "\n",
              "    [theme=dark] .colab-df-convert:hover {\n",
              "      background-color: #434B5C;\n",
              "      box-shadow: 0px 1px 3px 1px rgba(0, 0, 0, 0.15);\n",
              "      filter: drop-shadow(0px 1px 2px rgba(0, 0, 0, 0.3));\n",
              "      fill: #FFFFFF;\n",
              "    }\n",
              "  </style>\n",
              "\n",
              "      <script>\n",
              "        const buttonEl =\n",
              "          document.querySelector('#df-6e838747-88c0-4c71-93df-91013a420d50 button.colab-df-convert');\n",
              "        buttonEl.style.display =\n",
              "          google.colab.kernel.accessAllowed ? 'block' : 'none';\n",
              "\n",
              "        async function convertToInteractive(key) {\n",
              "          const element = document.querySelector('#df-6e838747-88c0-4c71-93df-91013a420d50');\n",
              "          const dataTable =\n",
              "            await google.colab.kernel.invokeFunction('convertToInteractive',\n",
              "                                                     [key], {});\n",
              "          if (!dataTable) return;\n",
              "\n",
              "          const docLinkHtml = 'Like what you see? Visit the ' +\n",
              "            '<a target=\"_blank\" href=https://colab.research.google.com/notebooks/data_table.ipynb>data table notebook</a>'\n",
              "            + ' to learn more about interactive tables.';\n",
              "          element.innerHTML = '';\n",
              "          dataTable['output_type'] = 'display_data';\n",
              "          await google.colab.output.renderOutput(dataTable, element);\n",
              "          const docLink = document.createElement('div');\n",
              "          docLink.innerHTML = docLinkHtml;\n",
              "          element.appendChild(docLink);\n",
              "        }\n",
              "      </script>\n",
              "    </div>\n",
              "  </div>\n",
              "  "
            ]
          },
          "metadata": {},
          "execution_count": 6
        }
      ]
    },
    {
      "cell_type": "markdown",
      "source": [
        "### Dataset Rows & Columns count"
      ],
      "metadata": {
        "id": "7hBIi_osiCS2"
      }
    },
    {
      "cell_type": "code",
      "source": [
        "# Dataset Rows & Columns count\n",
        "# shape of data\n",
        "print('There are',content_df.shape[0],'rows and',content_df.shape[1],'features in given netflix dataset.')\n",
        "# print('No. of Columns :',content_df.shape[1])"
      ],
      "metadata": {
        "id": "Kllu7SJgmLij",
        "colab": {
          "base_uri": "https://localhost:8080/"
        },
        "outputId": "c1981bd0-e5cc-4ebe-96ef-d7652b8c1718"
      },
      "execution_count": 7,
      "outputs": [
        {
          "output_type": "stream",
          "name": "stdout",
          "text": [
            "There are 7787 rows and 12 features in given netflix dataset.\n"
          ]
        }
      ]
    },
    {
      "cell_type": "markdown",
      "source": [
        "### Dataset Information"
      ],
      "metadata": {
        "id": "JlHwYmJAmNHm"
      }
    },
    {
      "cell_type": "code",
      "source": [
        "# Dataset Info\n",
        "content_df.info()"
      ],
      "metadata": {
        "id": "e9hRXRi6meOf",
        "colab": {
          "base_uri": "https://localhost:8080/"
        },
        "outputId": "4e4e4b9b-c077-45b1-a748-3e60a7a6926a"
      },
      "execution_count": 8,
      "outputs": [
        {
          "output_type": "stream",
          "name": "stdout",
          "text": [
            "<class 'pandas.core.frame.DataFrame'>\n",
            "RangeIndex: 7787 entries, 0 to 7786\n",
            "Data columns (total 12 columns):\n",
            " #   Column        Non-Null Count  Dtype \n",
            "---  ------        --------------  ----- \n",
            " 0   show_id       7787 non-null   object\n",
            " 1   type          7787 non-null   object\n",
            " 2   title         7787 non-null   object\n",
            " 3   director      5398 non-null   object\n",
            " 4   cast          7069 non-null   object\n",
            " 5   country       7280 non-null   object\n",
            " 6   date_added    7777 non-null   object\n",
            " 7   release_year  7787 non-null   int64 \n",
            " 8   rating        7780 non-null   object\n",
            " 9   duration      7787 non-null   object\n",
            " 10  listed_in     7787 non-null   object\n",
            " 11  description   7787 non-null   object\n",
            "dtypes: int64(1), object(11)\n",
            "memory usage: 730.2+ KB\n"
          ]
        }
      ]
    },
    {
      "cell_type": "markdown",
      "source": [
        "#### Duplicate Values"
      ],
      "metadata": {
        "id": "35m5QtbWiB9F"
      }
    },
    {
      "cell_type": "code",
      "source": [
        "# Dataset Duplicate Value Count\n",
        "content_df.duplicated().sum()"
      ],
      "metadata": {
        "id": "1sLdpKYkmox0",
        "colab": {
          "base_uri": "https://localhost:8080/"
        },
        "outputId": "d8663b44-30f8-4c1f-eca8-b46b9bd929c5"
      },
      "execution_count": 9,
      "outputs": [
        {
          "output_type": "execute_result",
          "data": {
            "text/plain": [
              "0"
            ]
          },
          "metadata": {},
          "execution_count": 9
        }
      ]
    },
    {
      "cell_type": "markdown",
      "source": [
        "#### Function for extracting complete information of all columns in data set. Information as follows\n",
        "* Missing values\n",
        "* Percentage of missing values\n",
        "* unique values"
      ],
      "metadata": {
        "id": "XbkjSZU5BmDb"
      }
    },
    {
      "cell_type": "code",
      "source": [
        "# function for determination of null values, uniques values in columns and there features.\n",
        "def Complete_columns_info(df):\n",
        "        mis_val =df.isna().sum()\n",
        "        mis_val_percent = 100 *df.isna().sum() / len(df)\n",
        "        unique_val= df.nunique()\n",
        "        cci_table = pd.concat([mis_val, mis_val_percent, unique_val], axis=1)\n",
        "        cci_table = cci_table.rename(columns = {0 : 'No of Null Values', 1 : '% of null values', 2 : 'No of unique values' })\n",
        "        cci_table['Data Type'] = df.dtypes\n",
        "        cci_table = cci_table.sort_values('% of null values', ascending=False).round(1)\n",
        "        print (\" selected dataframe has \" + str(df.shape[1]) + \" columns and \" + str(df.shape[0]),\"rows\")\n",
        "        return cci_table"
      ],
      "metadata": {
        "id": "LXtrcSrGBHui"
      },
      "execution_count": 10,
      "outputs": []
    },
    {
      "cell_type": "markdown",
      "source": [
        "#### Missing Values/Null Values"
      ],
      "metadata": {
        "id": "PoPl-ycgm1ru"
      }
    },
    {
      "cell_type": "code",
      "source": [
        "# Missing Values/Null Values Count\n",
        "Complete_columns_info(content_df)"
      ],
      "metadata": {
        "id": "GgHWkxvamxVg",
        "colab": {
          "base_uri": "https://localhost:8080/",
          "height": 443
        },
        "outputId": "e5cfc151-1657-412a-dfc3-b960d11c4dd9"
      },
      "execution_count": 11,
      "outputs": [
        {
          "output_type": "stream",
          "name": "stdout",
          "text": [
            " selected dataframe has 12 columns and 7787 rows\n"
          ]
        },
        {
          "output_type": "execute_result",
          "data": {
            "text/plain": [
              "              No of Null Values  % of null values  No of unique values  \\\n",
              "director                   2389              30.7                 4049   \n",
              "cast                        718               9.2                 6831   \n",
              "country                     507               6.5                  681   \n",
              "date_added                   10               0.1                 1565   \n",
              "rating                        7               0.1                   14   \n",
              "show_id                       0               0.0                 7787   \n",
              "type                          0               0.0                    2   \n",
              "title                         0               0.0                 7787   \n",
              "release_year                  0               0.0                   73   \n",
              "duration                      0               0.0                  216   \n",
              "listed_in                     0               0.0                  492   \n",
              "description                   0               0.0                 7769   \n",
              "\n",
              "             Data Type  \n",
              "director        object  \n",
              "cast            object  \n",
              "country         object  \n",
              "date_added      object  \n",
              "rating          object  \n",
              "show_id         object  \n",
              "type            object  \n",
              "title           object  \n",
              "release_year     int64  \n",
              "duration        object  \n",
              "listed_in       object  \n",
              "description     object  "
            ],
            "text/html": [
              "\n",
              "  <div id=\"df-ad1a187d-ac24-44f2-bb96-e14a39e414a2\">\n",
              "    <div class=\"colab-df-container\">\n",
              "      <div>\n",
              "<style scoped>\n",
              "    .dataframe tbody tr th:only-of-type {\n",
              "        vertical-align: middle;\n",
              "    }\n",
              "\n",
              "    .dataframe tbody tr th {\n",
              "        vertical-align: top;\n",
              "    }\n",
              "\n",
              "    .dataframe thead th {\n",
              "        text-align: right;\n",
              "    }\n",
              "</style>\n",
              "<table border=\"1\" class=\"dataframe\">\n",
              "  <thead>\n",
              "    <tr style=\"text-align: right;\">\n",
              "      <th></th>\n",
              "      <th>No of Null Values</th>\n",
              "      <th>% of null values</th>\n",
              "      <th>No of unique values</th>\n",
              "      <th>Data Type</th>\n",
              "    </tr>\n",
              "  </thead>\n",
              "  <tbody>\n",
              "    <tr>\n",
              "      <th>director</th>\n",
              "      <td>2389</td>\n",
              "      <td>30.7</td>\n",
              "      <td>4049</td>\n",
              "      <td>object</td>\n",
              "    </tr>\n",
              "    <tr>\n",
              "      <th>cast</th>\n",
              "      <td>718</td>\n",
              "      <td>9.2</td>\n",
              "      <td>6831</td>\n",
              "      <td>object</td>\n",
              "    </tr>\n",
              "    <tr>\n",
              "      <th>country</th>\n",
              "      <td>507</td>\n",
              "      <td>6.5</td>\n",
              "      <td>681</td>\n",
              "      <td>object</td>\n",
              "    </tr>\n",
              "    <tr>\n",
              "      <th>date_added</th>\n",
              "      <td>10</td>\n",
              "      <td>0.1</td>\n",
              "      <td>1565</td>\n",
              "      <td>object</td>\n",
              "    </tr>\n",
              "    <tr>\n",
              "      <th>rating</th>\n",
              "      <td>7</td>\n",
              "      <td>0.1</td>\n",
              "      <td>14</td>\n",
              "      <td>object</td>\n",
              "    </tr>\n",
              "    <tr>\n",
              "      <th>show_id</th>\n",
              "      <td>0</td>\n",
              "      <td>0.0</td>\n",
              "      <td>7787</td>\n",
              "      <td>object</td>\n",
              "    </tr>\n",
              "    <tr>\n",
              "      <th>type</th>\n",
              "      <td>0</td>\n",
              "      <td>0.0</td>\n",
              "      <td>2</td>\n",
              "      <td>object</td>\n",
              "    </tr>\n",
              "    <tr>\n",
              "      <th>title</th>\n",
              "      <td>0</td>\n",
              "      <td>0.0</td>\n",
              "      <td>7787</td>\n",
              "      <td>object</td>\n",
              "    </tr>\n",
              "    <tr>\n",
              "      <th>release_year</th>\n",
              "      <td>0</td>\n",
              "      <td>0.0</td>\n",
              "      <td>73</td>\n",
              "      <td>int64</td>\n",
              "    </tr>\n",
              "    <tr>\n",
              "      <th>duration</th>\n",
              "      <td>0</td>\n",
              "      <td>0.0</td>\n",
              "      <td>216</td>\n",
              "      <td>object</td>\n",
              "    </tr>\n",
              "    <tr>\n",
              "      <th>listed_in</th>\n",
              "      <td>0</td>\n",
              "      <td>0.0</td>\n",
              "      <td>492</td>\n",
              "      <td>object</td>\n",
              "    </tr>\n",
              "    <tr>\n",
              "      <th>description</th>\n",
              "      <td>0</td>\n",
              "      <td>0.0</td>\n",
              "      <td>7769</td>\n",
              "      <td>object</td>\n",
              "    </tr>\n",
              "  </tbody>\n",
              "</table>\n",
              "</div>\n",
              "      <button class=\"colab-df-convert\" onclick=\"convertToInteractive('df-ad1a187d-ac24-44f2-bb96-e14a39e414a2')\"\n",
              "              title=\"Convert this dataframe to an interactive table.\"\n",
              "              style=\"display:none;\">\n",
              "        \n",
              "  <svg xmlns=\"http://www.w3.org/2000/svg\" height=\"24px\"viewBox=\"0 0 24 24\"\n",
              "       width=\"24px\">\n",
              "    <path d=\"M0 0h24v24H0V0z\" fill=\"none\"/>\n",
              "    <path d=\"M18.56 5.44l.94 2.06.94-2.06 2.06-.94-2.06-.94-.94-2.06-.94 2.06-2.06.94zm-11 1L8.5 8.5l.94-2.06 2.06-.94-2.06-.94L8.5 2.5l-.94 2.06-2.06.94zm10 10l.94 2.06.94-2.06 2.06-.94-2.06-.94-.94-2.06-.94 2.06-2.06.94z\"/><path d=\"M17.41 7.96l-1.37-1.37c-.4-.4-.92-.59-1.43-.59-.52 0-1.04.2-1.43.59L10.3 9.45l-7.72 7.72c-.78.78-.78 2.05 0 2.83L4 21.41c.39.39.9.59 1.41.59.51 0 1.02-.2 1.41-.59l7.78-7.78 2.81-2.81c.8-.78.8-2.07 0-2.86zM5.41 20L4 18.59l7.72-7.72 1.47 1.35L5.41 20z\"/>\n",
              "  </svg>\n",
              "      </button>\n",
              "      \n",
              "  <style>\n",
              "    .colab-df-container {\n",
              "      display:flex;\n",
              "      flex-wrap:wrap;\n",
              "      gap: 12px;\n",
              "    }\n",
              "\n",
              "    .colab-df-convert {\n",
              "      background-color: #E8F0FE;\n",
              "      border: none;\n",
              "      border-radius: 50%;\n",
              "      cursor: pointer;\n",
              "      display: none;\n",
              "      fill: #1967D2;\n",
              "      height: 32px;\n",
              "      padding: 0 0 0 0;\n",
              "      width: 32px;\n",
              "    }\n",
              "\n",
              "    .colab-df-convert:hover {\n",
              "      background-color: #E2EBFA;\n",
              "      box-shadow: 0px 1px 2px rgba(60, 64, 67, 0.3), 0px 1px 3px 1px rgba(60, 64, 67, 0.15);\n",
              "      fill: #174EA6;\n",
              "    }\n",
              "\n",
              "    [theme=dark] .colab-df-convert {\n",
              "      background-color: #3B4455;\n",
              "      fill: #D2E3FC;\n",
              "    }\n",
              "\n",
              "    [theme=dark] .colab-df-convert:hover {\n",
              "      background-color: #434B5C;\n",
              "      box-shadow: 0px 1px 3px 1px rgba(0, 0, 0, 0.15);\n",
              "      filter: drop-shadow(0px 1px 2px rgba(0, 0, 0, 0.3));\n",
              "      fill: #FFFFFF;\n",
              "    }\n",
              "  </style>\n",
              "\n",
              "      <script>\n",
              "        const buttonEl =\n",
              "          document.querySelector('#df-ad1a187d-ac24-44f2-bb96-e14a39e414a2 button.colab-df-convert');\n",
              "        buttonEl.style.display =\n",
              "          google.colab.kernel.accessAllowed ? 'block' : 'none';\n",
              "\n",
              "        async function convertToInteractive(key) {\n",
              "          const element = document.querySelector('#df-ad1a187d-ac24-44f2-bb96-e14a39e414a2');\n",
              "          const dataTable =\n",
              "            await google.colab.kernel.invokeFunction('convertToInteractive',\n",
              "                                                     [key], {});\n",
              "          if (!dataTable) return;\n",
              "\n",
              "          const docLinkHtml = 'Like what you see? Visit the ' +\n",
              "            '<a target=\"_blank\" href=https://colab.research.google.com/notebooks/data_table.ipynb>data table notebook</a>'\n",
              "            + ' to learn more about interactive tables.';\n",
              "          element.innerHTML = '';\n",
              "          dataTable['output_type'] = 'display_data';\n",
              "          await google.colab.output.renderOutput(dataTable, element);\n",
              "          const docLink = document.createElement('div');\n",
              "          docLink.innerHTML = docLinkHtml;\n",
              "          element.appendChild(docLink);\n",
              "        }\n",
              "      </script>\n",
              "    </div>\n",
              "  </div>\n",
              "  "
            ]
          },
          "metadata": {},
          "execution_count": 11
        }
      ]
    },
    {
      "cell_type": "code",
      "source": [
        "# Visualizing the missing values\n",
        "msno.bar(content_df)"
      ],
      "metadata": {
        "id": "3q5wnI3om9sJ",
        "colab": {
          "base_uri": "https://localhost:8080/",
          "height": 615
        },
        "outputId": "57889aef-f80f-4ed1-ca0d-255efc9ca66d"
      },
      "execution_count": 12,
      "outputs": [
        {
          "output_type": "execute_result",
          "data": {
            "text/plain": [
              "<matplotlib.axes._subplots.AxesSubplot at 0x7f40d6a99b50>"
            ]
          },
          "metadata": {},
          "execution_count": 12
        },
        {
          "output_type": "display_data",
          "data": {
            "text/plain": [
              "<Figure size 1800x720 with 3 Axes>"
            ],
            "image/png": "[encoded data removed]"
          },
          "metadata": {
            "needs_background": "light"
          }
        }
      ]
    },
    {
      "cell_type": "markdown",
      "source": [
        "### What did you know about your dataset?"
      ],
      "metadata": {
        "id": "H0kj-8xxnORC"
      }
    },
    {
      "cell_type": "markdown",
      "source": [
        "Answer Here"
      ],
      "metadata": {
        "id": "gfoNAAC-nUe_"
      }
    },
    {
      "cell_type": "markdown",
      "source": [
        "## ***2. Understanding Your Variables***"
      ],
      "metadata": {
        "id": "nA9Y7ga8ng1Z"
      }
    },
    {
      "cell_type": "code",
      "source": [
        "# Dataset Columns\n",
        "content_df.columns"
      ],
      "metadata": {
        "id": "j7xfkqrt5Ag5",
        "colab": {
          "base_uri": "https://localhost:8080/"
        },
        "outputId": "f7f1b834-a004-42b5-d052-33994e8de3d6"
      },
      "execution_count": 13,
      "outputs": [
        {
          "output_type": "execute_result",
          "data": {
            "text/plain": [
              "Index(['show_id', 'type', 'title', 'director', 'cast', 'country', 'date_added',\n",
              "       'release_year', 'rating', 'duration', 'listed_in', 'description'],\n",
              "      dtype='object')"
            ]
          },
          "metadata": {},
          "execution_count": 13
        }
      ]
    },
    {
      "cell_type": "code",
      "source": [
        "# Dataset Describe\n",
        "content_df.describe()"
      ],
      "metadata": {
        "id": "DnOaZdaE5Q5t",
        "colab": {
          "base_uri": "https://localhost:8080/",
          "height": 300
        },
        "outputId": "f253ae9b-9273-4fb0-bd35-1e020c0d8a15"
      },
      "execution_count": 14,
      "outputs": [
        {
          "output_type": "execute_result",
          "data": {
            "text/plain": [
              "       release_year\n",
              "count   7787.000000\n",
              "mean    2013.932580\n",
              "std        8.757395\n",
              "min     1925.000000\n",
              "25%     2013.000000\n",
              "50%     2017.000000\n",
              "75%     2018.000000\n",
              "max     2021.000000"
            ],
            "text/html": [
              "\n",
              "  <div id=\"df-d5eae3bf-d352-4cae-b27c-9450d8ca49c3\">\n",
              "    <div class=\"colab-df-container\">\n",
              "      <div>\n",
              "<style scoped>\n",
              "    .dataframe tbody tr th:only-of-type {\n",
              "        vertical-align: middle;\n",
              "    }\n",
              "\n",
              "    .dataframe tbody tr th {\n",
              "        vertical-align: top;\n",
              "    }\n",
              "\n",
              "    .dataframe thead th {\n",
              "        text-align: right;\n",
              "    }\n",
              "</style>\n",
              "<table border=\"1\" class=\"dataframe\">\n",
              "  <thead>\n",
              "    <tr style=\"text-align: right;\">\n",
              "      <th></th>\n",
              "      <th>release_year</th>\n",
              "    </tr>\n",
              "  </thead>\n",
              "  <tbody>\n",
              "    <tr>\n",
              "      <th>count</th>\n",
              "      <td>7787.000000</td>\n",
              "    </tr>\n",
              "    <tr>\n",
              "      <th>mean</th>\n",
              "      <td>2013.932580</td>\n",
              "    </tr>\n",
              "    <tr>\n",
              "      <th>std</th>\n",
              "      <td>8.757395</td>\n",
              "    </tr>\n",
              "    <tr>\n",
              "      <th>min</th>\n",
              "      <td>1925.000000</td>\n",
              "    </tr>\n",
              "    <tr>\n",
              "      <th>25%</th>\n",
              "      <td>2013.000000</td>\n",
              "    </tr>\n",
              "    <tr>\n",
              "      <th>50%</th>\n",
              "      <td>2017.000000</td>\n",
              "    </tr>\n",
              "    <tr>\n",
              "      <th>75%</th>\n",
              "      <td>2018.000000</td>\n",
              "    </tr>\n",
              "    <tr>\n",
              "      <th>max</th>\n",
              "      <td>2021.000000</td>\n",
              "    </tr>\n",
              "  </tbody>\n",
              "</table>\n",
              "</div>\n",
              "      <button class=\"colab-df-convert\" onclick=\"convertToInteractive('df-d5eae3bf-d352-4cae-b27c-9450d8ca49c3')\"\n",
              "              title=\"Convert this dataframe to an interactive table.\"\n",
              "              style=\"display:none;\">\n",
              "        \n",
              "  <svg xmlns=\"http://www.w3.org/2000/svg\" height=\"24px\"viewBox=\"0 0 24 24\"\n",
              "       width=\"24px\">\n",
              "    <path d=\"M0 0h24v24H0V0z\" fill=\"none\"/>\n",
              "    <path d=\"M18.56 5.44l.94 2.06.94-2.06 2.06-.94-2.06-.94-.94-2.06-.94 2.06-2.06.94zm-11 1L8.5 8.5l.94-2.06 2.06-.94-2.06-.94L8.5 2.5l-.94 2.06-2.06.94zm10 10l.94 2.06.94-2.06 2.06-.94-2.06-.94-.94-2.06-.94 2.06-2.06.94z\"/><path d=\"M17.41 7.96l-1.37-1.37c-.4-.4-.92-.59-1.43-.59-.52 0-1.04.2-1.43.59L10.3 9.45l-7.72 7.72c-.78.78-.78 2.05 0 2.83L4 21.41c.39.39.9.59 1.41.59.51 0 1.02-.2 1.41-.59l7.78-7.78 2.81-2.81c.8-.78.8-2.07 0-2.86zM5.41 20L4 18.59l7.72-7.72 1.47 1.35L5.41 20z\"/>\n",
              "  </svg>\n",
              "      </button>\n",
              "      \n",
              "  <style>\n",
              "    .colab-df-container {\n",
              "      display:flex;\n",
              "      flex-wrap:wrap;\n",
              "      gap: 12px;\n",
              "    }\n",
              "\n",
              "    .colab-df-convert {\n",
              "      background-color: #E8F0FE;\n",
              "      border: none;\n",
              "      border-radius: 50%;\n",
              "      cursor: pointer;\n",
              "      display: none;\n",
              "      fill: #1967D2;\n",
              "      height: 32px;\n",
              "      padding: 0 0 0 0;\n",
              "      width: 32px;\n",
              "    }\n",
              "\n",
              "    .colab-df-convert:hover {\n",
              "      background-color: #E2EBFA;\n",
              "      box-shadow: 0px 1px 2px rgba(60, 64, 67, 0.3), 0px 1px 3px 1px rgba(60, 64, 67, 0.15);\n",
              "      fill: #174EA6;\n",
              "    }\n",
              "\n",
              "    [theme=dark] .colab-df-convert {\n",
              "      background-color: #3B4455;\n",
              "      fill: #D2E3FC;\n",
              "    }\n",
              "\n",
              "    [theme=dark] .colab-df-convert:hover {\n",
              "      background-color: #434B5C;\n",
              "      box-shadow: 0px 1px 3px 1px rgba(0, 0, 0, 0.15);\n",
              "      filter: drop-shadow(0px 1px 2px rgba(0, 0, 0, 0.3));\n",
              "      fill: #FFFFFF;\n",
              "    }\n",
              "  </style>\n",
              "\n",
              "      <script>\n",
              "        const buttonEl =\n",
              "          document.querySelector('#df-d5eae3bf-d352-4cae-b27c-9450d8ca49c3 button.colab-df-convert');\n",
              "        buttonEl.style.display =\n",
              "          google.colab.kernel.accessAllowed ? 'block' : 'none';\n",
              "\n",
              "        async function convertToInteractive(key) {\n",
              "          const element = document.querySelector('#df-d5eae3bf-d352-4cae-b27c-9450d8ca49c3');\n",
              "          const dataTable =\n",
              "            await google.colab.kernel.invokeFunction('convertToInteractive',\n",
              "                                                     [key], {});\n",
              "          if (!dataTable) return;\n",
              "\n",
              "          const docLinkHtml = 'Like what you see? Visit the ' +\n",
              "            '<a target=\"_blank\" href=https://colab.research.google.com/notebooks/data_table.ipynb>data table notebook</a>'\n",
              "            + ' to learn more about interactive tables.';\n",
              "          element.innerHTML = '';\n",
              "          dataTable['output_type'] = 'display_data';\n",
              "          await google.colab.output.renderOutput(dataTable, element);\n",
              "          const docLink = document.createElement('div');\n",
              "          docLink.innerHTML = docLinkHtml;\n",
              "          element.appendChild(docLink);\n",
              "        }\n",
              "      </script>\n",
              "    </div>\n",
              "  </div>\n",
              "  "
            ]
          },
          "metadata": {},
          "execution_count": 14
        }
      ]
    },
    {
      "cell_type": "markdown",
      "source": [
        "### Variables Description "
      ],
      "metadata": {
        "id": "PBTbrJXOngz2"
      }
    },
    {
      "cell_type": "markdown",
      "source": [
        "Answer Here"
      ],
      "metadata": {
        "id": "aJV4KIxSnxay"
      }
    },
    {
      "cell_type": "markdown",
      "source": [
        "### Check Unique Values for each variable."
      ],
      "metadata": {
        "id": "u3PMJOP6ngxN"
      }
    },
    {
      "cell_type": "code",
      "source": [
        "# Check Unique Values for each variable."
      ],
      "metadata": {
        "id": "zms12Yq5n-jE"
      },
      "execution_count": 15,
      "outputs": []
    },
    {
      "cell_type": "markdown",
      "source": [
        "## 3. ***Data Wrangling***"
      ],
      "metadata": {
        "id": "dauF4eBmngu3"
      }
    },
    {
      "cell_type": "markdown",
      "source": [
        "### Data Wrangling Code"
      ],
      "metadata": {
        "id": "bKJF3rekwFvQ"
      }
    },
    {
      "cell_type": "code",
      "source": [
        "# Write your code to make your dataset analysis ready."
      ],
      "metadata": {
        "id": "wk-9a2fpoLcV"
      },
      "execution_count": 16,
      "outputs": []
    },
    {
      "cell_type": "markdown",
      "source": [
        "> Date time variable conversion"
      ],
      "metadata": {
        "id": "Y-3xukZR0krv"
      }
    },
    {
      "cell_type": "code",
      "source": [
        "# Create new features to store date, day, month and year seperately :\n",
        "\n",
        "# First convert date_added to date time format.\n",
        "content_df[\"date_added\"] = pd.to_datetime(content_df['date_added'])\n",
        "  \n",
        "# Compute day. \n",
        "content_df['day_added'] = content_df['date_added'].dt.day   \n",
        "\n",
        "# Compute year.         \n",
        "content_df['year_added'] = content_df['date_added'].dt.year\n",
        "\n",
        "# Compute mount.\n",
        "content_df['month_added'] = content_df['date_added'].dt.month        "
      ],
      "metadata": {
        "id": "08KaBMNgyCVM"
      },
      "execution_count": 17,
      "outputs": []
    },
    {
      "cell_type": "markdown",
      "source": [
        "> Splitting datasets for movies and tv shows"
      ],
      "metadata": {
        "id": "e2Ayl9X61mTV"
      }
    },
    {
      "cell_type": "code",
      "source": [
        "df_movies = content_df[content_df['type']=='Movie'].copy()\n",
        "df_movies.head()"
      ],
      "metadata": {
        "id": "Rj7c7s7hyDpi",
        "colab": {
          "base_uri": "https://localhost:8080/",
          "height": 754
        },
        "outputId": "9b14488b-549f-48f3-f16b-c85386dc89bc"
      },
      "execution_count": 18,
      "outputs": [
        {
          "output_type": "execute_result",
          "data": {
            "text/plain": [
              "  show_id   type  title           director  \\\n",
              "1      s2  Movie   7:19  Jorge Michel Grau   \n",
              "2      s3  Movie  23:59       Gilbert Chan   \n",
              "3      s4  Movie      9        Shane Acker   \n",
              "4      s5  Movie     21     Robert Luketic   \n",
              "6      s7  Movie    122    Yasir Al Yasiri   \n",
              "\n",
              "                                                cast        country  \\\n",
              "1  Demián Bichir, Héctor Bonilla, Oscar Serrano, ...         Mexico   \n",
              "2  Tedd Chan, Stella Chung, Henley Hii, Lawrence ...      Singapore   \n",
              "3  Elijah Wood, John C. Reilly, Jennifer Connelly...  United States   \n",
              "4  Jim Sturgess, Kevin Spacey, Kate Bosworth, Aar...  United States   \n",
              "6  Amina Khalil, Ahmed Dawood, Tarek Lotfy, Ahmed...          Egypt   \n",
              "\n",
              "  date_added  release_year rating duration  \\\n",
              "1 2016-12-23          2016  TV-MA   93 min   \n",
              "2 2018-12-20          2011      R   78 min   \n",
              "3 2017-11-16          2009  PG-13   80 min   \n",
              "4 2020-01-01          2008  PG-13  123 min   \n",
              "6 2020-06-01          2019  TV-MA   95 min   \n",
              "\n",
              "                                           listed_in  \\\n",
              "1                       Dramas, International Movies   \n",
              "2                Horror Movies, International Movies   \n",
              "3  Action & Adventure, Independent Movies, Sci-Fi...   \n",
              "4                                             Dramas   \n",
              "6                Horror Movies, International Movies   \n",
              "\n",
              "                                         description  day_added  year_added  \\\n",
              "1  After a devastating earthquake hits Mexico Cit...       23.0      2016.0   \n",
              "2  When an army recruit is found dead, his fellow...       20.0      2018.0   \n",
              "3  In a postapocalyptic world, rag-doll robots hi...       16.0      2017.0   \n",
              "4  A brilliant group of students become card-coun...        1.0      2020.0   \n",
              "6  After an awful accident, a couple admitted to ...        1.0      2020.0   \n",
              "\n",
              "   month_added  \n",
              "1         12.0  \n",
              "2         12.0  \n",
              "3         11.0  \n",
              "4          1.0  \n",
              "6          6.0  "
            ],
            "text/html": [
              "\n",
              "  <div id=\"df-f17ac815-390d-4b83-9041-233796bce4f5\">\n",
              "    <div class=\"colab-df-container\">\n",
              "      <div>\n",
              "<style scoped>\n",
              "    .dataframe tbody tr th:only-of-type {\n",
              "        vertical-align: middle;\n",
              "    }\n",
              "\n",
              "    .dataframe tbody tr th {\n",
              "        vertical-align: top;\n",
              "    }\n",
              "\n",
              "    .dataframe thead th {\n",
              "        text-align: right;\n",
              "    }\n",
              "</style>\n",
              "<table border=\"1\" class=\"dataframe\">\n",
              "  <thead>\n",
              "    <tr style=\"text-align: right;\">\n",
              "      <th></th>\n",
              "      <th>show_id</th>\n",
              "      <th>type</th>\n",
              "      <th>title</th>\n",
              "      <th>director</th>\n",
              "      <th>cast</th>\n",
              "      <th>country</th>\n",
              "      <th>date_added</th>\n",
              "      <th>release_year</th>\n",
              "      <th>rating</th>\n",
              "      <th>duration</th>\n",
              "      <th>listed_in</th>\n",
              "      <th>description</th>\n",
              "      <th>day_added</th>\n",
              "      <th>year_added</th>\n",
              "      <th>month_added</th>\n",
              "    </tr>\n",
              "  </thead>\n",
              "  <tbody>\n",
              "    <tr>\n",
              "      <th>1</th>\n",
              "      <td>s2</td>\n",
              "      <td>Movie</td>\n",
              "      <td>7:19</td>\n",
              "      <td>Jorge Michel Grau</td>\n",
              "      <td>Demián Bichir, Héctor Bonilla, Oscar Serrano, ...</td>\n",
              "      <td>Mexico</td>\n",
              "      <td>2016-12-23</td>\n",
              "      <td>2016</td>\n",
              "      <td>TV-MA</td>\n",
              "      <td>93 min</td>\n",
              "      <td>Dramas, International Movies</td>\n",
              "      <td>After a devastating earthquake hits Mexico Cit...</td>\n",
              "      <td>23.0</td>\n",
              "      <td>2016.0</td>\n",
              "      <td>12.0</td>\n",
              "    </tr>\n",
              "    <tr>\n",
              "      <th>2</th>\n",
              "      <td>s3</td>\n",
              "      <td>Movie</td>\n",
              "      <td>23:59</td>\n",
              "      <td>Gilbert Chan</td>\n",
              "      <td>Tedd Chan, Stella Chung, Henley Hii, Lawrence ...</td>\n",
              "      <td>Singapore</td>\n",
              "      <td>2018-12-20</td>\n",
              "      <td>2011</td>\n",
              "      <td>R</td>\n",
              "      <td>78 min</td>\n",
              "      <td>Horror Movies, International Movies</td>\n",
              "      <td>When an army recruit is found dead, his fellow...</td>\n",
              "      <td>20.0</td>\n",
              "      <td>2018.0</td>\n",
              "      <td>12.0</td>\n",
              "    </tr>\n",
              "    <tr>\n",
              "      <th>3</th>\n",
              "      <td>s4</td>\n",
              "      <td>Movie</td>\n",
              "      <td>9</td>\n",
              "      <td>Shane Acker</td>\n",
              "      <td>Elijah Wood, John C. Reilly, Jennifer Connelly...</td>\n",
              "      <td>United States</td>\n",
              "      <td>2017-11-16</td>\n",
              "      <td>2009</td>\n",
              "      <td>PG-13</td>\n",
              "      <td>80 min</td>\n",
              "      <td>Action &amp; Adventure, Independent Movies, Sci-Fi...</td>\n",
              "      <td>In a postapocalyptic world, rag-doll robots hi...</td>\n",
              "      <td>16.0</td>\n",
              "      <td>2017.0</td>\n",
              "      <td>11.0</td>\n",
              "    </tr>\n",
              "    <tr>\n",
              "      <th>4</th>\n",
              "      <td>s5</td>\n",
              "      <td>Movie</td>\n",
              "      <td>21</td>\n",
              "      <td>Robert Luketic</td>\n",
              "      <td>Jim Sturgess, Kevin Spacey, Kate Bosworth, Aar...</td>\n",
              "      <td>United States</td>\n",
              "      <td>2020-01-01</td>\n",
              "      <td>2008</td>\n",
              "      <td>PG-13</td>\n",
              "      <td>123 min</td>\n",
              "      <td>Dramas</td>\n",
              "      <td>A brilliant group of students become card-coun...</td>\n",
              "      <td>1.0</td>\n",
              "      <td>2020.0</td>\n",
              "      <td>1.0</td>\n",
              "    </tr>\n",
              "    <tr>\n",
              "      <th>6</th>\n",
              "      <td>s7</td>\n",
              "      <td>Movie</td>\n",
              "      <td>122</td>\n",
              "      <td>Yasir Al Yasiri</td>\n",
              "      <td>Amina Khalil, Ahmed Dawood, Tarek Lotfy, Ahmed...</td>\n",
              "      <td>Egypt</td>\n",
              "      <td>2020-06-01</td>\n",
              "      <td>2019</td>\n",
              "      <td>TV-MA</td>\n",
              "      <td>95 min</td>\n",
              "      <td>Horror Movies, International Movies</td>\n",
              "      <td>After an awful accident, a couple admitted to ...</td>\n",
              "      <td>1.0</td>\n",
              "      <td>2020.0</td>\n",
              "      <td>6.0</td>\n",
              "    </tr>\n",
              "  </tbody>\n",
              "</table>\n",
              "</div>\n",
              "      <button class=\"colab-df-convert\" onclick=\"convertToInteractive('df-f17ac815-390d-4b83-9041-233796bce4f5')\"\n",
              "              title=\"Convert this dataframe to an interactive table.\"\n",
              "              style=\"display:none;\">\n",
              "        \n",
              "  <svg xmlns=\"http://www.w3.org/2000/svg\" height=\"24px\"viewBox=\"0 0 24 24\"\n",
              "       width=\"24px\">\n",
              "    <path d=\"M0 0h24v24H0V0z\" fill=\"none\"/>\n",
              "    <path d=\"M18.56 5.44l.94 2.06.94-2.06 2.06-.94-2.06-.94-.94-2.06-.94 2.06-2.06.94zm-11 1L8.5 8.5l.94-2.06 2.06-.94-2.06-.94L8.5 2.5l-.94 2.06-2.06.94zm10 10l.94 2.06.94-2.06 2.06-.94-2.06-.94-.94-2.06-.94 2.06-2.06.94z\"/><path d=\"M17.41 7.96l-1.37-1.37c-.4-.4-.92-.59-1.43-.59-.52 0-1.04.2-1.43.59L10.3 9.45l-7.72 7.72c-.78.78-.78 2.05 0 2.83L4 21.41c.39.39.9.59 1.41.59.51 0 1.02-.2 1.41-.59l7.78-7.78 2.81-2.81c.8-.78.8-2.07 0-2.86zM5.41 20L4 18.59l7.72-7.72 1.47 1.35L5.41 20z\"/>\n",
              "  </svg>\n",
              "      </button>\n",
              "      \n",
              "  <style>\n",
              "    .colab-df-container {\n",
              "      display:flex;\n",
              "      flex-wrap:wrap;\n",
              "      gap: 12px;\n",
              "    }\n",
              "\n",
              "    .colab-df-convert {\n",
              "      background-color: #E8F0FE;\n",
              "      border: none;\n",
              "      border-radius: 50%;\n",
              "      cursor: pointer;\n",
              "      display: none;\n",
              "      fill: #1967D2;\n",
              "      height: 32px;\n",
              "      padding: 0 0 0 0;\n",
              "      width: 32px;\n",
              "    }\n",
              "\n",
              "    .colab-df-convert:hover {\n",
              "      background-color: #E2EBFA;\n",
              "      box-shadow: 0px 1px 2px rgba(60, 64, 67, 0.3), 0px 1px 3px 1px rgba(60, 64, 67, 0.15);\n",
              "      fill: #174EA6;\n",
              "    }\n",
              "\n",
              "    [theme=dark] .colab-df-convert {\n",
              "      background-color: #3B4455;\n",
              "      fill: #D2E3FC;\n",
              "    }\n",
              "\n",
              "    [theme=dark] .colab-df-convert:hover {\n",
              "      background-color: #434B5C;\n",
              "      box-shadow: 0px 1px 3px 1px rgba(0, 0, 0, 0.15);\n",
              "      filter: drop-shadow(0px 1px 2px rgba(0, 0, 0, 0.3));\n",
              "      fill: #FFFFFF;\n",
              "    }\n",
              "  </style>\n",
              "\n",
              "      <script>\n",
              "        const buttonEl =\n",
              "          document.querySelector('#df-f17ac815-390d-4b83-9041-233796bce4f5 button.colab-df-convert');\n",
              "        buttonEl.style.display =\n",
              "          google.colab.kernel.accessAllowed ? 'block' : 'none';\n",
              "\n",
              "        async function convertToInteractive(key) {\n",
              "          const element = document.querySelector('#df-f17ac815-390d-4b83-9041-233796bce4f5');\n",
              "          const dataTable =\n",
              "            await google.colab.kernel.invokeFunction('convertToInteractive',\n",
              "                                                     [key], {});\n",
              "          if (!dataTable) return;\n",
              "\n",
              "          const docLinkHtml = 'Like what you see? Visit the ' +\n",
              "            '<a target=\"_blank\" href=https://colab.research.google.com/notebooks/data_table.ipynb>data table notebook</a>'\n",
              "            + ' to learn more about interactive tables.';\n",
              "          element.innerHTML = '';\n",
              "          dataTable['output_type'] = 'display_data';\n",
              "          await google.colab.output.renderOutput(dataTable, element);\n",
              "          const docLink = document.createElement('div');\n",
              "          docLink.innerHTML = docLinkHtml;\n",
              "          element.appendChild(docLink);\n",
              "        }\n",
              "      </script>\n",
              "    </div>\n",
              "  </div>\n",
              "  "
            ]
          },
          "metadata": {},
          "execution_count": 18
        }
      ]
    },
    {
      "cell_type": "code",
      "source": [
        "df_shows = content_df[content_df['type']=='TV Show'].copy()\n",
        "df_shows.head()"
      ],
      "metadata": {
        "id": "T6R4IyynyELr",
        "colab": {
          "base_uri": "https://localhost:8080/",
          "height": 632
        },
        "outputId": "61931544-c621-439e-e60e-e714f89a8b1b"
      },
      "execution_count": 19,
      "outputs": [
        {
          "output_type": "execute_result",
          "data": {
            "text/plain": [
              "   show_id     type   title              director  \\\n",
              "0       s1  TV Show      3%                   NaN   \n",
              "5       s6  TV Show      46           Serdar Akar   \n",
              "11     s12  TV Show    1983                   NaN   \n",
              "12     s13  TV Show    1994  Diego Enrique Osorno   \n",
              "16     s17  TV Show  Feb-09                   NaN   \n",
              "\n",
              "                                                 cast                country  \\\n",
              "0   João Miguel, Bianca Comparato, Michel Gomes, R...                 Brazil   \n",
              "5   Erdal Beşikçioğlu, Yasemin Allen, Melis Birkan...                 Turkey   \n",
              "11  Robert Więckiewicz, Maciej Musiał, Michalina O...  Poland, United States   \n",
              "12                                                NaN                 Mexico   \n",
              "16  Shahd El Yaseen, Shaila Sabt, Hala, Hanadi Al-...                    NaN   \n",
              "\n",
              "   date_added  release_year rating   duration  \\\n",
              "0  2020-08-14          2020  TV-MA  4 Seasons   \n",
              "5  2017-07-01          2016  TV-MA   1 Season   \n",
              "11 2018-11-30          2018  TV-MA   1 Season   \n",
              "12 2019-05-17          2019  TV-MA   1 Season   \n",
              "16 2019-03-20          2018  TV-14   1 Season   \n",
              "\n",
              "                                            listed_in  \\\n",
              "0   International TV Shows, TV Dramas, TV Sci-Fi &...   \n",
              "5     International TV Shows, TV Dramas, TV Mysteries   \n",
              "11  Crime TV Shows, International TV Shows, TV Dramas   \n",
              "12  Crime TV Shows, Docuseries, International TV S...   \n",
              "16                  International TV Shows, TV Dramas   \n",
              "\n",
              "                                          description  day_added  year_added  \\\n",
              "0   In a future where the elite inhabit an island ...       14.0      2020.0   \n",
              "5   A genetics professor experiments with a treatm...        1.0      2017.0   \n",
              "11  In this dark alt-history thriller, a naïve law...       30.0      2018.0   \n",
              "12  Archival video and new interviews examine Mexi...       17.0      2019.0   \n",
              "16  As a psychology professor faces Alzheimer's, h...       20.0      2019.0   \n",
              "\n",
              "    month_added  \n",
              "0           8.0  \n",
              "5           7.0  \n",
              "11         11.0  \n",
              "12          5.0  \n",
              "16          3.0  "
            ],
            "text/html": [
              "\n",
              "  <div id=\"df-7926104b-8738-4368-9ab3-425f8181e65d\">\n",
              "    <div class=\"colab-df-container\">\n",
              "      <div>\n",
              "<style scoped>\n",
              "    .dataframe tbody tr th:only-of-type {\n",
              "        vertical-align: middle;\n",
              "    }\n",
              "\n",
              "    .dataframe tbody tr th {\n",
              "        vertical-align: top;\n",
              "    }\n",
              "\n",
              "    .dataframe thead th {\n",
              "        text-align: right;\n",
              "    }\n",
              "</style>\n",
              "<table border=\"1\" class=\"dataframe\">\n",
              "  <thead>\n",
              "    <tr style=\"text-align: right;\">\n",
              "      <th></th>\n",
              "      <th>show_id</th>\n",
              "      <th>type</th>\n",
              "      <th>title</th>\n",
              "      <th>director</th>\n",
              "      <th>cast</th>\n",
              "      <th>country</th>\n",
              "      <th>date_added</th>\n",
              "      <th>release_year</th>\n",
              "      <th>rating</th>\n",
              "      <th>duration</th>\n",
              "      <th>listed_in</th>\n",
              "      <th>description</th>\n",
              "      <th>day_added</th>\n",
              "      <th>year_added</th>\n",
              "      <th>month_added</th>\n",
              "    </tr>\n",
              "  </thead>\n",
              "  <tbody>\n",
              "    <tr>\n",
              "      <th>0</th>\n",
              "      <td>s1</td>\n",
              "      <td>TV Show</td>\n",
              "      <td>3%</td>\n",
              "      <td>NaN</td>\n",
              "      <td>João Miguel, Bianca Comparato, Michel Gomes, R...</td>\n",
              "      <td>Brazil</td>\n",
              "      <td>2020-08-14</td>\n",
              "      <td>2020</td>\n",
              "      <td>TV-MA</td>\n",
              "      <td>4 Seasons</td>\n",
              "      <td>International TV Shows, TV Dramas, TV Sci-Fi &amp;...</td>\n",
              "      <td>In a future where the elite inhabit an island ...</td>\n",
              "      <td>14.0</td>\n",
              "      <td>2020.0</td>\n",
              "      <td>8.0</td>\n",
              "    </tr>\n",
              "    <tr>\n",
              "      <th>5</th>\n",
              "      <td>s6</td>\n",
              "      <td>TV Show</td>\n",
              "      <td>46</td>\n",
              "      <td>Serdar Akar</td>\n",
              "      <td>Erdal Beşikçioğlu, Yasemin Allen, Melis Birkan...</td>\n",
              "      <td>Turkey</td>\n",
              "      <td>2017-07-01</td>\n",
              "      <td>2016</td>\n",
              "      <td>TV-MA</td>\n",
              "      <td>1 Season</td>\n",
              "      <td>International TV Shows, TV Dramas, TV Mysteries</td>\n",
              "      <td>A genetics professor experiments with a treatm...</td>\n",
              "      <td>1.0</td>\n",
              "      <td>2017.0</td>\n",
              "      <td>7.0</td>\n",
              "    </tr>\n",
              "    <tr>\n",
              "      <th>11</th>\n",
              "      <td>s12</td>\n",
              "      <td>TV Show</td>\n",
              "      <td>1983</td>\n",
              "      <td>NaN</td>\n",
              "      <td>Robert Więckiewicz, Maciej Musiał, Michalina O...</td>\n",
              "      <td>Poland, United States</td>\n",
              "      <td>2018-11-30</td>\n",
              "      <td>2018</td>\n",
              "      <td>TV-MA</td>\n",
              "      <td>1 Season</td>\n",
              "      <td>Crime TV Shows, International TV Shows, TV Dramas</td>\n",
              "      <td>In this dark alt-history thriller, a naïve law...</td>\n",
              "      <td>30.0</td>\n",
              "      <td>2018.0</td>\n",
              "      <td>11.0</td>\n",
              "    </tr>\n",
              "    <tr>\n",
              "      <th>12</th>\n",
              "      <td>s13</td>\n",
              "      <td>TV Show</td>\n",
              "      <td>1994</td>\n",
              "      <td>Diego Enrique Osorno</td>\n",
              "      <td>NaN</td>\n",
              "      <td>Mexico</td>\n",
              "      <td>2019-05-17</td>\n",
              "      <td>2019</td>\n",
              "      <td>TV-MA</td>\n",
              "      <td>1 Season</td>\n",
              "      <td>Crime TV Shows, Docuseries, International TV S...</td>\n",
              "      <td>Archival video and new interviews examine Mexi...</td>\n",
              "      <td>17.0</td>\n",
              "      <td>2019.0</td>\n",
              "      <td>5.0</td>\n",
              "    </tr>\n",
              "    <tr>\n",
              "      <th>16</th>\n",
              "      <td>s17</td>\n",
              "      <td>TV Show</td>\n",
              "      <td>Feb-09</td>\n",
              "      <td>NaN</td>\n",
              "      <td>Shahd El Yaseen, Shaila Sabt, Hala, Hanadi Al-...</td>\n",
              "      <td>NaN</td>\n",
              "      <td>2019-03-20</td>\n",
              "      <td>2018</td>\n",
              "      <td>TV-14</td>\n",
              "      <td>1 Season</td>\n",
              "      <td>International TV Shows, TV Dramas</td>\n",
              "      <td>As a psychology professor faces Alzheimer's, h...</td>\n",
              "      <td>20.0</td>\n",
              "      <td>2019.0</td>\n",
              "      <td>3.0</td>\n",
              "    </tr>\n",
              "  </tbody>\n",
              "</table>\n",
              "</div>\n",
              "      <button class=\"colab-df-convert\" onclick=\"convertToInteractive('df-7926104b-8738-4368-9ab3-425f8181e65d')\"\n",
              "              title=\"Convert this dataframe to an interactive table.\"\n",
              "              style=\"display:none;\">\n",
              "        \n",
              "  <svg xmlns=\"http://www.w3.org/2000/svg\" height=\"24px\"viewBox=\"0 0 24 24\"\n",
              "       width=\"24px\">\n",
              "    <path d=\"M0 0h24v24H0V0z\" fill=\"none\"/>\n",
              "    <path d=\"M18.56 5.44l.94 2.06.94-2.06 2.06-.94-2.06-.94-.94-2.06-.94 2.06-2.06.94zm-11 1L8.5 8.5l.94-2.06 2.06-.94-2.06-.94L8.5 2.5l-.94 2.06-2.06.94zm10 10l.94 2.06.94-2.06 2.06-.94-2.06-.94-.94-2.06-.94 2.06-2.06.94z\"/><path d=\"M17.41 7.96l-1.37-1.37c-.4-.4-.92-.59-1.43-.59-.52 0-1.04.2-1.43.59L10.3 9.45l-7.72 7.72c-.78.78-.78 2.05 0 2.83L4 21.41c.39.39.9.59 1.41.59.51 0 1.02-.2 1.41-.59l7.78-7.78 2.81-2.81c.8-.78.8-2.07 0-2.86zM5.41 20L4 18.59l7.72-7.72 1.47 1.35L5.41 20z\"/>\n",
              "  </svg>\n",
              "      </button>\n",
              "      \n",
              "  <style>\n",
              "    .colab-df-container {\n",
              "      display:flex;\n",
              "      flex-wrap:wrap;\n",
              "      gap: 12px;\n",
              "    }\n",
              "\n",
              "    .colab-df-convert {\n",
              "      background-color: #E8F0FE;\n",
              "      border: none;\n",
              "      border-radius: 50%;\n",
              "      cursor: pointer;\n",
              "      display: none;\n",
              "      fill: #1967D2;\n",
              "      height: 32px;\n",
              "      padding: 0 0 0 0;\n",
              "      width: 32px;\n",
              "    }\n",
              "\n",
              "    .colab-df-convert:hover {\n",
              "      background-color: #E2EBFA;\n",
              "      box-shadow: 0px 1px 2px rgba(60, 64, 67, 0.3), 0px 1px 3px 1px rgba(60, 64, 67, 0.15);\n",
              "      fill: #174EA6;\n",
              "    }\n",
              "\n",
              "    [theme=dark] .colab-df-convert {\n",
              "      background-color: #3B4455;\n",
              "      fill: #D2E3FC;\n",
              "    }\n",
              "\n",
              "    [theme=dark] .colab-df-convert:hover {\n",
              "      background-color: #434B5C;\n",
              "      box-shadow: 0px 1px 3px 1px rgba(0, 0, 0, 0.15);\n",
              "      filter: drop-shadow(0px 1px 2px rgba(0, 0, 0, 0.3));\n",
              "      fill: #FFFFFF;\n",
              "    }\n",
              "  </style>\n",
              "\n",
              "      <script>\n",
              "        const buttonEl =\n",
              "          document.querySelector('#df-7926104b-8738-4368-9ab3-425f8181e65d button.colab-df-convert');\n",
              "        buttonEl.style.display =\n",
              "          google.colab.kernel.accessAllowed ? 'block' : 'none';\n",
              "\n",
              "        async function convertToInteractive(key) {\n",
              "          const element = document.querySelector('#df-7926104b-8738-4368-9ab3-425f8181e65d');\n",
              "          const dataTable =\n",
              "            await google.colab.kernel.invokeFunction('convertToInteractive',\n",
              "                                                     [key], {});\n",
              "          if (!dataTable) return;\n",
              "\n",
              "          const docLinkHtml = 'Like what you see? Visit the ' +\n",
              "            '<a target=\"_blank\" href=https://colab.research.google.com/notebooks/data_table.ipynb>data table notebook</a>'\n",
              "            + ' to learn more about interactive tables.';\n",
              "          element.innerHTML = '';\n",
              "          dataTable['output_type'] = 'display_data';\n",
              "          await google.colab.output.renderOutput(dataTable, element);\n",
              "          const docLink = document.createElement('div');\n",
              "          docLink.innerHTML = docLinkHtml;\n",
              "          element.appendChild(docLink);\n",
              "        }\n",
              "      </script>\n",
              "    </div>\n",
              "  </div>\n",
              "  "
            ]
          },
          "metadata": {},
          "execution_count": 19
        }
      ]
    },
    {
      "cell_type": "markdown",
      "source": [
        "> Duration manipulation"
      ],
      "metadata": {
        "id": "lZ9Vxlr8DXPV"
      }
    },
    {
      "cell_type": "code",
      "source": [
        "# duration manipulation for movie\n",
        "df_movies.duration = df_movies.duration.str.replace(' min','').astype(int)\n",
        "\n",
        "# duration manipulation for tv shows\n",
        "df_shows.rename(columns={'duration':'seasons'}, inplace=True)\n",
        "df_shows.replace({'seasons':{'1 Season':'1 Seasons'}}, inplace=True)\n",
        "df_shows.seasons = df_shows.seasons.str.replace(' Seasons','').astype(int)\n",
        "\n"
      ],
      "metadata": {
        "id": "Yf40cFxLC0Mz"
      },
      "execution_count": 20,
      "outputs": []
    },
    {
      "cell_type": "markdown",
      "source": [
        "### What all manipulations have you done and insights you found?"
      ],
      "metadata": {
        "id": "MSa1f5Uengrz"
      }
    },
    {
      "cell_type": "markdown",
      "source": [
        "Answer Here."
      ],
      "metadata": {
        "id": "LbyXE7I1olp8"
      }
    },
    {
      "cell_type": "markdown",
      "source": [
        "## ***4. Data Vizualization, Storytelling & Experimenting with charts : Understand the relationships between variables***"
      ],
      "metadata": {
        "id": "GF8Ens_Soomf"
      }
    },
    {
      "cell_type": "markdown",
      "source": [
        "#### Chart - 1"
      ],
      "metadata": {
        "id": "0wOQAZs5pc--"
      }
    },
    {
      "cell_type": "code",
      "source": [
        "# Chart - 1 visualization code\n",
        "# pie chart for movie and tv show\n",
        "labels = ['Movie', 'TV show']\n",
        "size = content_df['type'].value_counts()\n",
        "colors = plt.cm.Wistia(np.linspace(0, 1, 2))\n",
        "explode = [0, 0.1]\n",
        "plt.rcParams['figure.figsize'] = (6, 7)\n",
        "plt.pie(size,labels=labels, colors = colors,autopct='%1.1f%%', explode = explode, shadow = True, startangle = 90)\n",
        "plt.title('Distribution of Type', fontsize = 25)\n",
        "plt.legend()\n",
        "plt.show()"
      ],
      "metadata": {
        "id": "7v_ESjsspbW7",
        "colab": {
          "base_uri": "https://localhost:8080/",
          "height": 391
        },
        "outputId": "162cffef-f393-4617-e1a2-a3d3a402592f"
      },
      "execution_count": 21,
      "outputs": [
        {
          "output_type": "display_data",
          "data": {
            "text/plain": [
              "<Figure size 432x504 with 1 Axes>"
            ],
            "image/png": "[encoded data removed]"
          },
          "metadata": {}
        }
      ]
    },
    {
      "cell_type": "code",
      "source": [
        "# Balance of Netflix products\n",
        "plot_donut_chart(df=content_df, col='type', colors=['red','black'], title='Does Netflix had more \\nMovies or TV Shows in 2019?')\n",
        "     \n"
      ],
      "metadata": {
        "id": "Hj-5VVmxA_4J",
        "colab": {
          "base_uri": "https://localhost:8080/",
          "height": 501
        },
        "outputId": "ac1addf6-e947-468e-df6b-b547cb459977"
      },
      "execution_count": 22,
      "outputs": [
        {
          "output_type": "display_data",
          "data": {
            "text/plain": [
              "<Figure size 576x576 with 1 Axes>"
            ],
            "image/png": "[encoded data removed]"
          },
          "metadata": {}
        }
      ]
    },
    {
      "cell_type": "markdown",
      "source": [
        "##### 1. Why did you pick the specific chart?"
      ],
      "metadata": {
        "id": "K5QZ13OEpz2H"
      }
    },
    {
      "cell_type": "markdown",
      "source": [
        "Answer Here."
      ],
      "metadata": {
        "id": "XESiWehPqBRc"
      }
    },
    {
      "cell_type": "markdown",
      "source": [
        "##### 2. What is/are the insight(s) found from the chart?"
      ],
      "metadata": {
        "id": "lQ7QKXXCp7Bj"
      }
    },
    {
      "cell_type": "markdown",
      "source": [
        "Answer Here"
      ],
      "metadata": {
        "id": "C_j1G7yiqdRP"
      }
    },
    {
      "cell_type": "markdown",
      "source": [
        "##### 3. Will the gained insights help creating a positive business impact? \n",
        "Are there any insights that lead to negative growth? Justify with specific reason."
      ],
      "metadata": {
        "id": "448CDAPjqfQr"
      }
    },
    {
      "cell_type": "markdown",
      "source": [
        "Answer Here"
      ],
      "metadata": {
        "id": "3cspy4FjqxJW"
      }
    },
    {
      "cell_type": "markdown",
      "source": [
        "#### Chart - 2"
      ],
      "metadata": {
        "id": "KSlN3yHqYklG"
      }
    },
    {
      "cell_type": "code",
      "source": [
        "# Chart - 2 visualization code\n",
        "# count plot for ratings\n",
        "sns.countplot(content_df['rating'])\n",
        "sns.countplot(content_df['rating']).set_xticklabels(sns.countplot(content_df['rating']).get_xticklabels(), rotation=90, ha=\"right\")\n",
        "fig = plt.gcf()\n",
        "fig.set_size_inches(12,7)\n",
        "plt.title('Rating')\n"
      ],
      "metadata": {
        "id": "R4YgtaqtYklH",
        "colab": {
          "base_uri": "https://localhost:8080/",
          "height": 509
        },
        "outputId": "4e7bf639-09be-4c0c-e504-b11c95e80cbe"
      },
      "execution_count": 23,
      "outputs": [
        {
          "output_type": "execute_result",
          "data": {
            "text/plain": [
              "Text(0.5, 1.0, 'Rating')"
            ]
          },
          "metadata": {},
          "execution_count": 23
        },
        {
          "output_type": "display_data",
          "data": {
            "text/plain": [
              "<Figure size 864x504 with 1 Axes>"
            ],
            "image/png": "[encoded data removed]"
          },
          "metadata": {
            "needs_background": "light"
          }
        }
      ]
    },
    {
      "cell_type": "markdown",
      "source": [
        "##### 1. Why did you pick the specific chart?"
      ],
      "metadata": {
        "id": "t6dVpIINYklI"
      }
    },
    {
      "cell_type": "markdown",
      "source": [
        "Answer Here."
      ],
      "metadata": {
        "id": "5aaW0BYyYklI"
      }
    },
    {
      "cell_type": "markdown",
      "source": [
        "##### 2. What is/are the insight(s) found from the chart?"
      ],
      "metadata": {
        "id": "ijmpgYnKYklI"
      }
    },
    {
      "cell_type": "markdown",
      "source": [
        "Answer Here"
      ],
      "metadata": {
        "id": "PSx9atu2YklI"
      }
    },
    {
      "cell_type": "markdown",
      "source": [
        "##### 3. Will the gained insights help creating a positive business impact? \n",
        "Are there any insights that lead to negative growth? Justify with specific reason."
      ],
      "metadata": {
        "id": "-JiQyfWJYklI"
      }
    },
    {
      "cell_type": "markdown",
      "source": [
        "Answer Here"
      ],
      "metadata": {
        "id": "BcBbebzrYklV"
      }
    },
    {
      "cell_type": "markdown",
      "source": [
        "#### Chart - 3"
      ],
      "metadata": {
        "id": "EM7whBJCYoAo"
      }
    },
    {
      "cell_type": "code",
      "source": [
        "# Chart - 3 visualization code\n",
        "# graph for different rating on movies and tv shows\n",
        "plt.figure(figsize=(12,8))\n",
        "sns.countplot(x='rating',hue='type',data=content_df,palette=\"Set2\")\n",
        "plt.title('Relation between Type and Rating')\n",
        "plt.show()"
      ],
      "metadata": {
        "id": "t6GMdE67YoAp",
        "colab": {
          "base_uri": "https://localhost:8080/",
          "height": 513
        },
        "outputId": "dc836c58-d1eb-4e9a-ee90-bbbf2c66e162"
      },
      "execution_count": 24,
      "outputs": [
        {
          "output_type": "display_data",
          "data": {
            "text/plain": [
              "<Figure size 864x576 with 1 Axes>"
            ],
            "image/png": "[encoded data removed]"
          },
          "metadata": {
            "needs_background": "light"
          }
        }
      ]
    },
    {
      "cell_type": "markdown",
      "source": [
        "##### 1. Why did you pick the specific chart?"
      ],
      "metadata": {
        "id": "fge-S5ZAYoAp"
      }
    },
    {
      "cell_type": "markdown",
      "source": [
        "Answer Here."
      ],
      "metadata": {
        "id": "5dBItgRVYoAp"
      }
    },
    {
      "cell_type": "markdown",
      "source": [
        "##### 2. What is/are the insight(s) found from the chart?"
      ],
      "metadata": {
        "id": "85gYPyotYoAp"
      }
    },
    {
      "cell_type": "markdown",
      "source": [
        "Answer Here"
      ],
      "metadata": {
        "id": "4jstXR6OYoAp"
      }
    },
    {
      "cell_type": "markdown",
      "source": [
        "##### 3. Will the gained insights help creating a positive business impact? \n",
        "Are there any insights that lead to negative growth? Justify with specific reason."
      ],
      "metadata": {
        "id": "RoGjAbkUYoAp"
      }
    },
    {
      "cell_type": "markdown",
      "source": [
        "Answer Here"
      ],
      "metadata": {
        "id": "zfJ8IqMcYoAp"
      }
    },
    {
      "cell_type": "markdown",
      "source": [
        "#### Chart - 4"
      ],
      "metadata": {
        "id": "4Of9eVA-YrdM"
      }
    },
    {
      "cell_type": "code",
      "source": [
        "# Chart - 4 visualization code\n",
        "# Plotting and customizing a rating analysis\n",
        "plot_countplot(content_df, 'rating', order=True, figsize=(18, 10),\n",
        "               title='Rating Analysis on Netflix Titles', size_title=20)\n",
        "plt.xticks(fontsize=16)\n",
        "plt.show()\n",
        "     \n"
      ],
      "metadata": {
        "id": "irlUoxc8YrdO",
        "colab": {
          "base_uri": "https://localhost:8080/",
          "height": 646
        },
        "outputId": "c4cd8587-0308-452f-d46f-b6051e3b05d9"
      },
      "execution_count": 25,
      "outputs": [
        {
          "output_type": "display_data",
          "data": {
            "text/plain": [
              "<Figure size 1296x720 with 1 Axes>"
            ],
            "image/png": "[encoded data removed]"
          },
          "metadata": {
            "needs_background": "light"
          }
        }
      ]
    },
    {
      "cell_type": "markdown",
      "source": [
        "##### 1. Why did you pick the specific chart?"
      ],
      "metadata": {
        "id": "iky9q4vBYrdO"
      }
    },
    {
      "cell_type": "markdown",
      "source": [
        "Answer Here."
      ],
      "metadata": {
        "id": "aJRCwT6DYrdO"
      }
    },
    {
      "cell_type": "markdown",
      "source": [
        "##### 2. What is/are the insight(s) found from the chart?"
      ],
      "metadata": {
        "id": "F6T5p64dYrdO"
      }
    },
    {
      "cell_type": "markdown",
      "source": [
        "Answer Here"
      ],
      "metadata": {
        "id": "Xx8WAJvtYrdO"
      }
    },
    {
      "cell_type": "markdown",
      "source": [
        "##### 3. Will the gained insights help creating a positive business impact? \n",
        "Are there any insights that lead to negative growth? Justify with specific reason."
      ],
      "metadata": {
        "id": "y-Ehk30pYrdP"
      }
    },
    {
      "cell_type": "markdown",
      "source": [
        "Answer Here"
      ],
      "metadata": {
        "id": "jLNxxz7MYrdP"
      }
    },
    {
      "cell_type": "markdown",
      "source": [
        "#### Chart - 5"
      ],
      "metadata": {
        "id": "bamQiAODYuh1"
      }
    },
    {
      "cell_type": "code",
      "source": [
        "# Chart - 5 visualization code\n"
      ],
      "metadata": {
        "id": "TIJwrbroYuh3"
      },
      "execution_count": 26,
      "outputs": []
    },
    {
      "cell_type": "markdown",
      "source": [
        "##### 1. Why did you pick the specific chart?"
      ],
      "metadata": {
        "id": "QHF8YVU7Yuh3"
      }
    },
    {
      "cell_type": "markdown",
      "source": [
        "Answer Here."
      ],
      "metadata": {
        "id": "dcxuIMRPYuh3"
      }
    },
    {
      "cell_type": "markdown",
      "source": [
        "##### 2. What is/are the insight(s) found from the chart?"
      ],
      "metadata": {
        "id": "GwzvFGzlYuh3"
      }
    },
    {
      "cell_type": "markdown",
      "source": [
        "Answer Here"
      ],
      "metadata": {
        "id": "uyqkiB8YYuh3"
      }
    },
    {
      "cell_type": "markdown",
      "source": [
        "##### 3. Will the gained insights help creating a positive business impact? \n",
        "Are there any insights that lead to negative growth? Justify with specific reason."
      ],
      "metadata": {
        "id": "qYpmQ266Yuh3"
      }
    },
    {
      "cell_type": "markdown",
      "source": [
        "Answer Here"
      ],
      "metadata": {
        "id": "_WtzZ_hCYuh4"
      }
    },
    {
      "cell_type": "markdown",
      "source": [
        "#### Chart - 6"
      ],
      "metadata": {
        "id": "OH-pJp9IphqM"
      }
    },
    {
      "cell_type": "code",
      "source": [
        "# Chart - 6 visualization code\n",
        "\n",
        "df_movies['originals'] = np.where(df_movies['release_year'] == df_movies['year_added'], 'Yes', 'No')\n",
        "# pie plot showing percentage of originals and others in movies\n",
        "fig, ax = plt.subplots(figsize=(5,5),facecolor=\"#383838\")\n",
        "ax.patch.set_facecolor('#383838')\n",
        "explode = (0, 0.1)\n",
        "ax.pie(df_movies['originals'].value_counts(), explode=explode, autopct='%.2f%%', labels= ['Others', 'Originals'],\n",
        "       shadow=True, startangle=90,textprops={'color':\"white\", 'fontsize': 20}, colors =['black','red'])"
      ],
      "metadata": {
        "id": "kuRf4wtuphqN",
        "colab": {
          "base_uri": "https://localhost:8080/",
          "height": 407
        },
        "outputId": "c25f8796-821a-449f-b084-8002b3acc6c7"
      },
      "execution_count": 88,
      "outputs": [
        {
          "output_type": "execute_result",
          "data": {
            "text/plain": [
              "([<matplotlib.patches.Wedge at 0x7f40d2d72820>,\n",
              "  <matplotlib.patches.Wedge at 0x7f40d2d67310>],\n",
              " [Text(-0.8902585632950727, -0.6460957285726268, 'Others'),\n",
              "  Text(0.9711911599582614, 0.7048317038974103, 'Originals')],\n",
              " [Text(-0.4855955799791305, -0.3524158519487055, '69.98%'),\n",
              "  Text(0.5665281766423191, 0.41115182727348937, '30.02%')])"
            ]
          },
          "metadata": {},
          "execution_count": 88
        },
        {
          "output_type": "display_data",
          "data": {
            "text/plain": [
              "<Figure size 360x360 with 1 Axes>"
            ],
            "image/png": "[encoded data removed]"
          },
          "metadata": {}
        }
      ]
    },
    {
      "cell_type": "markdown",
      "source": [
        "* For original movies"
      ],
      "metadata": {
        "id": "1jH80gwBCd06"
      }
    },
    {
      "cell_type": "code",
      "source": [
        "df_shows['originals'] = np.where(df_shows['release_year'] == df_shows['year_added'], 'Yes', 'No')\n",
        "# pie plot showing percentage of originals and others in movies\n",
        "fig, ax = plt.subplots(figsize=(5,5),facecolor=\"#383838\")\n",
        "ax.patch.set_facecolor('#383838')\n",
        "explode = (0, 0.1)\n",
        "ax.pie(df_shows['originals'].value_counts(), explode=explode, autopct='%.2f%%', labels= ['Others', 'Originals'],\n",
        "       shadow=True, startangle=90,textprops={'color':\"white\", 'fontsize': 20}, colors =['black','red'])"
      ],
      "metadata": {
        "colab": {
          "base_uri": "https://localhost:8080/",
          "height": 407
        },
        "id": "sPHQ1E3m_16f",
        "outputId": "2aeb942f-7959-4eb9-c623-2cb722fe3449"
      },
      "execution_count": 89,
      "outputs": [
        {
          "output_type": "execute_result",
          "data": {
            "text/plain": [
              "([<matplotlib.patches.Wedge at 0x7f40d2cfc070>,\n",
              "  <matplotlib.patches.Wedge at 0x7f40d2cfcac0>],\n",
              " [Text(-1.0999663543761926, -0.008603443516892913, 'Others'),\n",
              "  Text(1.1999632956831192, 0.00938557474570121, 'Originals')],\n",
              " [Text(-0.5999816478415596, -0.004692787372850679, '50.25%'),\n",
              "  Text(0.6999785891484862, 0.005474918601659039, '49.75%')])"
            ]
          },
          "metadata": {},
          "execution_count": 89
        },
        {
          "output_type": "display_data",
          "data": {
            "text/plain": [
              "<Figure size 360x360 with 1 Axes>"
            ],
            "image/png": "[encoded data removed]"
          },
          "metadata": {}
        }
      ]
    },
    {
      "cell_type": "markdown",
      "source": [
        "* For original tv shows "
      ],
      "metadata": {
        "id": "3OaAGUcFC2a9"
      }
    },
    {
      "cell_type": "markdown",
      "source": [
        "##### 1. Why did you pick the specific chart?"
      ],
      "metadata": {
        "id": "bbFf2-_FphqN"
      }
    },
    {
      "cell_type": "markdown",
      "source": [
        "Answer Here."
      ],
      "metadata": {
        "id": "loh7H2nzphqN"
      }
    },
    {
      "cell_type": "markdown",
      "source": [
        "##### 2. What is/are the insight(s) found from the chart?"
      ],
      "metadata": {
        "id": "_ouA3fa0phqN"
      }
    },
    {
      "cell_type": "markdown",
      "source": [
        "Answer Here"
      ],
      "metadata": {
        "id": "VECbqPI7phqN"
      }
    },
    {
      "cell_type": "markdown",
      "source": [
        "##### 3. Will the gained insights help creating a positive business impact? \n",
        "Are there any insights that lead to negative growth? Justify with specific reason."
      ],
      "metadata": {
        "id": "Seke61FWphqN"
      }
    },
    {
      "cell_type": "markdown",
      "source": [
        "Answer Here"
      ],
      "metadata": {
        "id": "DW4_bGpfphqN"
      }
    },
    {
      "cell_type": "markdown",
      "source": [
        "#### Chart - 7"
      ],
      "metadata": {
        "id": "PIIx-8_IphqN"
      }
    },
    {
      "cell_type": "code",
      "source": [
        "# Chart - 7 visualization code"
      ],
      "metadata": {
        "id": "lqAIGUfyphqO"
      },
      "execution_count": 28,
      "outputs": []
    },
    {
      "cell_type": "markdown",
      "source": [
        "##### 1. Why did you pick the specific chart?"
      ],
      "metadata": {
        "id": "t27r6nlMphqO"
      }
    },
    {
      "cell_type": "markdown",
      "source": [
        "Answer Here."
      ],
      "metadata": {
        "id": "iv6ro40sphqO"
      }
    },
    {
      "cell_type": "markdown",
      "source": [
        "##### 2. What is/are the insight(s) found from the chart?"
      ],
      "metadata": {
        "id": "r2jJGEOYphqO"
      }
    },
    {
      "cell_type": "markdown",
      "source": [
        "Answer Here"
      ],
      "metadata": {
        "id": "Po6ZPi4hphqO"
      }
    },
    {
      "cell_type": "markdown",
      "source": [
        "##### 3. Will the gained insights help creating a positive business impact? \n",
        "Are there any insights that lead to negative growth? Justify with specific reason."
      ],
      "metadata": {
        "id": "b0JNsNcRphqO"
      }
    },
    {
      "cell_type": "markdown",
      "source": [
        "Answer Here"
      ],
      "metadata": {
        "id": "xvSq8iUTphqO"
      }
    },
    {
      "cell_type": "markdown",
      "source": [
        "#### Chart - 8 - Duration"
      ],
      "metadata": {
        "id": "BZR9WyysphqO"
      }
    },
    {
      "cell_type": "code",
      "source": [
        "# Chart - 8 visualization code\n",
        "fig, ax = plt.subplots(1,2, figsize=(20, 5))\n",
        "g1 = sns.distplot(df_movies.duration, color='blue',ax=ax[0]);\n",
        "g1.set_xticks(np.arange(0,360,30))\n",
        "g1.set_title(\"Duration Distribution for Netflix Movies\")\n",
        "g1.set_ylabel(\"% of All Netflix Movies\")\n",
        "g1.set_xlabel(\"Duration (minutes)\")\n",
        "g2 = sns.countplot(df_shows.seasons, color='blue',ax=ax[1]);\n",
        "g2.set_title(\"Netflix TV Shows Seasons\")\n",
        "g2.set_ylabel(\"Count\")\n",
        "g2.set_xlabel(\"Season\")\n",
        "fig.show()"
      ],
      "metadata": {
        "id": "TdPTWpAVphqO",
        "colab": {
          "base_uri": "https://localhost:8080/",
          "height": 350
        },
        "outputId": "7b0fc2f5-008e-44be-aa3c-edc158396d00"
      },
      "execution_count": 29,
      "outputs": [
        {
          "output_type": "display_data",
          "data": {
            "text/plain": [
              "<Figure size 1440x360 with 2 Axes>"
            ],
            "image/png": "[encoded data removed]"
          },
          "metadata": {
            "needs_background": "light"
          }
        }
      ]
    },
    {
      "cell_type": "markdown",
      "source": [
        "##### 1. Why did you pick the specific chart?"
      ],
      "metadata": {
        "id": "jj7wYXLtphqO"
      }
    },
    {
      "cell_type": "markdown",
      "source": [
        "Answer Here."
      ],
      "metadata": {
        "id": "Ob8u6rCTphqO"
      }
    },
    {
      "cell_type": "markdown",
      "source": [
        "##### 2. What is/are the insight(s) found from the chart?"
      ],
      "metadata": {
        "id": "eZrbJ2SmphqO"
      }
    },
    {
      "cell_type": "markdown",
      "source": [
        "Answer Here"
      ],
      "metadata": {
        "id": "mZtgC_hjphqO"
      }
    },
    {
      "cell_type": "markdown",
      "source": [
        "##### 3. Will the gained insights help creating a positive business impact? \n",
        "Are there any insights that lead to negative growth? Justify with specific reason."
      ],
      "metadata": {
        "id": "rFu4xreNphqO"
      }
    },
    {
      "cell_type": "markdown",
      "source": [
        "Answer Here"
      ],
      "metadata": {
        "id": "ey_0qi68phqO"
      }
    },
    {
      "cell_type": "markdown",
      "source": [
        "#### Chart - 9"
      ],
      "metadata": {
        "id": "YJ55k-q6phqO"
      }
    },
    {
      "cell_type": "code",
      "source": [
        "# Chart - 9 visualization code\n",
        "fig = plt.figure(figsize=(18,6))\n",
        "sns.set(style='whitegrid')\n",
        "fig.set_facecolor(\"lightblue\")\n",
        "sns.countplot(data = content_df,x = 'year_added',palette =\"autumn_r\")\n",
        "plt.title('Movies added to Netflix each year ', fontsize=10)\n",
        "plt.ylabel('No. of movies added to Netflix', fontsize=10)\n",
        "plt.xlabel('Year -> (Movies added to Netflix) ', fontsize=10)\n",
        "     "
      ],
      "metadata": {
        "id": "B2aS4O1ophqO",
        "colab": {
          "base_uri": "https://localhost:8080/",
          "height": 422
        },
        "outputId": "ba148c2d-0d32-49cf-c3fa-e34adeb14da7"
      },
      "execution_count": 30,
      "outputs": [
        {
          "output_type": "execute_result",
          "data": {
            "text/plain": [
              "Text(0.5, 0, 'Year -> (Movies added to Netflix) ')"
            ]
          },
          "metadata": {},
          "execution_count": 30
        },
        {
          "output_type": "display_data",
          "data": {
            "text/plain": [
              "<Figure size 1296x432 with 1 Axes>"
            ],
            "image/png": "[encoded data removed]"
          },
          "metadata": {}
        }
      ]
    },
    {
      "cell_type": "markdown",
      "source": [
        "##### 1. Why did you pick the specific chart?"
      ],
      "metadata": {
        "id": "gCFgpxoyphqP"
      }
    },
    {
      "cell_type": "markdown",
      "source": [
        "Answer Here."
      ],
      "metadata": {
        "id": "TVxDimi2phqP"
      }
    },
    {
      "cell_type": "markdown",
      "source": [
        "##### 2. What is/are the insight(s) found from the chart?"
      ],
      "metadata": {
        "id": "OVtJsKN_phqQ"
      }
    },
    {
      "cell_type": "markdown",
      "source": [
        "Answer Here"
      ],
      "metadata": {
        "id": "ngGi97qjphqQ"
      }
    },
    {
      "cell_type": "markdown",
      "source": [
        "##### 3. Will the gained insights help creating a positive business impact? \n",
        "Are there any insights that lead to negative growth? Justify with specific reason."
      ],
      "metadata": {
        "id": "lssrdh5qphqQ"
      }
    },
    {
      "cell_type": "markdown",
      "source": [
        "Answer Here"
      ],
      "metadata": {
        "id": "tBpY5ekJphqQ"
      }
    },
    {
      "cell_type": "markdown",
      "source": [
        "#### Chart - 10"
      ],
      "metadata": {
        "id": "U2RJ9gkRphqQ"
      }
    },
    {
      "cell_type": "code",
      "source": [
        "# Chart - 10 visualization code\n",
        "fig = plt.figure(figsize=(18,6))\n",
        "sns.set(style='whitegrid')\n",
        "fig.set_facecolor(\"lightblue\")\n",
        "sns.countplot(data=content_df,x = 'month_added',palette =\"autumn_r\")\n",
        "plt.title('Count Plot - Movies added to Netflix by month ', fontsize=10)\n",
        "plt.ylabel('\"No. of movies added to Netflix', fontsize=10)\n",
        "plt.xlabel('Month -> (Movies added to Netflix) ', fontsize=10)"
      ],
      "metadata": {
        "id": "GM7a4YP4phqQ",
        "colab": {
          "base_uri": "https://localhost:8080/",
          "height": 422
        },
        "outputId": "b74683fb-6332-4f9b-ef19-e66c86e2e29d"
      },
      "execution_count": 31,
      "outputs": [
        {
          "output_type": "execute_result",
          "data": {
            "text/plain": [
              "Text(0.5, 0, 'Month -> (Movies added to Netflix) ')"
            ]
          },
          "metadata": {},
          "execution_count": 31
        },
        {
          "output_type": "display_data",
          "data": {
            "text/plain": [
              "<Figure size 1296x432 with 1 Axes>"
            ],
            "image/png": "[encoded data removed]"
          },
          "metadata": {}
        }
      ]
    },
    {
      "cell_type": "markdown",
      "source": [
        "##### 1. Why did you pick the specific chart?"
      ],
      "metadata": {
        "id": "1M8mcRywphqQ"
      }
    },
    {
      "cell_type": "markdown",
      "source": [
        "Answer Here."
      ],
      "metadata": {
        "id": "8agQvks0phqQ"
      }
    },
    {
      "cell_type": "markdown",
      "source": [
        "##### 2. What is/are the insight(s) found from the chart?"
      ],
      "metadata": {
        "id": "tgIPom80phqQ"
      }
    },
    {
      "cell_type": "markdown",
      "source": [
        "Answer Here"
      ],
      "metadata": {
        "id": "Qp13pnNzphqQ"
      }
    },
    {
      "cell_type": "markdown",
      "source": [
        "##### 3. Will the gained insights help creating a positive business impact? \n",
        "Are there any insights that lead to negative growth? Justify with specific reason."
      ],
      "metadata": {
        "id": "JMzcOPDDphqR"
      }
    },
    {
      "cell_type": "markdown",
      "source": [
        "Answer Here"
      ],
      "metadata": {
        "id": "R4Ka1PC2phqR"
      }
    },
    {
      "cell_type": "markdown",
      "source": [
        "#### Chart - 11"
      ],
      "metadata": {
        "id": "x-EpHcCOp1ci"
      }
    },
    {
      "cell_type": "code",
      "source": [
        "# Chart - 11 visualization code"
      ],
      "metadata": {
        "id": "mAQTIvtqp1cj"
      },
      "execution_count": 32,
      "outputs": []
    },
    {
      "cell_type": "markdown",
      "source": [
        "##### 1. Why did you pick the specific chart?"
      ],
      "metadata": {
        "id": "X_VqEhTip1ck"
      }
    },
    {
      "cell_type": "markdown",
      "source": [
        "Answer Here."
      ],
      "metadata": {
        "id": "-vsMzt_np1ck"
      }
    },
    {
      "cell_type": "markdown",
      "source": [
        "##### 2. What is/are the insight(s) found from the chart?"
      ],
      "metadata": {
        "id": "8zGJKyg5p1ck"
      }
    },
    {
      "cell_type": "markdown",
      "source": [
        "Answer Here"
      ],
      "metadata": {
        "id": "ZYdMsrqVp1ck"
      }
    },
    {
      "cell_type": "markdown",
      "source": [
        "##### 3. Will the gained insights help creating a positive business impact? \n",
        "Are there any insights that lead to negative growth? Justify with specific reason."
      ],
      "metadata": {
        "id": "PVzmfK_Ep1ck"
      }
    },
    {
      "cell_type": "markdown",
      "source": [
        "Answer Here"
      ],
      "metadata": {
        "id": "druuKYZpp1ck"
      }
    },
    {
      "cell_type": "markdown",
      "source": [
        "#### Chart - 12"
      ],
      "metadata": {
        "id": "n3dbpmDWp1ck"
      }
    },
    {
      "cell_type": "code",
      "source": [
        "# Chart - 12 visualization code"
      ],
      "metadata": {
        "id": "bwevp1tKp1ck"
      },
      "execution_count": 33,
      "outputs": []
    },
    {
      "cell_type": "markdown",
      "source": [
        "##### 1. Why did you pick the specific chart?"
      ],
      "metadata": {
        "id": "ylSl6qgtp1ck"
      }
    },
    {
      "cell_type": "markdown",
      "source": [
        "Answer Here."
      ],
      "metadata": {
        "id": "m2xqNkiQp1ck"
      }
    },
    {
      "cell_type": "markdown",
      "source": [
        "##### 2. What is/are the insight(s) found from the chart?"
      ],
      "metadata": {
        "id": "ZWILFDl5p1ck"
      }
    },
    {
      "cell_type": "markdown",
      "source": [
        "Answer Here"
      ],
      "metadata": {
        "id": "x-lUsV2mp1ck"
      }
    },
    {
      "cell_type": "markdown",
      "source": [
        "##### 3. Will the gained insights help creating a positive business impact? \n",
        "Are there any insights that lead to negative growth? Justify with specific reason."
      ],
      "metadata": {
        "id": "M7G43BXep1ck"
      }
    },
    {
      "cell_type": "markdown",
      "source": [
        "Answer Here"
      ],
      "metadata": {
        "id": "5wwDJXsLp1cl"
      }
    },
    {
      "cell_type": "markdown",
      "source": [
        "#### Chart - 13"
      ],
      "metadata": {
        "id": "Ag9LCva-p1cl"
      }
    },
    {
      "cell_type": "markdown",
      "source": [
        "![Netflix Dashboard.png](data:image/png;base64,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)"
      ],
      "metadata": {
        "id": "XSBWxJIsnaxq"
      }
    },
    {
      "cell_type": "code",
      "source": [
        "# Chart - 13 visualization code"
      ],
      "metadata": {
        "id": "EUfxeq9-p1cl"
      },
      "execution_count": 34,
      "outputs": []
    },
    {
      "cell_type": "markdown",
      "source": [
        "##### 1. Why did you pick the specific chart?"
      ],
      "metadata": {
        "id": "E6MkPsBcp1cl"
      }
    },
    {
      "cell_type": "markdown",
      "source": [
        "Answer Here."
      ],
      "metadata": {
        "id": "V22bRsFWp1cl"
      }
    },
    {
      "cell_type": "markdown",
      "source": [
        "##### 2. What is/are the insight(s) found from the chart?"
      ],
      "metadata": {
        "id": "2cELzS2fp1cl"
      }
    },
    {
      "cell_type": "markdown",
      "source": [
        "Answer Here"
      ],
      "metadata": {
        "id": "ozQPc2_Ip1cl"
      }
    },
    {
      "cell_type": "markdown",
      "source": [
        "##### 3. Will the gained insights help creating a positive business impact? \n",
        "Are there any insights that lead to negative growth? Justify with specific reason."
      ],
      "metadata": {
        "id": "3MPXvC8up1cl"
      }
    },
    {
      "cell_type": "markdown",
      "source": [
        "Answer Here"
      ],
      "metadata": {
        "id": "GL8l1tdLp1cl"
      }
    },
    {
      "cell_type": "markdown",
      "source": [
        "#### Chart - 14 - Correlation Heatmap"
      ],
      "metadata": {
        "id": "NC_X3p0fY2L0"
      }
    },
    {
      "cell_type": "code",
      "source": [
        "# Correlation Heatmap visualization code"
      ],
      "metadata": {
        "id": "xyC9zolEZNRQ"
      },
      "execution_count": 35,
      "outputs": []
    },
    {
      "cell_type": "markdown",
      "source": [
        "##### 1. Why did you pick the specific chart?"
      ],
      "metadata": {
        "id": "UV0SzAkaZNRQ"
      }
    },
    {
      "cell_type": "markdown",
      "source": [
        "Answer Here."
      ],
      "metadata": {
        "id": "DVPuT8LYZNRQ"
      }
    },
    {
      "cell_type": "markdown",
      "source": [
        "##### 2. What is/are the insight(s) found from the chart?"
      ],
      "metadata": {
        "id": "YPEH6qLeZNRQ"
      }
    },
    {
      "cell_type": "markdown",
      "source": [
        "Answer Here"
      ],
      "metadata": {
        "id": "bfSqtnDqZNRR"
      }
    },
    {
      "cell_type": "markdown",
      "source": [
        "#### Chart - 15 - Pair Plot "
      ],
      "metadata": {
        "id": "q29F0dvdveiT"
      }
    },
    {
      "cell_type": "code",
      "source": [
        "# Pair Plot visualization code"
      ],
      "metadata": {
        "id": "o58-TEIhveiU"
      },
      "execution_count": 36,
      "outputs": []
    },
    {
      "cell_type": "markdown",
      "source": [
        "##### 1. Why did you pick the specific chart?"
      ],
      "metadata": {
        "id": "EXh0U9oCveiU"
      }
    },
    {
      "cell_type": "markdown",
      "source": [
        "Answer Here."
      ],
      "metadata": {
        "id": "eMmPjTByveiU"
      }
    },
    {
      "cell_type": "markdown",
      "source": [
        "##### 2. What is/are the insight(s) found from the chart?"
      ],
      "metadata": {
        "id": "22aHeOlLveiV"
      }
    },
    {
      "cell_type": "markdown",
      "source": [
        "Answer Here"
      ],
      "metadata": {
        "id": "uPQ8RGwHveiV"
      }
    },
    {
      "cell_type": "markdown",
      "source": [
        "## ***5. Hypothesis Testing***"
      ],
      "metadata": {
        "id": "g-ATYxFrGrvw"
      }
    },
    {
      "cell_type": "markdown",
      "source": [
        "### Based on your chart experiments, define three hypothetical statements from the dataset. In the next three questions, perform hypothesis testing to obtain final conclusion about the statements through your code and statistical testing."
      ],
      "metadata": {
        "id": "Yfr_Vlr8HBkt"
      }
    },
    {
      "cell_type": "markdown",
      "source": [
        "Answer Here."
      ],
      "metadata": {
        "id": "-7MS06SUHkB-"
      }
    },
    {
      "cell_type": "markdown",
      "source": [
        "### Hypothetical Statement - 1"
      ],
      "metadata": {
        "id": "8yEUt7NnHlrM"
      }
    },
    {
      "cell_type": "markdown",
      "source": [
        "#### 1. State Your research hypothesis as a null hypothesis and alternate hypothesis."
      ],
      "metadata": {
        "id": "tEA2Xm5dHt1r"
      }
    },
    {
      "cell_type": "markdown",
      "source": [
        "Answer Here."
      ],
      "metadata": {
        "id": "HI9ZP0laH0D-"
      }
    },
    {
      "cell_type": "markdown",
      "source": [
        "#### 2. Perform an appropriate statistical test."
      ],
      "metadata": {
        "id": "I79__PHVH19G"
      }
    },
    {
      "cell_type": "code",
      "source": [
        "# Perform Statistical Test to obtain P-Value"
      ],
      "metadata": {
        "id": "oZrfquKtyian"
      },
      "execution_count": 37,
      "outputs": []
    },
    {
      "cell_type": "markdown",
      "source": [
        "##### Which statistical test have you done to obtain P-Value?"
      ],
      "metadata": {
        "id": "Ou-I18pAyIpj"
      }
    },
    {
      "cell_type": "markdown",
      "source": [
        "Answer Here."
      ],
      "metadata": {
        "id": "s2U0kk00ygSB"
      }
    },
    {
      "cell_type": "markdown",
      "source": [
        "##### Why did you choose the specific statistical test?"
      ],
      "metadata": {
        "id": "fF3858GYyt-u"
      }
    },
    {
      "cell_type": "markdown",
      "source": [
        "Answer Here."
      ],
      "metadata": {
        "id": "HO4K0gP5y3B4"
      }
    },
    {
      "cell_type": "markdown",
      "source": [
        "### Hypothetical Statement - 2"
      ],
      "metadata": {
        "id": "4_0_7-oCpUZd"
      }
    },
    {
      "cell_type": "markdown",
      "source": [
        "#### 1. State Your research hypothesis as a null hypothesis and alternate hypothesis."
      ],
      "metadata": {
        "id": "hwyV_J3ipUZe"
      }
    },
    {
      "cell_type": "markdown",
      "source": [
        "Answer Here."
      ],
      "metadata": {
        "id": "FnpLGJ-4pUZe"
      }
    },
    {
      "cell_type": "markdown",
      "source": [
        "#### 2. Perform an appropriate statistical test."
      ],
      "metadata": {
        "id": "3yB-zSqbpUZe"
      }
    },
    {
      "cell_type": "code",
      "source": [
        "# Perform Statistical Test to obtain P-Value"
      ],
      "metadata": {
        "id": "sWxdNTXNpUZe"
      },
      "execution_count": 38,
      "outputs": []
    },
    {
      "cell_type": "markdown",
      "source": [
        "##### Which statistical test have you done to obtain P-Value?"
      ],
      "metadata": {
        "id": "dEUvejAfpUZe"
      }
    },
    {
      "cell_type": "markdown",
      "source": [
        "Answer Here."
      ],
      "metadata": {
        "id": "oLDrPz7HpUZf"
      }
    },
    {
      "cell_type": "markdown",
      "source": [
        "##### Why did you choose the specific statistical test?"
      ],
      "metadata": {
        "id": "Fd15vwWVpUZf"
      }
    },
    {
      "cell_type": "markdown",
      "source": [
        "Answer Here."
      ],
      "metadata": {
        "id": "4xOGYyiBpUZf"
      }
    },
    {
      "cell_type": "markdown",
      "source": [
        "### Hypothetical Statement - 3"
      ],
      "metadata": {
        "id": "bn_IUdTipZyH"
      }
    },
    {
      "cell_type": "markdown",
      "source": [
        "#### 1. State Your research hypothesis as a null hypothesis and alternate hypothesis."
      ],
      "metadata": {
        "id": "49K5P_iCpZyH"
      }
    },
    {
      "cell_type": "markdown",
      "source": [
        "Answer Here."
      ],
      "metadata": {
        "id": "7gWI5rT9pZyH"
      }
    },
    {
      "cell_type": "markdown",
      "source": [
        "#### 2. Perform an appropriate statistical test."
      ],
      "metadata": {
        "id": "Nff-vKELpZyI"
      }
    },
    {
      "cell_type": "code",
      "source": [
        "# Perform Statistical Test to obtain P-Value"
      ],
      "metadata": {
        "id": "s6AnJQjtpZyI"
      },
      "execution_count": 39,
      "outputs": []
    },
    {
      "cell_type": "markdown",
      "source": [
        "##### Which statistical test have you done to obtain P-Value?"
      ],
      "metadata": {
        "id": "kLW572S8pZyI"
      }
    },
    {
      "cell_type": "markdown",
      "source": [
        "Answer Here."
      ],
      "metadata": {
        "id": "ytWJ8v15pZyI"
      }
    },
    {
      "cell_type": "markdown",
      "source": [
        "##### Why did you choose the specific statistical test?"
      ],
      "metadata": {
        "id": "dWbDXHzopZyI"
      }
    },
    {
      "cell_type": "markdown",
      "source": [
        "Answer Here."
      ],
      "metadata": {
        "id": "M99G98V6pZyI"
      }
    },
    {
      "cell_type": "markdown",
      "source": [
        "## ***6. Feature Engineering & Data Pre-processing***"
      ],
      "metadata": {
        "id": "yLjJCtPM0KBk"
      }
    },
    {
      "cell_type": "markdown",
      "source": [
        "### 1. Handling Missing Values"
      ],
      "metadata": {
        "id": "xiyOF9F70UgQ"
      }
    },
    {
      "cell_type": "code",
      "source": [
        "# Handling Missing Values & Missing Value Imputation"
      ],
      "metadata": {
        "id": "iRsAHk1K0fpS"
      },
      "execution_count": 40,
      "outputs": []
    },
    {
      "cell_type": "markdown",
      "source": [
        "#### What all missing value imputation techniques have you used and why did you use those techniques?"
      ],
      "metadata": {
        "id": "7wuGOrhz0itI"
      }
    },
    {
      "cell_type": "markdown",
      "source": [
        "Answer Here."
      ],
      "metadata": {
        "id": "1ixusLtI0pqI"
      }
    },
    {
      "cell_type": "markdown",
      "source": [
        "### 2. Handling Outliers"
      ],
      "metadata": {
        "id": "id1riN9m0vUs"
      }
    },
    {
      "cell_type": "code",
      "source": [
        "# Handling Outliers & Outlier treatments"
      ],
      "metadata": {
        "id": "M6w2CzZf04JK"
      },
      "execution_count": 41,
      "outputs": []
    },
    {
      "cell_type": "markdown",
      "source": [
        "##### What all outlier treatment techniques have you used and why did you use those techniques?"
      ],
      "metadata": {
        "id": "578E2V7j08f6"
      }
    },
    {
      "cell_type": "markdown",
      "source": [
        "Answer Here."
      ],
      "metadata": {
        "id": "uGZz5OrT1HH-"
      }
    },
    {
      "cell_type": "markdown",
      "source": [
        "### 3. Categorical Encoding"
      ],
      "metadata": {
        "id": "89xtkJwZ18nB"
      }
    },
    {
      "cell_type": "code",
      "source": [
        "# Encode your categorical columns"
      ],
      "metadata": {
        "id": "21JmIYMG2hEo"
      },
      "execution_count": 42,
      "outputs": []
    },
    {
      "cell_type": "markdown",
      "source": [
        "#### What all categorical encoding techniques have you used & why did you use those techniques?"
      ],
      "metadata": {
        "id": "67NQN5KX2AMe"
      }
    },
    {
      "cell_type": "markdown",
      "source": [
        "Answer Here."
      ],
      "metadata": {
        "id": "UDaue5h32n_G"
      }
    },
    {
      "cell_type": "markdown",
      "source": [
        "### 4. Textual Data Preprocessing \n",
        "(It's mandatory for textual dataset i.e., NLP, Sentiment Analysis, Text Clustering etc.)"
      ],
      "metadata": {
        "id": "Iwf50b-R2tYG"
      }
    },
    {
      "cell_type": "markdown",
      "source": [
        "#### 1. Expand Contraction"
      ],
      "metadata": {
        "id": "GMQiZwjn3iu7"
      }
    },
    {
      "cell_type": "code",
      "source": [
        "# Expand Contraction"
      ],
      "metadata": {
        "id": "PTouz10C3oNN"
      },
      "execution_count": 43,
      "outputs": []
    },
    {
      "cell_type": "markdown",
      "source": [
        "#### 2. Lower Casing"
      ],
      "metadata": {
        "id": "WVIkgGqN3qsr"
      }
    },
    {
      "cell_type": "code",
      "source": [
        "# Lower Casing"
      ],
      "metadata": {
        "id": "88JnJ1jN3w7j"
      },
      "execution_count": 44,
      "outputs": []
    },
    {
      "cell_type": "markdown",
      "source": [
        "#### 3. Removing Punctuations"
      ],
      "metadata": {
        "id": "XkPnILGE3zoT"
      }
    },
    {
      "cell_type": "code",
      "source": [
        "# Remove Punctuations"
      ],
      "metadata": {
        "id": "vqbBqNaA33c0"
      },
      "execution_count": 45,
      "outputs": []
    },
    {
      "cell_type": "markdown",
      "source": [
        "#### 4. Removing URLs & Removing words and digits contain digits."
      ],
      "metadata": {
        "id": "Hlsf0x5436Go"
      }
    },
    {
      "cell_type": "code",
      "source": [
        "# Remove URLs & Remove words and digits contain digits"
      ],
      "metadata": {
        "id": "2sxKgKxu4Ip3"
      },
      "execution_count": 46,
      "outputs": []
    },
    {
      "cell_type": "markdown",
      "source": [
        "#### 5. Removing Stopwords & Removing White spaces"
      ],
      "metadata": {
        "id": "mT9DMSJo4nBL"
      }
    },
    {
      "cell_type": "code",
      "source": [
        "# Remove Stopwords"
      ],
      "metadata": {
        "id": "T2LSJh154s8W"
      },
      "execution_count": 47,
      "outputs": []
    },
    {
      "cell_type": "code",
      "source": [
        "# Remove White spaces"
      ],
      "metadata": {
        "id": "EgLJGffy4vm0"
      },
      "execution_count": 48,
      "outputs": []
    },
    {
      "cell_type": "markdown",
      "source": [
        "#### 6. Rephrase Text"
      ],
      "metadata": {
        "id": "c49ITxTc407N"
      }
    },
    {
      "cell_type": "code",
      "source": [
        "# Rephrase Text"
      ],
      "metadata": {
        "id": "foqY80Qu48N2"
      },
      "execution_count": 49,
      "outputs": []
    },
    {
      "cell_type": "markdown",
      "source": [
        "#### 7. Tokenization"
      ],
      "metadata": {
        "id": "OeJFEK0N496M"
      }
    },
    {
      "cell_type": "code",
      "source": [
        "# Tokenization"
      ],
      "metadata": {
        "id": "ijx1rUOS5CUU"
      },
      "execution_count": 50,
      "outputs": []
    },
    {
      "cell_type": "markdown",
      "source": [
        "#### 8. Text Normalization"
      ],
      "metadata": {
        "id": "9ExmJH0g5HBk"
      }
    },
    {
      "cell_type": "code",
      "source": [
        "# Normalizing Text (i.e., Stemming, Lemmatization etc.)"
      ],
      "metadata": {
        "id": "AIJ1a-Zc5PY8"
      },
      "execution_count": 51,
      "outputs": []
    },
    {
      "cell_type": "markdown",
      "source": [
        "##### Which text normalization technique have you used and why?"
      ],
      "metadata": {
        "id": "cJNqERVU536h"
      }
    },
    {
      "cell_type": "markdown",
      "source": [
        "Answer Here."
      ],
      "metadata": {
        "id": "Z9jKVxE06BC1"
      }
    },
    {
      "cell_type": "markdown",
      "source": [
        "#### 9. Part of speech tagging"
      ],
      "metadata": {
        "id": "k5UmGsbsOxih"
      }
    },
    {
      "cell_type": "code",
      "source": [
        "# POS Taging"
      ],
      "metadata": {
        "id": "btT3ZJBAO6Ik"
      },
      "execution_count": 52,
      "outputs": []
    },
    {
      "cell_type": "markdown",
      "source": [
        "#### 10. Text Vectorization"
      ],
      "metadata": {
        "id": "T0VqWOYE6DLQ"
      }
    },
    {
      "cell_type": "code",
      "source": [
        "# Vectorizing Text"
      ],
      "metadata": {
        "id": "yBRtdhth6JDE"
      },
      "execution_count": 53,
      "outputs": []
    },
    {
      "cell_type": "markdown",
      "source": [
        "##### Which text vectorization technique have you used and why?"
      ],
      "metadata": {
        "id": "qBMux9mC6MCf"
      }
    },
    {
      "cell_type": "markdown",
      "source": [
        "Answer Here."
      ],
      "metadata": {
        "id": "su2EnbCh6UKQ"
      }
    },
    {
      "cell_type": "markdown",
      "source": [
        "### 4. Feature Manipulation & Selection"
      ],
      "metadata": {
        "id": "-oLEiFgy-5Pf"
      }
    },
    {
      "cell_type": "markdown",
      "source": [
        "#### 1. Feature Manipulation"
      ],
      "metadata": {
        "id": "C74aWNz2AliB"
      }
    },
    {
      "cell_type": "code",
      "source": [
        "# Manipulate Features to minimize feature correlation and create new features"
      ],
      "metadata": {
        "id": "h1qC4yhBApWC"
      },
      "execution_count": 54,
      "outputs": []
    },
    {
      "cell_type": "markdown",
      "source": [
        "#### 2. Feature Selection"
      ],
      "metadata": {
        "id": "2DejudWSA-a0"
      }
    },
    {
      "cell_type": "code",
      "source": [
        "# Select your features wisely to avoid overfitting"
      ],
      "metadata": {
        "id": "YLhe8UmaBCEE"
      },
      "execution_count": 55,
      "outputs": []
    },
    {
      "cell_type": "markdown",
      "source": [
        "##### What all feature selection methods have you used  and why?"
      ],
      "metadata": {
        "id": "pEMng2IbBLp7"
      }
    },
    {
      "cell_type": "markdown",
      "source": [
        "Answer Here."
      ],
      "metadata": {
        "id": "rb2Lh6Z8BgGs"
      }
    },
    {
      "cell_type": "markdown",
      "source": [
        "##### Which all features you found important and why?"
      ],
      "metadata": {
        "id": "rAdphbQ9Bhjc"
      }
    },
    {
      "cell_type": "markdown",
      "source": [
        "Answer Here."
      ],
      "metadata": {
        "id": "fGgaEstsBnaf"
      }
    },
    {
      "cell_type": "markdown",
      "source": [
        "### 5. Data Transformation"
      ],
      "metadata": {
        "id": "TNVZ9zx19K6k"
      }
    },
    {
      "cell_type": "markdown",
      "source": [
        "#### Do you think that your data needs to be transformed? If yes, which transformation have you used. Explain Why?"
      ],
      "metadata": {
        "id": "nqoHp30x9hH9"
      }
    },
    {
      "cell_type": "code",
      "source": [
        "# Transform Your data"
      ],
      "metadata": {
        "id": "I6quWQ1T9rtH"
      },
      "execution_count": 56,
      "outputs": []
    },
    {
      "cell_type": "markdown",
      "source": [
        "### 6. Data Scaling"
      ],
      "metadata": {
        "id": "rMDnDkt2B6du"
      }
    },
    {
      "cell_type": "code",
      "source": [
        "# Scaling your data"
      ],
      "metadata": {
        "id": "dL9LWpySC6x_"
      },
      "execution_count": 57,
      "outputs": []
    },
    {
      "cell_type": "markdown",
      "source": [
        "##### Which method have you used to scale you data and why?"
      ],
      "metadata": {
        "id": "yiiVWRdJDDil"
      }
    },
    {
      "cell_type": "markdown",
      "source": [
        "### 7. Dimesionality Reduction"
      ],
      "metadata": {
        "id": "1UUpS68QDMuG"
      }
    },
    {
      "cell_type": "markdown",
      "source": [
        "##### Do you think that dimensionality reduction is needed? Explain Why?"
      ],
      "metadata": {
        "id": "kexQrXU-DjzY"
      }
    },
    {
      "cell_type": "markdown",
      "source": [
        "Answer Here."
      ],
      "metadata": {
        "id": "GGRlBsSGDtTQ"
      }
    },
    {
      "cell_type": "code",
      "source": [
        "# DImensionality Reduction (If needed)"
      ],
      "metadata": {
        "id": "kQfvxBBHDvCa"
      },
      "execution_count": 58,
      "outputs": []
    },
    {
      "cell_type": "markdown",
      "source": [
        "##### Which dimensionality reduction technique have you used and why? (If dimensionality reduction done on dataset.)"
      ],
      "metadata": {
        "id": "T5CmagL3EC8N"
      }
    },
    {
      "cell_type": "markdown",
      "source": [
        "Answer Here."
      ],
      "metadata": {
        "id": "ZKr75IDuEM7t"
      }
    },
    {
      "cell_type": "markdown",
      "source": [
        "### 8. Data Splitting"
      ],
      "metadata": {
        "id": "BhH2vgX9EjGr"
      }
    },
    {
      "cell_type": "code",
      "source": [
        "# Split your data to train and test. Choose Splitting ratio wisely."
      ],
      "metadata": {
        "id": "0CTyd2UwEyNM"
      },
      "execution_count": 59,
      "outputs": []
    },
    {
      "cell_type": "markdown",
      "source": [
        "##### What data splitting ratio have you used and why? "
      ],
      "metadata": {
        "id": "qjKvONjwE8ra"
      }
    },
    {
      "cell_type": "markdown",
      "source": [
        "Answer Here."
      ],
      "metadata": {
        "id": "Y2lJ8cobFDb_"
      }
    },
    {
      "cell_type": "markdown",
      "source": [
        "### 9. Handling Imbalanced Dataset"
      ],
      "metadata": {
        "id": "P1XJ9OREExlT"
      }
    },
    {
      "cell_type": "markdown",
      "source": [
        "##### Do you think the dataset is imbalanced? Explain Why."
      ],
      "metadata": {
        "id": "VFOzZv6IFROw"
      }
    },
    {
      "cell_type": "markdown",
      "source": [
        "Answer Here."
      ],
      "metadata": {
        "id": "GeKDIv7pFgcC"
      }
    },
    {
      "cell_type": "code",
      "source": [
        "# Handling Imbalanced Dataset (If needed)"
      ],
      "metadata": {
        "id": "nQsRhhZLFiDs"
      },
      "execution_count": 60,
      "outputs": []
    },
    {
      "cell_type": "markdown",
      "source": [
        "##### What technique did you use to handle the imbalance dataset and why? (If needed to be balanced)"
      ],
      "metadata": {
        "id": "TIqpNgepFxVj"
      }
    },
    {
      "cell_type": "markdown",
      "source": [
        "Answer Here."
      ],
      "metadata": {
        "id": "qbet1HwdGDTz"
      }
    },
    {
      "cell_type": "markdown",
      "source": [
        "## ***7. ML Model Implementation***"
      ],
      "metadata": {
        "id": "VfCC591jGiD4"
      }
    },
    {
      "cell_type": "markdown",
      "source": [
        "### ML Model - 1"
      ],
      "metadata": {
        "id": "OB4l2ZhMeS1U"
      }
    },
    {
      "cell_type": "code",
      "source": [
        "# ML Model - 1 Implementation\n",
        "\n",
        "# Fit the Algorithm\n",
        "\n",
        "# Predict on the model"
      ],
      "metadata": {
        "id": "7ebyywQieS1U"
      },
      "execution_count": 61,
      "outputs": []
    },
    {
      "cell_type": "markdown",
      "source": [
        "#### 1. Explain the ML Model used and it's performance using Evaluation metric Score Chart."
      ],
      "metadata": {
        "id": "ArJBuiUVfxKd"
      }
    },
    {
      "cell_type": "code",
      "source": [
        "# Visualizing evaluation Metric Score chart"
      ],
      "metadata": {
        "id": "rqD5ZohzfxKe"
      },
      "execution_count": 62,
      "outputs": []
    },
    {
      "cell_type": "markdown",
      "source": [
        "#### 2. Cross- Validation & Hyperparameter Tuning"
      ],
      "metadata": {
        "id": "4qY1EAkEfxKe"
      }
    },
    {
      "cell_type": "code",
      "source": [
        "# ML Model - 1 Implementation with hyperparameter optimization techniques (i.e., GridSearch CV, RandomSearch CV, Bayesian Optimization etc.)\n",
        "\n",
        "# Fit the Algorithm\n",
        "\n",
        "# Predict on the model"
      ],
      "metadata": {
        "id": "Dy61ujd6fxKe"
      },
      "execution_count": 63,
      "outputs": []
    },
    {
      "cell_type": "markdown",
      "source": [
        "##### Which hyperparameter optimization technique have you used and why?"
      ],
      "metadata": {
        "id": "PiV4Ypx8fxKe"
      }
    },
    {
      "cell_type": "markdown",
      "source": [
        "Answer Here."
      ],
      "metadata": {
        "id": "negyGRa7fxKf"
      }
    },
    {
      "cell_type": "markdown",
      "source": [
        "##### Have you seen any improvement? Note down the improvement with updates Evaluation metric Score Chart."
      ],
      "metadata": {
        "id": "TfvqoZmBfxKf"
      }
    },
    {
      "cell_type": "markdown",
      "source": [
        "Answer Here."
      ],
      "metadata": {
        "id": "OaLui8CcfxKf"
      }
    },
    {
      "cell_type": "markdown",
      "source": [
        "### ML Model - 2"
      ],
      "metadata": {
        "id": "dJ2tPlVmpsJ0"
      }
    },
    {
      "cell_type": "markdown",
      "source": [
        "#### 1. Explain the ML Model used and it's performance using Evaluation metric Score Chart."
      ],
      "metadata": {
        "id": "JWYfwnehpsJ1"
      }
    },
    {
      "cell_type": "code",
      "source": [
        "# Visualizing evaluation Metric Score chart"
      ],
      "metadata": {
        "id": "yEl-hgQWpsJ1"
      },
      "execution_count": 64,
      "outputs": []
    },
    {
      "cell_type": "markdown",
      "source": [
        "#### 2. Cross- Validation & Hyperparameter Tuning"
      ],
      "metadata": {
        "id": "-jK_YjpMpsJ2"
      }
    },
    {
      "cell_type": "code",
      "source": [
        "# ML Model - 1 Implementation with hyperparameter optimization techniques (i.e., GridSearch CV, RandomSearch CV, Bayesian Optimization etc.)\n",
        "\n",
        "# Fit the Algorithm\n",
        "\n",
        "# Predict on the model"
      ],
      "metadata": {
        "id": "Dn0EOfS6psJ2"
      },
      "execution_count": 65,
      "outputs": []
    },
    {
      "cell_type": "markdown",
      "source": [
        "##### Which hyperparameter optimization technique have you used and why?"
      ],
      "metadata": {
        "id": "HAih1iBOpsJ2"
      }
    },
    {
      "cell_type": "markdown",
      "source": [
        "Answer Here."
      ],
      "metadata": {
        "id": "9kBgjYcdpsJ2"
      }
    },
    {
      "cell_type": "markdown",
      "source": [
        "##### Have you seen any improvement? Note down the improvement with updates Evaluation metric Score Chart."
      ],
      "metadata": {
        "id": "zVGeBEFhpsJ2"
      }
    },
    {
      "cell_type": "markdown",
      "source": [
        "Answer Here."
      ],
      "metadata": {
        "id": "74yRdG6UpsJ3"
      }
    },
    {
      "cell_type": "markdown",
      "source": [
        "#### 3. Explain each evaluation metric's indication towards business and the business impact pf the ML model used."
      ],
      "metadata": {
        "id": "bmKjuQ-FpsJ3"
      }
    },
    {
      "cell_type": "markdown",
      "source": [
        "Answer Here."
      ],
      "metadata": {
        "id": "BDKtOrBQpsJ3"
      }
    },
    {
      "cell_type": "markdown",
      "source": [
        "### ML Model - 3"
      ],
      "metadata": {
        "id": "Fze-IPXLpx6K"
      }
    },
    {
      "cell_type": "code",
      "source": [
        "# ML Model - 3 Implementation\n",
        "\n",
        "# Fit the Algorithm\n",
        "\n",
        "# Predict on the model"
      ],
      "metadata": {
        "id": "FFrSXAtrpx6M"
      },
      "execution_count": 66,
      "outputs": []
    },
    {
      "cell_type": "markdown",
      "source": [
        "#### 1. Explain the ML Model used and it's performance using Evaluation metric Score Chart."
      ],
      "metadata": {
        "id": "7AN1z2sKpx6M"
      }
    },
    {
      "cell_type": "code",
      "source": [
        "# Visualizing evaluation Metric Score chart"
      ],
      "metadata": {
        "id": "xIY4lxxGpx6M"
      },
      "execution_count": 67,
      "outputs": []
    },
    {
      "cell_type": "markdown",
      "source": [
        "#### 2. Cross- Validation & Hyperparameter Tuning"
      ],
      "metadata": {
        "id": "9PIHJqyupx6M"
      }
    },
    {
      "cell_type": "code",
      "source": [
        "# ML Model - 3 Implementation with hyperparameter optimization techniques (i.e., GridSearch CV, RandomSearch CV, Bayesian Optimization etc.)\n",
        "\n",
        "# Fit the Algorithm\n",
        "\n",
        "# Predict on the model"
      ],
      "metadata": {
        "id": "eSVXuaSKpx6M"
      },
      "execution_count": 68,
      "outputs": []
    },
    {
      "cell_type": "markdown",
      "source": [
        "##### Which hyperparameter optimization technique have you used and why?"
      ],
      "metadata": {
        "id": "_-qAgymDpx6N"
      }
    },
    {
      "cell_type": "markdown",
      "source": [
        "Answer Here."
      ],
      "metadata": {
        "id": "lQMffxkwpx6N"
      }
    },
    {
      "cell_type": "markdown",
      "source": [
        "##### Have you seen any improvement? Note down the improvement with updates Evaluation metric Score Chart."
      ],
      "metadata": {
        "id": "Z-hykwinpx6N"
      }
    },
    {
      "cell_type": "markdown",
      "source": [
        "Answer Here."
      ],
      "metadata": {
        "id": "MzVzZC6opx6N"
      }
    },
    {
      "cell_type": "markdown",
      "source": [
        "### 1. Which Evaluation metrics did you consider for a positive business impact and why?"
      ],
      "metadata": {
        "id": "h_CCil-SKHpo"
      }
    },
    {
      "cell_type": "markdown",
      "source": [
        "Answer Here."
      ],
      "metadata": {
        "id": "jHVz9hHDKFms"
      }
    },
    {
      "cell_type": "markdown",
      "source": [
        "### 2. Which ML model did you choose from the above created models as your final prediction model and why?"
      ],
      "metadata": {
        "id": "cBFFvTBNJzUa"
      }
    },
    {
      "cell_type": "markdown",
      "source": [
        "Answer Here."
      ],
      "metadata": {
        "id": "6ksF5Q1LKTVm"
      }
    },
    {
      "cell_type": "markdown",
      "source": [
        "### 3. Explain the model which you have used and the feature importance using any model explainability tool?"
      ],
      "metadata": {
        "id": "HvGl1hHyA_VK"
      }
    },
    {
      "cell_type": "markdown",
      "source": [
        "Answer Here."
      ],
      "metadata": {
        "id": "YnvVTiIxBL-C"
      }
    },
    {
      "cell_type": "markdown",
      "source": [
        "## ***8.*** ***Future Work (Optional)***"
      ],
      "metadata": {
        "id": "EyNgTHvd2WFk"
      }
    },
    {
      "cell_type": "markdown",
      "source": [
        "### 1. Save the best performing ml model in a pickle file or joblib file format for deployment process.\n"
      ],
      "metadata": {
        "id": "KH5McJBi2d8v"
      }
    },
    {
      "cell_type": "code",
      "source": [
        "# Save the File"
      ],
      "metadata": {
        "id": "bQIANRl32f4J"
      },
      "execution_count": 69,
      "outputs": []
    },
    {
      "cell_type": "markdown",
      "source": [
        "### 2. Again Load the saved model file and try to predict unseen data for a sanity check.\n"
      ],
      "metadata": {
        "id": "iW_Lq9qf2h6X"
      }
    },
    {
      "cell_type": "code",
      "source": [
        "# Load the File and predict unseen data."
      ],
      "metadata": {
        "id": "oEXk9ydD2nVC"
      },
      "execution_count": 70,
      "outputs": []
    },
    {
      "cell_type": "markdown",
      "source": [
        "### ***Congrats! Your model is successfully created and ready for deployment on a live server for a real user interaction !!!***"
      ],
      "metadata": {
        "id": "-Kee-DAl2viO"
      }
    },
    {
      "cell_type": "markdown",
      "source": [
        "# **Conclusion**"
      ],
      "metadata": {
        "id": "gCX9965dhzqZ"
      }
    },
    {
      "cell_type": "markdown",
      "source": [
        "Write the conclusion here."
      ],
      "metadata": {
        "id": "Fjb1IsQkh3yE"
      }
    },
    {
      "cell_type": "markdown",
      "source": [
        "### ***Hurrah! You have successfully completed your Machine Learning Capstone Project !!!***"
      ],
      "metadata": {
        "id": "gIfDvo9L0UH2"
      }
    }
  ]
}