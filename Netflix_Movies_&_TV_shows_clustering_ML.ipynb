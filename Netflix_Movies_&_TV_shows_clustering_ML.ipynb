{
  "nbformat": 4,
  "nbformat_minor": 0,
  "metadata": {
    "colab": {
      "provenance": [],
      "include_colab_link": true
    },
    "kernelspec": {
      "name": "python3",
      "display_name": "Python 3"
    },
    "language_info": {
      "name": "python"
    },
    "gpuClass": "standard"
  },
  "cells": [
    {
      "cell_type": "markdown",
      "metadata": {
        "id": "view-in-github",
        "colab_type": "text"
      },
      "source": [
        "<a href=\"https://colab.research.google.com/github/Kaustubh-Amare/Netflix-movies-and-tv-shows-clustering-ML/blob/main/Netflix_Movies_%26_TV_shows_clustering_ML.ipynb\" target=\"_parent\"><img src=\"https://colab.research.google.com/assets/colab-badge.svg\" alt=\"Open In Colab\"/></a>"
      ]
    },
    {
      "cell_type": "markdown",
      "source": [
        "# **Project Name**    - Netflix Movies & TV shows clustering (Unsupervised ML)\n",
        "\n"
      ],
      "metadata": {
        "id": "vncDsAP0Gaoa"
      }
    },
    {
      "cell_type": "markdown",
      "source": [
        "##### **Project Type**    - Unsupervised\n",
        "##### **Contribution**    - Individual/Team\n",
        "##### **Team Member 1 -**\n",
        "##### **Team Member 2 -**\n",
        "##### **Team Member 3 -**\n",
        "##### **Team Member 4 -**"
      ],
      "metadata": {
        "id": "beRrZCGUAJYm"
      }
    },
    {
      "cell_type": "markdown",
      "source": [
        "# **Project Summary -**"
      ],
      "metadata": {
        "id": "FJNUwmbgGyua"
      }
    },
    {
      "cell_type": "markdown",
      "source": [
        "Write the summary here within 500-600 words."
      ],
      "metadata": {
        "id": "F6v_1wHtG2nS"
      }
    },
    {
      "cell_type": "markdown",
      "source": [
        "# **GitHub Link -**"
      ],
      "metadata": {
        "id": "w6K7xa23Elo4"
      }
    },
    {
      "cell_type": "markdown",
      "source": [
        "Provide your GitHub Link here."
      ],
      "metadata": {
        "id": "h1o69JH3Eqqn"
      }
    },
    {
      "cell_type": "markdown",
      "source": [
        "# **Problem Statement**\n"
      ],
      "metadata": {
        "id": "yQaldy8SH6Dl"
      }
    },
    {
      "cell_type": "markdown",
      "source": [
        "**Write Problem Statement Here.**"
      ],
      "metadata": {
        "id": "DpeJGUA3kjGy"
      }
    },
    {
      "cell_type": "markdown",
      "source": [
        "# **General Guidelines** : -  "
      ],
      "metadata": {
        "id": "mDgbUHAGgjLW"
      }
    },
    {
      "cell_type": "markdown",
      "source": [
        "1.   Well-structured, formatted, and commented code is required. \n",
        "2.   Exception Handling, Production Grade Code & Deployment Ready Code will be a plus. Those students will be awarded some additional credits. \n",
        "     \n",
        "     The additional credits will have advantages over other students during Star Student selection.\n",
        "       \n",
        "             [ Note: - Deployment Ready Code is defined as, the whole .ipynb notebook should be executable in one go\n",
        "                       without a single error logged. ]\n",
        "\n",
        "3.   Each and every logic should have proper comments.\n",
        "4. You may add as many number of charts you want. Make Sure for each and every chart the following format should be answered.\n",
        "        \n",
        "\n",
        "```\n",
        "# Chart visualization code\n",
        "```\n",
        "            \n",
        "\n",
        "*   Why did you pick the specific chart?\n",
        "*   What is/are the insight(s) found from the chart?\n",
        "* Will the gained insights help creating a positive business impact? \n",
        "Are there any insights that lead to negative growth? Justify with specific reason.\n",
        "\n",
        "5. You have to create at least 15 logical & meaningful charts having important insights.\n",
        "\n",
        "\n",
        "[ Hints : - Do the Vizualization in  a structured way while following \"UBM\" Rule. \n",
        "\n",
        "U - Univariate Analysis,\n",
        "\n",
        "B - Bivariate Analysis (Numerical - Categorical, Numerical - Numerical, Categorical - Categorical)\n",
        "\n",
        "M - Multivariate Analysis\n",
        " ]\n",
        "\n",
        "\n",
        "\n",
        "\n",
        "\n",
        "6. You may add more ml algorithms for model creation. Make sure for each and every algorithm, the following format should be answered.\n",
        "\n",
        "\n",
        "*   Explain the ML Model used and it's performance using Evaluation metric Score Chart.\n",
        "\n",
        "\n",
        "*   Cross- Validation & Hyperparameter Tuning\n",
        "\n",
        "*   Have you seen any improvement? Note down the improvement with updates Evaluation metric Score Chart.\n",
        "\n",
        "*   Explain each evaluation metric's indication towards business and the business impact pf the ML model used.\n",
        "\n",
        "\n",
        "\n",
        "\n",
        "\n",
        "\n",
        "\n",
        "\n",
        "\n",
        "\n",
        "\n",
        "\n",
        "\n",
        "\n",
        "\n",
        "\n",
        "\n",
        "\n"
      ],
      "metadata": {
        "id": "ZrxVaUj-hHfC"
      }
    },
    {
      "cell_type": "markdown",
      "source": [
        "# ***Let's Begin !***"
      ],
      "metadata": {
        "id": "O_i_v8NEhb9l"
      }
    },
    {
      "cell_type": "markdown",
      "source": [
        "## ***1. Know Your Data***"
      ],
      "metadata": {
        "id": "HhfV-JJviCcP"
      }
    },
    {
      "cell_type": "markdown",
      "source": [
        "### Import Libraries"
      ],
      "metadata": {
        "id": "Y3lxredqlCYt"
      }
    },
    {
      "cell_type": "code",
      "source": [
        "#neccessary packages\n",
        "!pip install xplotter --upgrade\n",
        "!pip install pycountry-convert\n",
        "!pip install geopy\n",
        "!pip install folium\n",
        "!pip install geopandas\n",
        "###################\n",
        "import pandas as pd\n",
        "import numpy as np\n",
        "\n",
        "import missingno as msno\n",
        "\n",
        "import seaborn as sns\n",
        "import matplotlib.pyplot as plt\n",
        "import plotly.express as px\n",
        "import plotly.graph_objects as go\n",
        "from plotly.subplots import make_subplots\n",
        "import matplotlib.cm as cm\n",
        "\n",
        "\n",
        "\n",
        "%matplotlib inline\n",
        "\n",
        "# Importing Date & Time util modules\n",
        "from dateutil.parser import parse\n",
        "\n",
        "import collections as c\n",
        "\n",
        "\n",
        "import re\n",
        "import nltk\n",
        "nltk.download('stopwords')\n",
        "from nltk.corpus import stopwords\n",
        "\n",
        "#for nlp\n",
        "from sklearn import preprocessing\n",
        "from sklearn.feature_extraction.text import CountVectorizer, TfidfVectorizer\n",
        "from sklearn.model_selection import train_test_split, KFold\n",
        "from nltk.corpus import stopwords\n",
        "from nltk.stem.snowball import SnowballStemmer\n",
        "\n",
        "from sklearn.metrics import silhouette_score\n",
        "from sklearn.cluster import KMeans\n",
        "from sklearn.metrics import silhouette_samples\n",
        "import scipy.cluster.hierarchy as sch\n",
        "\n",
        "\n",
        "import warnings\n",
        "warnings.filterwarnings('ignore')\n",
        "%matplotlib inline\n",
        "\n",
        "# Importing Date & Time util modules\n",
        "from dateutil.parser import parse\n",
        "\n",
        "import collections as c\n",
        "\n",
        "\n",
        "# Xplotter\n",
        "from xplotter.insights import *\n",
        "from xplotter.formatter import format_spines\n",
        "\n",
        "#neccessary packages\n",
        "!pip install xplotter --upgrade\n",
        "!pip install pycountry-convert\n",
        "!pip install geopy\n",
        "!pip install folium\n",
        "!pip install geopandas\n"
      ],
      "metadata": {
        "id": "M8Vqi-pPk-HR",
        "colab": {
          "base_uri": "https://localhost:8080/"
        },
        "outputId": "d3484036-0e93-4d0d-c59e-e53078b69df9"
      },
      "execution_count": null,
      "outputs": [
        {
          "output_type": "stream",
          "name": "stdout",
          "text": [
            "Looking in indexes: https://pypi.org/simple, https://us-python.pkg.dev/colab-wheels/public/simple/\n",
            "Collecting xplotter\n",
            "  Downloading xplotter-0.0.6-py3-none-any.whl (21 kB)\n",
            "Requirement already satisfied: seaborn in /usr/local/lib/python3.8/dist-packages (from xplotter) (0.11.2)\n",
            "Requirement already satisfied: pandas in /usr/local/lib/python3.8/dist-packages (from xplotter) (1.3.5)\n",
            "Requirement already satisfied: matplotlib in /usr/local/lib/python3.8/dist-packages (from xplotter) (3.2.2)\n",
            "Requirement already satisfied: cycler>=0.10 in /usr/local/lib/python3.8/dist-packages (from matplotlib->xplotter) (0.11.0)\n",
            "Requirement already satisfied: numpy>=1.11 in /usr/local/lib/python3.8/dist-packages (from matplotlib->xplotter) (1.21.6)\n",
            "Requirement already satisfied: python-dateutil>=2.1 in /usr/local/lib/python3.8/dist-packages (from matplotlib->xplotter) (2.8.2)\n",
            "Requirement already satisfied: kiwisolver>=1.0.1 in /usr/local/lib/python3.8/dist-packages (from matplotlib->xplotter) (1.4.4)\n",
            "Requirement already satisfied: pyparsing!=2.0.4,!=2.1.2,!=2.1.6,>=2.0.1 in /usr/local/lib/python3.8/dist-packages (from matplotlib->xplotter) (3.0.9)\n",
            "Requirement already satisfied: six>=1.5 in /usr/local/lib/python3.8/dist-packages (from python-dateutil>=2.1->matplotlib->xplotter) (1.15.0)\n",
            "Requirement already satisfied: pytz>=2017.3 in /usr/local/lib/python3.8/dist-packages (from pandas->xplotter) (2022.6)\n",
            "Requirement already satisfied: scipy>=1.0 in /usr/local/lib/python3.8/dist-packages (from seaborn->xplotter) (1.7.3)\n",
            "Installing collected packages: xplotter\n",
            "Successfully installed xplotter-0.0.6\n",
            "Looking in indexes: https://pypi.org/simple, https://us-python.pkg.dev/colab-wheels/public/simple/\n",
            "Collecting pycountry-convert\n",
            "  Downloading pycountry_convert-0.7.2-py3-none-any.whl (13 kB)\n",
            "Collecting pytest-cov>=2.5.1\n",
            "  Downloading pytest_cov-4.0.0-py3-none-any.whl (21 kB)\n",
            "Collecting pprintpp>=0.3.0\n",
            "  Downloading pprintpp-0.4.0-py2.py3-none-any.whl (16 kB)\n",
            "Requirement already satisfied: wheel>=0.30.0 in /usr/local/lib/python3.8/dist-packages (from pycountry-convert) (0.38.4)\n",
            "Collecting repoze.lru>=0.7\n",
            "  Downloading repoze.lru-0.7-py3-none-any.whl (10 kB)\n",
            "Collecting pytest-mock>=1.6.3\n",
            "  Downloading pytest_mock-3.10.0-py3-none-any.whl (9.3 kB)\n",
            "Requirement already satisfied: pytest>=3.4.0 in /usr/local/lib/python3.8/dist-packages (from pycountry-convert) (3.6.4)\n",
            "Collecting pycountry>=16.11.27.1\n",
            "  Downloading pycountry-22.3.5.tar.gz (10.1 MB)\n",
            "\u001b[K     |████████████████████████████████| 10.1 MB 6.1 MB/s \n",
            "\u001b[?25h  Installing build dependencies ... \u001b[?25l\u001b[?25hdone\n",
            "  Getting requirements to build wheel ... \u001b[?25l\u001b[?25hdone\n",
            "    Preparing wheel metadata ... \u001b[?25l\u001b[?25hdone\n",
            "Requirement already satisfied: setuptools in /usr/local/lib/python3.8/dist-packages (from pycountry>=16.11.27.1->pycountry-convert) (57.4.0)\n",
            "Requirement already satisfied: more-itertools>=4.0.0 in /usr/local/lib/python3.8/dist-packages (from pytest>=3.4.0->pycountry-convert) (9.0.0)\n",
            "Requirement already satisfied: six>=1.10.0 in /usr/local/lib/python3.8/dist-packages (from pytest>=3.4.0->pycountry-convert) (1.15.0)\n",
            "Requirement already satisfied: pluggy<0.8,>=0.5 in /usr/local/lib/python3.8/dist-packages (from pytest>=3.4.0->pycountry-convert) (0.7.1)\n",
            "Requirement already satisfied: attrs>=17.4.0 in /usr/local/lib/python3.8/dist-packages (from pytest>=3.4.0->pycountry-convert) (22.1.0)\n",
            "Requirement already satisfied: py>=1.5.0 in /usr/local/lib/python3.8/dist-packages (from pytest>=3.4.0->pycountry-convert) (1.11.0)\n",
            "Requirement already satisfied: atomicwrites>=1.0 in /usr/local/lib/python3.8/dist-packages (from pytest>=3.4.0->pycountry-convert) (1.4.1)\n",
            "Collecting pytest>=3.4.0\n",
            "  Downloading pytest-7.2.0-py3-none-any.whl (316 kB)\n",
            "\u001b[K     |████████████████████████████████| 316 kB 74.1 MB/s \n",
            "\u001b[?25hCollecting coverage[toml]>=5.2.1\n",
            "  Downloading coverage-7.0.0-cp38-cp38-manylinux_2_5_x86_64.manylinux1_x86_64.manylinux_2_17_x86_64.manylinux2014_x86_64.whl (217 kB)\n",
            "\u001b[K     |████████████████████████████████| 217 kB 62.8 MB/s \n",
            "\u001b[?25hRequirement already satisfied: tomli in /usr/local/lib/python3.8/dist-packages (from coverage[toml]>=5.2.1->pytest-cov>=2.5.1->pycountry-convert) (2.0.1)\n",
            "Collecting pytest>=3.4.0\n",
            "  Downloading pytest-7.1.3-py3-none-any.whl (298 kB)\n",
            "\u001b[K     |████████████████████████████████| 298 kB 59.6 MB/s \n",
            "\u001b[?25h  Downloading pytest-7.1.2-py3-none-any.whl (297 kB)\n",
            "\u001b[K     |████████████████████████████████| 297 kB 57.0 MB/s \n",
            "\u001b[?25h  Downloading pytest-7.1.1-py3-none-any.whl (297 kB)\n",
            "\u001b[K     |████████████████████████████████| 297 kB 71.2 MB/s \n",
            "\u001b[?25h  Downloading pytest-7.1.0-py3-none-any.whl (297 kB)\n",
            "\u001b[K     |████████████████████████████████| 297 kB 79.7 MB/s \n",
            "\u001b[?25h  Downloading pytest-7.0.1-py3-none-any.whl (296 kB)\n",
            "\u001b[K     |████████████████████████████████| 296 kB 64.0 MB/s \n",
            "\u001b[?25h  Downloading pytest-7.0.0-py3-none-any.whl (296 kB)\n",
            "\u001b[K     |████████████████████████████████| 296 kB 40.4 MB/s \n",
            "\u001b[?25h  Downloading pytest-6.2.5-py3-none-any.whl (280 kB)\n",
            "\u001b[K     |████████████████████████████████| 280 kB 74.6 MB/s \n",
            "\u001b[?25h  Downloading pytest-6.2.4-py3-none-any.whl (280 kB)\n",
            "\u001b[K     |████████████████████████████████| 280 kB 74.9 MB/s \n",
            "\u001b[?25hCollecting iniconfig\n",
            "  Downloading iniconfig-1.1.1-py2.py3-none-any.whl (5.0 kB)\n",
            "Collecting pytest>=3.4.0\n",
            "  Downloading pytest-6.2.3-py3-none-any.whl (280 kB)\n",
            "\u001b[K     |████████████████████████████████| 280 kB 44.5 MB/s \n",
            "\u001b[?25h  Downloading pytest-6.2.2-py3-none-any.whl (280 kB)\n",
            "\u001b[K     |████████████████████████████████| 280 kB 64.5 MB/s \n",
            "\u001b[?25h  Downloading pytest-6.2.1-py3-none-any.whl (279 kB)\n",
            "\u001b[K     |████████████████████████████████| 279 kB 61.6 MB/s \n",
            "\u001b[?25h  Downloading pytest-6.2.0-py3-none-any.whl (279 kB)\n",
            "\u001b[K     |████████████████████████████████| 279 kB 47.7 MB/s \n",
            "\u001b[?25h  Downloading pytest-6.1.2-py3-none-any.whl (272 kB)\n",
            "\u001b[K     |████████████████████████████████| 272 kB 45.1 MB/s \n",
            "\u001b[?25h  Downloading pytest-6.1.1-py3-none-any.whl (272 kB)\n",
            "\u001b[K     |████████████████████████████████| 272 kB 59.6 MB/s \n",
            "\u001b[?25h  Downloading pytest-6.1.0-py3-none-any.whl (272 kB)\n",
            "\u001b[K     |████████████████████████████████| 272 kB 72.3 MB/s \n",
            "\u001b[?25h  Downloading pytest-6.0.2-py3-none-any.whl (270 kB)\n",
            "\u001b[K     |████████████████████████████████| 270 kB 53.7 MB/s \n",
            "\u001b[?25h  Downloading pytest-6.0.1-py3-none-any.whl (270 kB)\n",
            "\u001b[K     |████████████████████████████████| 270 kB 58.2 MB/s \n",
            "\u001b[?25h  Downloading pytest-6.0.0-py3-none-any.whl (270 kB)\n",
            "\u001b[K     |████████████████████████████████| 270 kB 60.7 MB/s \n",
            "\u001b[?25h  Downloading pytest-5.4.3-py3-none-any.whl (248 kB)\n",
            "\u001b[K     |████████████████████████████████| 248 kB 84.4 MB/s \n",
            "\u001b[?25h  Downloading pytest-5.4.2-py3-none-any.whl (247 kB)\n",
            "\u001b[K     |████████████████████████████████| 247 kB 64.5 MB/s \n",
            "\u001b[?25h  Downloading pytest-5.4.1-py3-none-any.whl (246 kB)\n",
            "\u001b[K     |████████████████████████████████| 246 kB 58.8 MB/s \n",
            "\u001b[?25h  Downloading pytest-5.4.0-py3-none-any.whl (247 kB)\n",
            "\u001b[K     |████████████████████████████████| 247 kB 59.8 MB/s \n",
            "\u001b[?25h  Downloading pytest-5.3.5-py3-none-any.whl (235 kB)\n",
            "\u001b[K     |████████████████████████████████| 235 kB 56.9 MB/s \n",
            "\u001b[?25h  Downloading pytest-5.3.4-py3-none-any.whl (235 kB)\n",
            "\u001b[K     |████████████████████████████████| 235 kB 49.9 MB/s \n",
            "\u001b[?25h  Downloading pytest-5.3.3-py3-none-any.whl (235 kB)\n",
            "\u001b[K     |████████████████████████████████| 235 kB 60.3 MB/s \n",
            "\u001b[?25h  Downloading pytest-5.3.2-py3-none-any.whl (234 kB)\n",
            "\u001b[K     |████████████████████████████████| 234 kB 58.8 MB/s \n",
            "\u001b[?25h  Downloading pytest-5.3.1-py3-none-any.whl (233 kB)\n",
            "\u001b[K     |████████████████████████████████| 233 kB 59.2 MB/s \n",
            "\u001b[?25h  Downloading pytest-5.3.0-py3-none-any.whl (233 kB)\n",
            "\u001b[K     |████████████████████████████████| 233 kB 44.4 MB/s \n",
            "\u001b[?25h  Downloading pytest-5.2.4-py3-none-any.whl (227 kB)\n",
            "\u001b[K     |████████████████████████████████| 227 kB 49.5 MB/s \n",
            "\u001b[?25h  Downloading pytest-5.2.3-py3-none-any.whl (227 kB)\n",
            "\u001b[K     |████████████████████████████████| 227 kB 45.1 MB/s \n",
            "\u001b[?25h  Downloading pytest-5.2.2-py3-none-any.whl (227 kB)\n",
            "\u001b[K     |████████████████████████████████| 227 kB 78.8 MB/s \n",
            "\u001b[?25h  Downloading pytest-5.2.1-py3-none-any.whl (226 kB)\n",
            "\u001b[K     |████████████████████████████████| 226 kB 79.3 MB/s \n",
            "\u001b[?25h  Downloading pytest-5.2.0-py3-none-any.whl (226 kB)\n",
            "\u001b[K     |████████████████████████████████| 226 kB 81.5 MB/s \n",
            "\u001b[?25h  Downloading pytest-5.1.3-py3-none-any.whl (224 kB)\n",
            "\u001b[K     |████████████████████████████████| 224 kB 83.4 MB/s \n",
            "\u001b[?25h  Downloading pytest-5.1.2-py3-none-any.whl (224 kB)\n",
            "\u001b[K     |████████████████████████████████| 224 kB 57.6 MB/s \n",
            "\u001b[?25h  Downloading pytest-5.1.1-py3-none-any.whl (223 kB)\n",
            "\u001b[K     |████████████████████████████████| 223 kB 63.3 MB/s \n",
            "\u001b[?25h  Downloading pytest-5.1.0-py3-none-any.whl (223 kB)\n",
            "\u001b[K     |████████████████████████████████| 223 kB 49.9 MB/s \n",
            "\u001b[?25h  Downloading pytest-5.0.1-py3-none-any.whl (221 kB)\n",
            "\u001b[K     |████████████████████████████████| 221 kB 69.7 MB/s \n",
            "\u001b[?25h  Downloading pytest-5.0.0-py3-none-any.whl (221 kB)\n",
            "\u001b[K     |████████████████████████████████| 221 kB 63.9 MB/s \n",
            "\u001b[?25h  Downloading pytest-4.6.11-py2.py3-none-any.whl (231 kB)\n",
            "\u001b[K     |████████████████████████████████| 231 kB 55.7 MB/s \n",
            "\u001b[?25h  Downloading pytest-4.6.10-py2.py3-none-any.whl (231 kB)\n",
            "\u001b[K     |████████████████████████████████| 231 kB 74.4 MB/s \n",
            "\u001b[?25h  Downloading pytest-4.6.9-py2.py3-none-any.whl (231 kB)\n",
            "\u001b[K     |████████████████████████████████| 231 kB 70.6 MB/s \n",
            "\u001b[?25h  Downloading pytest-4.6.8-py2.py3-none-any.whl (230 kB)\n",
            "\u001b[K     |████████████████████████████████| 230 kB 58.3 MB/s \n",
            "\u001b[?25h  Downloading pytest-4.6.7-py2.py3-none-any.whl (230 kB)\n",
            "\u001b[K     |████████████████████████████████| 230 kB 76.2 MB/s \n",
            "\u001b[?25h  Downloading pytest-4.6.6-py2.py3-none-any.whl (230 kB)\n",
            "\u001b[K     |████████████████████████████████| 230 kB 45.3 MB/s \n",
            "\u001b[?25h  Downloading pytest-4.6.5-py2.py3-none-any.whl (230 kB)\n",
            "\u001b[K     |████████████████████████████████| 230 kB 67.4 MB/s \n",
            "\u001b[?25h  Downloading pytest-4.6.4-py2.py3-none-any.whl (229 kB)\n",
            "\u001b[K     |████████████████████████████████| 229 kB 56.8 MB/s \n",
            "\u001b[?25h  Downloading pytest-4.6.3-py2.py3-none-any.whl (229 kB)\n",
            "\u001b[K     |████████████████████████████████| 229 kB 76.2 MB/s \n",
            "\u001b[?25h  Downloading pytest-4.6.2-py2.py3-none-any.whl (229 kB)\n",
            "\u001b[K     |████████████████████████████████| 229 kB 77.0 MB/s \n",
            "\u001b[?25h  Downloading pytest-4.6.1-py2.py3-none-any.whl (229 kB)\n",
            "\u001b[K     |████████████████████████████████| 229 kB 59.6 MB/s \n",
            "\u001b[?25h  Downloading pytest-4.6.0-py2.py3-none-any.whl (229 kB)\n",
            "\u001b[K     |████████████████████████████████| 229 kB 77.9 MB/s \n",
            "\u001b[?25hINFO: pip is looking at multiple versions of coverage to determine which version is compatible with other requirements. This could take a while.\n",
            "INFO: pip is looking at multiple versions of coverage[toml] to determine which version is compatible with other requirements. This could take a while.\n",
            "Collecting coverage[toml]>=5.2.1\n",
            "  Downloading coverage-6.5.0-cp38-cp38-manylinux_2_5_x86_64.manylinux1_x86_64.manylinux_2_17_x86_64.manylinux2014_x86_64.whl (214 kB)\n",
            "\u001b[K     |████████████████████████████████| 214 kB 63.5 MB/s \n",
            "\u001b[?25h  Downloading coverage-6.4.4-cp38-cp38-manylinux_2_5_x86_64.manylinux1_x86_64.manylinux_2_17_x86_64.manylinux2014_x86_64.whl (213 kB)\n",
            "\u001b[K     |████████████████████████████████| 213 kB 61.9 MB/s \n",
            "\u001b[?25h  Downloading coverage-6.4.3-cp38-cp38-manylinux_2_5_x86_64.manylinux1_x86_64.manylinux_2_17_x86_64.manylinux2014_x86_64.whl (213 kB)\n",
            "\u001b[K     |████████████████████████████████| 213 kB 56.1 MB/s \n",
            "\u001b[?25h  Downloading coverage-6.4.2-cp38-cp38-manylinux_2_5_x86_64.manylinux1_x86_64.manylinux_2_17_x86_64.manylinux2014_x86_64.whl (213 kB)\n",
            "\u001b[K     |████████████████████████████████| 213 kB 56.5 MB/s \n",
            "\u001b[?25h  Downloading coverage-6.4.1-cp38-cp38-manylinux_2_5_x86_64.manylinux1_x86_64.manylinux_2_17_x86_64.manylinux2014_x86_64.whl (213 kB)\n",
            "\u001b[K     |████████████████████████████████| 213 kB 49.3 MB/s \n",
            "\u001b[?25h  Downloading coverage-6.4-cp38-cp38-manylinux_2_5_x86_64.manylinux1_x86_64.manylinux_2_17_x86_64.manylinux2014_x86_64.whl (212 kB)\n",
            "\u001b[K     |████████████████████████████████| 212 kB 60.4 MB/s \n",
            "\u001b[?25h  Downloading coverage-6.3.3-cp38-cp38-manylinux_2_5_x86_64.manylinux1_x86_64.manylinux_2_17_x86_64.manylinux2014_x86_64.whl (212 kB)\n",
            "\u001b[K     |████████████████████████████████| 212 kB 65.3 MB/s \n",
            "\u001b[?25hINFO: pip is looking at multiple versions of coverage to determine which version is compatible with other requirements. This could take a while.\n",
            "INFO: pip is looking at multiple versions of coverage[toml] to determine which version is compatible with other requirements. This could take a while.\n",
            "  Downloading coverage-6.3.2-cp38-cp38-manylinux_2_5_x86_64.manylinux1_x86_64.manylinux_2_17_x86_64.manylinux2014_x86_64.whl (212 kB)\n",
            "\u001b[K     |████████████████████████████████| 212 kB 50.7 MB/s \n",
            "\u001b[?25h  Downloading coverage-6.3.1-cp38-cp38-manylinux_2_5_x86_64.manylinux1_x86_64.manylinux_2_17_x86_64.manylinux2014_x86_64.whl (211 kB)\n",
            "\u001b[K     |████████████████████████████████| 211 kB 59.4 MB/s \n",
            "\u001b[?25h  Downloading coverage-6.3-cp38-cp38-manylinux_2_5_x86_64.manylinux1_x86_64.manylinux_2_17_x86_64.manylinux2014_x86_64.whl (211 kB)\n",
            "\u001b[K     |████████████████████████████████| 211 kB 50.4 MB/s \n",
            "\u001b[?25h  Downloading coverage-6.2-cp38-cp38-manylinux_2_5_x86_64.manylinux1_x86_64.manylinux_2_12_x86_64.manylinux2010_x86_64.whl (217 kB)\n",
            "\u001b[K     |████████████████████████████████| 217 kB 60.8 MB/s \n",
            "\u001b[?25h  Downloading coverage-6.1.2-cp38-cp38-manylinux_2_5_x86_64.manylinux1_x86_64.manylinux_2_12_x86_64.manylinux2010_x86_64.whl (216 kB)\n",
            "\u001b[K     |████████████████████████████████| 216 kB 64.3 MB/s \n",
            "\u001b[?25hINFO: This is taking longer than usual. You might need to provide the dependency resolver with stricter constraints to reduce runtime. If you want to abort this run, you can press Ctrl + C to do so. To improve how pip performs, tell us what happened here: https://pip.pypa.io/surveys/backtracking\n",
            "INFO: This is taking longer than usual. You might need to provide the dependency resolver with stricter constraints to reduce runtime. If you want to abort this run, you can press Ctrl + C to do so. To improve how pip performs, tell us what happened here: https://pip.pypa.io/surveys/backtracking\n",
            "  Downloading coverage-6.1.1-cp38-cp38-manylinux_2_5_x86_64.manylinux1_x86_64.manylinux_2_12_x86_64.manylinux2010_x86_64.whl (216 kB)\n",
            "\u001b[K     |████████████████████████████████| 216 kB 63.9 MB/s \n",
            "\u001b[?25h  Downloading coverage-6.1-cp38-cp38-manylinux_2_5_x86_64.manylinux1_x86_64.manylinux_2_12_x86_64.manylinux2010_x86_64.whl (216 kB)\n",
            "\u001b[K     |████████████████████████████████| 216 kB 63.6 MB/s \n",
            "\u001b[?25h  Downloading coverage-6.0.2-cp38-cp38-manylinux_2_5_x86_64.manylinux1_x86_64.manylinux_2_12_x86_64.manylinux2010_x86_64.whl (256 kB)\n",
            "\u001b[K     |████████████████████████████████| 256 kB 55.5 MB/s \n",
            "\u001b[?25h  Downloading coverage-6.0.1-cp38-cp38-manylinux_2_5_x86_64.manylinux1_x86_64.manylinux_2_12_x86_64.manylinux2010_x86_64.whl (255 kB)\n",
            "\u001b[K     |████████████████████████████████| 255 kB 73.4 MB/s \n",
            "\u001b[?25h  Downloading coverage-6.0-cp38-cp38-manylinux_2_5_x86_64.manylinux1_x86_64.manylinux_2_12_x86_64.manylinux2010_x86_64.whl (255 kB)\n",
            "\u001b[K     |████████████████████████████████| 255 kB 60.7 MB/s \n",
            "\u001b[?25h  Downloading coverage-5.5-cp38-cp38-manylinux2010_x86_64.whl (245 kB)\n",
            "\u001b[K     |████████████████████████████████| 245 kB 63.6 MB/s \n",
            "\u001b[?25hRequirement already satisfied: toml in /usr/local/lib/python3.8/dist-packages (from coverage[toml]>=5.2.1->pytest-cov>=2.5.1->pycountry-convert) (0.10.2)\n",
            "  Downloading coverage-5.4-cp38-cp38-manylinux2010_x86_64.whl (245 kB)\n",
            "\u001b[K     |████████████████████████████████| 245 kB 72.0 MB/s \n",
            "\u001b[?25h  Downloading coverage-5.3.1-cp38-cp38-manylinux2010_x86_64.whl (245 kB)\n",
            "\u001b[K     |████████████████████████████████| 245 kB 76.5 MB/s \n",
            "\u001b[?25h  Downloading coverage-5.3-cp38-cp38-manylinux1_x86_64.whl (230 kB)\n",
            "\u001b[K     |████████████████████████████████| 230 kB 71.9 MB/s \n",
            "\u001b[?25h  Downloading coverage-5.2.1-cp38-cp38-manylinux1_x86_64.whl (231 kB)\n",
            "\u001b[K     |████████████████████████████████| 231 kB 75.1 MB/s \n",
            "\u001b[?25hINFO: pip is looking at multiple versions of pytest-cov to determine which version is compatible with other requirements. This could take a while.\n",
            "Collecting pytest-cov>=2.5.1\n",
            "  Downloading pytest_cov-3.0.0-py3-none-any.whl (20 kB)\n",
            "  Downloading pytest_cov-2.12.1-py2.py3-none-any.whl (20 kB)\n",
            "  Downloading pytest_cov-2.12.0-py2.py3-none-any.whl (20 kB)\n",
            "  Downloading pytest_cov-2.11.1-py2.py3-none-any.whl (20 kB)\n",
            "  Downloading pytest_cov-2.11.0-py2.py3-none-any.whl (20 kB)\n",
            "  Downloading pytest_cov-2.10.1-py2.py3-none-any.whl (19 kB)\n",
            "Collecting coverage>=4.4\n",
            "  Downloading coverage-5.2-cp38-cp38-manylinux1_x86_64.whl (231 kB)\n",
            "\u001b[K     |████████████████████████████████| 231 kB 60.3 MB/s \n",
            "\u001b[?25h  Downloading coverage-5.1-cp38-cp38-manylinux1_x86_64.whl (229 kB)\n",
            "\u001b[K     |████████████████████████████████| 229 kB 78.9 MB/s \n",
            "\u001b[?25h  Downloading coverage-5.0.4-cp38-cp38-manylinux1_x86_64.whl (228 kB)\n",
            "\u001b[K     |████████████████████████████████| 228 kB 67.6 MB/s \n",
            "\u001b[?25h  Downloading coverage-5.0.3-cp38-cp38-manylinux1_x86_64.whl (228 kB)\n",
            "\u001b[K     |████████████████████████████████| 228 kB 65.6 MB/s \n",
            "\u001b[?25h  Downloading coverage-5.0.2-cp38-cp38-manylinux1_x86_64.whl (228 kB)\n",
            "\u001b[K     |████████████████████████████████| 228 kB 71.5 MB/s \n",
            "\u001b[?25h  Downloading coverage-5.0.1-cp38-cp38-manylinux1_x86_64.whl (228 kB)\n",
            "\u001b[K     |████████████████████████████████| 228 kB 60.7 MB/s \n",
            "\u001b[?25h  Downloading coverage-5.0-cp38-cp38-manylinux1_x86_64.whl (227 kB)\n",
            "\u001b[K     |████████████████████████████████| 227 kB 27.7 MB/s \n",
            "\u001b[?25h  Downloading coverage-4.5.4.tar.gz (385 kB)\n",
            "\u001b[K     |████████████████████████████████| 385 kB 61.8 MB/s \n",
            "\u001b[?25h  Downloading coverage-4.5.3.tar.gz (384 kB)\n",
            "\u001b[K     |████████████████████████████████| 384 kB 53.7 MB/s \n",
            "\u001b[?25h  Downloading coverage-4.5.2.tar.gz (384 kB)\n",
            "\u001b[K     |████████████████████████████████| 384 kB 48.7 MB/s \n",
            "\u001b[?25h  Downloading coverage-4.5.1.tar.gz (379 kB)\n",
            "\u001b[K     |████████████████████████████████| 379 kB 61.2 MB/s \n",
            "\u001b[?25h  Downloading coverage-4.5.tar.gz (378 kB)\n",
            "\u001b[K     |████████████████████████████████| 378 kB 66.6 MB/s \n",
            "\u001b[?25h  Downloading coverage-4.4.2.tar.gz (374 kB)\n",
            "\u001b[K     |████████████████████████████████| 374 kB 58.3 MB/s \n",
            "\u001b[?25h  Downloading coverage-4.4.1.tar.gz (369 kB)\n",
            "\u001b[K     |████████████████████████████████| 369 kB 51.9 MB/s \n",
            "\u001b[?25h  Downloading coverage-4.4.tar.gz (369 kB)\n",
            "\u001b[K     |████████████████████████████████| 369 kB 56.8 MB/s \n",
            "\u001b[?25hCollecting pytest-cov>=2.5.1\n",
            "  Downloading pytest_cov-2.10.0-py2.py3-none-any.whl (19 kB)\n",
            "INFO: pip is looking at multiple versions of pytest-cov to determine which version is compatible with other requirements. This could take a while.\n",
            "  Downloading pytest_cov-2.9.0-py2.py3-none-any.whl (19 kB)\n",
            "INFO: pip is looking at multiple versions of pytest-mock to determine which version is compatible with other requirements. This could take a while.\n",
            "Collecting pytest-mock>=1.6.3\n",
            "  Downloading pytest_mock-3.9.0-py3-none-any.whl (9.1 kB)\n",
            "  Downloading pytest_mock-3.8.2-py3-none-any.whl (9.1 kB)\n",
            "  Downloading pytest_mock-3.8.1-py3-none-any.whl (9.1 kB)\n",
            "  Downloading pytest_mock-3.8.0-py3-none-any.whl (9.1 kB)\n",
            "  Downloading pytest_mock-3.7.0-py3-none-any.whl (12 kB)\n",
            "  Downloading pytest_mock-3.6.1-py3-none-any.whl (12 kB)\n",
            "  Downloading pytest_mock-3.6.0-py3-none-any.whl (12 kB)\n",
            "INFO: pip is looking at multiple versions of pytest-mock to determine which version is compatible with other requirements. This could take a while.\n",
            "  Downloading pytest_mock-3.5.1-py3-none-any.whl (12 kB)\n",
            "  Downloading pytest_mock-3.5.0-py3-none-any.whl (12 kB)\n",
            "  Downloading pytest_mock-3.4.0-py3-none-any.whl (11 kB)\n",
            "  Downloading pytest_mock-3.3.1-py3-none-any.whl (11 kB)\n",
            "  Downloading pytest_mock-3.3.0-py3-none-any.whl (11 kB)\n",
            "INFO: This is taking longer than usual. You might need to provide the dependency resolver with stricter constraints to reduce runtime. If you want to abort this run, you can press Ctrl + C to do so. To improve how pip performs, tell us what happened here: https://pip.pypa.io/surveys/backtracking\n",
            "  Downloading pytest_mock-3.2.0-py3-none-any.whl (10 kB)\n",
            "Building wheels for collected packages: pycountry\n",
            "  Building wheel for pycountry (PEP 517) ... \u001b[?25l\u001b[?25hdone\n",
            "  Created wheel for pycountry: filename=pycountry-22.3.5-py2.py3-none-any.whl size=10681845 sha256=67dd86fd0f51a550cb8badfac69e237e4eb12742f14f3151c3ce3ba456c2a91d\n",
            "  Stored in directory: /root/.cache/pip/wheels/e2/aa/0f/c224e473b464387170b83ca7c66947b4a7e33e8d903a679748\n",
            "Successfully built pycountry\n",
            "Installing collected packages: coverage, repoze.lru, pytest-mock, pytest-cov, pycountry, pprintpp, pycountry-convert\n",
            "Successfully installed coverage-7.0.0 pprintpp-0.4.0 pycountry-22.3.5 pycountry-convert-0.7.2 pytest-cov-2.9.0 pytest-mock-3.2.0 repoze.lru-0.7\n",
            "Looking in indexes: https://pypi.org/simple, https://us-python.pkg.dev/colab-wheels/public/simple/\n",
            "Requirement already satisfied: geopy in /usr/local/lib/python3.8/dist-packages (1.17.0)\n",
            "Requirement already satisfied: geographiclib<2,>=1.49 in /usr/local/lib/python3.8/dist-packages (from geopy) (1.52)\n",
            "Looking in indexes: https://pypi.org/simple, https://us-python.pkg.dev/colab-wheels/public/simple/\n",
            "Requirement already satisfied: folium in /usr/local/lib/python3.8/dist-packages (0.12.1.post1)\n",
            "Requirement already satisfied: branca>=0.3.0 in /usr/local/lib/python3.8/dist-packages (from folium) (0.6.0)\n",
            "Requirement already satisfied: numpy in /usr/local/lib/python3.8/dist-packages (from folium) (1.21.6)\n",
            "Requirement already satisfied: requests in /usr/local/lib/python3.8/dist-packages (from folium) (2.23.0)\n",
            "Requirement already satisfied: jinja2>=2.9 in /usr/local/lib/python3.8/dist-packages (from folium) (2.11.3)\n",
            "Requirement already satisfied: MarkupSafe>=0.23 in /usr/local/lib/python3.8/dist-packages (from jinja2>=2.9->folium) (2.0.1)\n",
            "Requirement already satisfied: idna<3,>=2.5 in /usr/local/lib/python3.8/dist-packages (from requests->folium) (2.10)\n",
            "Requirement already satisfied: certifi>=2017.4.17 in /usr/local/lib/python3.8/dist-packages (from requests->folium) (2022.12.7)\n",
            "Requirement already satisfied: chardet<4,>=3.0.2 in /usr/local/lib/python3.8/dist-packages (from requests->folium) (3.0.4)\n",
            "Requirement already satisfied: urllib3!=1.25.0,!=1.25.1,<1.26,>=1.21.1 in /usr/local/lib/python3.8/dist-packages (from requests->folium) (1.24.3)\n",
            "Looking in indexes: https://pypi.org/simple, https://us-python.pkg.dev/colab-wheels/public/simple/\n",
            "Collecting geopandas\n",
            "  Downloading geopandas-0.12.2-py3-none-any.whl (1.1 MB)\n",
            "\u001b[K     |████████████████████████████████| 1.1 MB 4.0 MB/s \n",
            "\u001b[?25hRequirement already satisfied: shapely>=1.7 in /usr/local/lib/python3.8/dist-packages (from geopandas) (2.0.0)\n",
            "Requirement already satisfied: pandas>=1.0.0 in /usr/local/lib/python3.8/dist-packages (from geopandas) (1.3.5)\n",
            "Collecting fiona>=1.8\n",
            "  Downloading Fiona-1.8.22-cp38-cp38-manylinux_2_17_x86_64.manylinux2014_x86_64.whl (16.6 MB)\n",
            "\u001b[K     |████████████████████████████████| 16.6 MB 52.9 MB/s \n",
            "\u001b[?25hRequirement already satisfied: packaging in /usr/local/lib/python3.8/dist-packages (from geopandas) (21.3)\n",
            "Collecting pyproj>=2.6.1.post1\n",
            "  Downloading pyproj-3.4.1-cp38-cp38-manylinux_2_17_x86_64.manylinux2014_x86_64.whl (7.8 MB)\n",
            "\u001b[K     |████████████████████████████████| 7.8 MB 58.9 MB/s \n",
            "\u001b[?25hCollecting munch\n",
            "  Downloading munch-2.5.0-py2.py3-none-any.whl (10 kB)\n",
            "Requirement already satisfied: click>=4.0 in /usr/local/lib/python3.8/dist-packages (from fiona>=1.8->geopandas) (7.1.2)\n",
            "Requirement already satisfied: certifi in /usr/local/lib/python3.8/dist-packages (from fiona>=1.8->geopandas) (2022.12.7)\n",
            "Requirement already satisfied: six>=1.7 in /usr/local/lib/python3.8/dist-packages (from fiona>=1.8->geopandas) (1.15.0)\n",
            "Collecting click-plugins>=1.0\n",
            "  Downloading click_plugins-1.1.1-py2.py3-none-any.whl (7.5 kB)\n",
            "Requirement already satisfied: attrs>=17 in /usr/local/lib/python3.8/dist-packages (from fiona>=1.8->geopandas) (22.1.0)\n",
            "Requirement already satisfied: setuptools in /usr/local/lib/python3.8/dist-packages (from fiona>=1.8->geopandas) (57.4.0)\n",
            "Collecting cligj>=0.5\n",
            "  Downloading cligj-0.7.2-py3-none-any.whl (7.1 kB)\n",
            "Requirement already satisfied: pytz>=2017.3 in /usr/local/lib/python3.8/dist-packages (from pandas>=1.0.0->geopandas) (2022.6)\n",
            "Requirement already satisfied: python-dateutil>=2.7.3 in /usr/local/lib/python3.8/dist-packages (from pandas>=1.0.0->geopandas) (2.8.2)\n",
            "Requirement already satisfied: numpy>=1.17.3 in /usr/local/lib/python3.8/dist-packages (from pandas>=1.0.0->geopandas) (1.21.6)\n",
            "Requirement already satisfied: pyparsing!=3.0.5,>=2.0.2 in /usr/local/lib/python3.8/dist-packages (from packaging->geopandas) (3.0.9)\n",
            "Installing collected packages: munch, cligj, click-plugins, pyproj, fiona, geopandas\n",
            "Successfully installed click-plugins-1.1.1 cligj-0.7.2 fiona-1.8.22 geopandas-0.12.2 munch-2.5.0 pyproj-3.4.1\n"
          ]
        },
        {
          "output_type": "stream",
          "name": "stderr",
          "text": [
            "[nltk_data] Downloading package stopwords to /root/nltk_data...\n",
            "[nltk_data]   Unzipping corpora/stopwords.zip.\n"
          ]
        },
        {
          "output_type": "stream",
          "name": "stdout",
          "text": [
            "Looking in indexes: https://pypi.org/simple, https://us-python.pkg.dev/colab-wheels/public/simple/\n",
            "Requirement already satisfied: xplotter in /usr/local/lib/python3.8/dist-packages (0.0.6)\n",
            "Requirement already satisfied: matplotlib in /usr/local/lib/python3.8/dist-packages (from xplotter) (3.2.2)\n",
            "Requirement already satisfied: seaborn in /usr/local/lib/python3.8/dist-packages (from xplotter) (0.11.2)\n",
            "Requirement already satisfied: pandas in /usr/local/lib/python3.8/dist-packages (from xplotter) (1.3.5)\n",
            "Requirement already satisfied: kiwisolver>=1.0.1 in /usr/local/lib/python3.8/dist-packages (from matplotlib->xplotter) (1.4.4)\n",
            "Requirement already satisfied: numpy>=1.11 in /usr/local/lib/python3.8/dist-packages (from matplotlib->xplotter) (1.21.6)\n",
            "Requirement already satisfied: python-dateutil>=2.1 in /usr/local/lib/python3.8/dist-packages (from matplotlib->xplotter) (2.8.2)\n",
            "Requirement already satisfied: pyparsing!=2.0.4,!=2.1.2,!=2.1.6,>=2.0.1 in /usr/local/lib/python3.8/dist-packages (from matplotlib->xplotter) (3.0.9)\n",
            "Requirement already satisfied: cycler>=0.10 in /usr/local/lib/python3.8/dist-packages (from matplotlib->xplotter) (0.11.0)\n",
            "Requirement already satisfied: six>=1.5 in /usr/local/lib/python3.8/dist-packages (from python-dateutil>=2.1->matplotlib->xplotter) (1.15.0)\n",
            "Requirement already satisfied: pytz>=2017.3 in /usr/local/lib/python3.8/dist-packages (from pandas->xplotter) (2022.6)\n",
            "Requirement already satisfied: scipy>=1.0 in /usr/local/lib/python3.8/dist-packages (from seaborn->xplotter) (1.7.3)\n",
            "Looking in indexes: https://pypi.org/simple, https://us-python.pkg.dev/colab-wheels/public/simple/\n",
            "Requirement already satisfied: pycountry-convert in /usr/local/lib/python3.8/dist-packages (0.7.2)\n",
            "Requirement already satisfied: pycountry>=16.11.27.1 in /usr/local/lib/python3.8/dist-packages (from pycountry-convert) (22.3.5)\n",
            "Requirement already satisfied: pprintpp>=0.3.0 in /usr/local/lib/python3.8/dist-packages (from pycountry-convert) (0.4.0)\n",
            "Requirement already satisfied: pytest>=3.4.0 in /usr/local/lib/python3.8/dist-packages (from pycountry-convert) (3.6.4)\n",
            "Requirement already satisfied: repoze.lru>=0.7 in /usr/local/lib/python3.8/dist-packages (from pycountry-convert) (0.7)\n",
            "Requirement already satisfied: wheel>=0.30.0 in /usr/local/lib/python3.8/dist-packages (from pycountry-convert) (0.38.4)\n",
            "Requirement already satisfied: pytest-cov>=2.5.1 in /usr/local/lib/python3.8/dist-packages (from pycountry-convert) (2.9.0)\n",
            "Requirement already satisfied: pytest-mock>=1.6.3 in /usr/local/lib/python3.8/dist-packages (from pycountry-convert) (3.2.0)\n",
            "Requirement already satisfied: setuptools in /usr/local/lib/python3.8/dist-packages (from pycountry>=16.11.27.1->pycountry-convert) (57.4.0)\n",
            "Requirement already satisfied: pluggy<0.8,>=0.5 in /usr/local/lib/python3.8/dist-packages (from pytest>=3.4.0->pycountry-convert) (0.7.1)\n",
            "Requirement already satisfied: atomicwrites>=1.0 in /usr/local/lib/python3.8/dist-packages (from pytest>=3.4.0->pycountry-convert) (1.4.1)\n",
            "Requirement already satisfied: six>=1.10.0 in /usr/local/lib/python3.8/dist-packages (from pytest>=3.4.0->pycountry-convert) (1.15.0)\n",
            "Requirement already satisfied: more-itertools>=4.0.0 in /usr/local/lib/python3.8/dist-packages (from pytest>=3.4.0->pycountry-convert) (9.0.0)\n",
            "Requirement already satisfied: py>=1.5.0 in /usr/local/lib/python3.8/dist-packages (from pytest>=3.4.0->pycountry-convert) (1.11.0)\n",
            "Requirement already satisfied: attrs>=17.4.0 in /usr/local/lib/python3.8/dist-packages (from pytest>=3.4.0->pycountry-convert) (22.1.0)\n",
            "Requirement already satisfied: coverage>=4.4 in /usr/local/lib/python3.8/dist-packages (from pytest-cov>=2.5.1->pycountry-convert) (7.0.0)\n",
            "Looking in indexes: https://pypi.org/simple, https://us-python.pkg.dev/colab-wheels/public/simple/\n",
            "Requirement already satisfied: geopy in /usr/local/lib/python3.8/dist-packages (1.17.0)\n",
            "Requirement already satisfied: geographiclib<2,>=1.49 in /usr/local/lib/python3.8/dist-packages (from geopy) (1.52)\n",
            "Looking in indexes: https://pypi.org/simple, https://us-python.pkg.dev/colab-wheels/public/simple/\n",
            "Requirement already satisfied: folium in /usr/local/lib/python3.8/dist-packages (0.12.1.post1)\n",
            "Requirement already satisfied: jinja2>=2.9 in /usr/local/lib/python3.8/dist-packages (from folium) (2.11.3)\n",
            "Requirement already satisfied: numpy in /usr/local/lib/python3.8/dist-packages (from folium) (1.21.6)\n",
            "Requirement already satisfied: branca>=0.3.0 in /usr/local/lib/python3.8/dist-packages (from folium) (0.6.0)\n",
            "Requirement already satisfied: requests in /usr/local/lib/python3.8/dist-packages (from folium) (2.23.0)\n",
            "Requirement already satisfied: MarkupSafe>=0.23 in /usr/local/lib/python3.8/dist-packages (from jinja2>=2.9->folium) (2.0.1)\n",
            "Requirement already satisfied: idna<3,>=2.5 in /usr/local/lib/python3.8/dist-packages (from requests->folium) (2.10)\n",
            "Requirement already satisfied: certifi>=2017.4.17 in /usr/local/lib/python3.8/dist-packages (from requests->folium) (2022.12.7)\n",
            "Requirement already satisfied: chardet<4,>=3.0.2 in /usr/local/lib/python3.8/dist-packages (from requests->folium) (3.0.4)\n",
            "Requirement already satisfied: urllib3!=1.25.0,!=1.25.1,<1.26,>=1.21.1 in /usr/local/lib/python3.8/dist-packages (from requests->folium) (1.24.3)\n",
            "Looking in indexes: https://pypi.org/simple, https://us-python.pkg.dev/colab-wheels/public/simple/\n",
            "Requirement already satisfied: geopandas in /usr/local/lib/python3.8/dist-packages (0.12.2)\n",
            "Requirement already satisfied: shapely>=1.7 in /usr/local/lib/python3.8/dist-packages (from geopandas) (2.0.0)\n",
            "Requirement already satisfied: pyproj>=2.6.1.post1 in /usr/local/lib/python3.8/dist-packages (from geopandas) (3.4.1)\n",
            "Requirement already satisfied: packaging in /usr/local/lib/python3.8/dist-packages (from geopandas) (21.3)\n",
            "Requirement already satisfied: fiona>=1.8 in /usr/local/lib/python3.8/dist-packages (from geopandas) (1.8.22)\n",
            "Requirement already satisfied: pandas>=1.0.0 in /usr/local/lib/python3.8/dist-packages (from geopandas) (1.3.5)\n",
            "Requirement already satisfied: cligj>=0.5 in /usr/local/lib/python3.8/dist-packages (from fiona>=1.8->geopandas) (0.7.2)\n",
            "Requirement already satisfied: munch in /usr/local/lib/python3.8/dist-packages (from fiona>=1.8->geopandas) (2.5.0)\n",
            "Requirement already satisfied: six>=1.7 in /usr/local/lib/python3.8/dist-packages (from fiona>=1.8->geopandas) (1.15.0)\n",
            "Requirement already satisfied: setuptools in /usr/local/lib/python3.8/dist-packages (from fiona>=1.8->geopandas) (57.4.0)\n",
            "Requirement already satisfied: attrs>=17 in /usr/local/lib/python3.8/dist-packages (from fiona>=1.8->geopandas) (22.1.0)\n",
            "Requirement already satisfied: click>=4.0 in /usr/local/lib/python3.8/dist-packages (from fiona>=1.8->geopandas) (7.1.2)\n",
            "Requirement already satisfied: click-plugins>=1.0 in /usr/local/lib/python3.8/dist-packages (from fiona>=1.8->geopandas) (1.1.1)\n",
            "Requirement already satisfied: certifi in /usr/local/lib/python3.8/dist-packages (from fiona>=1.8->geopandas) (2022.12.7)\n",
            "Requirement already satisfied: pytz>=2017.3 in /usr/local/lib/python3.8/dist-packages (from pandas>=1.0.0->geopandas) (2022.6)\n",
            "Requirement already satisfied: numpy>=1.17.3 in /usr/local/lib/python3.8/dist-packages (from pandas>=1.0.0->geopandas) (1.21.6)\n",
            "Requirement already satisfied: python-dateutil>=2.7.3 in /usr/local/lib/python3.8/dist-packages (from pandas>=1.0.0->geopandas) (2.8.2)\n",
            "Requirement already satisfied: pyparsing!=3.0.5,>=2.0.2 in /usr/local/lib/python3.8/dist-packages (from packaging->geopandas) (3.0.9)\n"
          ]
        }
      ]
    },
    {
      "cell_type": "markdown",
      "source": [
        "### Dataset Loading"
      ],
      "metadata": {
        "id": "3RnN4peoiCZX"
      }
    },
    {
      "cell_type": "code",
      "source": [
        "from google.colab import drive\n",
        "drive.mount('/content/drive')"
      ],
      "metadata": {
        "id": "xnyS_H0f4X0L",
        "colab": {
          "base_uri": "https://localhost:8080/"
        },
        "outputId": "a087c309-131d-46f8-8226-02dc04e68d81"
      },
      "execution_count": null,
      "outputs": [
        {
          "output_type": "stream",
          "name": "stdout",
          "text": [
            "Drive already mounted at /content/drive; to attempt to forcibly remount, call drive.mount(\"/content/drive\", force_remount=True).\n"
          ]
        }
      ]
    },
    {
      "cell_type": "code",
      "source": [
        "# Load Dataset\n",
        "file_path = '/content/drive/MyDrive/DATA_SCI_almabetter/drive_data/NETFLIX MOVIES AND TV SHOWS CLUSTERING.csv'\n",
        "content_df = pd.read_csv(file_path)\n"
      ],
      "metadata": {
        "id": "4CkvbW_SlZ_R"
      },
      "execution_count": null,
      "outputs": []
    },
    {
      "cell_type": "markdown",
      "source": [
        "### Dataset First View"
      ],
      "metadata": {
        "id": "x71ZqKXriCWQ"
      }
    },
    {
      "cell_type": "code",
      "source": [
        "# Dataset First Look (head)\n",
        "content_df.head()"
      ],
      "metadata": {
        "id": "LWNFOSvLl09H",
        "colab": {
          "base_uri": "https://localhost:8080/",
          "height": 424
        },
        "outputId": "6ead49bc-0235-4f23-eec9-4289fb341621"
      },
      "execution_count": null,
      "outputs": [
        {
          "output_type": "execute_result",
          "data": {
            "text/plain": [
              "  show_id     type  title           director  \\\n",
              "0      s1  TV Show     3%                NaN   \n",
              "1      s2    Movie   7:19  Jorge Michel Grau   \n",
              "2      s3    Movie  23:59       Gilbert Chan   \n",
              "3      s4    Movie      9        Shane Acker   \n",
              "4      s5    Movie     21     Robert Luketic   \n",
              "\n",
              "                                                cast        country  \\\n",
              "0  João Miguel, Bianca Comparato, Michel Gomes, R...         Brazil   \n",
              "1  Demián Bichir, Héctor Bonilla, Oscar Serrano, ...         Mexico   \n",
              "2  Tedd Chan, Stella Chung, Henley Hii, Lawrence ...      Singapore   \n",
              "3  Elijah Wood, John C. Reilly, Jennifer Connelly...  United States   \n",
              "4  Jim Sturgess, Kevin Spacey, Kate Bosworth, Aar...  United States   \n",
              "\n",
              "          date_added  release_year rating   duration  \\\n",
              "0    August 14, 2020          2020  TV-MA  4 Seasons   \n",
              "1  December 23, 2016          2016  TV-MA     93 min   \n",
              "2  December 20, 2018          2011      R     78 min   \n",
              "3  November 16, 2017          2009  PG-13     80 min   \n",
              "4    January 1, 2020          2008  PG-13    123 min   \n",
              "\n",
              "                                           listed_in  \\\n",
              "0  International TV Shows, TV Dramas, TV Sci-Fi &...   \n",
              "1                       Dramas, International Movies   \n",
              "2                Horror Movies, International Movies   \n",
              "3  Action & Adventure, Independent Movies, Sci-Fi...   \n",
              "4                                             Dramas   \n",
              "\n",
              "                                         description  \n",
              "0  In a future where the elite inhabit an island ...  \n",
              "1  After a devastating earthquake hits Mexico Cit...  \n",
              "2  When an army recruit is found dead, his fellow...  \n",
              "3  In a postapocalyptic world, rag-doll robots hi...  \n",
              "4  A brilliant group of students become card-coun...  "
            ],
            "text/html": [
              "\n",
              "  <div id=\"df-4102efb9-1bfd-4268-8a16-15af64b6fb70\">\n",
              "    <div class=\"colab-df-container\">\n",
              "      <div>\n",
              "<style scoped>\n",
              "    .dataframe tbody tr th:only-of-type {\n",
              "        vertical-align: middle;\n",
              "    }\n",
              "\n",
              "    .dataframe tbody tr th {\n",
              "        vertical-align: top;\n",
              "    }\n",
              "\n",
              "    .dataframe thead th {\n",
              "        text-align: right;\n",
              "    }\n",
              "</style>\n",
              "<table border=\"1\" class=\"dataframe\">\n",
              "  <thead>\n",
              "    <tr style=\"text-align: right;\">\n",
              "      <th></th>\n",
              "      <th>show_id</th>\n",
              "      <th>type</th>\n",
              "      <th>title</th>\n",
              "      <th>director</th>\n",
              "      <th>cast</th>\n",
              "      <th>country</th>\n",
              "      <th>date_added</th>\n",
              "      <th>release_year</th>\n",
              "      <th>rating</th>\n",
              "      <th>duration</th>\n",
              "      <th>listed_in</th>\n",
              "      <th>description</th>\n",
              "    </tr>\n",
              "  </thead>\n",
              "  <tbody>\n",
              "    <tr>\n",
              "      <th>0</th>\n",
              "      <td>s1</td>\n",
              "      <td>TV Show</td>\n",
              "      <td>3%</td>\n",
              "      <td>NaN</td>\n",
              "      <td>João Miguel, Bianca Comparato, Michel Gomes, R...</td>\n",
              "      <td>Brazil</td>\n",
              "      <td>August 14, 2020</td>\n",
              "      <td>2020</td>\n",
              "      <td>TV-MA</td>\n",
              "      <td>4 Seasons</td>\n",
              "      <td>International TV Shows, TV Dramas, TV Sci-Fi &amp;...</td>\n",
              "      <td>In a future where the elite inhabit an island ...</td>\n",
              "    </tr>\n",
              "    <tr>\n",
              "      <th>1</th>\n",
              "      <td>s2</td>\n",
              "      <td>Movie</td>\n",
              "      <td>7:19</td>\n",
              "      <td>Jorge Michel Grau</td>\n",
              "      <td>Demián Bichir, Héctor Bonilla, Oscar Serrano, ...</td>\n",
              "      <td>Mexico</td>\n",
              "      <td>December 23, 2016</td>\n",
              "      <td>2016</td>\n",
              "      <td>TV-MA</td>\n",
              "      <td>93 min</td>\n",
              "      <td>Dramas, International Movies</td>\n",
              "      <td>After a devastating earthquake hits Mexico Cit...</td>\n",
              "    </tr>\n",
              "    <tr>\n",
              "      <th>2</th>\n",
              "      <td>s3</td>\n",
              "      <td>Movie</td>\n",
              "      <td>23:59</td>\n",
              "      <td>Gilbert Chan</td>\n",
              "      <td>Tedd Chan, Stella Chung, Henley Hii, Lawrence ...</td>\n",
              "      <td>Singapore</td>\n",
              "      <td>December 20, 2018</td>\n",
              "      <td>2011</td>\n",
              "      <td>R</td>\n",
              "      <td>78 min</td>\n",
              "      <td>Horror Movies, International Movies</td>\n",
              "      <td>When an army recruit is found dead, his fellow...</td>\n",
              "    </tr>\n",
              "    <tr>\n",
              "      <th>3</th>\n",
              "      <td>s4</td>\n",
              "      <td>Movie</td>\n",
              "      <td>9</td>\n",
              "      <td>Shane Acker</td>\n",
              "      <td>Elijah Wood, John C. Reilly, Jennifer Connelly...</td>\n",
              "      <td>United States</td>\n",
              "      <td>November 16, 2017</td>\n",
              "      <td>2009</td>\n",
              "      <td>PG-13</td>\n",
              "      <td>80 min</td>\n",
              "      <td>Action &amp; Adventure, Independent Movies, Sci-Fi...</td>\n",
              "      <td>In a postapocalyptic world, rag-doll robots hi...</td>\n",
              "    </tr>\n",
              "    <tr>\n",
              "      <th>4</th>\n",
              "      <td>s5</td>\n",
              "      <td>Movie</td>\n",
              "      <td>21</td>\n",
              "      <td>Robert Luketic</td>\n",
              "      <td>Jim Sturgess, Kevin Spacey, Kate Bosworth, Aar...</td>\n",
              "      <td>United States</td>\n",
              "      <td>January 1, 2020</td>\n",
              "      <td>2008</td>\n",
              "      <td>PG-13</td>\n",
              "      <td>123 min</td>\n",
              "      <td>Dramas</td>\n",
              "      <td>A brilliant group of students become card-coun...</td>\n",
              "    </tr>\n",
              "  </tbody>\n",
              "</table>\n",
              "</div>\n",
              "      <button class=\"colab-df-convert\" onclick=\"convertToInteractive('df-4102efb9-1bfd-4268-8a16-15af64b6fb70')\"\n",
              "              title=\"Convert this dataframe to an interactive table.\"\n",
              "              style=\"display:none;\">\n",
              "        \n",
              "  <svg xmlns=\"http://www.w3.org/2000/svg\" height=\"24px\"viewBox=\"0 0 24 24\"\n",
              "       width=\"24px\">\n",
              "    <path d=\"M0 0h24v24H0V0z\" fill=\"none\"/>\n",
              "    <path d=\"M18.56 5.44l.94 2.06.94-2.06 2.06-.94-2.06-.94-.94-2.06-.94 2.06-2.06.94zm-11 1L8.5 8.5l.94-2.06 2.06-.94-2.06-.94L8.5 2.5l-.94 2.06-2.06.94zm10 10l.94 2.06.94-2.06 2.06-.94-2.06-.94-.94-2.06-.94 2.06-2.06.94z\"/><path d=\"M17.41 7.96l-1.37-1.37c-.4-.4-.92-.59-1.43-.59-.52 0-1.04.2-1.43.59L10.3 9.45l-7.72 7.72c-.78.78-.78 2.05 0 2.83L4 21.41c.39.39.9.59 1.41.59.51 0 1.02-.2 1.41-.59l7.78-7.78 2.81-2.81c.8-.78.8-2.07 0-2.86zM5.41 20L4 18.59l7.72-7.72 1.47 1.35L5.41 20z\"/>\n",
              "  </svg>\n",
              "      </button>\n",
              "      \n",
              "  <style>\n",
              "    .colab-df-container {\n",
              "      display:flex;\n",
              "      flex-wrap:wrap;\n",
              "      gap: 12px;\n",
              "    }\n",
              "\n",
              "    .colab-df-convert {\n",
              "      background-color: #E8F0FE;\n",
              "      border: none;\n",
              "      border-radius: 50%;\n",
              "      cursor: pointer;\n",
              "      display: none;\n",
              "      fill: #1967D2;\n",
              "      height: 32px;\n",
              "      padding: 0 0 0 0;\n",
              "      width: 32px;\n",
              "    }\n",
              "\n",
              "    .colab-df-convert:hover {\n",
              "      background-color: #E2EBFA;\n",
              "      box-shadow: 0px 1px 2px rgba(60, 64, 67, 0.3), 0px 1px 3px 1px rgba(60, 64, 67, 0.15);\n",
              "      fill: #174EA6;\n",
              "    }\n",
              "\n",
              "    [theme=dark] .colab-df-convert {\n",
              "      background-color: #3B4455;\n",
              "      fill: #D2E3FC;\n",
              "    }\n",
              "\n",
              "    [theme=dark] .colab-df-convert:hover {\n",
              "      background-color: #434B5C;\n",
              "      box-shadow: 0px 1px 3px 1px rgba(0, 0, 0, 0.15);\n",
              "      filter: drop-shadow(0px 1px 2px rgba(0, 0, 0, 0.3));\n",
              "      fill: #FFFFFF;\n",
              "    }\n",
              "  </style>\n",
              "\n",
              "      <script>\n",
              "        const buttonEl =\n",
              "          document.querySelector('#df-4102efb9-1bfd-4268-8a16-15af64b6fb70 button.colab-df-convert');\n",
              "        buttonEl.style.display =\n",
              "          google.colab.kernel.accessAllowed ? 'block' : 'none';\n",
              "\n",
              "        async function convertToInteractive(key) {\n",
              "          const element = document.querySelector('#df-4102efb9-1bfd-4268-8a16-15af64b6fb70');\n",
              "          const dataTable =\n",
              "            await google.colab.kernel.invokeFunction('convertToInteractive',\n",
              "                                                     [key], {});\n",
              "          if (!dataTable) return;\n",
              "\n",
              "          const docLinkHtml = 'Like what you see? Visit the ' +\n",
              "            '<a target=\"_blank\" href=https://colab.research.google.com/notebooks/data_table.ipynb>data table notebook</a>'\n",
              "            + ' to learn more about interactive tables.';\n",
              "          element.innerHTML = '';\n",
              "          dataTable['output_type'] = 'display_data';\n",
              "          await google.colab.output.renderOutput(dataTable, element);\n",
              "          const docLink = document.createElement('div');\n",
              "          docLink.innerHTML = docLinkHtml;\n",
              "          element.appendChild(docLink);\n",
              "        }\n",
              "      </script>\n",
              "    </div>\n",
              "  </div>\n",
              "  "
            ]
          },
          "metadata": {},
          "execution_count": 5
        }
      ]
    },
    {
      "cell_type": "code",
      "source": [
        "# Dataset First Look (tail)\n",
        "content_df.tail()"
      ],
      "metadata": {
        "id": "jM5dyxX356uw",
        "colab": {
          "base_uri": "https://localhost:8080/",
          "height": 476
        },
        "outputId": "f39bdd11-6163-4f69-d3b9-88db736e0f2d"
      },
      "execution_count": null,
      "outputs": [
        {
          "output_type": "execute_result",
          "data": {
            "text/plain": [
              "     show_id     type                                    title     director  \\\n",
              "7782   s7783    Movie                                     Zozo  Josef Fares   \n",
              "7783   s7784    Movie                                   Zubaan  Mozez Singh   \n",
              "7784   s7785    Movie                        Zulu Man in Japan          NaN   \n",
              "7785   s7786  TV Show                    Zumbo's Just Desserts          NaN   \n",
              "7786   s7787    Movie  ZZ TOP: THAT LITTLE OL' BAND FROM TEXAS     Sam Dunn   \n",
              "\n",
              "                                                   cast  \\\n",
              "7782  Imad Creidi, Antoinette Turk, Elias Gergi, Car...   \n",
              "7783  Vicky Kaushal, Sarah-Jane Dias, Raaghav Chanan...   \n",
              "7784                                            Nasty C   \n",
              "7785                         Adriano Zumbo, Rachel Khoo   \n",
              "7786                                                NaN   \n",
              "\n",
              "                                                country          date_added  \\\n",
              "7782  Sweden, Czech Republic, United Kingdom, Denmar...    October 19, 2020   \n",
              "7783                                              India       March 2, 2019   \n",
              "7784                                                NaN  September 25, 2020   \n",
              "7785                                          Australia    October 31, 2020   \n",
              "7786              United Kingdom, Canada, United States       March 1, 2020   \n",
              "\n",
              "      release_year rating  duration  \\\n",
              "7782          2005  TV-MA    99 min   \n",
              "7783          2015  TV-14   111 min   \n",
              "7784          2019  TV-MA    44 min   \n",
              "7785          2019  TV-PG  1 Season   \n",
              "7786          2019  TV-MA    90 min   \n",
              "\n",
              "                                              listed_in  \\\n",
              "7782                       Dramas, International Movies   \n",
              "7783     Dramas, International Movies, Music & Musicals   \n",
              "7784  Documentaries, International Movies, Music & M...   \n",
              "7785                 International TV Shows, Reality TV   \n",
              "7786                    Documentaries, Music & Musicals   \n",
              "\n",
              "                                            description  \n",
              "7782  When Lebanon's Civil War deprives Zozo of his ...  \n",
              "7783  A scrappy but poor boy worms his way into a ty...  \n",
              "7784  In this documentary, South African rapper Nast...  \n",
              "7785  Dessert wizard Adriano Zumbo looks for the nex...  \n",
              "7786  This documentary delves into the mystique behi...  "
            ],
            "text/html": [
              "\n",
              "  <div id=\"df-6e838747-88c0-4c71-93df-91013a420d50\">\n",
              "    <div class=\"colab-df-container\">\n",
              "      <div>\n",
              "<style scoped>\n",
              "    .dataframe tbody tr th:only-of-type {\n",
              "        vertical-align: middle;\n",
              "    }\n",
              "\n",
              "    .dataframe tbody tr th {\n",
              "        vertical-align: top;\n",
              "    }\n",
              "\n",
              "    .dataframe thead th {\n",
              "        text-align: right;\n",
              "    }\n",
              "</style>\n",
              "<table border=\"1\" class=\"dataframe\">\n",
              "  <thead>\n",
              "    <tr style=\"text-align: right;\">\n",
              "      <th></th>\n",
              "      <th>show_id</th>\n",
              "      <th>type</th>\n",
              "      <th>title</th>\n",
              "      <th>director</th>\n",
              "      <th>cast</th>\n",
              "      <th>country</th>\n",
              "      <th>date_added</th>\n",
              "      <th>release_year</th>\n",
              "      <th>rating</th>\n",
              "      <th>duration</th>\n",
              "      <th>listed_in</th>\n",
              "      <th>description</th>\n",
              "    </tr>\n",
              "  </thead>\n",
              "  <tbody>\n",
              "    <tr>\n",
              "      <th>7782</th>\n",
              "      <td>s7783</td>\n",
              "      <td>Movie</td>\n",
              "      <td>Zozo</td>\n",
              "      <td>Josef Fares</td>\n",
              "      <td>Imad Creidi, Antoinette Turk, Elias Gergi, Car...</td>\n",
              "      <td>Sweden, Czech Republic, United Kingdom, Denmar...</td>\n",
              "      <td>October 19, 2020</td>\n",
              "      <td>2005</td>\n",
              "      <td>TV-MA</td>\n",
              "      <td>99 min</td>\n",
              "      <td>Dramas, International Movies</td>\n",
              "      <td>When Lebanon's Civil War deprives Zozo of his ...</td>\n",
              "    </tr>\n",
              "    <tr>\n",
              "      <th>7783</th>\n",
              "      <td>s7784</td>\n",
              "      <td>Movie</td>\n",
              "      <td>Zubaan</td>\n",
              "      <td>Mozez Singh</td>\n",
              "      <td>Vicky Kaushal, Sarah-Jane Dias, Raaghav Chanan...</td>\n",
              "      <td>India</td>\n",
              "      <td>March 2, 2019</td>\n",
              "      <td>2015</td>\n",
              "      <td>TV-14</td>\n",
              "      <td>111 min</td>\n",
              "      <td>Dramas, International Movies, Music &amp; Musicals</td>\n",
              "      <td>A scrappy but poor boy worms his way into a ty...</td>\n",
              "    </tr>\n",
              "    <tr>\n",
              "      <th>7784</th>\n",
              "      <td>s7785</td>\n",
              "      <td>Movie</td>\n",
              "      <td>Zulu Man in Japan</td>\n",
              "      <td>NaN</td>\n",
              "      <td>Nasty C</td>\n",
              "      <td>NaN</td>\n",
              "      <td>September 25, 2020</td>\n",
              "      <td>2019</td>\n",
              "      <td>TV-MA</td>\n",
              "      <td>44 min</td>\n",
              "      <td>Documentaries, International Movies, Music &amp; M...</td>\n",
              "      <td>In this documentary, South African rapper Nast...</td>\n",
              "    </tr>\n",
              "    <tr>\n",
              "      <th>7785</th>\n",
              "      <td>s7786</td>\n",
              "      <td>TV Show</td>\n",
              "      <td>Zumbo's Just Desserts</td>\n",
              "      <td>NaN</td>\n",
              "      <td>Adriano Zumbo, Rachel Khoo</td>\n",
              "      <td>Australia</td>\n",
              "      <td>October 31, 2020</td>\n",
              "      <td>2019</td>\n",
              "      <td>TV-PG</td>\n",
              "      <td>1 Season</td>\n",
              "      <td>International TV Shows, Reality TV</td>\n",
              "      <td>Dessert wizard Adriano Zumbo looks for the nex...</td>\n",
              "    </tr>\n",
              "    <tr>\n",
              "      <th>7786</th>\n",
              "      <td>s7787</td>\n",
              "      <td>Movie</td>\n",
              "      <td>ZZ TOP: THAT LITTLE OL' BAND FROM TEXAS</td>\n",
              "      <td>Sam Dunn</td>\n",
              "      <td>NaN</td>\n",
              "      <td>United Kingdom, Canada, United States</td>\n",
              "      <td>March 1, 2020</td>\n",
              "      <td>2019</td>\n",
              "      <td>TV-MA</td>\n",
              "      <td>90 min</td>\n",
              "      <td>Documentaries, Music &amp; Musicals</td>\n",
              "      <td>This documentary delves into the mystique behi...</td>\n",
              "    </tr>\n",
              "  </tbody>\n",
              "</table>\n",
              "</div>\n",
              "      <button class=\"colab-df-convert\" onclick=\"convertToInteractive('df-6e838747-88c0-4c71-93df-91013a420d50')\"\n",
              "              title=\"Convert this dataframe to an interactive table.\"\n",
              "              style=\"display:none;\">\n",
              "        \n",
              "  <svg xmlns=\"http://www.w3.org/2000/svg\" height=\"24px\"viewBox=\"0 0 24 24\"\n",
              "       width=\"24px\">\n",
              "    <path d=\"M0 0h24v24H0V0z\" fill=\"none\"/>\n",
              "    <path d=\"M18.56 5.44l.94 2.06.94-2.06 2.06-.94-2.06-.94-.94-2.06-.94 2.06-2.06.94zm-11 1L8.5 8.5l.94-2.06 2.06-.94-2.06-.94L8.5 2.5l-.94 2.06-2.06.94zm10 10l.94 2.06.94-2.06 2.06-.94-2.06-.94-.94-2.06-.94 2.06-2.06.94z\"/><path d=\"M17.41 7.96l-1.37-1.37c-.4-.4-.92-.59-1.43-.59-.52 0-1.04.2-1.43.59L10.3 9.45l-7.72 7.72c-.78.78-.78 2.05 0 2.83L4 21.41c.39.39.9.59 1.41.59.51 0 1.02-.2 1.41-.59l7.78-7.78 2.81-2.81c.8-.78.8-2.07 0-2.86zM5.41 20L4 18.59l7.72-7.72 1.47 1.35L5.41 20z\"/>\n",
              "  </svg>\n",
              "      </button>\n",
              "      \n",
              "  <style>\n",
              "    .colab-df-container {\n",
              "      display:flex;\n",
              "      flex-wrap:wrap;\n",
              "      gap: 12px;\n",
              "    }\n",
              "\n",
              "    .colab-df-convert {\n",
              "      background-color: #E8F0FE;\n",
              "      border: none;\n",
              "      border-radius: 50%;\n",
              "      cursor: pointer;\n",
              "      display: none;\n",
              "      fill: #1967D2;\n",
              "      height: 32px;\n",
              "      padding: 0 0 0 0;\n",
              "      width: 32px;\n",
              "    }\n",
              "\n",
              "    .colab-df-convert:hover {\n",
              "      background-color: #E2EBFA;\n",
              "      box-shadow: 0px 1px 2px rgba(60, 64, 67, 0.3), 0px 1px 3px 1px rgba(60, 64, 67, 0.15);\n",
              "      fill: #174EA6;\n",
              "    }\n",
              "\n",
              "    [theme=dark] .colab-df-convert {\n",
              "      background-color: #3B4455;\n",
              "      fill: #D2E3FC;\n",
              "    }\n",
              "\n",
              "    [theme=dark] .colab-df-convert:hover {\n",
              "      background-color: #434B5C;\n",
              "      box-shadow: 0px 1px 3px 1px rgba(0, 0, 0, 0.15);\n",
              "      filter: drop-shadow(0px 1px 2px rgba(0, 0, 0, 0.3));\n",
              "      fill: #FFFFFF;\n",
              "    }\n",
              "  </style>\n",
              "\n",
              "      <script>\n",
              "        const buttonEl =\n",
              "          document.querySelector('#df-6e838747-88c0-4c71-93df-91013a420d50 button.colab-df-convert');\n",
              "        buttonEl.style.display =\n",
              "          google.colab.kernel.accessAllowed ? 'block' : 'none';\n",
              "\n",
              "        async function convertToInteractive(key) {\n",
              "          const element = document.querySelector('#df-6e838747-88c0-4c71-93df-91013a420d50');\n",
              "          const dataTable =\n",
              "            await google.colab.kernel.invokeFunction('convertToInteractive',\n",
              "                                                     [key], {});\n",
              "          if (!dataTable) return;\n",
              "\n",
              "          const docLinkHtml = 'Like what you see? Visit the ' +\n",
              "            '<a target=\"_blank\" href=https://colab.research.google.com/notebooks/data_table.ipynb>data table notebook</a>'\n",
              "            + ' to learn more about interactive tables.';\n",
              "          element.innerHTML = '';\n",
              "          dataTable['output_type'] = 'display_data';\n",
              "          await google.colab.output.renderOutput(dataTable, element);\n",
              "          const docLink = document.createElement('div');\n",
              "          docLink.innerHTML = docLinkHtml;\n",
              "          element.appendChild(docLink);\n",
              "        }\n",
              "      </script>\n",
              "    </div>\n",
              "  </div>\n",
              "  "
            ]
          },
          "metadata": {},
          "execution_count": 6
        }
      ]
    },
    {
      "cell_type": "markdown",
      "source": [
        "### Dataset Rows & Columns count"
      ],
      "metadata": {
        "id": "7hBIi_osiCS2"
      }
    },
    {
      "cell_type": "code",
      "source": [
        "# Dataset Rows & Columns count\n",
        "# shape of data\n",
        "print('There are',content_df.shape[0],'rows and',content_df.shape[1],'features in given netflix dataset.')\n",
        "# print('No. of Columns :',content_df.shape[1])"
      ],
      "metadata": {
        "id": "Kllu7SJgmLij",
        "colab": {
          "base_uri": "https://localhost:8080/"
        },
        "outputId": "c1981bd0-e5cc-4ebe-96ef-d7652b8c1718"
      },
      "execution_count": null,
      "outputs": [
        {
          "output_type": "stream",
          "name": "stdout",
          "text": [
            "There are 7787 rows and 12 features in given netflix dataset.\n"
          ]
        }
      ]
    },
    {
      "cell_type": "markdown",
      "source": [
        "### Dataset Information"
      ],
      "metadata": {
        "id": "JlHwYmJAmNHm"
      }
    },
    {
      "cell_type": "code",
      "source": [
        "# Dataset Info\n",
        "content_df.info()"
      ],
      "metadata": {
        "id": "e9hRXRi6meOf",
        "colab": {
          "base_uri": "https://localhost:8080/"
        },
        "outputId": "4e4e4b9b-c077-45b1-a748-3e60a7a6926a"
      },
      "execution_count": null,
      "outputs": [
        {
          "output_type": "stream",
          "name": "stdout",
          "text": [
            "<class 'pandas.core.frame.DataFrame'>\n",
            "RangeIndex: 7787 entries, 0 to 7786\n",
            "Data columns (total 12 columns):\n",
            " #   Column        Non-Null Count  Dtype \n",
            "---  ------        --------------  ----- \n",
            " 0   show_id       7787 non-null   object\n",
            " 1   type          7787 non-null   object\n",
            " 2   title         7787 non-null   object\n",
            " 3   director      5398 non-null   object\n",
            " 4   cast          7069 non-null   object\n",
            " 5   country       7280 non-null   object\n",
            " 6   date_added    7777 non-null   object\n",
            " 7   release_year  7787 non-null   int64 \n",
            " 8   rating        7780 non-null   object\n",
            " 9   duration      7787 non-null   object\n",
            " 10  listed_in     7787 non-null   object\n",
            " 11  description   7787 non-null   object\n",
            "dtypes: int64(1), object(11)\n",
            "memory usage: 730.2+ KB\n"
          ]
        }
      ]
    },
    {
      "cell_type": "markdown",
      "source": [
        "#### Duplicate Values"
      ],
      "metadata": {
        "id": "35m5QtbWiB9F"
      }
    },
    {
      "cell_type": "code",
      "source": [
        "# Dataset Duplicate Value Count\n",
        "content_df.duplicated().sum()"
      ],
      "metadata": {
        "id": "1sLdpKYkmox0",
        "colab": {
          "base_uri": "https://localhost:8080/"
        },
        "outputId": "d8663b44-30f8-4c1f-eca8-b46b9bd929c5"
      },
      "execution_count": null,
      "outputs": [
        {
          "output_type": "execute_result",
          "data": {
            "text/plain": [
              "0"
            ]
          },
          "metadata": {},
          "execution_count": 9
        }
      ]
    },
    {
      "cell_type": "markdown",
      "source": [
        "#### Function for extracting complete information of all columns in data set. Information as follows\n",
        "* Missing values\n",
        "* Percentage of missing values\n",
        "* unique values"
      ],
      "metadata": {
        "id": "XbkjSZU5BmDb"
      }
    },
    {
      "cell_type": "code",
      "source": [
        "# function for determination of null values, uniques values in columns and there features.\n",
        "def Complete_columns_info(df):\n",
        "        mis_val =df.isna().sum()\n",
        "        mis_val_percent = 100 *df.isna().sum() / len(df)\n",
        "        unique_val= df.nunique()\n",
        "        cci_table = pd.concat([mis_val, mis_val_percent, unique_val], axis=1)\n",
        "        cci_table = cci_table.rename(columns = {0 : 'No of Null Values', 1 : '% of null values', 2 : 'No of unique values' })\n",
        "        cci_table['Data Type'] = df.dtypes\n",
        "        cci_table = cci_table.sort_values('% of null values', ascending=False).round(1)\n",
        "        print (\" selected dataframe has \" + str(df.shape[1]) + \" columns and \" + str(df.shape[0]),\"rows\")\n",
        "        return cci_table"
      ],
      "metadata": {
        "id": "LXtrcSrGBHui"
      },
      "execution_count": null,
      "outputs": []
    },
    {
      "cell_type": "markdown",
      "source": [
        "#### Missing Values/Null Values"
      ],
      "metadata": {
        "id": "PoPl-ycgm1ru"
      }
    },
    {
      "cell_type": "code",
      "source": [
        "# Missing Values/Null Values Count\n",
        "Complete_columns_info(content_df)"
      ],
      "metadata": {
        "id": "GgHWkxvamxVg",
        "colab": {
          "base_uri": "https://localhost:8080/",
          "height": 443
        },
        "outputId": "e5cfc151-1657-412a-dfc3-b960d11c4dd9"
      },
      "execution_count": null,
      "outputs": [
        {
          "output_type": "stream",
          "name": "stdout",
          "text": [
            " selected dataframe has 12 columns and 7787 rows\n"
          ]
        },
        {
          "output_type": "execute_result",
          "data": {
            "text/plain": [
              "              No of Null Values  % of null values  No of unique values  \\\n",
              "director                   2389              30.7                 4049   \n",
              "cast                        718               9.2                 6831   \n",
              "country                     507               6.5                  681   \n",
              "date_added                   10               0.1                 1565   \n",
              "rating                        7               0.1                   14   \n",
              "show_id                       0               0.0                 7787   \n",
              "type                          0               0.0                    2   \n",
              "title                         0               0.0                 7787   \n",
              "release_year                  0               0.0                   73   \n",
              "duration                      0               0.0                  216   \n",
              "listed_in                     0               0.0                  492   \n",
              "description                   0               0.0                 7769   \n",
              "\n",
              "             Data Type  \n",
              "director        object  \n",
              "cast            object  \n",
              "country         object  \n",
              "date_added      object  \n",
              "rating          object  \n",
              "show_id         object  \n",
              "type            object  \n",
              "title           object  \n",
              "release_year     int64  \n",
              "duration        object  \n",
              "listed_in       object  \n",
              "description     object  "
            ],
            "text/html": [
              "\n",
              "  <div id=\"df-ad1a187d-ac24-44f2-bb96-e14a39e414a2\">\n",
              "    <div class=\"colab-df-container\">\n",
              "      <div>\n",
              "<style scoped>\n",
              "    .dataframe tbody tr th:only-of-type {\n",
              "        vertical-align: middle;\n",
              "    }\n",
              "\n",
              "    .dataframe tbody tr th {\n",
              "        vertical-align: top;\n",
              "    }\n",
              "\n",
              "    .dataframe thead th {\n",
              "        text-align: right;\n",
              "    }\n",
              "</style>\n",
              "<table border=\"1\" class=\"dataframe\">\n",
              "  <thead>\n",
              "    <tr style=\"text-align: right;\">\n",
              "      <th></th>\n",
              "      <th>No of Null Values</th>\n",
              "      <th>% of null values</th>\n",
              "      <th>No of unique values</th>\n",
              "      <th>Data Type</th>\n",
              "    </tr>\n",
              "  </thead>\n",
              "  <tbody>\n",
              "    <tr>\n",
              "      <th>director</th>\n",
              "      <td>2389</td>\n",
              "      <td>30.7</td>\n",
              "      <td>4049</td>\n",
              "      <td>object</td>\n",
              "    </tr>\n",
              "    <tr>\n",
              "      <th>cast</th>\n",
              "      <td>718</td>\n",
              "      <td>9.2</td>\n",
              "      <td>6831</td>\n",
              "      <td>object</td>\n",
              "    </tr>\n",
              "    <tr>\n",
              "      <th>country</th>\n",
              "      <td>507</td>\n",
              "      <td>6.5</td>\n",
              "      <td>681</td>\n",
              "      <td>object</td>\n",
              "    </tr>\n",
              "    <tr>\n",
              "      <th>date_added</th>\n",
              "      <td>10</td>\n",
              "      <td>0.1</td>\n",
              "      <td>1565</td>\n",
              "      <td>object</td>\n",
              "    </tr>\n",
              "    <tr>\n",
              "      <th>rating</th>\n",
              "      <td>7</td>\n",
              "      <td>0.1</td>\n",
              "      <td>14</td>\n",
              "      <td>object</td>\n",
              "    </tr>\n",
              "    <tr>\n",
              "      <th>show_id</th>\n",
              "      <td>0</td>\n",
              "      <td>0.0</td>\n",
              "      <td>7787</td>\n",
              "      <td>object</td>\n",
              "    </tr>\n",
              "    <tr>\n",
              "      <th>type</th>\n",
              "      <td>0</td>\n",
              "      <td>0.0</td>\n",
              "      <td>2</td>\n",
              "      <td>object</td>\n",
              "    </tr>\n",
              "    <tr>\n",
              "      <th>title</th>\n",
              "      <td>0</td>\n",
              "      <td>0.0</td>\n",
              "      <td>7787</td>\n",
              "      <td>object</td>\n",
              "    </tr>\n",
              "    <tr>\n",
              "      <th>release_year</th>\n",
              "      <td>0</td>\n",
              "      <td>0.0</td>\n",
              "      <td>73</td>\n",
              "      <td>int64</td>\n",
              "    </tr>\n",
              "    <tr>\n",
              "      <th>duration</th>\n",
              "      <td>0</td>\n",
              "      <td>0.0</td>\n",
              "      <td>216</td>\n",
              "      <td>object</td>\n",
              "    </tr>\n",
              "    <tr>\n",
              "      <th>listed_in</th>\n",
              "      <td>0</td>\n",
              "      <td>0.0</td>\n",
              "      <td>492</td>\n",
              "      <td>object</td>\n",
              "    </tr>\n",
              "    <tr>\n",
              "      <th>description</th>\n",
              "      <td>0</td>\n",
              "      <td>0.0</td>\n",
              "      <td>7769</td>\n",
              "      <td>object</td>\n",
              "    </tr>\n",
              "  </tbody>\n",
              "</table>\n",
              "</div>\n",
              "      <button class=\"colab-df-convert\" onclick=\"convertToInteractive('df-ad1a187d-ac24-44f2-bb96-e14a39e414a2')\"\n",
              "              title=\"Convert this dataframe to an interactive table.\"\n",
              "              style=\"display:none;\">\n",
              "        \n",
              "  <svg xmlns=\"http://www.w3.org/2000/svg\" height=\"24px\"viewBox=\"0 0 24 24\"\n",
              "       width=\"24px\">\n",
              "    <path d=\"M0 0h24v24H0V0z\" fill=\"none\"/>\n",
              "    <path d=\"M18.56 5.44l.94 2.06.94-2.06 2.06-.94-2.06-.94-.94-2.06-.94 2.06-2.06.94zm-11 1L8.5 8.5l.94-2.06 2.06-.94-2.06-.94L8.5 2.5l-.94 2.06-2.06.94zm10 10l.94 2.06.94-2.06 2.06-.94-2.06-.94-.94-2.06-.94 2.06-2.06.94z\"/><path d=\"M17.41 7.96l-1.37-1.37c-.4-.4-.92-.59-1.43-.59-.52 0-1.04.2-1.43.59L10.3 9.45l-7.72 7.72c-.78.78-.78 2.05 0 2.83L4 21.41c.39.39.9.59 1.41.59.51 0 1.02-.2 1.41-.59l7.78-7.78 2.81-2.81c.8-.78.8-2.07 0-2.86zM5.41 20L4 18.59l7.72-7.72 1.47 1.35L5.41 20z\"/>\n",
              "  </svg>\n",
              "      </button>\n",
              "      \n",
              "  <style>\n",
              "    .colab-df-container {\n",
              "      display:flex;\n",
              "      flex-wrap:wrap;\n",
              "      gap: 12px;\n",
              "    }\n",
              "\n",
              "    .colab-df-convert {\n",
              "      background-color: #E8F0FE;\n",
              "      border: none;\n",
              "      border-radius: 50%;\n",
              "      cursor: pointer;\n",
              "      display: none;\n",
              "      fill: #1967D2;\n",
              "      height: 32px;\n",
              "      padding: 0 0 0 0;\n",
              "      width: 32px;\n",
              "    }\n",
              "\n",
              "    .colab-df-convert:hover {\n",
              "      background-color: #E2EBFA;\n",
              "      box-shadow: 0px 1px 2px rgba(60, 64, 67, 0.3), 0px 1px 3px 1px rgba(60, 64, 67, 0.15);\n",
              "      fill: #174EA6;\n",
              "    }\n",
              "\n",
              "    [theme=dark] .colab-df-convert {\n",
              "      background-color: #3B4455;\n",
              "      fill: #D2E3FC;\n",
              "    }\n",
              "\n",
              "    [theme=dark] .colab-df-convert:hover {\n",
              "      background-color: #434B5C;\n",
              "      box-shadow: 0px 1px 3px 1px rgba(0, 0, 0, 0.15);\n",
              "      filter: drop-shadow(0px 1px 2px rgba(0, 0, 0, 0.3));\n",
              "      fill: #FFFFFF;\n",
              "    }\n",
              "  </style>\n",
              "\n",
              "      <script>\n",
              "        const buttonEl =\n",
              "          document.querySelector('#df-ad1a187d-ac24-44f2-bb96-e14a39e414a2 button.colab-df-convert');\n",
              "        buttonEl.style.display =\n",
              "          google.colab.kernel.accessAllowed ? 'block' : 'none';\n",
              "\n",
              "        async function convertToInteractive(key) {\n",
              "          const element = document.querySelector('#df-ad1a187d-ac24-44f2-bb96-e14a39e414a2');\n",
              "          const dataTable =\n",
              "            await google.colab.kernel.invokeFunction('convertToInteractive',\n",
              "                                                     [key], {});\n",
              "          if (!dataTable) return;\n",
              "\n",
              "          const docLinkHtml = 'Like what you see? Visit the ' +\n",
              "            '<a target=\"_blank\" href=https://colab.research.google.com/notebooks/data_table.ipynb>data table notebook</a>'\n",
              "            + ' to learn more about interactive tables.';\n",
              "          element.innerHTML = '';\n",
              "          dataTable['output_type'] = 'display_data';\n",
              "          await google.colab.output.renderOutput(dataTable, element);\n",
              "          const docLink = document.createElement('div');\n",
              "          docLink.innerHTML = docLinkHtml;\n",
              "          element.appendChild(docLink);\n",
              "        }\n",
              "      </script>\n",
              "    </div>\n",
              "  </div>\n",
              "  "
            ]
          },
          "metadata": {},
          "execution_count": 11
        }
      ]
    },
    {
      "cell_type": "code",
      "source": [
        "# Visualizing the missing values\n",
        "msno.bar(content_df)"
      ],
      "metadata": {
        "id": "3q5wnI3om9sJ",
        "colab": {
          "base_uri": "https://localhost:8080/",
          "height": 615
        },
        "outputId": "57889aef-f80f-4ed1-ca0d-255efc9ca66d"
      },
      "execution_count": null,
      "outputs": [
        {
          "output_type": "execute_result",
          "data": {
            "text/plain": [
              "<matplotlib.axes._subplots.AxesSubplot at 0x7f40d6a99b50>"
            ]
          },
          "metadata": {},
          "execution_count": 12
        },
        {
          "output_type": "display_data",
          "data": {
            "text/plain": [
              "<Figure size 1800x720 with 3 Axes>"
            ],
            "image/png": "[encoded data removed]"
          },
          "metadata": {
            "needs_background": "light"
          }
        }
      ]
    },
    {
      "cell_type": "markdown",
      "source": [
        "### What did you know about your dataset?"
      ],
      "metadata": {
        "id": "H0kj-8xxnORC"
      }
    },
    {
      "cell_type": "markdown",
      "source": [
        "Answer Here"
      ],
      "metadata": {
        "id": "gfoNAAC-nUe_"
      }
    },
    {
      "cell_type": "markdown",
      "source": [
        "## ***2. Understanding Your Variables***"
      ],
      "metadata": {
        "id": "nA9Y7ga8ng1Z"
      }
    },
    {
      "cell_type": "code",
      "source": [
        "# Dataset Columns\n",
        "content_df.columns"
      ],
      "metadata": {
        "id": "j7xfkqrt5Ag5",
        "colab": {
          "base_uri": "https://localhost:8080/"
        },
        "outputId": "f7f1b834-a004-42b5-d052-33994e8de3d6"
      },
      "execution_count": null,
      "outputs": [
        {
          "output_type": "execute_result",
          "data": {
            "text/plain": [
              "Index(['show_id', 'type', 'title', 'director', 'cast', 'country', 'date_added',\n",
              "       'release_year', 'rating', 'duration', 'listed_in', 'description'],\n",
              "      dtype='object')"
            ]
          },
          "metadata": {},
          "execution_count": 13
        }
      ]
    },
    {
      "cell_type": "code",
      "source": [
        "# Dataset Describe\n",
        "content_df.describe()"
      ],
      "metadata": {
        "id": "DnOaZdaE5Q5t",
        "colab": {
          "base_uri": "https://localhost:8080/",
          "height": 300
        },
        "outputId": "f253ae9b-9273-4fb0-bd35-1e020c0d8a15"
      },
      "execution_count": null,
      "outputs": [
        {
          "output_type": "execute_result",
          "data": {
            "text/plain": [
              "       release_year\n",
              "count   7787.000000\n",
              "mean    2013.932580\n",
              "std        8.757395\n",
              "min     1925.000000\n",
              "25%     2013.000000\n",
              "50%     2017.000000\n",
              "75%     2018.000000\n",
              "max     2021.000000"
            ],
            "text/html": [
              "\n",
              "  <div id=\"df-d5eae3bf-d352-4cae-b27c-9450d8ca49c3\">\n",
              "    <div class=\"colab-df-container\">\n",
              "      <div>\n",
              "<style scoped>\n",
              "    .dataframe tbody tr th:only-of-type {\n",
              "        vertical-align: middle;\n",
              "    }\n",
              "\n",
              "    .dataframe tbody tr th {\n",
              "        vertical-align: top;\n",
              "    }\n",
              "\n",
              "    .dataframe thead th {\n",
              "        text-align: right;\n",
              "    }\n",
              "</style>\n",
              "<table border=\"1\" class=\"dataframe\">\n",
              "  <thead>\n",
              "    <tr style=\"text-align: right;\">\n",
              "      <th></th>\n",
              "      <th>release_year</th>\n",
              "    </tr>\n",
              "  </thead>\n",
              "  <tbody>\n",
              "    <tr>\n",
              "      <th>count</th>\n",
              "      <td>7787.000000</td>\n",
              "    </tr>\n",
              "    <tr>\n",
              "      <th>mean</th>\n",
              "      <td>2013.932580</td>\n",
              "    </tr>\n",
              "    <tr>\n",
              "      <th>std</th>\n",
              "      <td>8.757395</td>\n",
              "    </tr>\n",
              "    <tr>\n",
              "      <th>min</th>\n",
              "      <td>1925.000000</td>\n",
              "    </tr>\n",
              "    <tr>\n",
              "      <th>25%</th>\n",
              "      <td>2013.000000</td>\n",
              "    </tr>\n",
              "    <tr>\n",
              "      <th>50%</th>\n",
              "      <td>2017.000000</td>\n",
              "    </tr>\n",
              "    <tr>\n",
              "      <th>75%</th>\n",
              "      <td>2018.000000</td>\n",
              "    </tr>\n",
              "    <tr>\n",
              "      <th>max</th>\n",
              "      <td>2021.000000</td>\n",
              "    </tr>\n",
              "  </tbody>\n",
              "</table>\n",
              "</div>\n",
              "      <button class=\"colab-df-convert\" onclick=\"convertToInteractive('df-d5eae3bf-d352-4cae-b27c-9450d8ca49c3')\"\n",
              "              title=\"Convert this dataframe to an interactive table.\"\n",
              "              style=\"display:none;\">\n",
              "        \n",
              "  <svg xmlns=\"http://www.w3.org/2000/svg\" height=\"24px\"viewBox=\"0 0 24 24\"\n",
              "       width=\"24px\">\n",
              "    <path d=\"M0 0h24v24H0V0z\" fill=\"none\"/>\n",
              "    <path d=\"M18.56 5.44l.94 2.06.94-2.06 2.06-.94-2.06-.94-.94-2.06-.94 2.06-2.06.94zm-11 1L8.5 8.5l.94-2.06 2.06-.94-2.06-.94L8.5 2.5l-.94 2.06-2.06.94zm10 10l.94 2.06.94-2.06 2.06-.94-2.06-.94-.94-2.06-.94 2.06-2.06.94z\"/><path d=\"M17.41 7.96l-1.37-1.37c-.4-.4-.92-.59-1.43-.59-.52 0-1.04.2-1.43.59L10.3 9.45l-7.72 7.72c-.78.78-.78 2.05 0 2.83L4 21.41c.39.39.9.59 1.41.59.51 0 1.02-.2 1.41-.59l7.78-7.78 2.81-2.81c.8-.78.8-2.07 0-2.86zM5.41 20L4 18.59l7.72-7.72 1.47 1.35L5.41 20z\"/>\n",
              "  </svg>\n",
              "      </button>\n",
              "      \n",
              "  <style>\n",
              "    .colab-df-container {\n",
              "      display:flex;\n",
              "      flex-wrap:wrap;\n",
              "      gap: 12px;\n",
              "    }\n",
              "\n",
              "    .colab-df-convert {\n",
              "      background-color: #E8F0FE;\n",
              "      border: none;\n",
              "      border-radius: 50%;\n",
              "      cursor: pointer;\n",
              "      display: none;\n",
              "      fill: #1967D2;\n",
              "      height: 32px;\n",
              "      padding: 0 0 0 0;\n",
              "      width: 32px;\n",
              "    }\n",
              "\n",
              "    .colab-df-convert:hover {\n",
              "      background-color: #E2EBFA;\n",
              "      box-shadow: 0px 1px 2px rgba(60, 64, 67, 0.3), 0px 1px 3px 1px rgba(60, 64, 67, 0.15);\n",
              "      fill: #174EA6;\n",
              "    }\n",
              "\n",
              "    [theme=dark] .colab-df-convert {\n",
              "      background-color: #3B4455;\n",
              "      fill: #D2E3FC;\n",
              "    }\n",
              "\n",
              "    [theme=dark] .colab-df-convert:hover {\n",
              "      background-color: #434B5C;\n",
              "      box-shadow: 0px 1px 3px 1px rgba(0, 0, 0, 0.15);\n",
              "      filter: drop-shadow(0px 1px 2px rgba(0, 0, 0, 0.3));\n",
              "      fill: #FFFFFF;\n",
              "    }\n",
              "  </style>\n",
              "\n",
              "      <script>\n",
              "        const buttonEl =\n",
              "          document.querySelector('#df-d5eae3bf-d352-4cae-b27c-9450d8ca49c3 button.colab-df-convert');\n",
              "        buttonEl.style.display =\n",
              "          google.colab.kernel.accessAllowed ? 'block' : 'none';\n",
              "\n",
              "        async function convertToInteractive(key) {\n",
              "          const element = document.querySelector('#df-d5eae3bf-d352-4cae-b27c-9450d8ca49c3');\n",
              "          const dataTable =\n",
              "            await google.colab.kernel.invokeFunction('convertToInteractive',\n",
              "                                                     [key], {});\n",
              "          if (!dataTable) return;\n",
              "\n",
              "          const docLinkHtml = 'Like what you see? Visit the ' +\n",
              "            '<a target=\"_blank\" href=https://colab.research.google.com/notebooks/data_table.ipynb>data table notebook</a>'\n",
              "            + ' to learn more about interactive tables.';\n",
              "          element.innerHTML = '';\n",
              "          dataTable['output_type'] = 'display_data';\n",
              "          await google.colab.output.renderOutput(dataTable, element);\n",
              "          const docLink = document.createElement('div');\n",
              "          docLink.innerHTML = docLinkHtml;\n",
              "          element.appendChild(docLink);\n",
              "        }\n",
              "      </script>\n",
              "    </div>\n",
              "  </div>\n",
              "  "
            ]
          },
          "metadata": {},
          "execution_count": 14
        }
      ]
    },
    {
      "cell_type": "markdown",
      "source": [
        "### Variables Description "
      ],
      "metadata": {
        "id": "PBTbrJXOngz2"
      }
    },
    {
      "cell_type": "markdown",
      "source": [
        "Answer Here"
      ],
      "metadata": {
        "id": "aJV4KIxSnxay"
      }
    },
    {
      "cell_type": "markdown",
      "source": [
        "### Check Unique Values for each variable."
      ],
      "metadata": {
        "id": "u3PMJOP6ngxN"
      }
    },
    {
      "cell_type": "code",
      "source": [
        "# Check Unique Values for each variable."
      ],
      "metadata": {
        "id": "zms12Yq5n-jE"
      },
      "execution_count": null,
      "outputs": []
    },
    {
      "cell_type": "markdown",
      "source": [
        "## 3. ***Data Wrangling***"
      ],
      "metadata": {
        "id": "dauF4eBmngu3"
      }
    },
    {
      "cell_type": "markdown",
      "source": [
        "### Data Wrangling Code"
      ],
      "metadata": {
        "id": "bKJF3rekwFvQ"
      }
    },
    {
      "cell_type": "code",
      "source": [
        "# Write your code to make your dataset analysis ready."
      ],
      "metadata": {
        "id": "wk-9a2fpoLcV"
      },
      "execution_count": null,
      "outputs": []
    },
    {
      "cell_type": "markdown",
      "source": [
        "> Date time variable conversion"
      ],
      "metadata": {
        "id": "Y-3xukZR0krv"
      }
    },
    {
      "cell_type": "code",
      "source": [
        "# Create new features to store date, day, month and year seperately :\n",
        "\n",
        "# First convert date_added to date time format.\n",
        "content_df[\"date_added\"] = pd.to_datetime(content_df['date_added'])\n",
        "  \n",
        "# Compute day. \n",
        "content_df['day_added'] = content_df['date_added'].dt.day   \n",
        "\n",
        "# Compute year.         \n",
        "content_df['year_added'] = content_df['date_added'].dt.year\n",
        "\n",
        "# Compute mount.\n",
        "content_df['month_added'] = content_df['date_added'].dt.month        "
      ],
      "metadata": {
        "id": "08KaBMNgyCVM"
      },
      "execution_count": null,
      "outputs": []
    },
    {
      "cell_type": "markdown",
      "source": [
        "> Splitting datasets for movies and tv shows"
      ],
      "metadata": {
        "id": "e2Ayl9X61mTV"
      }
    },
    {
      "cell_type": "code",
      "source": [
        "df_movies = content_df[content_df['type']=='Movie'].copy()\n",
        "df_movies.head()"
      ],
      "metadata": {
        "id": "Rj7c7s7hyDpi",
        "colab": {
          "base_uri": "https://localhost:8080/",
          "height": 754
        },
        "outputId": "9b14488b-549f-48f3-f16b-c85386dc89bc"
      },
      "execution_count": null,
      "outputs": [
        {
          "output_type": "execute_result",
          "data": {
            "text/plain": [
              "  show_id   type  title           director  \\\n",
              "1      s2  Movie   7:19  Jorge Michel Grau   \n",
              "2      s3  Movie  23:59       Gilbert Chan   \n",
              "3      s4  Movie      9        Shane Acker   \n",
              "4      s5  Movie     21     Robert Luketic   \n",
              "6      s7  Movie    122    Yasir Al Yasiri   \n",
              "\n",
              "                                                cast        country  \\\n",
              "1  Demián Bichir, Héctor Bonilla, Oscar Serrano, ...         Mexico   \n",
              "2  Tedd Chan, Stella Chung, Henley Hii, Lawrence ...      Singapore   \n",
              "3  Elijah Wood, John C. Reilly, Jennifer Connelly...  United States   \n",
              "4  Jim Sturgess, Kevin Spacey, Kate Bosworth, Aar...  United States   \n",
              "6  Amina Khalil, Ahmed Dawood, Tarek Lotfy, Ahmed...          Egypt   \n",
              "\n",
              "  date_added  release_year rating duration  \\\n",
              "1 2016-12-23          2016  TV-MA   93 min   \n",
              "2 2018-12-20          2011      R   78 min   \n",
              "3 2017-11-16          2009  PG-13   80 min   \n",
              "4 2020-01-01          2008  PG-13  123 min   \n",
              "6 2020-06-01          2019  TV-MA   95 min   \n",
              "\n",
              "                                           listed_in  \\\n",
              "1                       Dramas, International Movies   \n",
              "2                Horror Movies, International Movies   \n",
              "3  Action & Adventure, Independent Movies, Sci-Fi...   \n",
              "4                                             Dramas   \n",
              "6                Horror Movies, International Movies   \n",
              "\n",
              "                                         description  day_added  year_added  \\\n",
              "1  After a devastating earthquake hits Mexico Cit...       23.0      2016.0   \n",
              "2  When an army recruit is found dead, his fellow...       20.0      2018.0   \n",
              "3  In a postapocalyptic world, rag-doll robots hi...       16.0      2017.0   \n",
              "4  A brilliant group of students become card-coun...        1.0      2020.0   \n",
              "6  After an awful accident, a couple admitted to ...        1.0      2020.0   \n",
              "\n",
              "   month_added  \n",
              "1         12.0  \n",
              "2         12.0  \n",
              "3         11.0  \n",
              "4          1.0  \n",
              "6          6.0  "
            ],
            "text/html": [
              "\n",
              "  <div id=\"df-f17ac815-390d-4b83-9041-233796bce4f5\">\n",
              "    <div class=\"colab-df-container\">\n",
              "      <div>\n",
              "<style scoped>\n",
              "    .dataframe tbody tr th:only-of-type {\n",
              "        vertical-align: middle;\n",
              "    }\n",
              "\n",
              "    .dataframe tbody tr th {\n",
              "        vertical-align: top;\n",
              "    }\n",
              "\n",
              "    .dataframe thead th {\n",
              "        text-align: right;\n",
              "    }\n",
              "</style>\n",
              "<table border=\"1\" class=\"dataframe\">\n",
              "  <thead>\n",
              "    <tr style=\"text-align: right;\">\n",
              "      <th></th>\n",
              "      <th>show_id</th>\n",
              "      <th>type</th>\n",
              "      <th>title</th>\n",
              "      <th>director</th>\n",
              "      <th>cast</th>\n",
              "      <th>country</th>\n",
              "      <th>date_added</th>\n",
              "      <th>release_year</th>\n",
              "      <th>rating</th>\n",
              "      <th>duration</th>\n",
              "      <th>listed_in</th>\n",
              "      <th>description</th>\n",
              "      <th>day_added</th>\n",
              "      <th>year_added</th>\n",
              "      <th>month_added</th>\n",
              "    </tr>\n",
              "  </thead>\n",
              "  <tbody>\n",
              "    <tr>\n",
              "      <th>1</th>\n",
              "      <td>s2</td>\n",
              "      <td>Movie</td>\n",
              "      <td>7:19</td>\n",
              "      <td>Jorge Michel Grau</td>\n",
              "      <td>Demián Bichir, Héctor Bonilla, Oscar Serrano, ...</td>\n",
              "      <td>Mexico</td>\n",
              "      <td>2016-12-23</td>\n",
              "      <td>2016</td>\n",
              "      <td>TV-MA</td>\n",
              "      <td>93 min</td>\n",
              "      <td>Dramas, International Movies</td>\n",
              "      <td>After a devastating earthquake hits Mexico Cit...</td>\n",
              "      <td>23.0</td>\n",
              "      <td>2016.0</td>\n",
              "      <td>12.0</td>\n",
              "    </tr>\n",
              "    <tr>\n",
              "      <th>2</th>\n",
              "      <td>s3</td>\n",
              "      <td>Movie</td>\n",
              "      <td>23:59</td>\n",
              "      <td>Gilbert Chan</td>\n",
              "      <td>Tedd Chan, Stella Chung, Henley Hii, Lawrence ...</td>\n",
              "      <td>Singapore</td>\n",
              "      <td>2018-12-20</td>\n",
              "      <td>2011</td>\n",
              "      <td>R</td>\n",
              "      <td>78 min</td>\n",
              "      <td>Horror Movies, International Movies</td>\n",
              "      <td>When an army recruit is found dead, his fellow...</td>\n",
              "      <td>20.0</td>\n",
              "      <td>2018.0</td>\n",
              "      <td>12.0</td>\n",
              "    </tr>\n",
              "    <tr>\n",
              "      <th>3</th>\n",
              "      <td>s4</td>\n",
              "      <td>Movie</td>\n",
              "      <td>9</td>\n",
              "      <td>Shane Acker</td>\n",
              "      <td>Elijah Wood, John C. Reilly, Jennifer Connelly...</td>\n",
              "      <td>United States</td>\n",
              "      <td>2017-11-16</td>\n",
              "      <td>2009</td>\n",
              "      <td>PG-13</td>\n",
              "      <td>80 min</td>\n",
              "      <td>Action &amp; Adventure, Independent Movies, Sci-Fi...</td>\n",
              "      <td>In a postapocalyptic world, rag-doll robots hi...</td>\n",
              "      <td>16.0</td>\n",
              "      <td>2017.0</td>\n",
              "      <td>11.0</td>\n",
              "    </tr>\n",
              "    <tr>\n",
              "      <th>4</th>\n",
              "      <td>s5</td>\n",
              "      <td>Movie</td>\n",
              "      <td>21</td>\n",
              "      <td>Robert Luketic</td>\n",
              "      <td>Jim Sturgess, Kevin Spacey, Kate Bosworth, Aar...</td>\n",
              "      <td>United States</td>\n",
              "      <td>2020-01-01</td>\n",
              "      <td>2008</td>\n",
              "      <td>PG-13</td>\n",
              "      <td>123 min</td>\n",
              "      <td>Dramas</td>\n",
              "      <td>A brilliant group of students become card-coun...</td>\n",
              "      <td>1.0</td>\n",
              "      <td>2020.0</td>\n",
              "      <td>1.0</td>\n",
              "    </tr>\n",
              "    <tr>\n",
              "      <th>6</th>\n",
              "      <td>s7</td>\n",
              "      <td>Movie</td>\n",
              "      <td>122</td>\n",
              "      <td>Yasir Al Yasiri</td>\n",
              "      <td>Amina Khalil, Ahmed Dawood, Tarek Lotfy, Ahmed...</td>\n",
              "      <td>Egypt</td>\n",
              "      <td>2020-06-01</td>\n",
              "      <td>2019</td>\n",
              "      <td>TV-MA</td>\n",
              "      <td>95 min</td>\n",
              "      <td>Horror Movies, International Movies</td>\n",
              "      <td>After an awful accident, a couple admitted to ...</td>\n",
              "      <td>1.0</td>\n",
              "      <td>2020.0</td>\n",
              "      <td>6.0</td>\n",
              "    </tr>\n",
              "  </tbody>\n",
              "</table>\n",
              "</div>\n",
              "      <button class=\"colab-df-convert\" onclick=\"convertToInteractive('df-f17ac815-390d-4b83-9041-233796bce4f5')\"\n",
              "              title=\"Convert this dataframe to an interactive table.\"\n",
              "              style=\"display:none;\">\n",
              "        \n",
              "  <svg xmlns=\"http://www.w3.org/2000/svg\" height=\"24px\"viewBox=\"0 0 24 24\"\n",
              "       width=\"24px\">\n",
              "    <path d=\"M0 0h24v24H0V0z\" fill=\"none\"/>\n",
              "    <path d=\"M18.56 5.44l.94 2.06.94-2.06 2.06-.94-2.06-.94-.94-2.06-.94 2.06-2.06.94zm-11 1L8.5 8.5l.94-2.06 2.06-.94-2.06-.94L8.5 2.5l-.94 2.06-2.06.94zm10 10l.94 2.06.94-2.06 2.06-.94-2.06-.94-.94-2.06-.94 2.06-2.06.94z\"/><path d=\"M17.41 7.96l-1.37-1.37c-.4-.4-.92-.59-1.43-.59-.52 0-1.04.2-1.43.59L10.3 9.45l-7.72 7.72c-.78.78-.78 2.05 0 2.83L4 21.41c.39.39.9.59 1.41.59.51 0 1.02-.2 1.41-.59l7.78-7.78 2.81-2.81c.8-.78.8-2.07 0-2.86zM5.41 20L4 18.59l7.72-7.72 1.47 1.35L5.41 20z\"/>\n",
              "  </svg>\n",
              "      </button>\n",
              "      \n",
              "  <style>\n",
              "    .colab-df-container {\n",
              "      display:flex;\n",
              "      flex-wrap:wrap;\n",
              "      gap: 12px;\n",
              "    }\n",
              "\n",
              "    .colab-df-convert {\n",
              "      background-color: #E8F0FE;\n",
              "      border: none;\n",
              "      border-radius: 50%;\n",
              "      cursor: pointer;\n",
              "      display: none;\n",
              "      fill: #1967D2;\n",
              "      height: 32px;\n",
              "      padding: 0 0 0 0;\n",
              "      width: 32px;\n",
              "    }\n",
              "\n",
              "    .colab-df-convert:hover {\n",
              "      background-color: #E2EBFA;\n",
              "      box-shadow: 0px 1px 2px rgba(60, 64, 67, 0.3), 0px 1px 3px 1px rgba(60, 64, 67, 0.15);\n",
              "      fill: #174EA6;\n",
              "    }\n",
              "\n",
              "    [theme=dark] .colab-df-convert {\n",
              "      background-color: #3B4455;\n",
              "      fill: #D2E3FC;\n",
              "    }\n",
              "\n",
              "    [theme=dark] .colab-df-convert:hover {\n",
              "      background-color: #434B5C;\n",
              "      box-shadow: 0px 1px 3px 1px rgba(0, 0, 0, 0.15);\n",
              "      filter: drop-shadow(0px 1px 2px rgba(0, 0, 0, 0.3));\n",
              "      fill: #FFFFFF;\n",
              "    }\n",
              "  </style>\n",
              "\n",
              "      <script>\n",
              "        const buttonEl =\n",
              "          document.querySelector('#df-f17ac815-390d-4b83-9041-233796bce4f5 button.colab-df-convert');\n",
              "        buttonEl.style.display =\n",
              "          google.colab.kernel.accessAllowed ? 'block' : 'none';\n",
              "\n",
              "        async function convertToInteractive(key) {\n",
              "          const element = document.querySelector('#df-f17ac815-390d-4b83-9041-233796bce4f5');\n",
              "          const dataTable =\n",
              "            await google.colab.kernel.invokeFunction('convertToInteractive',\n",
              "                                                     [key], {});\n",
              "          if (!dataTable) return;\n",
              "\n",
              "          const docLinkHtml = 'Like what you see? Visit the ' +\n",
              "            '<a target=\"_blank\" href=https://colab.research.google.com/notebooks/data_table.ipynb>data table notebook</a>'\n",
              "            + ' to learn more about interactive tables.';\n",
              "          element.innerHTML = '';\n",
              "          dataTable['output_type'] = 'display_data';\n",
              "          await google.colab.output.renderOutput(dataTable, element);\n",
              "          const docLink = document.createElement('div');\n",
              "          docLink.innerHTML = docLinkHtml;\n",
              "          element.appendChild(docLink);\n",
              "        }\n",
              "      </script>\n",
              "    </div>\n",
              "  </div>\n",
              "  "
            ]
          },
          "metadata": {},
          "execution_count": 18
        }
      ]
    },
    {
      "cell_type": "code",
      "source": [
        "df_shows = content_df[content_df['type']=='TV Show'].copy()\n",
        "df_shows.head()"
      ],
      "metadata": {
        "id": "T6R4IyynyELr",
        "colab": {
          "base_uri": "https://localhost:8080/",
          "height": 632
        },
        "outputId": "61931544-c621-439e-e60e-e714f89a8b1b"
      },
      "execution_count": null,
      "outputs": [
        {
          "output_type": "execute_result",
          "data": {
            "text/plain": [
              "   show_id     type   title              director  \\\n",
              "0       s1  TV Show      3%                   NaN   \n",
              "5       s6  TV Show      46           Serdar Akar   \n",
              "11     s12  TV Show    1983                   NaN   \n",
              "12     s13  TV Show    1994  Diego Enrique Osorno   \n",
              "16     s17  TV Show  Feb-09                   NaN   \n",
              "\n",
              "                                                 cast                country  \\\n",
              "0   João Miguel, Bianca Comparato, Michel Gomes, R...                 Brazil   \n",
              "5   Erdal Beşikçioğlu, Yasemin Allen, Melis Birkan...                 Turkey   \n",
              "11  Robert Więckiewicz, Maciej Musiał, Michalina O...  Poland, United States   \n",
              "12                                                NaN                 Mexico   \n",
              "16  Shahd El Yaseen, Shaila Sabt, Hala, Hanadi Al-...                    NaN   \n",
              "\n",
              "   date_added  release_year rating   duration  \\\n",
              "0  2020-08-14          2020  TV-MA  4 Seasons   \n",
              "5  2017-07-01          2016  TV-MA   1 Season   \n",
              "11 2018-11-30          2018  TV-MA   1 Season   \n",
              "12 2019-05-17          2019  TV-MA   1 Season   \n",
              "16 2019-03-20          2018  TV-14   1 Season   \n",
              "\n",
              "                                            listed_in  \\\n",
              "0   International TV Shows, TV Dramas, TV Sci-Fi &...   \n",
              "5     International TV Shows, TV Dramas, TV Mysteries   \n",
              "11  Crime TV Shows, International TV Shows, TV Dramas   \n",
              "12  Crime TV Shows, Docuseries, International TV S...   \n",
              "16                  International TV Shows, TV Dramas   \n",
              "\n",
              "                                          description  day_added  year_added  \\\n",
              "0   In a future where the elite inhabit an island ...       14.0      2020.0   \n",
              "5   A genetics professor experiments with a treatm...        1.0      2017.0   \n",
              "11  In this dark alt-history thriller, a naïve law...       30.0      2018.0   \n",
              "12  Archival video and new interviews examine Mexi...       17.0      2019.0   \n",
              "16  As a psychology professor faces Alzheimer's, h...       20.0      2019.0   \n",
              "\n",
              "    month_added  \n",
              "0           8.0  \n",
              "5           7.0  \n",
              "11         11.0  \n",
              "12          5.0  \n",
              "16          3.0  "
            ],
            "text/html": [
              "\n",
              "  <div id=\"df-7926104b-8738-4368-9ab3-425f8181e65d\">\n",
              "    <div class=\"colab-df-container\">\n",
              "      <div>\n",
              "<style scoped>\n",
              "    .dataframe tbody tr th:only-of-type {\n",
              "        vertical-align: middle;\n",
              "    }\n",
              "\n",
              "    .dataframe tbody tr th {\n",
              "        vertical-align: top;\n",
              "    }\n",
              "\n",
              "    .dataframe thead th {\n",
              "        text-align: right;\n",
              "    }\n",
              "</style>\n",
              "<table border=\"1\" class=\"dataframe\">\n",
              "  <thead>\n",
              "    <tr style=\"text-align: right;\">\n",
              "      <th></th>\n",
              "      <th>show_id</th>\n",
              "      <th>type</th>\n",
              "      <th>title</th>\n",
              "      <th>director</th>\n",
              "      <th>cast</th>\n",
              "      <th>country</th>\n",
              "      <th>date_added</th>\n",
              "      <th>release_year</th>\n",
              "      <th>rating</th>\n",
              "      <th>duration</th>\n",
              "      <th>listed_in</th>\n",
              "      <th>description</th>\n",
              "      <th>day_added</th>\n",
              "      <th>year_added</th>\n",
              "      <th>month_added</th>\n",
              "    </tr>\n",
              "  </thead>\n",
              "  <tbody>\n",
              "    <tr>\n",
              "      <th>0</th>\n",
              "      <td>s1</td>\n",
              "      <td>TV Show</td>\n",
              "      <td>3%</td>\n",
              "      <td>NaN</td>\n",
              "      <td>João Miguel, Bianca Comparato, Michel Gomes, R...</td>\n",
              "      <td>Brazil</td>\n",
              "      <td>2020-08-14</td>\n",
              "      <td>2020</td>\n",
              "      <td>TV-MA</td>\n",
              "      <td>4 Seasons</td>\n",
              "      <td>International TV Shows, TV Dramas, TV Sci-Fi &amp;...</td>\n",
              "      <td>In a future where the elite inhabit an island ...</td>\n",
              "      <td>14.0</td>\n",
              "      <td>2020.0</td>\n",
              "      <td>8.0</td>\n",
              "    </tr>\n",
              "    <tr>\n",
              "      <th>5</th>\n",
              "      <td>s6</td>\n",
              "      <td>TV Show</td>\n",
              "      <td>46</td>\n",
              "      <td>Serdar Akar</td>\n",
              "      <td>Erdal Beşikçioğlu, Yasemin Allen, Melis Birkan...</td>\n",
              "      <td>Turkey</td>\n",
              "      <td>2017-07-01</td>\n",
              "      <td>2016</td>\n",
              "      <td>TV-MA</td>\n",
              "      <td>1 Season</td>\n",
              "      <td>International TV Shows, TV Dramas, TV Mysteries</td>\n",
              "      <td>A genetics professor experiments with a treatm...</td>\n",
              "      <td>1.0</td>\n",
              "      <td>2017.0</td>\n",
              "      <td>7.0</td>\n",
              "    </tr>\n",
              "    <tr>\n",
              "      <th>11</th>\n",
              "      <td>s12</td>\n",
              "      <td>TV Show</td>\n",
              "      <td>1983</td>\n",
              "      <td>NaN</td>\n",
              "      <td>Robert Więckiewicz, Maciej Musiał, Michalina O...</td>\n",
              "      <td>Poland, United States</td>\n",
              "      <td>2018-11-30</td>\n",
              "      <td>2018</td>\n",
              "      <td>TV-MA</td>\n",
              "      <td>1 Season</td>\n",
              "      <td>Crime TV Shows, International TV Shows, TV Dramas</td>\n",
              "      <td>In this dark alt-history thriller, a naïve law...</td>\n",
              "      <td>30.0</td>\n",
              "      <td>2018.0</td>\n",
              "      <td>11.0</td>\n",
              "    </tr>\n",
              "    <tr>\n",
              "      <th>12</th>\n",
              "      <td>s13</td>\n",
              "      <td>TV Show</td>\n",
              "      <td>1994</td>\n",
              "      <td>Diego Enrique Osorno</td>\n",
              "      <td>NaN</td>\n",
              "      <td>Mexico</td>\n",
              "      <td>2019-05-17</td>\n",
              "      <td>2019</td>\n",
              "      <td>TV-MA</td>\n",
              "      <td>1 Season</td>\n",
              "      <td>Crime TV Shows, Docuseries, International TV S...</td>\n",
              "      <td>Archival video and new interviews examine Mexi...</td>\n",
              "      <td>17.0</td>\n",
              "      <td>2019.0</td>\n",
              "      <td>5.0</td>\n",
              "    </tr>\n",
              "    <tr>\n",
              "      <th>16</th>\n",
              "      <td>s17</td>\n",
              "      <td>TV Show</td>\n",
              "      <td>Feb-09</td>\n",
              "      <td>NaN</td>\n",
              "      <td>Shahd El Yaseen, Shaila Sabt, Hala, Hanadi Al-...</td>\n",
              "      <td>NaN</td>\n",
              "      <td>2019-03-20</td>\n",
              "      <td>2018</td>\n",
              "      <td>TV-14</td>\n",
              "      <td>1 Season</td>\n",
              "      <td>International TV Shows, TV Dramas</td>\n",
              "      <td>As a psychology professor faces Alzheimer's, h...</td>\n",
              "      <td>20.0</td>\n",
              "      <td>2019.0</td>\n",
              "      <td>3.0</td>\n",
              "    </tr>\n",
              "  </tbody>\n",
              "</table>\n",
              "</div>\n",
              "      <button class=\"colab-df-convert\" onclick=\"convertToInteractive('df-7926104b-8738-4368-9ab3-425f8181e65d')\"\n",
              "              title=\"Convert this dataframe to an interactive table.\"\n",
              "              style=\"display:none;\">\n",
              "        \n",
              "  <svg xmlns=\"http://www.w3.org/2000/svg\" height=\"24px\"viewBox=\"0 0 24 24\"\n",
              "       width=\"24px\">\n",
              "    <path d=\"M0 0h24v24H0V0z\" fill=\"none\"/>\n",
              "    <path d=\"M18.56 5.44l.94 2.06.94-2.06 2.06-.94-2.06-.94-.94-2.06-.94 2.06-2.06.94zm-11 1L8.5 8.5l.94-2.06 2.06-.94-2.06-.94L8.5 2.5l-.94 2.06-2.06.94zm10 10l.94 2.06.94-2.06 2.06-.94-2.06-.94-.94-2.06-.94 2.06-2.06.94z\"/><path d=\"M17.41 7.96l-1.37-1.37c-.4-.4-.92-.59-1.43-.59-.52 0-1.04.2-1.43.59L10.3 9.45l-7.72 7.72c-.78.78-.78 2.05 0 2.83L4 21.41c.39.39.9.59 1.41.59.51 0 1.02-.2 1.41-.59l7.78-7.78 2.81-2.81c.8-.78.8-2.07 0-2.86zM5.41 20L4 18.59l7.72-7.72 1.47 1.35L5.41 20z\"/>\n",
              "  </svg>\n",
              "      </button>\n",
              "      \n",
              "  <style>\n",
              "    .colab-df-container {\n",
              "      display:flex;\n",
              "      flex-wrap:wrap;\n",
              "      gap: 12px;\n",
              "    }\n",
              "\n",
              "    .colab-df-convert {\n",
              "      background-color: #E8F0FE;\n",
              "      border: none;\n",
              "      border-radius: 50%;\n",
              "      cursor: pointer;\n",
              "      display: none;\n",
              "      fill: #1967D2;\n",
              "      height: 32px;\n",
              "      padding: 0 0 0 0;\n",
              "      width: 32px;\n",
              "    }\n",
              "\n",
              "    .colab-df-convert:hover {\n",
              "      background-color: #E2EBFA;\n",
              "      box-shadow: 0px 1px 2px rgba(60, 64, 67, 0.3), 0px 1px 3px 1px rgba(60, 64, 67, 0.15);\n",
              "      fill: #174EA6;\n",
              "    }\n",
              "\n",
              "    [theme=dark] .colab-df-convert {\n",
              "      background-color: #3B4455;\n",
              "      fill: #D2E3FC;\n",
              "    }\n",
              "\n",
              "    [theme=dark] .colab-df-convert:hover {\n",
              "      background-color: #434B5C;\n",
              "      box-shadow: 0px 1px 3px 1px rgba(0, 0, 0, 0.15);\n",
              "      filter: drop-shadow(0px 1px 2px rgba(0, 0, 0, 0.3));\n",
              "      fill: #FFFFFF;\n",
              "    }\n",
              "  </style>\n",
              "\n",
              "      <script>\n",
              "        const buttonEl =\n",
              "          document.querySelector('#df-7926104b-8738-4368-9ab3-425f8181e65d button.colab-df-convert');\n",
              "        buttonEl.style.display =\n",
              "          google.colab.kernel.accessAllowed ? 'block' : 'none';\n",
              "\n",
              "        async function convertToInteractive(key) {\n",
              "          const element = document.querySelector('#df-7926104b-8738-4368-9ab3-425f8181e65d');\n",
              "          const dataTable =\n",
              "            await google.colab.kernel.invokeFunction('convertToInteractive',\n",
              "                                                     [key], {});\n",
              "          if (!dataTable) return;\n",
              "\n",
              "          const docLinkHtml = 'Like what you see? Visit the ' +\n",
              "            '<a target=\"_blank\" href=https://colab.research.google.com/notebooks/data_table.ipynb>data table notebook</a>'\n",
              "            + ' to learn more about interactive tables.';\n",
              "          element.innerHTML = '';\n",
              "          dataTable['output_type'] = 'display_data';\n",
              "          await google.colab.output.renderOutput(dataTable, element);\n",
              "          const docLink = document.createElement('div');\n",
              "          docLink.innerHTML = docLinkHtml;\n",
              "          element.appendChild(docLink);\n",
              "        }\n",
              "      </script>\n",
              "    </div>\n",
              "  </div>\n",
              "  "
            ]
          },
          "metadata": {},
          "execution_count": 19
        }
      ]
    },
    {
      "cell_type": "markdown",
      "source": [
        "> Duration manipulation"
      ],
      "metadata": {
        "id": "lZ9Vxlr8DXPV"
      }
    },
    {
      "cell_type": "code",
      "source": [
        "# duration manipulation for movie\n",
        "df_movies.duration = df_movies.duration.str.replace(' min','').astype(int)\n",
        "\n",
        "# duration manipulation for tv shows\n",
        "df_shows.rename(columns={'duration':'seasons'}, inplace=True)\n",
        "df_shows.replace({'seasons':{'1 Season':'1 Seasons'}}, inplace=True)\n",
        "df_shows.seasons = df_shows.seasons.str.replace(' Seasons','').astype(int)\n",
        "\n"
      ],
      "metadata": {
        "id": "Yf40cFxLC0Mz"
      },
      "execution_count": null,
      "outputs": []
    },
    {
      "cell_type": "markdown",
      "source": [
        "### What all manipulations have you done and insights you found?"
      ],
      "metadata": {
        "id": "MSa1f5Uengrz"
      }
    },
    {
      "cell_type": "markdown",
      "source": [
        "Answer Here."
      ],
      "metadata": {
        "id": "LbyXE7I1olp8"
      }
    },
    {
      "cell_type": "markdown",
      "source": [
        "## ***4. Data Vizualization, Storytelling & Experimenting with charts : Understand the relationships between variables***"
      ],
      "metadata": {
        "id": "GF8Ens_Soomf"
      }
    },
    {
      "cell_type": "markdown",
      "source": [
        "#### Chart - 1"
      ],
      "metadata": {
        "id": "0wOQAZs5pc--"
      }
    },
    {
      "cell_type": "code",
      "source": [
        "# Chart - 1 visualization code\n",
        "# pie chart for movie and tv show\n",
        "labels = ['Movie', 'TV show']\n",
        "size = content_df['type'].value_counts()\n",
        "colors = plt.cm.Wistia(np.linspace(0, 1, 2))\n",
        "explode = [0, 0.1]\n",
        "plt.rcParams['figure.figsize'] = (6, 7)\n",
        "plt.pie(size,labels=labels, colors = colors,autopct='%1.1f%%', explode = explode, shadow = True, startangle = 90)\n",
        "plt.title('Distribution of Type', fontsize = 25)\n",
        "plt.legend()\n",
        "plt.show()"
      ],
      "metadata": {
        "id": "7v_ESjsspbW7",
        "colab": {
          "base_uri": "https://localhost:8080/",
          "height": 391
        },
        "outputId": "162cffef-f393-4617-e1a2-a3d3a402592f"
      },
      "execution_count": null,
      "outputs": [
        {
          "output_type": "display_data",
          "data": {
            "text/plain": [
              "<Figure size 432x504 with 1 Axes>"
            ],
            "image/png": "[encoded data removed]"
          },
          "metadata": {}
        }
      ]
    },
    {
      "cell_type": "code",
      "source": [
        "# Balance of Netflix products\n",
        "plot_donut_chart(df=content_df, col='type', colors=['red','black'], title='Does Netflix had more \\nMovies or TV Shows in 2019?')\n",
        "     \n"
      ],
      "metadata": {
        "id": "Hj-5VVmxA_4J",
        "colab": {
          "base_uri": "https://localhost:8080/",
          "height": 501
        },
        "outputId": "ac1addf6-e947-468e-df6b-b547cb459977"
      },
      "execution_count": null,
      "outputs": [
        {
          "output_type": "display_data",
          "data": {
            "text/plain": [
              "<Figure size 576x576 with 1 Axes>"
            ],
            "image/png": "[encoded data removed]"
          },
          "metadata": {}
        }
      ]
    },
    {
      "cell_type": "markdown",
      "source": [
        "##### 1. Why did you pick the specific chart?"
      ],
      "metadata": {
        "id": "K5QZ13OEpz2H"
      }
    },
    {
      "cell_type": "markdown",
      "source": [
        "Answer Here."
      ],
      "metadata": {
        "id": "XESiWehPqBRc"
      }
    },
    {
      "cell_type": "markdown",
      "source": [
        "##### 2. What is/are the insight(s) found from the chart?"
      ],
      "metadata": {
        "id": "lQ7QKXXCp7Bj"
      }
    },
    {
      "cell_type": "markdown",
      "source": [
        "Answer Here"
      ],
      "metadata": {
        "id": "C_j1G7yiqdRP"
      }
    },
    {
      "cell_type": "markdown",
      "source": [
        "##### 3. Will the gained insights help creating a positive business impact? \n",
        "Are there any insights that lead to negative growth? Justify with specific reason."
      ],
      "metadata": {
        "id": "448CDAPjqfQr"
      }
    },
    {
      "cell_type": "markdown",
      "source": [
        "Answer Here"
      ],
      "metadata": {
        "id": "3cspy4FjqxJW"
      }
    },
    {
      "cell_type": "markdown",
      "source": [
        "#### Chart - 2"
      ],
      "metadata": {
        "id": "KSlN3yHqYklG"
      }
    },
    {
      "cell_type": "code",
      "source": [
        "# Chart - 2 visualization code\n",
        "# count plot for ratings\n",
        "sns.countplot(content_df['rating'])\n",
        "sns.countplot(content_df['rating']).set_xticklabels(sns.countplot(content_df['rating']).get_xticklabels(), rotation=90, ha=\"right\")\n",
        "fig = plt.gcf()\n",
        "fig.set_size_inches(12,7)\n",
        "plt.title('Rating')\n"
      ],
      "metadata": {
        "id": "R4YgtaqtYklH",
        "colab": {
          "base_uri": "https://localhost:8080/",
          "height": 509
        },
        "outputId": "4e7bf639-09be-4c0c-e504-b11c95e80cbe"
      },
      "execution_count": null,
      "outputs": [
        {
          "output_type": "execute_result",
          "data": {
            "text/plain": [
              "Text(0.5, 1.0, 'Rating')"
            ]
          },
          "metadata": {},
          "execution_count": 23
        },
        {
          "output_type": "display_data",
          "data": {
            "text/plain": [
              "<Figure size 864x504 with 1 Axes>"
            ],
            "image/png": "[encoded data removed]"
          },
          "metadata": {
            "needs_background": "light"
          }
        }
      ]
    },
    {
      "cell_type": "markdown",
      "source": [
        "##### 1. Why did you pick the specific chart?"
      ],
      "metadata": {
        "id": "t6dVpIINYklI"
      }
    },
    {
      "cell_type": "markdown",
      "source": [
        "Answer Here."
      ],
      "metadata": {
        "id": "5aaW0BYyYklI"
      }
    },
    {
      "cell_type": "markdown",
      "source": [
        "##### 2. What is/are the insight(s) found from the chart?"
      ],
      "metadata": {
        "id": "ijmpgYnKYklI"
      }
    },
    {
      "cell_type": "markdown",
      "source": [
        "Answer Here"
      ],
      "metadata": {
        "id": "PSx9atu2YklI"
      }
    },
    {
      "cell_type": "markdown",
      "source": [
        "##### 3. Will the gained insights help creating a positive business impact? \n",
        "Are there any insights that lead to negative growth? Justify with specific reason."
      ],
      "metadata": {
        "id": "-JiQyfWJYklI"
      }
    },
    {
      "cell_type": "markdown",
      "source": [
        "Answer Here"
      ],
      "metadata": {
        "id": "BcBbebzrYklV"
      }
    },
    {
      "cell_type": "markdown",
      "source": [
        "#### Chart - 3"
      ],
      "metadata": {
        "id": "EM7whBJCYoAo"
      }
    },
    {
      "cell_type": "code",
      "source": [
        "# Chart - 3 visualization code\n",
        "# graph for different rating on movies and tv shows\n",
        "plt.figure(figsize=(12,8))\n",
        "sns.countplot(x='rating',hue='type',data=content_df,palette=\"Set2\")\n",
        "plt.title('Relation between Type and Rating')\n",
        "plt.show()"
      ],
      "metadata": {
        "id": "t6GMdE67YoAp",
        "colab": {
          "base_uri": "https://localhost:8080/",
          "height": 513
        },
        "outputId": "dc836c58-d1eb-4e9a-ee90-bbbf2c66e162"
      },
      "execution_count": null,
      "outputs": [
        {
          "output_type": "display_data",
          "data": {
            "text/plain": [
              "<Figure size 864x576 with 1 Axes>"
            ],
            "image/png": "[encoded data removed]"
          },
          "metadata": {
            "needs_background": "light"
          }
        }
      ]
    },
    {
      "cell_type": "markdown",
      "source": [
        "##### 1. Why did you pick the specific chart?"
      ],
      "metadata": {
        "id": "fge-S5ZAYoAp"
      }
    },
    {
      "cell_type": "markdown",
      "source": [
        "Answer Here."
      ],
      "metadata": {
        "id": "5dBItgRVYoAp"
      }
    },
    {
      "cell_type": "markdown",
      "source": [
        "##### 2. What is/are the insight(s) found from the chart?"
      ],
      "metadata": {
        "id": "85gYPyotYoAp"
      }
    },
    {
      "cell_type": "markdown",
      "source": [
        "Answer Here"
      ],
      "metadata": {
        "id": "4jstXR6OYoAp"
      }
    },
    {
      "cell_type": "markdown",
      "source": [
        "##### 3. Will the gained insights help creating a positive business impact? \n",
        "Are there any insights that lead to negative growth? Justify with specific reason."
      ],
      "metadata": {
        "id": "RoGjAbkUYoAp"
      }
    },
    {
      "cell_type": "markdown",
      "source": [
        "Answer Here"
      ],
      "metadata": {
        "id": "zfJ8IqMcYoAp"
      }
    },
    {
      "cell_type": "markdown",
      "source": [
        "#### Chart - 4"
      ],
      "metadata": {
        "id": "4Of9eVA-YrdM"
      }
    },
    {
      "cell_type": "code",
      "source": [
        "# Chart - 4 visualization code\n",
        "# Plotting and customizing a rating analysis\n",
        "plot_countplot(content_df, 'rating', order=True, figsize=(18, 10),\n",
        "               title='Rating Analysis on Netflix Titles', size_title=20)\n",
        "plt.xticks(fontsize=16)\n",
        "plt.show()\n",
        "     \n"
      ],
      "metadata": {
        "id": "irlUoxc8YrdO",
        "colab": {
          "base_uri": "https://localhost:8080/",
          "height": 646
        },
        "outputId": "c4cd8587-0308-452f-d46f-b6051e3b05d9"
      },
      "execution_count": null,
      "outputs": [
        {
          "output_type": "display_data",
          "data": {
            "text/plain": [
              "<Figure size 1296x720 with 1 Axes>"
            ],
            "image/png": "[encoded data removed]"
          },
          "metadata": {
            "needs_background": "light"
          }
        }
      ]
    },
    {
      "cell_type": "markdown",
      "source": [
        "##### 1. Why did you pick the specific chart?"
      ],
      "metadata": {
        "id": "iky9q4vBYrdO"
      }
    },
    {
      "cell_type": "markdown",
      "source": [
        "Answer Here."
      ],
      "metadata": {
        "id": "aJRCwT6DYrdO"
      }
    },
    {
      "cell_type": "markdown",
      "source": [
        "##### 2. What is/are the insight(s) found from the chart?"
      ],
      "metadata": {
        "id": "F6T5p64dYrdO"
      }
    },
    {
      "cell_type": "markdown",
      "source": [
        "Answer Here"
      ],
      "metadata": {
        "id": "Xx8WAJvtYrdO"
      }
    },
    {
      "cell_type": "markdown",
      "source": [
        "##### 3. Will the gained insights help creating a positive business impact? \n",
        "Are there any insights that lead to negative growth? Justify with specific reason."
      ],
      "metadata": {
        "id": "y-Ehk30pYrdP"
      }
    },
    {
      "cell_type": "markdown",
      "source": [
        "Answer Here"
      ],
      "metadata": {
        "id": "jLNxxz7MYrdP"
      }
    },
    {
      "cell_type": "markdown",
      "source": [
        "#### Chart - 5"
      ],
      "metadata": {
        "id": "bamQiAODYuh1"
      }
    },
    {
      "cell_type": "code",
      "source": [
        "# Chart - 5 visualization code\n"
      ],
      "metadata": {
        "id": "TIJwrbroYuh3"
      },
      "execution_count": null,
      "outputs": []
    },
    {
      "cell_type": "markdown",
      "source": [
        "##### 1. Why did you pick the specific chart?"
      ],
      "metadata": {
        "id": "QHF8YVU7Yuh3"
      }
    },
    {
      "cell_type": "markdown",
      "source": [
        "Answer Here."
      ],
      "metadata": {
        "id": "dcxuIMRPYuh3"
      }
    },
    {
      "cell_type": "markdown",
      "source": [
        "##### 2. What is/are the insight(s) found from the chart?"
      ],
      "metadata": {
        "id": "GwzvFGzlYuh3"
      }
    },
    {
      "cell_type": "markdown",
      "source": [
        "Answer Here"
      ],
      "metadata": {
        "id": "uyqkiB8YYuh3"
      }
    },
    {
      "cell_type": "markdown",
      "source": [
        "##### 3. Will the gained insights help creating a positive business impact? \n",
        "Are there any insights that lead to negative growth? Justify with specific reason."
      ],
      "metadata": {
        "id": "qYpmQ266Yuh3"
      }
    },
    {
      "cell_type": "markdown",
      "source": [
        "Answer Here"
      ],
      "metadata": {
        "id": "_WtzZ_hCYuh4"
      }
    },
    {
      "cell_type": "markdown",
      "source": [
        "#### Chart - 6"
      ],
      "metadata": {
        "id": "OH-pJp9IphqM"
      }
    },
    {
      "cell_type": "code",
      "source": [
        "# Chart - 6 visualization code\n",
        "\n",
        "df_movies['originals'] = np.where(df_movies['release_year'] == df_movies['year_added'], 'Yes', 'No')\n",
        "# pie plot showing percentage of originals and others in movies\n",
        "fig, ax = plt.subplots(figsize=(5,5),facecolor=\"#383838\")\n",
        "ax.patch.set_facecolor('#383838')\n",
        "explode = (0, 0.1)\n",
        "ax.pie(df_movies['originals'].value_counts(), explode=explode, autopct='%.2f%%', labels= ['Others', 'Originals'],\n",
        "       shadow=True, startangle=90,textprops={'color':\"white\", 'fontsize': 20}, colors =['black','red'])"
      ],
      "metadata": {
        "id": "kuRf4wtuphqN",
        "colab": {
          "base_uri": "https://localhost:8080/",
          "height": 407
        },
        "outputId": "c25f8796-821a-449f-b084-8002b3acc6c7"
      },
      "execution_count": null,
      "outputs": [
        {
          "output_type": "execute_result",
          "data": {
            "text/plain": [
              "([<matplotlib.patches.Wedge at 0x7f40d2d72820>,\n",
              "  <matplotlib.patches.Wedge at 0x7f40d2d67310>],\n",
              " [Text(-0.8902585632950727, -0.6460957285726268, 'Others'),\n",
              "  Text(0.9711911599582614, 0.7048317038974103, 'Originals')],\n",
              " [Text(-0.4855955799791305, -0.3524158519487055, '69.98%'),\n",
              "  Text(0.5665281766423191, 0.41115182727348937, '30.02%')])"
            ]
          },
          "metadata": {},
          "execution_count": 88
        },
        {
          "output_type": "display_data",
          "data": {
            "text/plain": [
              "<Figure size 360x360 with 1 Axes>"
            ],
            "image/png": "[encoded data removed]"
          },
          "metadata": {}
        }
      ]
    },
    {
      "cell_type": "markdown",
      "source": [
        "* For original movies"
      ],
      "metadata": {
        "id": "1jH80gwBCd06"
      }
    },
    {
      "cell_type": "code",
      "source": [
        "df_shows['originals'] = np.where(df_shows['release_year'] == df_shows['year_added'], 'Yes', 'No')\n",
        "# pie plot showing percentage of originals and others in movies\n",
        "fig, ax = plt.subplots(figsize=(5,5),facecolor=\"#383838\")\n",
        "ax.patch.set_facecolor('#383838')\n",
        "explode = (0, 0.1)\n",
        "ax.pie(df_shows['originals'].value_counts(), explode=explode, autopct='%.2f%%', labels= ['Others', 'Originals'],\n",
        "       shadow=True, startangle=90,textprops={'color':\"white\", 'fontsize': 20}, colors =['black','red'])"
      ],
      "metadata": {
        "colab": {
          "base_uri": "https://localhost:8080/",
          "height": 407
        },
        "id": "sPHQ1E3m_16f",
        "outputId": "2aeb942f-7959-4eb9-c623-2cb722fe3449"
      },
      "execution_count": null,
      "outputs": [
        {
          "output_type": "execute_result",
          "data": {
            "text/plain": [
              "([<matplotlib.patches.Wedge at 0x7f40d2cfc070>,\n",
              "  <matplotlib.patches.Wedge at 0x7f40d2cfcac0>],\n",
              " [Text(-1.0999663543761926, -0.008603443516892913, 'Others'),\n",
              "  Text(1.1999632956831192, 0.00938557474570121, 'Originals')],\n",
              " [Text(-0.5999816478415596, -0.004692787372850679, '50.25%'),\n",
              "  Text(0.6999785891484862, 0.005474918601659039, '49.75%')])"
            ]
          },
          "metadata": {},
          "execution_count": 89
        },
        {
          "output_type": "display_data",
          "data": {
            "text/plain": [
              "<Figure size 360x360 with 1 Axes>"
            ],
            "image/png": "[encoded data removed]"
          },
          "metadata": {}
        }
      ]
    },
    {
      "cell_type": "markdown",
      "source": [
        "* For original tv shows "
      ],
      "metadata": {
        "id": "3OaAGUcFC2a9"
      }
    },
    {
      "cell_type": "markdown",
      "source": [
        "##### 1. Why did you pick the specific chart?"
      ],
      "metadata": {
        "id": "bbFf2-_FphqN"
      }
    },
    {
      "cell_type": "markdown",
      "source": [
        "Answer Here."
      ],
      "metadata": {
        "id": "loh7H2nzphqN"
      }
    },
    {
      "cell_type": "markdown",
      "source": [
        "##### 2. What is/are the insight(s) found from the chart?"
      ],
      "metadata": {
        "id": "_ouA3fa0phqN"
      }
    },
    {
      "cell_type": "markdown",
      "source": [
        "Answer Here"
      ],
      "metadata": {
        "id": "VECbqPI7phqN"
      }
    },
    {
      "cell_type": "markdown",
      "source": [
        "##### 3. Will the gained insights help creating a positive business impact? \n",
        "Are there any insights that lead to negative growth? Justify with specific reason."
      ],
      "metadata": {
        "id": "Seke61FWphqN"
      }
    },
    {
      "cell_type": "markdown",
      "source": [
        "Answer Here"
      ],
      "metadata": {
        "id": "DW4_bGpfphqN"
      }
    },
    {
      "cell_type": "markdown",
      "source": [
        "#### Chart - 7"
      ],
      "metadata": {
        "id": "PIIx-8_IphqN"
      }
    },
    {
      "cell_type": "code",
      "source": [
        "# Chart - 7 visualization code"
      ],
      "metadata": {
        "id": "lqAIGUfyphqO"
      },
      "execution_count": null,
      "outputs": []
    },
    {
      "cell_type": "markdown",
      "source": [
        "##### 1. Why did you pick the specific chart?"
      ],
      "metadata": {
        "id": "t27r6nlMphqO"
      }
    },
    {
      "cell_type": "markdown",
      "source": [
        "Answer Here."
      ],
      "metadata": {
        "id": "iv6ro40sphqO"
      }
    },
    {
      "cell_type": "markdown",
      "source": [
        "##### 2. What is/are the insight(s) found from the chart?"
      ],
      "metadata": {
        "id": "r2jJGEOYphqO"
      }
    },
    {
      "cell_type": "markdown",
      "source": [
        "Answer Here"
      ],
      "metadata": {
        "id": "Po6ZPi4hphqO"
      }
    },
    {
      "cell_type": "markdown",
      "source": [
        "##### 3. Will the gained insights help creating a positive business impact? \n",
        "Are there any insights that lead to negative growth? Justify with specific reason."
      ],
      "metadata": {
        "id": "b0JNsNcRphqO"
      }
    },
    {
      "cell_type": "markdown",
      "source": [
        "Answer Here"
      ],
      "metadata": {
        "id": "xvSq8iUTphqO"
      }
    },
    {
      "cell_type": "markdown",
      "source": [
        "#### Chart - 8 - Duration"
      ],
      "metadata": {
        "id": "BZR9WyysphqO"
      }
    },
    {
      "cell_type": "code",
      "source": [
        "# Chart - 8 visualization code\n",
        "fig, ax = plt.subplots(1,2, figsize=(20, 5))\n",
        "g1 = sns.distplot(df_movies.duration, color='blue',ax=ax[0]);\n",
        "g1.set_xticks(np.arange(0,360,30))\n",
        "g1.set_title(\"Duration Distribution for Netflix Movies\")\n",
        "g1.set_ylabel(\"% of All Netflix Movies\")\n",
        "g1.set_xlabel(\"Duration (minutes)\")\n",
        "g2 = sns.countplot(df_shows.seasons, color='blue',ax=ax[1]);\n",
        "g2.set_title(\"Netflix TV Shows Seasons\")\n",
        "g2.set_ylabel(\"Count\")\n",
        "g2.set_xlabel(\"Season\")\n",
        "fig.show()"
      ],
      "metadata": {
        "id": "TdPTWpAVphqO",
        "colab": {
          "base_uri": "https://localhost:8080/",
          "height": 350
        },
        "outputId": "7b0fc2f5-008e-44be-aa3c-edc158396d00"
      },
      "execution_count": null,
      "outputs": [
        {
          "output_type": "display_data",
          "data": {
            "text/plain": [
              "<Figure size 1440x360 with 2 Axes>"
            ],
            "image/png": "[encoded data removed]"
          },
          "metadata": {
            "needs_background": "light"
          }
        }
      ]
    },
    {
      "cell_type": "markdown",
      "source": [
        "##### 1. Why did you pick the specific chart?"
      ],
      "metadata": {
        "id": "jj7wYXLtphqO"
      }
    },
    {
      "cell_type": "markdown",
      "source": [
        "Answer Here."
      ],
      "metadata": {
        "id": "Ob8u6rCTphqO"
      }
    },
    {
      "cell_type": "markdown",
      "source": [
        "##### 2. What is/are the insight(s) found from the chart?"
      ],
      "metadata": {
        "id": "eZrbJ2SmphqO"
      }
    },
    {
      "cell_type": "markdown",
      "source": [
        "Answer Here"
      ],
      "metadata": {
        "id": "mZtgC_hjphqO"
      }
    },
    {
      "cell_type": "markdown",
      "source": [
        "##### 3. Will the gained insights help creating a positive business impact? \n",
        "Are there any insights that lead to negative growth? Justify with specific reason."
      ],
      "metadata": {
        "id": "rFu4xreNphqO"
      }
    },
    {
      "cell_type": "markdown",
      "source": [
        "Answer Here"
      ],
      "metadata": {
        "id": "ey_0qi68phqO"
      }
    },
    {
      "cell_type": "markdown",
      "source": [
        "#### Chart - 9"
      ],
      "metadata": {
        "id": "YJ55k-q6phqO"
      }
    },
    {
      "cell_type": "code",
      "source": [
        "# Chart - 9 visualization code\n",
        "fig = plt.figure(figsize=(18,6))\n",
        "sns.set(style='whitegrid')\n",
        "fig.set_facecolor(\"lightblue\")\n",
        "sns.countplot(data = content_df,x = 'year_added',palette =\"autumn_r\")\n",
        "plt.title('Movies added to Netflix each year ', fontsize=10)\n",
        "plt.ylabel('No. of movies added to Netflix', fontsize=10)\n",
        "plt.xlabel('Year -> (Movies added to Netflix) ', fontsize=10)\n",
        "     "
      ],
      "metadata": {
        "id": "B2aS4O1ophqO",
        "colab": {
          "base_uri": "https://localhost:8080/",
          "height": 422
        },
        "outputId": "ba148c2d-0d32-49cf-c3fa-e34adeb14da7"
      },
      "execution_count": null,
      "outputs": [
        {
          "output_type": "execute_result",
          "data": {
            "text/plain": [
              "Text(0.5, 0, 'Year -> (Movies added to Netflix) ')"
            ]
          },
          "metadata": {},
          "execution_count": 30
        },
        {
          "output_type": "display_data",
          "data": {
            "text/plain": [
              "<Figure size 1296x432 with 1 Axes>"
            ],
            "image/png": "[encoded data removed]"
          },
          "metadata": {}
        }
      ]
    },
    {
      "cell_type": "markdown",
      "source": [
        "##### 1. Why did you pick the specific chart?"
      ],
      "metadata": {
        "id": "gCFgpxoyphqP"
      }
    },
    {
      "cell_type": "markdown",
      "source": [
        "Answer Here."
      ],
      "metadata": {
        "id": "TVxDimi2phqP"
      }
    },
    {
      "cell_type": "markdown",
      "source": [
        "##### 2. What is/are the insight(s) found from the chart?"
      ],
      "metadata": {
        "id": "OVtJsKN_phqQ"
      }
    },
    {
      "cell_type": "markdown",
      "source": [
        "Answer Here"
      ],
      "metadata": {
        "id": "ngGi97qjphqQ"
      }
    },
    {
      "cell_type": "markdown",
      "source": [
        "##### 3. Will the gained insights help creating a positive business impact? \n",
        "Are there any insights that lead to negative growth? Justify with specific reason."
      ],
      "metadata": {
        "id": "lssrdh5qphqQ"
      }
    },
    {
      "cell_type": "markdown",
      "source": [
        "Answer Here"
      ],
      "metadata": {
        "id": "tBpY5ekJphqQ"
      }
    },
    {
      "cell_type": "markdown",
      "source": [
        "#### Chart - 10"
      ],
      "metadata": {
        "id": "U2RJ9gkRphqQ"
      }
    },
    {
      "cell_type": "code",
      "source": [
        "# Chart - 10 visualization code\n",
        "fig = plt.figure(figsize=(18,6))\n",
        "sns.set(style='whitegrid')\n",
        "fig.set_facecolor(\"lightblue\")\n",
        "sns.countplot(data=content_df,x = 'month_added',palette =\"autumn_r\")\n",
        "plt.title('Count Plot - Movies added to Netflix by month ', fontsize=10)\n",
        "plt.ylabel('\"No. of movies added to Netflix', fontsize=10)\n",
        "plt.xlabel('Month -> (Movies added to Netflix) ', fontsize=10)"
      ],
      "metadata": {
        "id": "GM7a4YP4phqQ",
        "colab": {
          "base_uri": "https://localhost:8080/",
          "height": 422
        },
        "outputId": "b74683fb-6332-4f9b-ef19-e66c86e2e29d"
      },
      "execution_count": null,
      "outputs": [
        {
          "output_type": "execute_result",
          "data": {
            "text/plain": [
              "Text(0.5, 0, 'Month -> (Movies added to Netflix) ')"
            ]
          },
          "metadata": {},
          "execution_count": 31
        },
        {
          "output_type": "display_data",
          "data": {
            "text/plain": [
              "<Figure size 1296x432 with 1 Axes>"
            ],
            "image/png": "[encoded data removed]"
          },
          "metadata": {}
        }
      ]
    },
    {
      "cell_type": "markdown",
      "source": [
        "##### 1. Why did you pick the specific chart?"
      ],
      "metadata": {
        "id": "1M8mcRywphqQ"
      }
    },
    {
      "cell_type": "markdown",
      "source": [
        "Answer Here."
      ],
      "metadata": {
        "id": "8agQvks0phqQ"
      }
    },
    {
      "cell_type": "markdown",
      "source": [
        "##### 2. What is/are the insight(s) found from the chart?"
      ],
      "metadata": {
        "id": "tgIPom80phqQ"
      }
    },
    {
      "cell_type": "markdown",
      "source": [
        "Answer Here"
      ],
      "metadata": {
        "id": "Qp13pnNzphqQ"
      }
    },
    {
      "cell_type": "markdown",
      "source": [
        "##### 3. Will the gained insights help creating a positive business impact? \n",
        "Are there any insights that lead to negative growth? Justify with specific reason."
      ],
      "metadata": {
        "id": "JMzcOPDDphqR"
      }
    },
    {
      "cell_type": "markdown",
      "source": [
        "Answer Here"
      ],
      "metadata": {
        "id": "R4Ka1PC2phqR"
      }
    },
    {
      "cell_type": "markdown",
      "source": [
        "#### Chart - 11"
      ],
      "metadata": {
        "id": "x-EpHcCOp1ci"
      }
    },
    {
      "cell_type": "code",
      "source": [
        "# Chart - 11 visualization code"
      ],
      "metadata": {
        "id": "mAQTIvtqp1cj"
      },
      "execution_count": null,
      "outputs": []
    },
    {
      "cell_type": "markdown",
      "source": [
        "##### 1. Why did you pick the specific chart?"
      ],
      "metadata": {
        "id": "X_VqEhTip1ck"
      }
    },
    {
      "cell_type": "markdown",
      "source": [
        "Answer Here."
      ],
      "metadata": {
        "id": "-vsMzt_np1ck"
      }
    },
    {
      "cell_type": "markdown",
      "source": [
        "##### 2. What is/are the insight(s) found from the chart?"
      ],
      "metadata": {
        "id": "8zGJKyg5p1ck"
      }
    },
    {
      "cell_type": "markdown",
      "source": [
        "Answer Here"
      ],
      "metadata": {
        "id": "ZYdMsrqVp1ck"
      }
    },
    {
      "cell_type": "markdown",
      "source": [
        "##### 3. Will the gained insights help creating a positive business impact? \n",
        "Are there any insights that lead to negative growth? Justify with specific reason."
      ],
      "metadata": {
        "id": "PVzmfK_Ep1ck"
      }
    },
    {
      "cell_type": "markdown",
      "source": [
        "Answer Here"
      ],
      "metadata": {
        "id": "druuKYZpp1ck"
      }
    },
    {
      "cell_type": "markdown",
      "source": [
        "#### Chart - 12"
      ],
      "metadata": {
        "id": "n3dbpmDWp1ck"
      }
    },
    {
      "cell_type": "code",
      "source": [
        "# Chart - 12 visualization code"
      ],
      "metadata": {
        "id": "bwevp1tKp1ck"
      },
      "execution_count": null,
      "outputs": []
    },
    {
      "cell_type": "markdown",
      "source": [
        "##### 1. Why did you pick the specific chart?"
      ],
      "metadata": {
        "id": "ylSl6qgtp1ck"
      }
    },
    {
      "cell_type": "markdown",
      "source": [
        "Answer Here."
      ],
      "metadata": {
        "id": "m2xqNkiQp1ck"
      }
    },
    {
      "cell_type": "markdown",
      "source": [
        "##### 2. What is/are the insight(s) found from the chart?"
      ],
      "metadata": {
        "id": "ZWILFDl5p1ck"
      }
    },
    {
      "cell_type": "markdown",
      "source": [
        "Answer Here"
      ],
      "metadata": {
        "id": "x-lUsV2mp1ck"
      }
    },
    {
      "cell_type": "markdown",
      "source": [
        "##### 3. Will the gained insights help creating a positive business impact? \n",
        "Are there any insights that lead to negative growth? Justify with specific reason."
      ],
      "metadata": {
        "id": "M7G43BXep1ck"
      }
    },
    {
      "cell_type": "markdown",
      "source": [
        "Answer Here"
      ],
      "metadata": {
        "id": "5wwDJXsLp1cl"
      }
    },
    {
      "cell_type": "markdown",
      "source": [
        "#### Chart - 13"
      ],
      "metadata": {
        "id": "Ag9LCva-p1cl"
      }
    },
    {
      "cell_type": "markdown",
      "source": [
        "![image.png](data:image/png;base64,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)\n",
        "\n",
        "For interactive dashboard- [Click here](https://public.tableau.com/views/Netflixdasboard_16717379913640/NetflixDashboard?:language=en-US&:display_count=n&:origin=viz_share_link)  (please select fullscreen option given at bottom right corner of dashboard for better experience. )\n"
      ],
      "metadata": {
        "id": "fVDyYO6EI1Ol"
      }
    },
    {
      "cell_type": "code",
      "source": [
        "# Chart - 13 visualization code"
      ],
      "metadata": {
        "id": "EUfxeq9-p1cl"
      },
      "execution_count": null,
      "outputs": []
    },
    {
      "cell_type": "markdown",
      "source": [
        "##### 1. Why did you pick the specific chart?"
      ],
      "metadata": {
        "id": "E6MkPsBcp1cl"
      }
    },
    {
      "cell_type": "markdown",
      "source": [
        "Answer Here."
      ],
      "metadata": {
        "id": "V22bRsFWp1cl"
      }
    },
    {
      "cell_type": "markdown",
      "source": [
        "##### 2. What is/are the insight(s) found from the chart?"
      ],
      "metadata": {
        "id": "2cELzS2fp1cl"
      }
    },
    {
      "cell_type": "markdown",
      "source": [
        "Answer Here"
      ],
      "metadata": {
        "id": "ozQPc2_Ip1cl"
      }
    },
    {
      "cell_type": "markdown",
      "source": [
        "##### 3. Will the gained insights help creating a positive business impact? \n",
        "Are there any insights that lead to negative growth? Justify with specific reason."
      ],
      "metadata": {
        "id": "3MPXvC8up1cl"
      }
    },
    {
      "cell_type": "markdown",
      "source": [
        "Answer Here"
      ],
      "metadata": {
        "id": "GL8l1tdLp1cl"
      }
    },
    {
      "cell_type": "markdown",
      "source": [
        "#### Chart - 14 - Correlation Heatmap"
      ],
      "metadata": {
        "id": "NC_X3p0fY2L0"
      }
    },
    {
      "cell_type": "code",
      "source": [
        "# Correlation Heatmap visualization code"
      ],
      "metadata": {
        "id": "xyC9zolEZNRQ"
      },
      "execution_count": null,
      "outputs": []
    },
    {
      "cell_type": "markdown",
      "source": [
        "##### 1. Why did you pick the specific chart?"
      ],
      "metadata": {
        "id": "UV0SzAkaZNRQ"
      }
    },
    {
      "cell_type": "markdown",
      "source": [
        "Answer Here."
      ],
      "metadata": {
        "id": "DVPuT8LYZNRQ"
      }
    },
    {
      "cell_type": "markdown",
      "source": [
        "##### 2. What is/are the insight(s) found from the chart?"
      ],
      "metadata": {
        "id": "YPEH6qLeZNRQ"
      }
    },
    {
      "cell_type": "markdown",
      "source": [
        "Answer Here"
      ],
      "metadata": {
        "id": "bfSqtnDqZNRR"
      }
    },
    {
      "cell_type": "markdown",
      "source": [
        "#### Chart - 15 - Pair Plot "
      ],
      "metadata": {
        "id": "q29F0dvdveiT"
      }
    },
    {
      "cell_type": "code",
      "source": [
        "# Pair Plot visualization code"
      ],
      "metadata": {
        "id": "o58-TEIhveiU"
      },
      "execution_count": null,
      "outputs": []
    },
    {
      "cell_type": "markdown",
      "source": [
        "##### 1. Why did you pick the specific chart?"
      ],
      "metadata": {
        "id": "EXh0U9oCveiU"
      }
    },
    {
      "cell_type": "markdown",
      "source": [
        "Answer Here."
      ],
      "metadata": {
        "id": "eMmPjTByveiU"
      }
    },
    {
      "cell_type": "markdown",
      "source": [
        "##### 2. What is/are the insight(s) found from the chart?"
      ],
      "metadata": {
        "id": "22aHeOlLveiV"
      }
    },
    {
      "cell_type": "markdown",
      "source": [
        "Answer Here"
      ],
      "metadata": {
        "id": "uPQ8RGwHveiV"
      }
    },
    {
      "cell_type": "markdown",
      "source": [
        "## ***5. Hypothesis Testing***"
      ],
      "metadata": {
        "id": "g-ATYxFrGrvw"
      }
    },
    {
      "cell_type": "markdown",
      "source": [
        "### Based on your chart experiments, define three hypothetical statements from the dataset. In the next three questions, perform hypothesis testing to obtain final conclusion about the statements through your code and statistical testing."
      ],
      "metadata": {
        "id": "Yfr_Vlr8HBkt"
      }
    },
    {
      "cell_type": "markdown",
      "source": [
        "Answer Here."
      ],
      "metadata": {
        "id": "-7MS06SUHkB-"
      }
    },
    {
      "cell_type": "markdown",
      "source": [
        "### Hypothetical Statement - 1"
      ],
      "metadata": {
        "id": "8yEUt7NnHlrM"
      }
    },
    {
      "cell_type": "markdown",
      "source": [
        "#### 1. State Your research hypothesis as a null hypothesis and alternate hypothesis."
      ],
      "metadata": {
        "id": "tEA2Xm5dHt1r"
      }
    },
    {
      "cell_type": "markdown",
      "source": [
        "Answer Here."
      ],
      "metadata": {
        "id": "HI9ZP0laH0D-"
      }
    },
    {
      "cell_type": "markdown",
      "source": [
        "#### 2. Perform an appropriate statistical test."
      ],
      "metadata": {
        "id": "I79__PHVH19G"
      }
    },
    {
      "cell_type": "code",
      "source": [
        "# Perform Statistical Test to obtain P-Value"
      ],
      "metadata": {
        "id": "oZrfquKtyian"
      },
      "execution_count": null,
      "outputs": []
    },
    {
      "cell_type": "markdown",
      "source": [
        "##### Which statistical test have you done to obtain P-Value?"
      ],
      "metadata": {
        "id": "Ou-I18pAyIpj"
      }
    },
    {
      "cell_type": "markdown",
      "source": [
        "Answer Here."
      ],
      "metadata": {
        "id": "s2U0kk00ygSB"
      }
    },
    {
      "cell_type": "markdown",
      "source": [
        "##### Why did you choose the specific statistical test?"
      ],
      "metadata": {
        "id": "fF3858GYyt-u"
      }
    },
    {
      "cell_type": "markdown",
      "source": [
        "Answer Here."
      ],
      "metadata": {
        "id": "HO4K0gP5y3B4"
      }
    },
    {
      "cell_type": "markdown",
      "source": [
        "### Hypothetical Statement - 2"
      ],
      "metadata": {
        "id": "4_0_7-oCpUZd"
      }
    },
    {
      "cell_type": "markdown",
      "source": [
        "#### 1. State Your research hypothesis as a null hypothesis and alternate hypothesis."
      ],
      "metadata": {
        "id": "hwyV_J3ipUZe"
      }
    },
    {
      "cell_type": "markdown",
      "source": [
        "Answer Here."
      ],
      "metadata": {
        "id": "FnpLGJ-4pUZe"
      }
    },
    {
      "cell_type": "markdown",
      "source": [
        "#### 2. Perform an appropriate statistical test."
      ],
      "metadata": {
        "id": "3yB-zSqbpUZe"
      }
    },
    {
      "cell_type": "code",
      "source": [
        "# Perform Statistical Test to obtain P-Value"
      ],
      "metadata": {
        "id": "sWxdNTXNpUZe"
      },
      "execution_count": null,
      "outputs": []
    },
    {
      "cell_type": "markdown",
      "source": [
        "##### Which statistical test have you done to obtain P-Value?"
      ],
      "metadata": {
        "id": "dEUvejAfpUZe"
      }
    },
    {
      "cell_type": "markdown",
      "source": [
        "Answer Here."
      ],
      "metadata": {
        "id": "oLDrPz7HpUZf"
      }
    },
    {
      "cell_type": "markdown",
      "source": [
        "##### Why did you choose the specific statistical test?"
      ],
      "metadata": {
        "id": "Fd15vwWVpUZf"
      }
    },
    {
      "cell_type": "markdown",
      "source": [
        "Answer Here."
      ],
      "metadata": {
        "id": "4xOGYyiBpUZf"
      }
    },
    {
      "cell_type": "markdown",
      "source": [
        "### Hypothetical Statement - 3"
      ],
      "metadata": {
        "id": "bn_IUdTipZyH"
      }
    },
    {
      "cell_type": "markdown",
      "source": [
        "#### 1. State Your research hypothesis as a null hypothesis and alternate hypothesis."
      ],
      "metadata": {
        "id": "49K5P_iCpZyH"
      }
    },
    {
      "cell_type": "markdown",
      "source": [
        "Answer Here."
      ],
      "metadata": {
        "id": "7gWI5rT9pZyH"
      }
    },
    {
      "cell_type": "markdown",
      "source": [
        "#### 2. Perform an appropriate statistical test."
      ],
      "metadata": {
        "id": "Nff-vKELpZyI"
      }
    },
    {
      "cell_type": "code",
      "source": [
        "# Perform Statistical Test to obtain P-Value"
      ],
      "metadata": {
        "id": "s6AnJQjtpZyI"
      },
      "execution_count": null,
      "outputs": []
    },
    {
      "cell_type": "markdown",
      "source": [
        "##### Which statistical test have you done to obtain P-Value?"
      ],
      "metadata": {
        "id": "kLW572S8pZyI"
      }
    },
    {
      "cell_type": "markdown",
      "source": [
        "Answer Here."
      ],
      "metadata": {
        "id": "ytWJ8v15pZyI"
      }
    },
    {
      "cell_type": "markdown",
      "source": [
        "##### Why did you choose the specific statistical test?"
      ],
      "metadata": {
        "id": "dWbDXHzopZyI"
      }
    },
    {
      "cell_type": "markdown",
      "source": [
        "Answer Here."
      ],
      "metadata": {
        "id": "M99G98V6pZyI"
      }
    },
    {
      "cell_type": "markdown",
      "source": [
        "## ***6. Feature Engineering & Data Pre-processing***"
      ],
      "metadata": {
        "id": "yLjJCtPM0KBk"
      }
    },
    {
      "cell_type": "markdown",
      "source": [
        "### 1. Handling Missing Values"
      ],
      "metadata": {
        "id": "xiyOF9F70UgQ"
      }
    },
    {
      "cell_type": "code",
      "source": [
        "# Handling Missing Values & Missing Value Imputation"
      ],
      "metadata": {
        "id": "iRsAHk1K0fpS"
      },
      "execution_count": null,
      "outputs": []
    },
    {
      "cell_type": "markdown",
      "source": [
        "#### What all missing value imputation techniques have you used and why did you use those techniques?"
      ],
      "metadata": {
        "id": "7wuGOrhz0itI"
      }
    },
    {
      "cell_type": "markdown",
      "source": [
        "Answer Here."
      ],
      "metadata": {
        "id": "1ixusLtI0pqI"
      }
    },
    {
      "cell_type": "markdown",
      "source": [
        "### 2. Handling Outliers"
      ],
      "metadata": {
        "id": "id1riN9m0vUs"
      }
    },
    {
      "cell_type": "code",
      "source": [
        "# Handling Outliers & Outlier treatments"
      ],
      "metadata": {
        "id": "M6w2CzZf04JK"
      },
      "execution_count": null,
      "outputs": []
    },
    {
      "cell_type": "markdown",
      "source": [
        "##### What all outlier treatment techniques have you used and why did you use those techniques?"
      ],
      "metadata": {
        "id": "578E2V7j08f6"
      }
    },
    {
      "cell_type": "markdown",
      "source": [
        "Answer Here."
      ],
      "metadata": {
        "id": "uGZz5OrT1HH-"
      }
    },
    {
      "cell_type": "markdown",
      "source": [
        "### 3. Categorical Encoding"
      ],
      "metadata": {
        "id": "89xtkJwZ18nB"
      }
    },
    {
      "cell_type": "code",
      "source": [
        "# Encode your categorical columns"
      ],
      "metadata": {
        "id": "21JmIYMG2hEo"
      },
      "execution_count": null,
      "outputs": []
    },
    {
      "cell_type": "markdown",
      "source": [
        "#### What all categorical encoding techniques have you used & why did you use those techniques?"
      ],
      "metadata": {
        "id": "67NQN5KX2AMe"
      }
    },
    {
      "cell_type": "markdown",
      "source": [
        "Answer Here."
      ],
      "metadata": {
        "id": "UDaue5h32n_G"
      }
    },
    {
      "cell_type": "markdown",
      "source": [
        "### 4. Textual Data Preprocessing \n",
        "(It's mandatory for textual dataset i.e., NLP, Sentiment Analysis, Text Clustering etc.)"
      ],
      "metadata": {
        "id": "Iwf50b-R2tYG"
      }
    },
    {
      "cell_type": "markdown",
      "source": [
        "#### 1. Expand Contraction"
      ],
      "metadata": {
        "id": "GMQiZwjn3iu7"
      }
    },
    {
      "cell_type": "code",
      "source": [
        "# Expand Contraction"
      ],
      "metadata": {
        "id": "PTouz10C3oNN"
      },
      "execution_count": null,
      "outputs": []
    },
    {
      "cell_type": "markdown",
      "source": [
        "#### 2. Lower Casing"
      ],
      "metadata": {
        "id": "WVIkgGqN3qsr"
      }
    },
    {
      "cell_type": "code",
      "source": [
        "# Lower Casing"
      ],
      "metadata": {
        "id": "88JnJ1jN3w7j"
      },
      "execution_count": null,
      "outputs": []
    },
    {
      "cell_type": "markdown",
      "source": [
        "#### 3. Removing Punctuations"
      ],
      "metadata": {
        "id": "XkPnILGE3zoT"
      }
    },
    {
      "cell_type": "code",
      "source": [
        "# Remove Punctuations"
      ],
      "metadata": {
        "id": "vqbBqNaA33c0"
      },
      "execution_count": null,
      "outputs": []
    },
    {
      "cell_type": "markdown",
      "source": [
        "#### 4. Removing URLs & Removing words and digits contain digits."
      ],
      "metadata": {
        "id": "Hlsf0x5436Go"
      }
    },
    {
      "cell_type": "code",
      "source": [
        "# Remove URLs & Remove words and digits contain digits"
      ],
      "metadata": {
        "id": "2sxKgKxu4Ip3"
      },
      "execution_count": null,
      "outputs": []
    },
    {
      "cell_type": "markdown",
      "source": [
        "#### 5. Removing Stopwords & Removing White spaces"
      ],
      "metadata": {
        "id": "mT9DMSJo4nBL"
      }
    },
    {
      "cell_type": "code",
      "source": [
        "# Remove Stopwords"
      ],
      "metadata": {
        "id": "T2LSJh154s8W"
      },
      "execution_count": null,
      "outputs": []
    },
    {
      "cell_type": "code",
      "source": [
        "# Remove White spaces"
      ],
      "metadata": {
        "id": "EgLJGffy4vm0"
      },
      "execution_count": null,
      "outputs": []
    },
    {
      "cell_type": "markdown",
      "source": [
        "#### 6. Rephrase Text"
      ],
      "metadata": {
        "id": "c49ITxTc407N"
      }
    },
    {
      "cell_type": "code",
      "source": [
        "# Rephrase Text"
      ],
      "metadata": {
        "id": "foqY80Qu48N2"
      },
      "execution_count": null,
      "outputs": []
    },
    {
      "cell_type": "markdown",
      "source": [
        "#### 7. Tokenization"
      ],
      "metadata": {
        "id": "OeJFEK0N496M"
      }
    },
    {
      "cell_type": "code",
      "source": [
        "# Tokenization"
      ],
      "metadata": {
        "id": "ijx1rUOS5CUU"
      },
      "execution_count": null,
      "outputs": []
    },
    {
      "cell_type": "markdown",
      "source": [
        "#### 8. Text Normalization"
      ],
      "metadata": {
        "id": "9ExmJH0g5HBk"
      }
    },
    {
      "cell_type": "code",
      "source": [
        "# Normalizing Text (i.e., Stemming, Lemmatization etc.)"
      ],
      "metadata": {
        "id": "AIJ1a-Zc5PY8"
      },
      "execution_count": null,
      "outputs": []
    },
    {
      "cell_type": "markdown",
      "source": [
        "##### Which text normalization technique have you used and why?"
      ],
      "metadata": {
        "id": "cJNqERVU536h"
      }
    },
    {
      "cell_type": "markdown",
      "source": [
        "Answer Here."
      ],
      "metadata": {
        "id": "Z9jKVxE06BC1"
      }
    },
    {
      "cell_type": "markdown",
      "source": [
        "#### 9. Part of speech tagging"
      ],
      "metadata": {
        "id": "k5UmGsbsOxih"
      }
    },
    {
      "cell_type": "code",
      "source": [
        "# POS Taging"
      ],
      "metadata": {
        "id": "btT3ZJBAO6Ik"
      },
      "execution_count": null,
      "outputs": []
    },
    {
      "cell_type": "markdown",
      "source": [
        "#### 10. Text Vectorization"
      ],
      "metadata": {
        "id": "T0VqWOYE6DLQ"
      }
    },
    {
      "cell_type": "code",
      "source": [
        "# Vectorizing Text"
      ],
      "metadata": {
        "id": "yBRtdhth6JDE"
      },
      "execution_count": null,
      "outputs": []
    },
    {
      "cell_type": "markdown",
      "source": [
        "##### Which text vectorization technique have you used and why?"
      ],
      "metadata": {
        "id": "qBMux9mC6MCf"
      }
    },
    {
      "cell_type": "markdown",
      "source": [
        "Answer Here."
      ],
      "metadata": {
        "id": "su2EnbCh6UKQ"
      }
    },
    {
      "cell_type": "markdown",
      "source": [
        "### 4. Feature Manipulation & Selection"
      ],
      "metadata": {
        "id": "-oLEiFgy-5Pf"
      }
    },
    {
      "cell_type": "markdown",
      "source": [
        "#### 1. Feature Manipulation"
      ],
      "metadata": {
        "id": "C74aWNz2AliB"
      }
    },
    {
      "cell_type": "code",
      "source": [
        "# Manipulate Features to minimize feature correlation and create new features"
      ],
      "metadata": {
        "id": "h1qC4yhBApWC"
      },
      "execution_count": null,
      "outputs": []
    },
    {
      "cell_type": "markdown",
      "source": [
        "#### 2. Feature Selection"
      ],
      "metadata": {
        "id": "2DejudWSA-a0"
      }
    },
    {
      "cell_type": "code",
      "source": [
        "# Select your features wisely to avoid overfitting"
      ],
      "metadata": {
        "id": "YLhe8UmaBCEE"
      },
      "execution_count": null,
      "outputs": []
    },
    {
      "cell_type": "markdown",
      "source": [
        "##### What all feature selection methods have you used  and why?"
      ],
      "metadata": {
        "id": "pEMng2IbBLp7"
      }
    },
    {
      "cell_type": "markdown",
      "source": [
        "Answer Here."
      ],
      "metadata": {
        "id": "rb2Lh6Z8BgGs"
      }
    },
    {
      "cell_type": "markdown",
      "source": [
        "##### Which all features you found important and why?"
      ],
      "metadata": {
        "id": "rAdphbQ9Bhjc"
      }
    },
    {
      "cell_type": "markdown",
      "source": [
        "Answer Here."
      ],
      "metadata": {
        "id": "fGgaEstsBnaf"
      }
    },
    {
      "cell_type": "markdown",
      "source": [
        "### 5. Data Transformation"
      ],
      "metadata": {
        "id": "TNVZ9zx19K6k"
      }
    },
    {
      "cell_type": "markdown",
      "source": [
        "#### Do you think that your data needs to be transformed? If yes, which transformation have you used. Explain Why?"
      ],
      "metadata": {
        "id": "nqoHp30x9hH9"
      }
    },
    {
      "cell_type": "code",
      "source": [
        "# Transform Your data"
      ],
      "metadata": {
        "id": "I6quWQ1T9rtH"
      },
      "execution_count": null,
      "outputs": []
    },
    {
      "cell_type": "markdown",
      "source": [
        "### 6. Data Scaling"
      ],
      "metadata": {
        "id": "rMDnDkt2B6du"
      }
    },
    {
      "cell_type": "code",
      "source": [
        "# Scaling your data"
      ],
      "metadata": {
        "id": "dL9LWpySC6x_"
      },
      "execution_count": null,
      "outputs": []
    },
    {
      "cell_type": "markdown",
      "source": [
        "##### Which method have you used to scale you data and why?"
      ],
      "metadata": {
        "id": "yiiVWRdJDDil"
      }
    },
    {
      "cell_type": "markdown",
      "source": [
        "### 7. Dimesionality Reduction"
      ],
      "metadata": {
        "id": "1UUpS68QDMuG"
      }
    },
    {
      "cell_type": "markdown",
      "source": [
        "##### Do you think that dimensionality reduction is needed? Explain Why?"
      ],
      "metadata": {
        "id": "kexQrXU-DjzY"
      }
    },
    {
      "cell_type": "markdown",
      "source": [
        "Answer Here."
      ],
      "metadata": {
        "id": "GGRlBsSGDtTQ"
      }
    },
    {
      "cell_type": "code",
      "source": [
        "# DImensionality Reduction (If needed)"
      ],
      "metadata": {
        "id": "kQfvxBBHDvCa"
      },
      "execution_count": null,
      "outputs": []
    },
    {
      "cell_type": "markdown",
      "source": [
        "##### Which dimensionality reduction technique have you used and why? (If dimensionality reduction done on dataset.)"
      ],
      "metadata": {
        "id": "T5CmagL3EC8N"
      }
    },
    {
      "cell_type": "markdown",
      "source": [
        "Answer Here."
      ],
      "metadata": {
        "id": "ZKr75IDuEM7t"
      }
    },
    {
      "cell_type": "markdown",
      "source": [
        "### 8. Data Splitting"
      ],
      "metadata": {
        "id": "BhH2vgX9EjGr"
      }
    },
    {
      "cell_type": "code",
      "source": [
        "# Split your data to train and test. Choose Splitting ratio wisely."
      ],
      "metadata": {
        "id": "0CTyd2UwEyNM"
      },
      "execution_count": null,
      "outputs": []
    },
    {
      "cell_type": "markdown",
      "source": [
        "##### What data splitting ratio have you used and why? "
      ],
      "metadata": {
        "id": "qjKvONjwE8ra"
      }
    },
    {
      "cell_type": "markdown",
      "source": [
        "Answer Here."
      ],
      "metadata": {
        "id": "Y2lJ8cobFDb_"
      }
    },
    {
      "cell_type": "markdown",
      "source": [
        "### 9. Handling Imbalanced Dataset"
      ],
      "metadata": {
        "id": "P1XJ9OREExlT"
      }
    },
    {
      "cell_type": "markdown",
      "source": [
        "##### Do you think the dataset is imbalanced? Explain Why."
      ],
      "metadata": {
        "id": "VFOzZv6IFROw"
      }
    },
    {
      "cell_type": "markdown",
      "source": [
        "Answer Here."
      ],
      "metadata": {
        "id": "GeKDIv7pFgcC"
      }
    },
    {
      "cell_type": "code",
      "source": [
        "# Handling Imbalanced Dataset (If needed)"
      ],
      "metadata": {
        "id": "nQsRhhZLFiDs"
      },
      "execution_count": null,
      "outputs": []
    },
    {
      "cell_type": "markdown",
      "source": [
        "##### What technique did you use to handle the imbalance dataset and why? (If needed to be balanced)"
      ],
      "metadata": {
        "id": "TIqpNgepFxVj"
      }
    },
    {
      "cell_type": "markdown",
      "source": [
        "Answer Here."
      ],
      "metadata": {
        "id": "qbet1HwdGDTz"
      }
    },
    {
      "cell_type": "markdown",
      "source": [
        "## ***7. ML Model Implementation***"
      ],
      "metadata": {
        "id": "VfCC591jGiD4"
      }
    },
    {
      "cell_type": "markdown",
      "source": [
        "### ML Model - 1"
      ],
      "metadata": {
        "id": "OB4l2ZhMeS1U"
      }
    },
    {
      "cell_type": "code",
      "source": [
        "# ML Model - 1 Implementation\n",
        "\n",
        "# Fit the Algorithm\n",
        "\n",
        "# Predict on the model"
      ],
      "metadata": {
        "id": "7ebyywQieS1U"
      },
      "execution_count": null,
      "outputs": []
    },
    {
      "cell_type": "markdown",
      "source": [
        "#### 1. Explain the ML Model used and it's performance using Evaluation metric Score Chart."
      ],
      "metadata": {
        "id": "ArJBuiUVfxKd"
      }
    },
    {
      "cell_type": "code",
      "source": [
        "# Visualizing evaluation Metric Score chart"
      ],
      "metadata": {
        "id": "rqD5ZohzfxKe"
      },
      "execution_count": null,
      "outputs": []
    },
    {
      "cell_type": "markdown",
      "source": [
        "#### 2. Cross- Validation & Hyperparameter Tuning"
      ],
      "metadata": {
        "id": "4qY1EAkEfxKe"
      }
    },
    {
      "cell_type": "code",
      "source": [
        "# ML Model - 1 Implementation with hyperparameter optimization techniques (i.e., GridSearch CV, RandomSearch CV, Bayesian Optimization etc.)\n",
        "\n",
        "# Fit the Algorithm\n",
        "\n",
        "# Predict on the model"
      ],
      "metadata": {
        "id": "Dy61ujd6fxKe"
      },
      "execution_count": null,
      "outputs": []
    },
    {
      "cell_type": "markdown",
      "source": [
        "##### Which hyperparameter optimization technique have you used and why?"
      ],
      "metadata": {
        "id": "PiV4Ypx8fxKe"
      }
    },
    {
      "cell_type": "markdown",
      "source": [
        "Answer Here."
      ],
      "metadata": {
        "id": "negyGRa7fxKf"
      }
    },
    {
      "cell_type": "markdown",
      "source": [
        "##### Have you seen any improvement? Note down the improvement with updates Evaluation metric Score Chart."
      ],
      "metadata": {
        "id": "TfvqoZmBfxKf"
      }
    },
    {
      "cell_type": "markdown",
      "source": [
        "Answer Here."
      ],
      "metadata": {
        "id": "OaLui8CcfxKf"
      }
    },
    {
      "cell_type": "markdown",
      "source": [
        "### ML Model - 2"
      ],
      "metadata": {
        "id": "dJ2tPlVmpsJ0"
      }
    },
    {
      "cell_type": "markdown",
      "source": [
        "#### 1. Explain the ML Model used and it's performance using Evaluation metric Score Chart."
      ],
      "metadata": {
        "id": "JWYfwnehpsJ1"
      }
    },
    {
      "cell_type": "code",
      "source": [
        "# Visualizing evaluation Metric Score chart"
      ],
      "metadata": {
        "id": "yEl-hgQWpsJ1"
      },
      "execution_count": null,
      "outputs": []
    },
    {
      "cell_type": "markdown",
      "source": [
        "#### 2. Cross- Validation & Hyperparameter Tuning"
      ],
      "metadata": {
        "id": "-jK_YjpMpsJ2"
      }
    },
    {
      "cell_type": "code",
      "source": [
        "# ML Model - 1 Implementation with hyperparameter optimization techniques (i.e., GridSearch CV, RandomSearch CV, Bayesian Optimization etc.)\n",
        "\n",
        "# Fit the Algorithm\n",
        "\n",
        "# Predict on the model"
      ],
      "metadata": {
        "id": "Dn0EOfS6psJ2"
      },
      "execution_count": null,
      "outputs": []
    },
    {
      "cell_type": "markdown",
      "source": [
        "##### Which hyperparameter optimization technique have you used and why?"
      ],
      "metadata": {
        "id": "HAih1iBOpsJ2"
      }
    },
    {
      "cell_type": "markdown",
      "source": [
        "Answer Here."
      ],
      "metadata": {
        "id": "9kBgjYcdpsJ2"
      }
    },
    {
      "cell_type": "markdown",
      "source": [
        "##### Have you seen any improvement? Note down the improvement with updates Evaluation metric Score Chart."
      ],
      "metadata": {
        "id": "zVGeBEFhpsJ2"
      }
    },
    {
      "cell_type": "markdown",
      "source": [
        "Answer Here."
      ],
      "metadata": {
        "id": "74yRdG6UpsJ3"
      }
    },
    {
      "cell_type": "markdown",
      "source": [
        "#### 3. Explain each evaluation metric's indication towards business and the business impact pf the ML model used."
      ],
      "metadata": {
        "id": "bmKjuQ-FpsJ3"
      }
    },
    {
      "cell_type": "markdown",
      "source": [
        "Answer Here."
      ],
      "metadata": {
        "id": "BDKtOrBQpsJ3"
      }
    },
    {
      "cell_type": "markdown",
      "source": [
        "### ML Model - 3"
      ],
      "metadata": {
        "id": "Fze-IPXLpx6K"
      }
    },
    {
      "cell_type": "code",
      "source": [
        "# ML Model - 3 Implementation\n",
        "\n",
        "# Fit the Algorithm\n",
        "\n",
        "# Predict on the model"
      ],
      "metadata": {
        "id": "FFrSXAtrpx6M"
      },
      "execution_count": null,
      "outputs": []
    },
    {
      "cell_type": "markdown",
      "source": [
        "#### 1. Explain the ML Model used and it's performance using Evaluation metric Score Chart."
      ],
      "metadata": {
        "id": "7AN1z2sKpx6M"
      }
    },
    {
      "cell_type": "code",
      "source": [
        "# Visualizing evaluation Metric Score chart"
      ],
      "metadata": {
        "id": "xIY4lxxGpx6M"
      },
      "execution_count": null,
      "outputs": []
    },
    {
      "cell_type": "markdown",
      "source": [
        "#### 2. Cross- Validation & Hyperparameter Tuning"
      ],
      "metadata": {
        "id": "9PIHJqyupx6M"
      }
    },
    {
      "cell_type": "code",
      "source": [
        "# ML Model - 3 Implementation with hyperparameter optimization techniques (i.e., GridSearch CV, RandomSearch CV, Bayesian Optimization etc.)\n",
        "\n",
        "# Fit the Algorithm\n",
        "\n",
        "# Predict on the model"
      ],
      "metadata": {
        "id": "eSVXuaSKpx6M"
      },
      "execution_count": null,
      "outputs": []
    },
    {
      "cell_type": "markdown",
      "source": [
        "##### Which hyperparameter optimization technique have you used and why?"
      ],
      "metadata": {
        "id": "_-qAgymDpx6N"
      }
    },
    {
      "cell_type": "markdown",
      "source": [
        "Answer Here."
      ],
      "metadata": {
        "id": "lQMffxkwpx6N"
      }
    },
    {
      "cell_type": "markdown",
      "source": [
        "##### Have you seen any improvement? Note down the improvement with updates Evaluation metric Score Chart."
      ],
      "metadata": {
        "id": "Z-hykwinpx6N"
      }
    },
    {
      "cell_type": "markdown",
      "source": [
        "Answer Here."
      ],
      "metadata": {
        "id": "MzVzZC6opx6N"
      }
    },
    {
      "cell_type": "markdown",
      "source": [
        "### 1. Which Evaluation metrics did you consider for a positive business impact and why?"
      ],
      "metadata": {
        "id": "h_CCil-SKHpo"
      }
    },
    {
      "cell_type": "markdown",
      "source": [
        "Answer Here."
      ],
      "metadata": {
        "id": "jHVz9hHDKFms"
      }
    },
    {
      "cell_type": "markdown",
      "source": [
        "### 2. Which ML model did you choose from the above created models as your final prediction model and why?"
      ],
      "metadata": {
        "id": "cBFFvTBNJzUa"
      }
    },
    {
      "cell_type": "markdown",
      "source": [
        "Answer Here."
      ],
      "metadata": {
        "id": "6ksF5Q1LKTVm"
      }
    },
    {
      "cell_type": "markdown",
      "source": [
        "### 3. Explain the model which you have used and the feature importance using any model explainability tool?"
      ],
      "metadata": {
        "id": "HvGl1hHyA_VK"
      }
    },
    {
      "cell_type": "markdown",
      "source": [
        "Answer Here."
      ],
      "metadata": {
        "id": "YnvVTiIxBL-C"
      }
    },
    {
      "cell_type": "markdown",
      "source": [
        "## ***8.*** ***Future Work (Optional)***"
      ],
      "metadata": {
        "id": "EyNgTHvd2WFk"
      }
    },
    {
      "cell_type": "markdown",
      "source": [
        "### 1. Save the best performing ml model in a pickle file or joblib file format for deployment process.\n"
      ],
      "metadata": {
        "id": "KH5McJBi2d8v"
      }
    },
    {
      "cell_type": "code",
      "source": [
        "# Save the File"
      ],
      "metadata": {
        "id": "bQIANRl32f4J"
      },
      "execution_count": null,
      "outputs": []
    },
    {
      "cell_type": "markdown",
      "source": [
        "### 2. Again Load the saved model file and try to predict unseen data for a sanity check.\n"
      ],
      "metadata": {
        "id": "iW_Lq9qf2h6X"
      }
    },
    {
      "cell_type": "code",
      "source": [
        "# Load the File and predict unseen data."
      ],
      "metadata": {
        "id": "oEXk9ydD2nVC"
      },
      "execution_count": null,
      "outputs": []
    },
    {
      "cell_type": "markdown",
      "source": [
        "### ***Congrats! Your model is successfully created and ready for deployment on a live server for a real user interaction !!!***"
      ],
      "metadata": {
        "id": "-Kee-DAl2viO"
      }
    },
    {
      "cell_type": "markdown",
      "source": [
        "# **Conclusion**"
      ],
      "metadata": {
        "id": "gCX9965dhzqZ"
      }
    },
    {
      "cell_type": "markdown",
      "source": [
        "Write the conclusion here."
      ],
      "metadata": {
        "id": "Fjb1IsQkh3yE"
      }
    },
    {
      "cell_type": "markdown",
      "source": [
        "### ***Hurrah! You have successfully completed your Machine Learning Capstone Project !!!***"
      ],
      "metadata": {
        "id": "gIfDvo9L0UH2"
      }
    }
  ]
}