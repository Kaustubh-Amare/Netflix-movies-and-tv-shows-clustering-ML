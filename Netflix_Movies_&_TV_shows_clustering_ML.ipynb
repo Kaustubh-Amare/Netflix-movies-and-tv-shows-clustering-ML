{
  "nbformat": 4,
  "nbformat_minor": 0,
  "metadata": {
    "colab": {
      "provenance": [],
      "include_colab_link": true
    },
    "kernelspec": {
      "name": "python3",
      "display_name": "Python 3"
    },
    "language_info": {
      "name": "python"
    },
    "gpuClass": "standard"
  },
  "cells": [
    {
      "cell_type": "markdown",
      "metadata": {
        "id": "view-in-github",
        "colab_type": "text"
      },
      "source": [
        "<a href=\"https://colab.research.google.com/github/Kaustubh-Amare/Netflix-movies-and-tv-shows-clustering-ML/blob/main/Netflix_Movies_%26_TV_shows_clustering_ML.ipynb\" target=\"_parent\"><img src=\"https://colab.research.google.com/assets/colab-badge.svg\" alt=\"Open In Colab\"/></a>"
      ]
    },
    {
      "cell_type": "markdown",
      "source": [
        "# **Project Name**    - Netflix Movies & TV shows clustering (Unsupervised ML)\n",
        "\n"
      ],
      "metadata": {
        "id": "vncDsAP0Gaoa"
      }
    },
    {
      "cell_type": "markdown",
      "source": [
        "##### **Project Type**    - Unsupervised\n",
        "##### **Contribution**    - Individual/Team\n",
        "##### **Team Member 1 -**\n",
        "##### **Team Member 2 -**\n",
        "##### **Team Member 3 -**\n",
        "##### **Team Member 4 -**"
      ],
      "metadata": {
        "id": "beRrZCGUAJYm"
      }
    },
    {
      "cell_type": "markdown",
      "source": [
        "# **Project Summary -**"
      ],
      "metadata": {
        "id": "FJNUwmbgGyua"
      }
    },
    {
      "cell_type": "markdown",
      "source": [
        "Write the summary here within 500-600 words."
      ],
      "metadata": {
        "id": "F6v_1wHtG2nS"
      }
    },
    {
      "cell_type": "markdown",
      "source": [
        "# **GitHub Link -**"
      ],
      "metadata": {
        "id": "w6K7xa23Elo4"
      }
    },
    {
      "cell_type": "markdown",
      "source": [
        "Provide your GitHub Link here."
      ],
      "metadata": {
        "id": "h1o69JH3Eqqn"
      }
    },
    {
      "cell_type": "markdown",
      "source": [
        "# **Problem Statement**\n"
      ],
      "metadata": {
        "id": "yQaldy8SH6Dl"
      }
    },
    {
      "cell_type": "markdown",
      "source": [
        "**Write Problem Statement Here.**"
      ],
      "metadata": {
        "id": "DpeJGUA3kjGy"
      }
    },
    {
      "cell_type": "markdown",
      "source": [
        "# **General Guidelines** : -  "
      ],
      "metadata": {
        "id": "mDgbUHAGgjLW"
      }
    },
    {
      "cell_type": "markdown",
      "source": [
        "1.   Well-structured, formatted, and commented code is required. \n",
        "2.   Exception Handling, Production Grade Code & Deployment Ready Code will be a plus. Those students will be awarded some additional credits. \n",
        "     \n",
        "     The additional credits will have advantages over other students during Star Student selection.\n",
        "       \n",
        "             [ Note: - Deployment Ready Code is defined as, the whole .ipynb notebook should be executable in one go\n",
        "                       without a single error logged. ]\n",
        "\n",
        "3.   Each and every logic should have proper comments.\n",
        "4. You may add as many number of charts you want. Make Sure for each and every chart the following format should be answered.\n",
        "        \n",
        "\n",
        "```\n",
        "# Chart visualization code\n",
        "```\n",
        "            \n",
        "\n",
        "*   Why did you pick the specific chart?\n",
        "*   What is/are the insight(s) found from the chart?\n",
        "* Will the gained insights help creating a positive business impact? \n",
        "Are there any insights that lead to negative growth? Justify with specific reason.\n",
        "\n",
        "5. You have to create at least 15 logical & meaningful charts having important insights.\n",
        "\n",
        "\n",
        "[ Hints : - Do the Vizualization in  a structured way while following \"UBM\" Rule. \n",
        "\n",
        "U - Univariate Analysis,\n",
        "\n",
        "B - Bivariate Analysis (Numerical - Categorical, Numerical - Numerical, Categorical - Categorical)\n",
        "\n",
        "M - Multivariate Analysis\n",
        " ]\n",
        "\n",
        "\n",
        "\n",
        "\n",
        "\n",
        "6. You may add more ml algorithms for model creation. Make sure for each and every algorithm, the following format should be answered.\n",
        "\n",
        "\n",
        "*   Explain the ML Model used and it's performance using Evaluation metric Score Chart.\n",
        "\n",
        "\n",
        "*   Cross- Validation & Hyperparameter Tuning\n",
        "\n",
        "*   Have you seen any improvement? Note down the improvement with updates Evaluation metric Score Chart.\n",
        "\n",
        "*   Explain each evaluation metric's indication towards business and the business impact pf the ML model used.\n",
        "\n",
        "\n",
        "\n",
        "\n",
        "\n",
        "\n",
        "\n",
        "\n",
        "\n",
        "\n",
        "\n",
        "\n",
        "\n",
        "\n",
        "\n",
        "\n",
        "\n",
        "\n"
      ],
      "metadata": {
        "id": "ZrxVaUj-hHfC"
      }
    },
    {
      "cell_type": "markdown",
      "source": [
        "# ***Let's Begin !***"
      ],
      "metadata": {
        "id": "O_i_v8NEhb9l"
      }
    },
    {
      "cell_type": "markdown",
      "source": [
        "## ***1. Know Your Data***"
      ],
      "metadata": {
        "id": "HhfV-JJviCcP"
      }
    },
    {
      "cell_type": "markdown",
      "source": [
        "### Import Libraries"
      ],
      "metadata": {
        "id": "Y3lxredqlCYt"
      }
    },
    {
      "cell_type": "code",
      "source": [
        "#neccessary packages\n",
        "import xplotter \n",
        "!pip install pycountry-convert\n",
        "import geopy\n",
        "import folium\n",
        "import geopandas\n",
        "###################\n",
        "import pandas as pd\n",
        "import numpy as np\n",
        "\n",
        "import missingno as msno\n",
        "\n",
        "import seaborn as sns\n",
        "import matplotlib.pyplot as plt\n",
        "import plotly.express as px\n",
        "import plotly.graph_objects as go\n",
        "from plotly.subplots import make_subplots\n",
        "import matplotlib.cm as cm\n",
        "\n",
        "\n",
        "\n",
        "%matplotlib inline\n",
        "\n",
        "# Importing Date & Time util modules\n",
        "from dateutil.parser import parse\n",
        "\n",
        "import collections as c\n",
        "\n",
        "\n",
        "import re\n",
        "import nltk\n",
        "nltk.download('stopwords')\n",
        "from nltk.corpus import stopwords\n",
        "\n",
        "#for nlp\n",
        "from sklearn import preprocessing\n",
        "from sklearn.feature_extraction.text import CountVectorizer, TfidfVectorizer\n",
        "from sklearn.model_selection import train_test_split, KFold\n",
        "from nltk.corpus import stopwords\n",
        "from nltk.stem.snowball import SnowballStemmer\n",
        "\n",
        "from sklearn.metrics import silhouette_score\n",
        "from sklearn.cluster import KMeans\n",
        "from sklearn.metrics import silhouette_samples\n",
        "import scipy.cluster.hierarchy as sch\n",
        "\n",
        "\n",
        "import warnings\n",
        "warnings.filterwarnings('ignore')\n",
        "%matplotlib inline\n",
        "\n",
        "# Importing Date & Time util modules\n",
        "from dateutil.parser import parse\n",
        "\n",
        "import collections as c\n",
        "\n",
        "\n",
        "# Xplotter\n",
        "from xplotter.insights import *\n",
        "from xplotter.formatter import format_spines\n",
        "\n"
      ],
      "metadata": {
        "id": "M8Vqi-pPk-HR",
        "colab": {
          "base_uri": "https://localhost:8080/"
        },
        "outputId": "4b98944c-4c67-4334-b4b8-bd4ec93f921e"
      },
      "execution_count": null,
      "outputs": [
        {
          "output_type": "stream",
          "name": "stdout",
          "text": [
            "Looking in indexes: https://pypi.org/simple, https://us-python.pkg.dev/colab-wheels/public/simple/\n",
            "Collecting pycountry-convert\n",
            "  Using cached pycountry_convert-0.7.2-py3-none-any.whl (13 kB)\n",
            "Requirement already satisfied: pytest>=3.4.0 in /usr/local/lib/python3.8/dist-packages (from pycountry-convert) (3.6.4)\n",
            "Collecting pytest-cov>=2.5.1\n",
            "  Using cached pytest_cov-4.0.0-py3-none-any.whl (21 kB)\n",
            "Requirement already satisfied: wheel>=0.30.0 in /usr/local/lib/python3.8/dist-packages (from pycountry-convert) (0.38.4)\n",
            "Collecting pytest-mock>=1.6.3\n",
            "  Using cached pytest_mock-3.10.0-py3-none-any.whl (9.3 kB)\n",
            "Collecting pprintpp>=0.3.0\n",
            "  Using cached pprintpp-0.4.0-py2.py3-none-any.whl (16 kB)\n",
            "Collecting repoze.lru>=0.7\n",
            "  Using cached repoze.lru-0.7-py3-none-any.whl (10 kB)\n",
            "Collecting pycountry>=16.11.27.1\n",
            "  Using cached pycountry-22.3.5-py2.py3-none-any.whl\n",
            "Requirement already satisfied: setuptools in /usr/local/lib/python3.8/dist-packages (from pycountry>=16.11.27.1->pycountry-convert) (57.4.0)\n",
            "Requirement already satisfied: atomicwrites>=1.0 in /usr/local/lib/python3.8/dist-packages (from pytest>=3.4.0->pycountry-convert) (1.4.1)\n",
            "Requirement already satisfied: more-itertools>=4.0.0 in /usr/local/lib/python3.8/dist-packages (from pytest>=3.4.0->pycountry-convert) (9.0.0)\n",
            "Requirement already satisfied: attrs>=17.4.0 in /usr/local/lib/python3.8/dist-packages (from pytest>=3.4.0->pycountry-convert) (22.1.0)\n",
            "Requirement already satisfied: pluggy<0.8,>=0.5 in /usr/local/lib/python3.8/dist-packages (from pytest>=3.4.0->pycountry-convert) (0.7.1)\n",
            "Requirement already satisfied: six>=1.10.0 in /usr/local/lib/python3.8/dist-packages (from pytest>=3.4.0->pycountry-convert) (1.15.0)\n",
            "Requirement already satisfied: py>=1.5.0 in /usr/local/lib/python3.8/dist-packages (from pytest>=3.4.0->pycountry-convert) (1.11.0)\n",
            "Collecting coverage[toml]>=5.2.1\n",
            "  Using cached coverage-7.0.1-cp38-cp38-manylinux_2_5_x86_64.manylinux1_x86_64.manylinux_2_17_x86_64.manylinux2014_x86_64.whl (217 kB)\n",
            "Collecting pytest>=3.4.0\n",
            "  Using cached pytest-7.2.0-py3-none-any.whl (316 kB)\n",
            "Requirement already satisfied: tomli in /usr/local/lib/python3.8/dist-packages (from coverage[toml]>=5.2.1->pytest-cov>=2.5.1->pycountry-convert) (2.0.1)\n",
            "Collecting iniconfig\n",
            "  Using cached iniconfig-1.1.1-py2.py3-none-any.whl (5.0 kB)\n",
            "Collecting pytest>=3.4.0\n",
            "  Using cached pytest-7.1.3-py3-none-any.whl (298 kB)\n",
            "  Using cached pytest-7.1.2-py3-none-any.whl (297 kB)\n",
            "  Using cached pytest-7.1.1-py3-none-any.whl (297 kB)\n",
            "  Using cached pytest-7.1.0-py3-none-any.whl (297 kB)\n",
            "  Using cached pytest-7.0.1-py3-none-any.whl (296 kB)\n",
            "  Using cached pytest-7.0.0-py3-none-any.whl (296 kB)\n",
            "  Using cached pytest-6.2.5-py3-none-any.whl (280 kB)\n",
            "Requirement already satisfied: toml in /usr/local/lib/python3.8/dist-packages (from pytest>=3.4.0->pycountry-convert) (0.10.2)\n",
            "  Using cached pytest-6.2.4-py3-none-any.whl (280 kB)\n",
            "  Using cached pytest-6.2.3-py3-none-any.whl (280 kB)\n",
            "  Using cached pytest-6.2.2-py3-none-any.whl (280 kB)\n",
            "  Using cached pytest-6.2.1-py3-none-any.whl (279 kB)\n",
            "  Using cached pytest-6.2.0-py3-none-any.whl (279 kB)\n",
            "  Using cached pytest-6.1.2-py3-none-any.whl (272 kB)\n",
            "  Using cached pytest-6.1.1-py3-none-any.whl (272 kB)\n",
            "  Using cached pytest-6.1.0-py3-none-any.whl (272 kB)\n",
            "  Using cached pytest-6.0.2-py3-none-any.whl (270 kB)\n",
            "  Using cached pytest-6.0.1-py3-none-any.whl (270 kB)\n",
            "  Using cached pytest-6.0.0-py3-none-any.whl (270 kB)\n",
            "  Using cached pytest-5.4.3-py3-none-any.whl (248 kB)\n",
            "Requirement already satisfied: wcwidth in /usr/local/lib/python3.8/dist-packages (from pytest>=3.4.0->pycountry-convert) (0.2.5)\n",
            "  Using cached pytest-5.4.2-py3-none-any.whl (247 kB)\n",
            "  Using cached pytest-5.4.1-py3-none-any.whl (246 kB)\n",
            "  Using cached pytest-5.4.0-py3-none-any.whl (247 kB)\n",
            "  Using cached pytest-5.3.5-py3-none-any.whl (235 kB)\n",
            "  Using cached pytest-5.3.4-py3-none-any.whl (235 kB)\n",
            "  Using cached pytest-5.3.3-py3-none-any.whl (235 kB)\n",
            "  Using cached pytest-5.3.2-py3-none-any.whl (234 kB)\n",
            "  Using cached pytest-5.3.1-py3-none-any.whl (233 kB)\n",
            "  Using cached pytest-5.3.0-py3-none-any.whl (233 kB)\n",
            "  Using cached pytest-5.2.4-py3-none-any.whl (227 kB)\n",
            "  Using cached pytest-5.2.3-py3-none-any.whl (227 kB)\n",
            "  Using cached pytest-5.2.2-py3-none-any.whl (227 kB)\n",
            "  Using cached pytest-5.2.1-py3-none-any.whl (226 kB)\n",
            "  Using cached pytest-5.2.0-py3-none-any.whl (226 kB)\n",
            "  Using cached pytest-5.1.3-py3-none-any.whl (224 kB)\n",
            "  Using cached pytest-5.1.2-py3-none-any.whl (224 kB)\n",
            "  Using cached pytest-5.1.1-py3-none-any.whl (223 kB)\n",
            "  Using cached pytest-5.1.0-py3-none-any.whl (223 kB)\n",
            "  Using cached pytest-5.0.1-py3-none-any.whl (221 kB)\n",
            "Requirement already satisfied: importlib-metadata>=0.12 in /usr/local/lib/python3.8/dist-packages (from pytest>=3.4.0->pycountry-convert) (5.1.0)\n",
            "  Using cached pytest-5.0.0-py3-none-any.whl (221 kB)\n",
            "  Using cached pytest-4.6.11-py2.py3-none-any.whl (231 kB)\n",
            "  Using cached pytest-4.6.10-py2.py3-none-any.whl (231 kB)\n",
            "  Using cached pytest-4.6.9-py2.py3-none-any.whl (231 kB)\n",
            "  Using cached pytest-4.6.8-py2.py3-none-any.whl (230 kB)\n",
            "  Using cached pytest-4.6.7-py2.py3-none-any.whl (230 kB)\n",
            "  Using cached pytest-4.6.6-py2.py3-none-any.whl (230 kB)\n",
            "  Using cached pytest-4.6.5-py2.py3-none-any.whl (230 kB)\n",
            "  Using cached pytest-4.6.4-py2.py3-none-any.whl (229 kB)\n",
            "  Using cached pytest-4.6.3-py2.py3-none-any.whl (229 kB)\n",
            "  Using cached pytest-4.6.2-py2.py3-none-any.whl (229 kB)\n",
            "  Using cached pytest-4.6.1-py2.py3-none-any.whl (229 kB)\n",
            "  Using cached pytest-4.6.0-py2.py3-none-any.whl (229 kB)\n",
            "INFO: pip is looking at multiple versions of coverage to determine which version is compatible with other requirements. This could take a while.\n",
            "INFO: pip is looking at multiple versions of coverage[toml] to determine which version is compatible with other requirements. This could take a while.\n",
            "Collecting coverage[toml]>=5.2.1\n",
            "  Using cached coverage-7.0.0-cp38-cp38-manylinux_2_5_x86_64.manylinux1_x86_64.manylinux_2_17_x86_64.manylinux2014_x86_64.whl (217 kB)\n",
            "  Using cached coverage-6.5.0-cp38-cp38-manylinux_2_5_x86_64.manylinux1_x86_64.manylinux_2_17_x86_64.manylinux2014_x86_64.whl (214 kB)\n",
            "  Using cached coverage-6.4.4-cp38-cp38-manylinux_2_5_x86_64.manylinux1_x86_64.manylinux_2_17_x86_64.manylinux2014_x86_64.whl (213 kB)\n",
            "  Using cached coverage-6.4.3-cp38-cp38-manylinux_2_5_x86_64.manylinux1_x86_64.manylinux_2_17_x86_64.manylinux2014_x86_64.whl (213 kB)\n",
            "  Using cached coverage-6.4.2-cp38-cp38-manylinux_2_5_x86_64.manylinux1_x86_64.manylinux_2_17_x86_64.manylinux2014_x86_64.whl (213 kB)\n",
            "  Using cached coverage-6.4.1-cp38-cp38-manylinux_2_5_x86_64.manylinux1_x86_64.manylinux_2_17_x86_64.manylinux2014_x86_64.whl (213 kB)\n",
            "  Using cached coverage-6.4-cp38-cp38-manylinux_2_5_x86_64.manylinux1_x86_64.manylinux_2_17_x86_64.manylinux2014_x86_64.whl (212 kB)\n",
            "INFO: pip is looking at multiple versions of coverage to determine which version is compatible with other requirements. This could take a while.\n",
            "INFO: pip is looking at multiple versions of coverage[toml] to determine which version is compatible with other requirements. This could take a while.\n",
            "  Using cached coverage-6.3.3-cp38-cp38-manylinux_2_5_x86_64.manylinux1_x86_64.manylinux_2_17_x86_64.manylinux2014_x86_64.whl (212 kB)\n",
            "  Using cached coverage-6.3.2-cp38-cp38-manylinux_2_5_x86_64.manylinux1_x86_64.manylinux_2_17_x86_64.manylinux2014_x86_64.whl (212 kB)\n",
            "  Using cached coverage-6.3.1-cp38-cp38-manylinux_2_5_x86_64.manylinux1_x86_64.manylinux_2_17_x86_64.manylinux2014_x86_64.whl (211 kB)\n",
            "  Using cached coverage-6.3-cp38-cp38-manylinux_2_5_x86_64.manylinux1_x86_64.manylinux_2_17_x86_64.manylinux2014_x86_64.whl (211 kB)\n",
            "  Using cached coverage-6.2-cp38-cp38-manylinux_2_5_x86_64.manylinux1_x86_64.manylinux_2_12_x86_64.manylinux2010_x86_64.whl (217 kB)\n",
            "INFO: This is taking longer than usual. You might need to provide the dependency resolver with stricter constraints to reduce runtime. If you want to abort this run, you can press Ctrl + C to do so. To improve how pip performs, tell us what happened here: https://pip.pypa.io/surveys/backtracking\n",
            "INFO: This is taking longer than usual. You might need to provide the dependency resolver with stricter constraints to reduce runtime. If you want to abort this run, you can press Ctrl + C to do so. To improve how pip performs, tell us what happened here: https://pip.pypa.io/surveys/backtracking\n",
            "  Using cached coverage-6.1.2-cp38-cp38-manylinux_2_5_x86_64.manylinux1_x86_64.manylinux_2_12_x86_64.manylinux2010_x86_64.whl (216 kB)\n",
            "  Using cached coverage-6.1.1-cp38-cp38-manylinux_2_5_x86_64.manylinux1_x86_64.manylinux_2_12_x86_64.manylinux2010_x86_64.whl (216 kB)\n",
            "  Using cached coverage-6.1-cp38-cp38-manylinux_2_5_x86_64.manylinux1_x86_64.manylinux_2_12_x86_64.manylinux2010_x86_64.whl (216 kB)\n",
            "  Using cached coverage-6.0.2-cp38-cp38-manylinux_2_5_x86_64.manylinux1_x86_64.manylinux_2_12_x86_64.manylinux2010_x86_64.whl (256 kB)\n",
            "  Using cached coverage-6.0.1-cp38-cp38-manylinux_2_5_x86_64.manylinux1_x86_64.manylinux_2_12_x86_64.manylinux2010_x86_64.whl (255 kB)\n",
            "  Using cached coverage-6.0-cp38-cp38-manylinux_2_5_x86_64.manylinux1_x86_64.manylinux_2_12_x86_64.manylinux2010_x86_64.whl (255 kB)\n",
            "  Using cached coverage-5.5-cp38-cp38-manylinux2010_x86_64.whl (245 kB)\n",
            "  Using cached coverage-5.4-cp38-cp38-manylinux2010_x86_64.whl (245 kB)\n",
            "  Using cached coverage-5.3.1-cp38-cp38-manylinux2010_x86_64.whl (245 kB)\n",
            "  Using cached coverage-5.3-cp38-cp38-manylinux1_x86_64.whl (230 kB)\n",
            "  Using cached coverage-5.2.1-cp38-cp38-manylinux1_x86_64.whl (231 kB)\n",
            "INFO: pip is looking at multiple versions of pytest-cov to determine which version is compatible with other requirements. This could take a while.\n",
            "Collecting pytest-cov>=2.5.1\n",
            "  Using cached pytest_cov-3.0.0-py3-none-any.whl (20 kB)\n",
            "  Using cached pytest_cov-2.12.1-py2.py3-none-any.whl (20 kB)\n",
            "  Using cached pytest_cov-2.12.0-py2.py3-none-any.whl (20 kB)\n",
            "  Using cached pytest_cov-2.11.1-py2.py3-none-any.whl (20 kB)\n",
            "  Using cached pytest_cov-2.11.0-py2.py3-none-any.whl (20 kB)\n",
            "  Using cached pytest_cov-2.10.1-py2.py3-none-any.whl (19 kB)\n",
            "Collecting coverage>=4.4\n",
            "  Using cached coverage-5.2-cp38-cp38-manylinux1_x86_64.whl (231 kB)\n",
            "  Using cached coverage-5.1-cp38-cp38-manylinux1_x86_64.whl (229 kB)\n",
            "  Using cached coverage-5.0.4-cp38-cp38-manylinux1_x86_64.whl (228 kB)\n",
            "  Using cached coverage-5.0.3-cp38-cp38-manylinux1_x86_64.whl (228 kB)\n",
            "  Using cached coverage-5.0.2-cp38-cp38-manylinux1_x86_64.whl (228 kB)\n",
            "  Using cached coverage-5.0.1-cp38-cp38-manylinux1_x86_64.whl (228 kB)\n",
            "  Using cached coverage-5.0-cp38-cp38-manylinux1_x86_64.whl (227 kB)\n",
            "  Using cached coverage-4.5.4.tar.gz (385 kB)\n",
            "  Using cached coverage-4.5.3.tar.gz (384 kB)\n",
            "  Using cached coverage-4.5.2.tar.gz (384 kB)\n",
            "  Using cached coverage-4.5.1.tar.gz (379 kB)\n",
            "  Using cached coverage-4.5.tar.gz (378 kB)\n",
            "  Using cached coverage-4.4.2.tar.gz (374 kB)\n",
            "  Using cached coverage-4.4.1.tar.gz (369 kB)\n",
            "  Using cached coverage-4.4.tar.gz (369 kB)\n",
            "Collecting pytest-cov>=2.5.1\n",
            "  Using cached pytest_cov-2.10.0-py2.py3-none-any.whl (19 kB)\n",
            "INFO: pip is looking at multiple versions of pytest-cov to determine which version is compatible with other requirements. This could take a while.\n",
            "  Using cached pytest_cov-2.9.0-py2.py3-none-any.whl (19 kB)\n",
            "INFO: pip is looking at multiple versions of pytest-mock to determine which version is compatible with other requirements. This could take a while.\n",
            "Collecting pytest-mock>=1.6.3\n",
            "  Using cached pytest_mock-3.9.0-py3-none-any.whl (9.1 kB)\n",
            "  Using cached pytest_mock-3.8.2-py3-none-any.whl (9.1 kB)\n",
            "  Using cached pytest_mock-3.8.1-py3-none-any.whl (9.1 kB)\n",
            "  Using cached pytest_mock-3.8.0-py3-none-any.whl (9.1 kB)\n",
            "  Using cached pytest_mock-3.7.0-py3-none-any.whl (12 kB)\n",
            "  Using cached pytest_mock-3.6.1-py3-none-any.whl (12 kB)\n",
            "  Using cached pytest_mock-3.6.0-py3-none-any.whl (12 kB)\n",
            "INFO: pip is looking at multiple versions of pytest-mock to determine which version is compatible with other requirements. This could take a while.\n",
            "  Using cached pytest_mock-3.5.1-py3-none-any.whl (12 kB)\n",
            "  Using cached pytest_mock-3.5.0-py3-none-any.whl (12 kB)\n",
            "  Using cached pytest_mock-3.4.0-py3-none-any.whl (11 kB)\n",
            "  Using cached pytest_mock-3.3.1-py3-none-any.whl (11 kB)\n",
            "  Using cached pytest_mock-3.3.0-py3-none-any.whl (11 kB)\n",
            "INFO: This is taking longer than usual. You might need to provide the dependency resolver with stricter constraints to reduce runtime. If you want to abort this run, you can press Ctrl + C to do so. To improve how pip performs, tell us what happened here: https://pip.pypa.io/surveys/backtracking\n",
            "  Using cached pytest_mock-3.2.0-py3-none-any.whl (10 kB)\n",
            "Installing collected packages: coverage, repoze.lru, pytest-mock, pytest-cov, pycountry, pprintpp, pycountry-convert\n",
            "Successfully installed coverage-7.0.1 pprintpp-0.4.0 pycountry-22.3.5 pycountry-convert-0.7.2 pytest-cov-2.9.0 pytest-mock-3.2.0 repoze.lru-0.7\n"
          ]
        },
        {
          "output_type": "stream",
          "name": "stderr",
          "text": [
            "[nltk_data] Downloading package stopwords to /root/nltk_data...\n",
            "[nltk_data]   Package stopwords is already up-to-date!\n"
          ]
        }
      ]
    },
    {
      "cell_type": "markdown",
      "source": [
        "### Dataset Loading"
      ],
      "metadata": {
        "id": "3RnN4peoiCZX"
      }
    },
    {
      "cell_type": "code",
      "source": [
        "from google.colab import drive\n",
        "drive.mount('/content/drive')"
      ],
      "metadata": {
        "id": "xnyS_H0f4X0L",
        "colab": {
          "base_uri": "https://localhost:8080/"
        },
        "outputId": "5b63d7ef-8f84-4203-c69e-f80affb83b21"
      },
      "execution_count": null,
      "outputs": [
        {
          "output_type": "stream",
          "name": "stdout",
          "text": [
            "Drive already mounted at /content/drive; to attempt to forcibly remount, call drive.mount(\"/content/drive\", force_remount=True).\n"
          ]
        }
      ]
    },
    {
      "cell_type": "code",
      "source": [
        "# Load Dataset\n",
        "file_path = '/content/drive/MyDrive/DATA_SCI_almabetter/drive_data/NETFLIX MOVIES AND TV SHOWS CLUSTERING.csv'\n",
        "content_df = pd.read_csv(file_path)\n"
      ],
      "metadata": {
        "id": "4CkvbW_SlZ_R"
      },
      "execution_count": null,
      "outputs": []
    },
    {
      "cell_type": "markdown",
      "source": [
        "### Dataset First View"
      ],
      "metadata": {
        "id": "x71ZqKXriCWQ"
      }
    },
    {
      "cell_type": "code",
      "source": [
        "# Dataset First Look (head)\n",
        "content_df.head()"
      ],
      "metadata": {
        "id": "LWNFOSvLl09H",
        "colab": {
          "base_uri": "https://localhost:8080/",
          "height": 424
        },
        "outputId": "c98eb68d-9a92-455c-e781-5f4067712895"
      },
      "execution_count": null,
      "outputs": [
        {
          "output_type": "execute_result",
          "data": {
            "text/plain": [
              "  show_id     type  title           director  \\\n",
              "0      s1  TV Show     3%                NaN   \n",
              "1      s2    Movie   7:19  Jorge Michel Grau   \n",
              "2      s3    Movie  23:59       Gilbert Chan   \n",
              "3      s4    Movie      9        Shane Acker   \n",
              "4      s5    Movie     21     Robert Luketic   \n",
              "\n",
              "                                                cast        country  \\\n",
              "0  João Miguel, Bianca Comparato, Michel Gomes, R...         Brazil   \n",
              "1  Demián Bichir, Héctor Bonilla, Oscar Serrano, ...         Mexico   \n",
              "2  Tedd Chan, Stella Chung, Henley Hii, Lawrence ...      Singapore   \n",
              "3  Elijah Wood, John C. Reilly, Jennifer Connelly...  United States   \n",
              "4  Jim Sturgess, Kevin Spacey, Kate Bosworth, Aar...  United States   \n",
              "\n",
              "          date_added  release_year rating   duration  \\\n",
              "0    August 14, 2020          2020  TV-MA  4 Seasons   \n",
              "1  December 23, 2016          2016  TV-MA     93 min   \n",
              "2  December 20, 2018          2011      R     78 min   \n",
              "3  November 16, 2017          2009  PG-13     80 min   \n",
              "4    January 1, 2020          2008  PG-13    123 min   \n",
              "\n",
              "                                           listed_in  \\\n",
              "0  International TV Shows, TV Dramas, TV Sci-Fi &...   \n",
              "1                       Dramas, International Movies   \n",
              "2                Horror Movies, International Movies   \n",
              "3  Action & Adventure, Independent Movies, Sci-Fi...   \n",
              "4                                             Dramas   \n",
              "\n",
              "                                         description  \n",
              "0  In a future where the elite inhabit an island ...  \n",
              "1  After a devastating earthquake hits Mexico Cit...  \n",
              "2  When an army recruit is found dead, his fellow...  \n",
              "3  In a postapocalyptic world, rag-doll robots hi...  \n",
              "4  A brilliant group of students become card-coun...  "
            ],
            "text/html": [
              "\n",
              "  <div id=\"df-44e6962c-c38b-4071-9017-d1f392785b9b\">\n",
              "    <div class=\"colab-df-container\">\n",
              "      <div>\n",
              "<style scoped>\n",
              "    .dataframe tbody tr th:only-of-type {\n",
              "        vertical-align: middle;\n",
              "    }\n",
              "\n",
              "    .dataframe tbody tr th {\n",
              "        vertical-align: top;\n",
              "    }\n",
              "\n",
              "    .dataframe thead th {\n",
              "        text-align: right;\n",
              "    }\n",
              "</style>\n",
              "<table border=\"1\" class=\"dataframe\">\n",
              "  <thead>\n",
              "    <tr style=\"text-align: right;\">\n",
              "      <th></th>\n",
              "      <th>show_id</th>\n",
              "      <th>type</th>\n",
              "      <th>title</th>\n",
              "      <th>director</th>\n",
              "      <th>cast</th>\n",
              "      <th>country</th>\n",
              "      <th>date_added</th>\n",
              "      <th>release_year</th>\n",
              "      <th>rating</th>\n",
              "      <th>duration</th>\n",
              "      <th>listed_in</th>\n",
              "      <th>description</th>\n",
              "    </tr>\n",
              "  </thead>\n",
              "  <tbody>\n",
              "    <tr>\n",
              "      <th>0</th>\n",
              "      <td>s1</td>\n",
              "      <td>TV Show</td>\n",
              "      <td>3%</td>\n",
              "      <td>NaN</td>\n",
              "      <td>João Miguel, Bianca Comparato, Michel Gomes, R...</td>\n",
              "      <td>Brazil</td>\n",
              "      <td>August 14, 2020</td>\n",
              "      <td>2020</td>\n",
              "      <td>TV-MA</td>\n",
              "      <td>4 Seasons</td>\n",
              "      <td>International TV Shows, TV Dramas, TV Sci-Fi &amp;...</td>\n",
              "      <td>In a future where the elite inhabit an island ...</td>\n",
              "    </tr>\n",
              "    <tr>\n",
              "      <th>1</th>\n",
              "      <td>s2</td>\n",
              "      <td>Movie</td>\n",
              "      <td>7:19</td>\n",
              "      <td>Jorge Michel Grau</td>\n",
              "      <td>Demián Bichir, Héctor Bonilla, Oscar Serrano, ...</td>\n",
              "      <td>Mexico</td>\n",
              "      <td>December 23, 2016</td>\n",
              "      <td>2016</td>\n",
              "      <td>TV-MA</td>\n",
              "      <td>93 min</td>\n",
              "      <td>Dramas, International Movies</td>\n",
              "      <td>After a devastating earthquake hits Mexico Cit...</td>\n",
              "    </tr>\n",
              "    <tr>\n",
              "      <th>2</th>\n",
              "      <td>s3</td>\n",
              "      <td>Movie</td>\n",
              "      <td>23:59</td>\n",
              "      <td>Gilbert Chan</td>\n",
              "      <td>Tedd Chan, Stella Chung, Henley Hii, Lawrence ...</td>\n",
              "      <td>Singapore</td>\n",
              "      <td>December 20, 2018</td>\n",
              "      <td>2011</td>\n",
              "      <td>R</td>\n",
              "      <td>78 min</td>\n",
              "      <td>Horror Movies, International Movies</td>\n",
              "      <td>When an army recruit is found dead, his fellow...</td>\n",
              "    </tr>\n",
              "    <tr>\n",
              "      <th>3</th>\n",
              "      <td>s4</td>\n",
              "      <td>Movie</td>\n",
              "      <td>9</td>\n",
              "      <td>Shane Acker</td>\n",
              "      <td>Elijah Wood, John C. Reilly, Jennifer Connelly...</td>\n",
              "      <td>United States</td>\n",
              "      <td>November 16, 2017</td>\n",
              "      <td>2009</td>\n",
              "      <td>PG-13</td>\n",
              "      <td>80 min</td>\n",
              "      <td>Action &amp; Adventure, Independent Movies, Sci-Fi...</td>\n",
              "      <td>In a postapocalyptic world, rag-doll robots hi...</td>\n",
              "    </tr>\n",
              "    <tr>\n",
              "      <th>4</th>\n",
              "      <td>s5</td>\n",
              "      <td>Movie</td>\n",
              "      <td>21</td>\n",
              "      <td>Robert Luketic</td>\n",
              "      <td>Jim Sturgess, Kevin Spacey, Kate Bosworth, Aar...</td>\n",
              "      <td>United States</td>\n",
              "      <td>January 1, 2020</td>\n",
              "      <td>2008</td>\n",
              "      <td>PG-13</td>\n",
              "      <td>123 min</td>\n",
              "      <td>Dramas</td>\n",
              "      <td>A brilliant group of students become card-coun...</td>\n",
              "    </tr>\n",
              "  </tbody>\n",
              "</table>\n",
              "</div>\n",
              "      <button class=\"colab-df-convert\" onclick=\"convertToInteractive('df-44e6962c-c38b-4071-9017-d1f392785b9b')\"\n",
              "              title=\"Convert this dataframe to an interactive table.\"\n",
              "              style=\"display:none;\">\n",
              "        \n",
              "  <svg xmlns=\"http://www.w3.org/2000/svg\" height=\"24px\"viewBox=\"0 0 24 24\"\n",
              "       width=\"24px\">\n",
              "    <path d=\"M0 0h24v24H0V0z\" fill=\"none\"/>\n",
              "    <path d=\"M18.56 5.44l.94 2.06.94-2.06 2.06-.94-2.06-.94-.94-2.06-.94 2.06-2.06.94zm-11 1L8.5 8.5l.94-2.06 2.06-.94-2.06-.94L8.5 2.5l-.94 2.06-2.06.94zm10 10l.94 2.06.94-2.06 2.06-.94-2.06-.94-.94-2.06-.94 2.06-2.06.94z\"/><path d=\"M17.41 7.96l-1.37-1.37c-.4-.4-.92-.59-1.43-.59-.52 0-1.04.2-1.43.59L10.3 9.45l-7.72 7.72c-.78.78-.78 2.05 0 2.83L4 21.41c.39.39.9.59 1.41.59.51 0 1.02-.2 1.41-.59l7.78-7.78 2.81-2.81c.8-.78.8-2.07 0-2.86zM5.41 20L4 18.59l7.72-7.72 1.47 1.35L5.41 20z\"/>\n",
              "  </svg>\n",
              "      </button>\n",
              "      \n",
              "  <style>\n",
              "    .colab-df-container {\n",
              "      display:flex;\n",
              "      flex-wrap:wrap;\n",
              "      gap: 12px;\n",
              "    }\n",
              "\n",
              "    .colab-df-convert {\n",
              "      background-color: #E8F0FE;\n",
              "      border: none;\n",
              "      border-radius: 50%;\n",
              "      cursor: pointer;\n",
              "      display: none;\n",
              "      fill: #1967D2;\n",
              "      height: 32px;\n",
              "      padding: 0 0 0 0;\n",
              "      width: 32px;\n",
              "    }\n",
              "\n",
              "    .colab-df-convert:hover {\n",
              "      background-color: #E2EBFA;\n",
              "      box-shadow: 0px 1px 2px rgba(60, 64, 67, 0.3), 0px 1px 3px 1px rgba(60, 64, 67, 0.15);\n",
              "      fill: #174EA6;\n",
              "    }\n",
              "\n",
              "    [theme=dark] .colab-df-convert {\n",
              "      background-color: #3B4455;\n",
              "      fill: #D2E3FC;\n",
              "    }\n",
              "\n",
              "    [theme=dark] .colab-df-convert:hover {\n",
              "      background-color: #434B5C;\n",
              "      box-shadow: 0px 1px 3px 1px rgba(0, 0, 0, 0.15);\n",
              "      filter: drop-shadow(0px 1px 2px rgba(0, 0, 0, 0.3));\n",
              "      fill: #FFFFFF;\n",
              "    }\n",
              "  </style>\n",
              "\n",
              "      <script>\n",
              "        const buttonEl =\n",
              "          document.querySelector('#df-44e6962c-c38b-4071-9017-d1f392785b9b button.colab-df-convert');\n",
              "        buttonEl.style.display =\n",
              "          google.colab.kernel.accessAllowed ? 'block' : 'none';\n",
              "\n",
              "        async function convertToInteractive(key) {\n",
              "          const element = document.querySelector('#df-44e6962c-c38b-4071-9017-d1f392785b9b');\n",
              "          const dataTable =\n",
              "            await google.colab.kernel.invokeFunction('convertToInteractive',\n",
              "                                                     [key], {});\n",
              "          if (!dataTable) return;\n",
              "\n",
              "          const docLinkHtml = 'Like what you see? Visit the ' +\n",
              "            '<a target=\"_blank\" href=https://colab.research.google.com/notebooks/data_table.ipynb>data table notebook</a>'\n",
              "            + ' to learn more about interactive tables.';\n",
              "          element.innerHTML = '';\n",
              "          dataTable['output_type'] = 'display_data';\n",
              "          await google.colab.output.renderOutput(dataTable, element);\n",
              "          const docLink = document.createElement('div');\n",
              "          docLink.innerHTML = docLinkHtml;\n",
              "          element.appendChild(docLink);\n",
              "        }\n",
              "      </script>\n",
              "    </div>\n",
              "  </div>\n",
              "  "
            ]
          },
          "metadata": {},
          "execution_count": 9
        }
      ]
    },
    {
      "cell_type": "code",
      "source": [
        "# Dataset First Look (tail)\n",
        "content_df.tail()"
      ],
      "metadata": {
        "id": "jM5dyxX356uw",
        "colab": {
          "base_uri": "https://localhost:8080/",
          "height": 476
        },
        "outputId": "93c77fe3-5d21-4a2b-fb92-8e22f9fcf358"
      },
      "execution_count": null,
      "outputs": [
        {
          "output_type": "execute_result",
          "data": {
            "text/plain": [
              "     show_id     type                                    title     director  \\\n",
              "7782   s7783    Movie                                     Zozo  Josef Fares   \n",
              "7783   s7784    Movie                                   Zubaan  Mozez Singh   \n",
              "7784   s7785    Movie                        Zulu Man in Japan          NaN   \n",
              "7785   s7786  TV Show                    Zumbo's Just Desserts          NaN   \n",
              "7786   s7787    Movie  ZZ TOP: THAT LITTLE OL' BAND FROM TEXAS     Sam Dunn   \n",
              "\n",
              "                                                   cast  \\\n",
              "7782  Imad Creidi, Antoinette Turk, Elias Gergi, Car...   \n",
              "7783  Vicky Kaushal, Sarah-Jane Dias, Raaghav Chanan...   \n",
              "7784                                            Nasty C   \n",
              "7785                         Adriano Zumbo, Rachel Khoo   \n",
              "7786                                                NaN   \n",
              "\n",
              "                                                country          date_added  \\\n",
              "7782  Sweden, Czech Republic, United Kingdom, Denmar...    October 19, 2020   \n",
              "7783                                              India       March 2, 2019   \n",
              "7784                                                NaN  September 25, 2020   \n",
              "7785                                          Australia    October 31, 2020   \n",
              "7786              United Kingdom, Canada, United States       March 1, 2020   \n",
              "\n",
              "      release_year rating  duration  \\\n",
              "7782          2005  TV-MA    99 min   \n",
              "7783          2015  TV-14   111 min   \n",
              "7784          2019  TV-MA    44 min   \n",
              "7785          2019  TV-PG  1 Season   \n",
              "7786          2019  TV-MA    90 min   \n",
              "\n",
              "                                              listed_in  \\\n",
              "7782                       Dramas, International Movies   \n",
              "7783     Dramas, International Movies, Music & Musicals   \n",
              "7784  Documentaries, International Movies, Music & M...   \n",
              "7785                 International TV Shows, Reality TV   \n",
              "7786                    Documentaries, Music & Musicals   \n",
              "\n",
              "                                            description  \n",
              "7782  When Lebanon's Civil War deprives Zozo of his ...  \n",
              "7783  A scrappy but poor boy worms his way into a ty...  \n",
              "7784  In this documentary, South African rapper Nast...  \n",
              "7785  Dessert wizard Adriano Zumbo looks for the nex...  \n",
              "7786  This documentary delves into the mystique behi...  "
            ],
            "text/html": [
              "\n",
              "  <div id=\"df-f913da45-120d-4ea4-8ae4-4122bc6b791e\">\n",
              "    <div class=\"colab-df-container\">\n",
              "      <div>\n",
              "<style scoped>\n",
              "    .dataframe tbody tr th:only-of-type {\n",
              "        vertical-align: middle;\n",
              "    }\n",
              "\n",
              "    .dataframe tbody tr th {\n",
              "        vertical-align: top;\n",
              "    }\n",
              "\n",
              "    .dataframe thead th {\n",
              "        text-align: right;\n",
              "    }\n",
              "</style>\n",
              "<table border=\"1\" class=\"dataframe\">\n",
              "  <thead>\n",
              "    <tr style=\"text-align: right;\">\n",
              "      <th></th>\n",
              "      <th>show_id</th>\n",
              "      <th>type</th>\n",
              "      <th>title</th>\n",
              "      <th>director</th>\n",
              "      <th>cast</th>\n",
              "      <th>country</th>\n",
              "      <th>date_added</th>\n",
              "      <th>release_year</th>\n",
              "      <th>rating</th>\n",
              "      <th>duration</th>\n",
              "      <th>listed_in</th>\n",
              "      <th>description</th>\n",
              "    </tr>\n",
              "  </thead>\n",
              "  <tbody>\n",
              "    <tr>\n",
              "      <th>7782</th>\n",
              "      <td>s7783</td>\n",
              "      <td>Movie</td>\n",
              "      <td>Zozo</td>\n",
              "      <td>Josef Fares</td>\n",
              "      <td>Imad Creidi, Antoinette Turk, Elias Gergi, Car...</td>\n",
              "      <td>Sweden, Czech Republic, United Kingdom, Denmar...</td>\n",
              "      <td>October 19, 2020</td>\n",
              "      <td>2005</td>\n",
              "      <td>TV-MA</td>\n",
              "      <td>99 min</td>\n",
              "      <td>Dramas, International Movies</td>\n",
              "      <td>When Lebanon's Civil War deprives Zozo of his ...</td>\n",
              "    </tr>\n",
              "    <tr>\n",
              "      <th>7783</th>\n",
              "      <td>s7784</td>\n",
              "      <td>Movie</td>\n",
              "      <td>Zubaan</td>\n",
              "      <td>Mozez Singh</td>\n",
              "      <td>Vicky Kaushal, Sarah-Jane Dias, Raaghav Chanan...</td>\n",
              "      <td>India</td>\n",
              "      <td>March 2, 2019</td>\n",
              "      <td>2015</td>\n",
              "      <td>TV-14</td>\n",
              "      <td>111 min</td>\n",
              "      <td>Dramas, International Movies, Music &amp; Musicals</td>\n",
              "      <td>A scrappy but poor boy worms his way into a ty...</td>\n",
              "    </tr>\n",
              "    <tr>\n",
              "      <th>7784</th>\n",
              "      <td>s7785</td>\n",
              "      <td>Movie</td>\n",
              "      <td>Zulu Man in Japan</td>\n",
              "      <td>NaN</td>\n",
              "      <td>Nasty C</td>\n",
              "      <td>NaN</td>\n",
              "      <td>September 25, 2020</td>\n",
              "      <td>2019</td>\n",
              "      <td>TV-MA</td>\n",
              "      <td>44 min</td>\n",
              "      <td>Documentaries, International Movies, Music &amp; M...</td>\n",
              "      <td>In this documentary, South African rapper Nast...</td>\n",
              "    </tr>\n",
              "    <tr>\n",
              "      <th>7785</th>\n",
              "      <td>s7786</td>\n",
              "      <td>TV Show</td>\n",
              "      <td>Zumbo's Just Desserts</td>\n",
              "      <td>NaN</td>\n",
              "      <td>Adriano Zumbo, Rachel Khoo</td>\n",
              "      <td>Australia</td>\n",
              "      <td>October 31, 2020</td>\n",
              "      <td>2019</td>\n",
              "      <td>TV-PG</td>\n",
              "      <td>1 Season</td>\n",
              "      <td>International TV Shows, Reality TV</td>\n",
              "      <td>Dessert wizard Adriano Zumbo looks for the nex...</td>\n",
              "    </tr>\n",
              "    <tr>\n",
              "      <th>7786</th>\n",
              "      <td>s7787</td>\n",
              "      <td>Movie</td>\n",
              "      <td>ZZ TOP: THAT LITTLE OL' BAND FROM TEXAS</td>\n",
              "      <td>Sam Dunn</td>\n",
              "      <td>NaN</td>\n",
              "      <td>United Kingdom, Canada, United States</td>\n",
              "      <td>March 1, 2020</td>\n",
              "      <td>2019</td>\n",
              "      <td>TV-MA</td>\n",
              "      <td>90 min</td>\n",
              "      <td>Documentaries, Music &amp; Musicals</td>\n",
              "      <td>This documentary delves into the mystique behi...</td>\n",
              "    </tr>\n",
              "  </tbody>\n",
              "</table>\n",
              "</div>\n",
              "      <button class=\"colab-df-convert\" onclick=\"convertToInteractive('df-f913da45-120d-4ea4-8ae4-4122bc6b791e')\"\n",
              "              title=\"Convert this dataframe to an interactive table.\"\n",
              "              style=\"display:none;\">\n",
              "        \n",
              "  <svg xmlns=\"http://www.w3.org/2000/svg\" height=\"24px\"viewBox=\"0 0 24 24\"\n",
              "       width=\"24px\">\n",
              "    <path d=\"M0 0h24v24H0V0z\" fill=\"none\"/>\n",
              "    <path d=\"M18.56 5.44l.94 2.06.94-2.06 2.06-.94-2.06-.94-.94-2.06-.94 2.06-2.06.94zm-11 1L8.5 8.5l.94-2.06 2.06-.94-2.06-.94L8.5 2.5l-.94 2.06-2.06.94zm10 10l.94 2.06.94-2.06 2.06-.94-2.06-.94-.94-2.06-.94 2.06-2.06.94z\"/><path d=\"M17.41 7.96l-1.37-1.37c-.4-.4-.92-.59-1.43-.59-.52 0-1.04.2-1.43.59L10.3 9.45l-7.72 7.72c-.78.78-.78 2.05 0 2.83L4 21.41c.39.39.9.59 1.41.59.51 0 1.02-.2 1.41-.59l7.78-7.78 2.81-2.81c.8-.78.8-2.07 0-2.86zM5.41 20L4 18.59l7.72-7.72 1.47 1.35L5.41 20z\"/>\n",
              "  </svg>\n",
              "      </button>\n",
              "      \n",
              "  <style>\n",
              "    .colab-df-container {\n",
              "      display:flex;\n",
              "      flex-wrap:wrap;\n",
              "      gap: 12px;\n",
              "    }\n",
              "\n",
              "    .colab-df-convert {\n",
              "      background-color: #E8F0FE;\n",
              "      border: none;\n",
              "      border-radius: 50%;\n",
              "      cursor: pointer;\n",
              "      display: none;\n",
              "      fill: #1967D2;\n",
              "      height: 32px;\n",
              "      padding: 0 0 0 0;\n",
              "      width: 32px;\n",
              "    }\n",
              "\n",
              "    .colab-df-convert:hover {\n",
              "      background-color: #E2EBFA;\n",
              "      box-shadow: 0px 1px 2px rgba(60, 64, 67, 0.3), 0px 1px 3px 1px rgba(60, 64, 67, 0.15);\n",
              "      fill: #174EA6;\n",
              "    }\n",
              "\n",
              "    [theme=dark] .colab-df-convert {\n",
              "      background-color: #3B4455;\n",
              "      fill: #D2E3FC;\n",
              "    }\n",
              "\n",
              "    [theme=dark] .colab-df-convert:hover {\n",
              "      background-color: #434B5C;\n",
              "      box-shadow: 0px 1px 3px 1px rgba(0, 0, 0, 0.15);\n",
              "      filter: drop-shadow(0px 1px 2px rgba(0, 0, 0, 0.3));\n",
              "      fill: #FFFFFF;\n",
              "    }\n",
              "  </style>\n",
              "\n",
              "      <script>\n",
              "        const buttonEl =\n",
              "          document.querySelector('#df-f913da45-120d-4ea4-8ae4-4122bc6b791e button.colab-df-convert');\n",
              "        buttonEl.style.display =\n",
              "          google.colab.kernel.accessAllowed ? 'block' : 'none';\n",
              "\n",
              "        async function convertToInteractive(key) {\n",
              "          const element = document.querySelector('#df-f913da45-120d-4ea4-8ae4-4122bc6b791e');\n",
              "          const dataTable =\n",
              "            await google.colab.kernel.invokeFunction('convertToInteractive',\n",
              "                                                     [key], {});\n",
              "          if (!dataTable) return;\n",
              "\n",
              "          const docLinkHtml = 'Like what you see? Visit the ' +\n",
              "            '<a target=\"_blank\" href=https://colab.research.google.com/notebooks/data_table.ipynb>data table notebook</a>'\n",
              "            + ' to learn more about interactive tables.';\n",
              "          element.innerHTML = '';\n",
              "          dataTable['output_type'] = 'display_data';\n",
              "          await google.colab.output.renderOutput(dataTable, element);\n",
              "          const docLink = document.createElement('div');\n",
              "          docLink.innerHTML = docLinkHtml;\n",
              "          element.appendChild(docLink);\n",
              "        }\n",
              "      </script>\n",
              "    </div>\n",
              "  </div>\n",
              "  "
            ]
          },
          "metadata": {},
          "execution_count": 10
        }
      ]
    },
    {
      "cell_type": "markdown",
      "source": [
        "### Dataset Rows & Columns count"
      ],
      "metadata": {
        "id": "7hBIi_osiCS2"
      }
    },
    {
      "cell_type": "code",
      "source": [
        "# Dataset Rows & Columns count\n",
        "# shape of data\n",
        "print('There are',content_df.shape[0],'rows and',content_df.shape[1],'features in given netflix dataset.')\n",
        "# print('No. of Columns :',content_df.shape[1])"
      ],
      "metadata": {
        "id": "Kllu7SJgmLij",
        "colab": {
          "base_uri": "https://localhost:8080/"
        },
        "outputId": "135333fd-5573-4a0a-fcfd-4592c0dedf4b"
      },
      "execution_count": null,
      "outputs": [
        {
          "output_type": "stream",
          "name": "stdout",
          "text": [
            "There are 7787 rows and 12 features in given netflix dataset.\n"
          ]
        }
      ]
    },
    {
      "cell_type": "markdown",
      "source": [
        "### Dataset Information"
      ],
      "metadata": {
        "id": "JlHwYmJAmNHm"
      }
    },
    {
      "cell_type": "code",
      "source": [
        "# Dataset Info\n",
        "content_df.info()"
      ],
      "metadata": {
        "id": "e9hRXRi6meOf",
        "colab": {
          "base_uri": "https://localhost:8080/"
        },
        "outputId": "85fad36d-4d48-4866-a705-25e593ffbc60"
      },
      "execution_count": null,
      "outputs": [
        {
          "output_type": "stream",
          "name": "stdout",
          "text": [
            "<class 'pandas.core.frame.DataFrame'>\n",
            "RangeIndex: 7787 entries, 0 to 7786\n",
            "Data columns (total 12 columns):\n",
            " #   Column        Non-Null Count  Dtype \n",
            "---  ------        --------------  ----- \n",
            " 0   show_id       7787 non-null   object\n",
            " 1   type          7787 non-null   object\n",
            " 2   title         7787 non-null   object\n",
            " 3   director      5398 non-null   object\n",
            " 4   cast          7069 non-null   object\n",
            " 5   country       7280 non-null   object\n",
            " 6   date_added    7777 non-null   object\n",
            " 7   release_year  7787 non-null   int64 \n",
            " 8   rating        7780 non-null   object\n",
            " 9   duration      7787 non-null   object\n",
            " 10  listed_in     7787 non-null   object\n",
            " 11  description   7787 non-null   object\n",
            "dtypes: int64(1), object(11)\n",
            "memory usage: 730.2+ KB\n"
          ]
        }
      ]
    },
    {
      "cell_type": "markdown",
      "source": [
        "#### Duplicate Values"
      ],
      "metadata": {
        "id": "35m5QtbWiB9F"
      }
    },
    {
      "cell_type": "code",
      "source": [
        "# Dataset Duplicate Value Count\n",
        "content_df.duplicated().sum()"
      ],
      "metadata": {
        "id": "1sLdpKYkmox0",
        "colab": {
          "base_uri": "https://localhost:8080/"
        },
        "outputId": "80e58a4f-8480-4c59-b919-16e01dcce33e"
      },
      "execution_count": null,
      "outputs": [
        {
          "output_type": "execute_result",
          "data": {
            "text/plain": [
              "0"
            ]
          },
          "metadata": {},
          "execution_count": 13
        }
      ]
    },
    {
      "cell_type": "markdown",
      "source": [
        "#### Function for extracting complete information of all columns in data set. Information as follows\n",
        "* Missing values\n",
        "* Percentage of missing values\n",
        "* unique values"
      ],
      "metadata": {
        "id": "XbkjSZU5BmDb"
      }
    },
    {
      "cell_type": "code",
      "source": [
        "# function for determination of null values, uniques values in columns and there features.\n",
        "def Complete_columns_info(df):\n",
        "        mis_val =df.isna().sum()\n",
        "        mis_val_percent = 100 *df.isna().sum() / len(df)\n",
        "        unique_val= df.nunique()\n",
        "        cci_table = pd.concat([mis_val, mis_val_percent, unique_val], axis=1)\n",
        "        cci_table = cci_table.rename(columns = {0 : 'No of Null Values', 1 : '% of null values', 2 : 'No of unique values' })\n",
        "        cci_table['Data Type'] = df.dtypes\n",
        "        cci_table = cci_table.sort_values('% of null values', ascending=False).round(1)\n",
        "        print (\" selected dataframe has \" + str(df.shape[1]) + \" columns and \" + str(df.shape[0]),\"rows\")\n",
        "        return cci_table"
      ],
      "metadata": {
        "id": "LXtrcSrGBHui"
      },
      "execution_count": null,
      "outputs": []
    },
    {
      "cell_type": "markdown",
      "source": [
        "#### Missing Values/Null Values"
      ],
      "metadata": {
        "id": "PoPl-ycgm1ru"
      }
    },
    {
      "cell_type": "code",
      "source": [
        "# Missing Values/Null Values Count\n",
        "Complete_columns_info(content_df)"
      ],
      "metadata": {
        "id": "GgHWkxvamxVg",
        "colab": {
          "base_uri": "https://localhost:8080/",
          "height": 443
        },
        "outputId": "889cc5da-6cc0-43d4-b60b-f91c06747233"
      },
      "execution_count": null,
      "outputs": [
        {
          "output_type": "stream",
          "name": "stdout",
          "text": [
            " selected dataframe has 12 columns and 7787 rows\n"
          ]
        },
        {
          "output_type": "execute_result",
          "data": {
            "text/plain": [
              "              No of Null Values  % of null values  No of unique values  \\\n",
              "director                   2389              30.7                 4049   \n",
              "cast                        718               9.2                 6831   \n",
              "country                     507               6.5                  681   \n",
              "date_added                   10               0.1                 1565   \n",
              "rating                        7               0.1                   14   \n",
              "show_id                       0               0.0                 7787   \n",
              "type                          0               0.0                    2   \n",
              "title                         0               0.0                 7787   \n",
              "release_year                  0               0.0                   73   \n",
              "duration                      0               0.0                  216   \n",
              "listed_in                     0               0.0                  492   \n",
              "description                   0               0.0                 7769   \n",
              "\n",
              "             Data Type  \n",
              "director        object  \n",
              "cast            object  \n",
              "country         object  \n",
              "date_added      object  \n",
              "rating          object  \n",
              "show_id         object  \n",
              "type            object  \n",
              "title           object  \n",
              "release_year     int64  \n",
              "duration        object  \n",
              "listed_in       object  \n",
              "description     object  "
            ],
            "text/html": [
              "\n",
              "  <div id=\"df-28c39891-c420-4217-a1bc-81e1c7568df1\">\n",
              "    <div class=\"colab-df-container\">\n",
              "      <div>\n",
              "<style scoped>\n",
              "    .dataframe tbody tr th:only-of-type {\n",
              "        vertical-align: middle;\n",
              "    }\n",
              "\n",
              "    .dataframe tbody tr th {\n",
              "        vertical-align: top;\n",
              "    }\n",
              "\n",
              "    .dataframe thead th {\n",
              "        text-align: right;\n",
              "    }\n",
              "</style>\n",
              "<table border=\"1\" class=\"dataframe\">\n",
              "  <thead>\n",
              "    <tr style=\"text-align: right;\">\n",
              "      <th></th>\n",
              "      <th>No of Null Values</th>\n",
              "      <th>% of null values</th>\n",
              "      <th>No of unique values</th>\n",
              "      <th>Data Type</th>\n",
              "    </tr>\n",
              "  </thead>\n",
              "  <tbody>\n",
              "    <tr>\n",
              "      <th>director</th>\n",
              "      <td>2389</td>\n",
              "      <td>30.7</td>\n",
              "      <td>4049</td>\n",
              "      <td>object</td>\n",
              "    </tr>\n",
              "    <tr>\n",
              "      <th>cast</th>\n",
              "      <td>718</td>\n",
              "      <td>9.2</td>\n",
              "      <td>6831</td>\n",
              "      <td>object</td>\n",
              "    </tr>\n",
              "    <tr>\n",
              "      <th>country</th>\n",
              "      <td>507</td>\n",
              "      <td>6.5</td>\n",
              "      <td>681</td>\n",
              "      <td>object</td>\n",
              "    </tr>\n",
              "    <tr>\n",
              "      <th>date_added</th>\n",
              "      <td>10</td>\n",
              "      <td>0.1</td>\n",
              "      <td>1565</td>\n",
              "      <td>object</td>\n",
              "    </tr>\n",
              "    <tr>\n",
              "      <th>rating</th>\n",
              "      <td>7</td>\n",
              "      <td>0.1</td>\n",
              "      <td>14</td>\n",
              "      <td>object</td>\n",
              "    </tr>\n",
              "    <tr>\n",
              "      <th>show_id</th>\n",
              "      <td>0</td>\n",
              "      <td>0.0</td>\n",
              "      <td>7787</td>\n",
              "      <td>object</td>\n",
              "    </tr>\n",
              "    <tr>\n",
              "      <th>type</th>\n",
              "      <td>0</td>\n",
              "      <td>0.0</td>\n",
              "      <td>2</td>\n",
              "      <td>object</td>\n",
              "    </tr>\n",
              "    <tr>\n",
              "      <th>title</th>\n",
              "      <td>0</td>\n",
              "      <td>0.0</td>\n",
              "      <td>7787</td>\n",
              "      <td>object</td>\n",
              "    </tr>\n",
              "    <tr>\n",
              "      <th>release_year</th>\n",
              "      <td>0</td>\n",
              "      <td>0.0</td>\n",
              "      <td>73</td>\n",
              "      <td>int64</td>\n",
              "    </tr>\n",
              "    <tr>\n",
              "      <th>duration</th>\n",
              "      <td>0</td>\n",
              "      <td>0.0</td>\n",
              "      <td>216</td>\n",
              "      <td>object</td>\n",
              "    </tr>\n",
              "    <tr>\n",
              "      <th>listed_in</th>\n",
              "      <td>0</td>\n",
              "      <td>0.0</td>\n",
              "      <td>492</td>\n",
              "      <td>object</td>\n",
              "    </tr>\n",
              "    <tr>\n",
              "      <th>description</th>\n",
              "      <td>0</td>\n",
              "      <td>0.0</td>\n",
              "      <td>7769</td>\n",
              "      <td>object</td>\n",
              "    </tr>\n",
              "  </tbody>\n",
              "</table>\n",
              "</div>\n",
              "      <button class=\"colab-df-convert\" onclick=\"convertToInteractive('df-28c39891-c420-4217-a1bc-81e1c7568df1')\"\n",
              "              title=\"Convert this dataframe to an interactive table.\"\n",
              "              style=\"display:none;\">\n",
              "        \n",
              "  <svg xmlns=\"http://www.w3.org/2000/svg\" height=\"24px\"viewBox=\"0 0 24 24\"\n",
              "       width=\"24px\">\n",
              "    <path d=\"M0 0h24v24H0V0z\" fill=\"none\"/>\n",
              "    <path d=\"M18.56 5.44l.94 2.06.94-2.06 2.06-.94-2.06-.94-.94-2.06-.94 2.06-2.06.94zm-11 1L8.5 8.5l.94-2.06 2.06-.94-2.06-.94L8.5 2.5l-.94 2.06-2.06.94zm10 10l.94 2.06.94-2.06 2.06-.94-2.06-.94-.94-2.06-.94 2.06-2.06.94z\"/><path d=\"M17.41 7.96l-1.37-1.37c-.4-.4-.92-.59-1.43-.59-.52 0-1.04.2-1.43.59L10.3 9.45l-7.72 7.72c-.78.78-.78 2.05 0 2.83L4 21.41c.39.39.9.59 1.41.59.51 0 1.02-.2 1.41-.59l7.78-7.78 2.81-2.81c.8-.78.8-2.07 0-2.86zM5.41 20L4 18.59l7.72-7.72 1.47 1.35L5.41 20z\"/>\n",
              "  </svg>\n",
              "      </button>\n",
              "      \n",
              "  <style>\n",
              "    .colab-df-container {\n",
              "      display:flex;\n",
              "      flex-wrap:wrap;\n",
              "      gap: 12px;\n",
              "    }\n",
              "\n",
              "    .colab-df-convert {\n",
              "      background-color: #E8F0FE;\n",
              "      border: none;\n",
              "      border-radius: 50%;\n",
              "      cursor: pointer;\n",
              "      display: none;\n",
              "      fill: #1967D2;\n",
              "      height: 32px;\n",
              "      padding: 0 0 0 0;\n",
              "      width: 32px;\n",
              "    }\n",
              "\n",
              "    .colab-df-convert:hover {\n",
              "      background-color: #E2EBFA;\n",
              "      box-shadow: 0px 1px 2px rgba(60, 64, 67, 0.3), 0px 1px 3px 1px rgba(60, 64, 67, 0.15);\n",
              "      fill: #174EA6;\n",
              "    }\n",
              "\n",
              "    [theme=dark] .colab-df-convert {\n",
              "      background-color: #3B4455;\n",
              "      fill: #D2E3FC;\n",
              "    }\n",
              "\n",
              "    [theme=dark] .colab-df-convert:hover {\n",
              "      background-color: #434B5C;\n",
              "      box-shadow: 0px 1px 3px 1px rgba(0, 0, 0, 0.15);\n",
              "      filter: drop-shadow(0px 1px 2px rgba(0, 0, 0, 0.3));\n",
              "      fill: #FFFFFF;\n",
              "    }\n",
              "  </style>\n",
              "\n",
              "      <script>\n",
              "        const buttonEl =\n",
              "          document.querySelector('#df-28c39891-c420-4217-a1bc-81e1c7568df1 button.colab-df-convert');\n",
              "        buttonEl.style.display =\n",
              "          google.colab.kernel.accessAllowed ? 'block' : 'none';\n",
              "\n",
              "        async function convertToInteractive(key) {\n",
              "          const element = document.querySelector('#df-28c39891-c420-4217-a1bc-81e1c7568df1');\n",
              "          const dataTable =\n",
              "            await google.colab.kernel.invokeFunction('convertToInteractive',\n",
              "                                                     [key], {});\n",
              "          if (!dataTable) return;\n",
              "\n",
              "          const docLinkHtml = 'Like what you see? Visit the ' +\n",
              "            '<a target=\"_blank\" href=https://colab.research.google.com/notebooks/data_table.ipynb>data table notebook</a>'\n",
              "            + ' to learn more about interactive tables.';\n",
              "          element.innerHTML = '';\n",
              "          dataTable['output_type'] = 'display_data';\n",
              "          await google.colab.output.renderOutput(dataTable, element);\n",
              "          const docLink = document.createElement('div');\n",
              "          docLink.innerHTML = docLinkHtml;\n",
              "          element.appendChild(docLink);\n",
              "        }\n",
              "      </script>\n",
              "    </div>\n",
              "  </div>\n",
              "  "
            ]
          },
          "metadata": {},
          "execution_count": 15
        }
      ]
    },
    {
      "cell_type": "code",
      "source": [
        "# Visualizing the missing values\n",
        "msno.bar(content_df)"
      ],
      "metadata": {
        "id": "3q5wnI3om9sJ",
        "colab": {
          "base_uri": "https://localhost:8080/",
          "height": 615
        },
        "outputId": "1fd832e7-24ab-4c37-9750-67c652a6044f"
      },
      "execution_count": null,
      "outputs": [
        {
          "output_type": "execute_result",
          "data": {
            "text/plain": [
              "<matplotlib.axes._subplots.AxesSubplot at 0x7fe804825340>"
            ]
          },
          "metadata": {},
          "execution_count": 16
        },
        {
          "output_type": "display_data",
          "data": {
            "text/plain": [
              "<Figure size 1800x720 with 3 Axes>"
            ],
            "image/png": "[encoded data removed]"
          },
          "metadata": {
            "needs_background": "light"
          }
        }
      ]
    },
    {
      "cell_type": "markdown",
      "source": [
        "### What did you know about your dataset?"
      ],
      "metadata": {
        "id": "H0kj-8xxnORC"
      }
    },
    {
      "cell_type": "markdown",
      "source": [
        "Answer Here"
      ],
      "metadata": {
        "id": "gfoNAAC-nUe_"
      }
    },
    {
      "cell_type": "markdown",
      "source": [
        "## ***2. Understanding Your Variables***"
      ],
      "metadata": {
        "id": "nA9Y7ga8ng1Z"
      }
    },
    {
      "cell_type": "code",
      "source": [
        "# Dataset Columns\n",
        "content_df.columns"
      ],
      "metadata": {
        "id": "j7xfkqrt5Ag5",
        "colab": {
          "base_uri": "https://localhost:8080/"
        },
        "outputId": "74440254-e619-4f68-9426-c2c4638049a0"
      },
      "execution_count": null,
      "outputs": [
        {
          "output_type": "execute_result",
          "data": {
            "text/plain": [
              "Index(['show_id', 'type', 'title', 'director', 'cast', 'country', 'date_added',\n",
              "       'release_year', 'rating', 'duration', 'listed_in', 'description'],\n",
              "      dtype='object')"
            ]
          },
          "metadata": {},
          "execution_count": 17
        }
      ]
    },
    {
      "cell_type": "code",
      "source": [
        "# Dataset Describe\n",
        "content_df.describe()"
      ],
      "metadata": {
        "id": "DnOaZdaE5Q5t",
        "colab": {
          "base_uri": "https://localhost:8080/",
          "height": 300
        },
        "outputId": "edd3c874-a4dd-4bd3-a6d9-15854b5a2799"
      },
      "execution_count": null,
      "outputs": [
        {
          "output_type": "execute_result",
          "data": {
            "text/plain": [
              "       release_year\n",
              "count   7787.000000\n",
              "mean    2013.932580\n",
              "std        8.757395\n",
              "min     1925.000000\n",
              "25%     2013.000000\n",
              "50%     2017.000000\n",
              "75%     2018.000000\n",
              "max     2021.000000"
            ],
            "text/html": [
              "\n",
              "  <div id=\"df-d0547bc1-560c-4b4b-a65e-cc02cb5c2471\">\n",
              "    <div class=\"colab-df-container\">\n",
              "      <div>\n",
              "<style scoped>\n",
              "    .dataframe tbody tr th:only-of-type {\n",
              "        vertical-align: middle;\n",
              "    }\n",
              "\n",
              "    .dataframe tbody tr th {\n",
              "        vertical-align: top;\n",
              "    }\n",
              "\n",
              "    .dataframe thead th {\n",
              "        text-align: right;\n",
              "    }\n",
              "</style>\n",
              "<table border=\"1\" class=\"dataframe\">\n",
              "  <thead>\n",
              "    <tr style=\"text-align: right;\">\n",
              "      <th></th>\n",
              "      <th>release_year</th>\n",
              "    </tr>\n",
              "  </thead>\n",
              "  <tbody>\n",
              "    <tr>\n",
              "      <th>count</th>\n",
              "      <td>7787.000000</td>\n",
              "    </tr>\n",
              "    <tr>\n",
              "      <th>mean</th>\n",
              "      <td>2013.932580</td>\n",
              "    </tr>\n",
              "    <tr>\n",
              "      <th>std</th>\n",
              "      <td>8.757395</td>\n",
              "    </tr>\n",
              "    <tr>\n",
              "      <th>min</th>\n",
              "      <td>1925.000000</td>\n",
              "    </tr>\n",
              "    <tr>\n",
              "      <th>25%</th>\n",
              "      <td>2013.000000</td>\n",
              "    </tr>\n",
              "    <tr>\n",
              "      <th>50%</th>\n",
              "      <td>2017.000000</td>\n",
              "    </tr>\n",
              "    <tr>\n",
              "      <th>75%</th>\n",
              "      <td>2018.000000</td>\n",
              "    </tr>\n",
              "    <tr>\n",
              "      <th>max</th>\n",
              "      <td>2021.000000</td>\n",
              "    </tr>\n",
              "  </tbody>\n",
              "</table>\n",
              "</div>\n",
              "      <button class=\"colab-df-convert\" onclick=\"convertToInteractive('df-d0547bc1-560c-4b4b-a65e-cc02cb5c2471')\"\n",
              "              title=\"Convert this dataframe to an interactive table.\"\n",
              "              style=\"display:none;\">\n",
              "        \n",
              "  <svg xmlns=\"http://www.w3.org/2000/svg\" height=\"24px\"viewBox=\"0 0 24 24\"\n",
              "       width=\"24px\">\n",
              "    <path d=\"M0 0h24v24H0V0z\" fill=\"none\"/>\n",
              "    <path d=\"M18.56 5.44l.94 2.06.94-2.06 2.06-.94-2.06-.94-.94-2.06-.94 2.06-2.06.94zm-11 1L8.5 8.5l.94-2.06 2.06-.94-2.06-.94L8.5 2.5l-.94 2.06-2.06.94zm10 10l.94 2.06.94-2.06 2.06-.94-2.06-.94-.94-2.06-.94 2.06-2.06.94z\"/><path d=\"M17.41 7.96l-1.37-1.37c-.4-.4-.92-.59-1.43-.59-.52 0-1.04.2-1.43.59L10.3 9.45l-7.72 7.72c-.78.78-.78 2.05 0 2.83L4 21.41c.39.39.9.59 1.41.59.51 0 1.02-.2 1.41-.59l7.78-7.78 2.81-2.81c.8-.78.8-2.07 0-2.86zM5.41 20L4 18.59l7.72-7.72 1.47 1.35L5.41 20z\"/>\n",
              "  </svg>\n",
              "      </button>\n",
              "      \n",
              "  <style>\n",
              "    .colab-df-container {\n",
              "      display:flex;\n",
              "      flex-wrap:wrap;\n",
              "      gap: 12px;\n",
              "    }\n",
              "\n",
              "    .colab-df-convert {\n",
              "      background-color: #E8F0FE;\n",
              "      border: none;\n",
              "      border-radius: 50%;\n",
              "      cursor: pointer;\n",
              "      display: none;\n",
              "      fill: #1967D2;\n",
              "      height: 32px;\n",
              "      padding: 0 0 0 0;\n",
              "      width: 32px;\n",
              "    }\n",
              "\n",
              "    .colab-df-convert:hover {\n",
              "      background-color: #E2EBFA;\n",
              "      box-shadow: 0px 1px 2px rgba(60, 64, 67, 0.3), 0px 1px 3px 1px rgba(60, 64, 67, 0.15);\n",
              "      fill: #174EA6;\n",
              "    }\n",
              "\n",
              "    [theme=dark] .colab-df-convert {\n",
              "      background-color: #3B4455;\n",
              "      fill: #D2E3FC;\n",
              "    }\n",
              "\n",
              "    [theme=dark] .colab-df-convert:hover {\n",
              "      background-color: #434B5C;\n",
              "      box-shadow: 0px 1px 3px 1px rgba(0, 0, 0, 0.15);\n",
              "      filter: drop-shadow(0px 1px 2px rgba(0, 0, 0, 0.3));\n",
              "      fill: #FFFFFF;\n",
              "    }\n",
              "  </style>\n",
              "\n",
              "      <script>\n",
              "        const buttonEl =\n",
              "          document.querySelector('#df-d0547bc1-560c-4b4b-a65e-cc02cb5c2471 button.colab-df-convert');\n",
              "        buttonEl.style.display =\n",
              "          google.colab.kernel.accessAllowed ? 'block' : 'none';\n",
              "\n",
              "        async function convertToInteractive(key) {\n",
              "          const element = document.querySelector('#df-d0547bc1-560c-4b4b-a65e-cc02cb5c2471');\n",
              "          const dataTable =\n",
              "            await google.colab.kernel.invokeFunction('convertToInteractive',\n",
              "                                                     [key], {});\n",
              "          if (!dataTable) return;\n",
              "\n",
              "          const docLinkHtml = 'Like what you see? Visit the ' +\n",
              "            '<a target=\"_blank\" href=https://colab.research.google.com/notebooks/data_table.ipynb>data table notebook</a>'\n",
              "            + ' to learn more about interactive tables.';\n",
              "          element.innerHTML = '';\n",
              "          dataTable['output_type'] = 'display_data';\n",
              "          await google.colab.output.renderOutput(dataTable, element);\n",
              "          const docLink = document.createElement('div');\n",
              "          docLink.innerHTML = docLinkHtml;\n",
              "          element.appendChild(docLink);\n",
              "        }\n",
              "      </script>\n",
              "    </div>\n",
              "  </div>\n",
              "  "
            ]
          },
          "metadata": {},
          "execution_count": 18
        }
      ]
    },
    {
      "cell_type": "markdown",
      "source": [
        "### Variables Description "
      ],
      "metadata": {
        "id": "PBTbrJXOngz2"
      }
    },
    {
      "cell_type": "markdown",
      "source": [
        "Answer Here"
      ],
      "metadata": {
        "id": "aJV4KIxSnxay"
      }
    },
    {
      "cell_type": "markdown",
      "source": [
        "### Check Unique Values for each variable."
      ],
      "metadata": {
        "id": "u3PMJOP6ngxN"
      }
    },
    {
      "cell_type": "code",
      "source": [
        "# Check Unique Values for each variable."
      ],
      "metadata": {
        "id": "zms12Yq5n-jE"
      },
      "execution_count": null,
      "outputs": []
    },
    {
      "cell_type": "markdown",
      "source": [
        "## 3. ***Data Wrangling***"
      ],
      "metadata": {
        "id": "dauF4eBmngu3"
      }
    },
    {
      "cell_type": "markdown",
      "source": [
        "### Data Wrangling Code"
      ],
      "metadata": {
        "id": "bKJF3rekwFvQ"
      }
    },
    {
      "cell_type": "code",
      "source": [
        "# Write your code to make your dataset analysis ready."
      ],
      "metadata": {
        "id": "wk-9a2fpoLcV"
      },
      "execution_count": null,
      "outputs": []
    },
    {
      "cell_type": "markdown",
      "source": [
        "> Date time variable conversion"
      ],
      "metadata": {
        "id": "Y-3xukZR0krv"
      }
    },
    {
      "cell_type": "code",
      "source": [
        "# Create new features to store date, day, month and year seperately :\n",
        "\n",
        "# First convert date_added to date time format.\n",
        "content_df[\"date_added\"] = pd.to_datetime(content_df['date_added'])\n",
        "  \n",
        "# Compute day. \n",
        "content_df['day_added'] = content_df['date_added'].dt.day   \n",
        "\n",
        "# Compute year.         \n",
        "content_df['year_added'] = content_df['date_added'].dt.year\n",
        "\n",
        "# Compute mount.\n",
        "content_df['month_added'] = content_df['date_added'].dt.month        "
      ],
      "metadata": {
        "id": "08KaBMNgyCVM"
      },
      "execution_count": null,
      "outputs": []
    },
    {
      "cell_type": "markdown",
      "source": [
        "> Splitting datasets for movies and tv shows"
      ],
      "metadata": {
        "id": "e2Ayl9X61mTV"
      }
    },
    {
      "cell_type": "code",
      "source": [
        "df_movies = content_df[content_df['type']=='Movie'].copy()\n",
        "df_movies.head()"
      ],
      "metadata": {
        "id": "Rj7c7s7hyDpi",
        "colab": {
          "base_uri": "https://localhost:8080/",
          "height": 754
        },
        "outputId": "2dcbb82d-4f26-4f14-995f-05ddcf5d8973"
      },
      "execution_count": null,
      "outputs": [
        {
          "output_type": "execute_result",
          "data": {
            "text/plain": [
              "  show_id   type  title           director  \\\n",
              "1      s2  Movie   7:19  Jorge Michel Grau   \n",
              "2      s3  Movie  23:59       Gilbert Chan   \n",
              "3      s4  Movie      9        Shane Acker   \n",
              "4      s5  Movie     21     Robert Luketic   \n",
              "6      s7  Movie    122    Yasir Al Yasiri   \n",
              "\n",
              "                                                cast        country  \\\n",
              "1  Demián Bichir, Héctor Bonilla, Oscar Serrano, ...         Mexico   \n",
              "2  Tedd Chan, Stella Chung, Henley Hii, Lawrence ...      Singapore   \n",
              "3  Elijah Wood, John C. Reilly, Jennifer Connelly...  United States   \n",
              "4  Jim Sturgess, Kevin Spacey, Kate Bosworth, Aar...  United States   \n",
              "6  Amina Khalil, Ahmed Dawood, Tarek Lotfy, Ahmed...          Egypt   \n",
              "\n",
              "  date_added  release_year rating duration  \\\n",
              "1 2016-12-23          2016  TV-MA   93 min   \n",
              "2 2018-12-20          2011      R   78 min   \n",
              "3 2017-11-16          2009  PG-13   80 min   \n",
              "4 2020-01-01          2008  PG-13  123 min   \n",
              "6 2020-06-01          2019  TV-MA   95 min   \n",
              "\n",
              "                                           listed_in  \\\n",
              "1                       Dramas, International Movies   \n",
              "2                Horror Movies, International Movies   \n",
              "3  Action & Adventure, Independent Movies, Sci-Fi...   \n",
              "4                                             Dramas   \n",
              "6                Horror Movies, International Movies   \n",
              "\n",
              "                                         description  day_added  year_added  \\\n",
              "1  After a devastating earthquake hits Mexico Cit...       23.0      2016.0   \n",
              "2  When an army recruit is found dead, his fellow...       20.0      2018.0   \n",
              "3  In a postapocalyptic world, rag-doll robots hi...       16.0      2017.0   \n",
              "4  A brilliant group of students become card-coun...        1.0      2020.0   \n",
              "6  After an awful accident, a couple admitted to ...        1.0      2020.0   \n",
              "\n",
              "   month_added  \n",
              "1         12.0  \n",
              "2         12.0  \n",
              "3         11.0  \n",
              "4          1.0  \n",
              "6          6.0  "
            ],
            "text/html": [
              "\n",
              "  <div id=\"df-0f82b8b6-9842-4a78-b8a7-717992128e6f\">\n",
              "    <div class=\"colab-df-container\">\n",
              "      <div>\n",
              "<style scoped>\n",
              "    .dataframe tbody tr th:only-of-type {\n",
              "        vertical-align: middle;\n",
              "    }\n",
              "\n",
              "    .dataframe tbody tr th {\n",
              "        vertical-align: top;\n",
              "    }\n",
              "\n",
              "    .dataframe thead th {\n",
              "        text-align: right;\n",
              "    }\n",
              "</style>\n",
              "<table border=\"1\" class=\"dataframe\">\n",
              "  <thead>\n",
              "    <tr style=\"text-align: right;\">\n",
              "      <th></th>\n",
              "      <th>show_id</th>\n",
              "      <th>type</th>\n",
              "      <th>title</th>\n",
              "      <th>director</th>\n",
              "      <th>cast</th>\n",
              "      <th>country</th>\n",
              "      <th>date_added</th>\n",
              "      <th>release_year</th>\n",
              "      <th>rating</th>\n",
              "      <th>duration</th>\n",
              "      <th>listed_in</th>\n",
              "      <th>description</th>\n",
              "      <th>day_added</th>\n",
              "      <th>year_added</th>\n",
              "      <th>month_added</th>\n",
              "    </tr>\n",
              "  </thead>\n",
              "  <tbody>\n",
              "    <tr>\n",
              "      <th>1</th>\n",
              "      <td>s2</td>\n",
              "      <td>Movie</td>\n",
              "      <td>7:19</td>\n",
              "      <td>Jorge Michel Grau</td>\n",
              "      <td>Demián Bichir, Héctor Bonilla, Oscar Serrano, ...</td>\n",
              "      <td>Mexico</td>\n",
              "      <td>2016-12-23</td>\n",
              "      <td>2016</td>\n",
              "      <td>TV-MA</td>\n",
              "      <td>93 min</td>\n",
              "      <td>Dramas, International Movies</td>\n",
              "      <td>After a devastating earthquake hits Mexico Cit...</td>\n",
              "      <td>23.0</td>\n",
              "      <td>2016.0</td>\n",
              "      <td>12.0</td>\n",
              "    </tr>\n",
              "    <tr>\n",
              "      <th>2</th>\n",
              "      <td>s3</td>\n",
              "      <td>Movie</td>\n",
              "      <td>23:59</td>\n",
              "      <td>Gilbert Chan</td>\n",
              "      <td>Tedd Chan, Stella Chung, Henley Hii, Lawrence ...</td>\n",
              "      <td>Singapore</td>\n",
              "      <td>2018-12-20</td>\n",
              "      <td>2011</td>\n",
              "      <td>R</td>\n",
              "      <td>78 min</td>\n",
              "      <td>Horror Movies, International Movies</td>\n",
              "      <td>When an army recruit is found dead, his fellow...</td>\n",
              "      <td>20.0</td>\n",
              "      <td>2018.0</td>\n",
              "      <td>12.0</td>\n",
              "    </tr>\n",
              "    <tr>\n",
              "      <th>3</th>\n",
              "      <td>s4</td>\n",
              "      <td>Movie</td>\n",
              "      <td>9</td>\n",
              "      <td>Shane Acker</td>\n",
              "      <td>Elijah Wood, John C. Reilly, Jennifer Connelly...</td>\n",
              "      <td>United States</td>\n",
              "      <td>2017-11-16</td>\n",
              "      <td>2009</td>\n",
              "      <td>PG-13</td>\n",
              "      <td>80 min</td>\n",
              "      <td>Action &amp; Adventure, Independent Movies, Sci-Fi...</td>\n",
              "      <td>In a postapocalyptic world, rag-doll robots hi...</td>\n",
              "      <td>16.0</td>\n",
              "      <td>2017.0</td>\n",
              "      <td>11.0</td>\n",
              "    </tr>\n",
              "    <tr>\n",
              "      <th>4</th>\n",
              "      <td>s5</td>\n",
              "      <td>Movie</td>\n",
              "      <td>21</td>\n",
              "      <td>Robert Luketic</td>\n",
              "      <td>Jim Sturgess, Kevin Spacey, Kate Bosworth, Aar...</td>\n",
              "      <td>United States</td>\n",
              "      <td>2020-01-01</td>\n",
              "      <td>2008</td>\n",
              "      <td>PG-13</td>\n",
              "      <td>123 min</td>\n",
              "      <td>Dramas</td>\n",
              "      <td>A brilliant group of students become card-coun...</td>\n",
              "      <td>1.0</td>\n",
              "      <td>2020.0</td>\n",
              "      <td>1.0</td>\n",
              "    </tr>\n",
              "    <tr>\n",
              "      <th>6</th>\n",
              "      <td>s7</td>\n",
              "      <td>Movie</td>\n",
              "      <td>122</td>\n",
              "      <td>Yasir Al Yasiri</td>\n",
              "      <td>Amina Khalil, Ahmed Dawood, Tarek Lotfy, Ahmed...</td>\n",
              "      <td>Egypt</td>\n",
              "      <td>2020-06-01</td>\n",
              "      <td>2019</td>\n",
              "      <td>TV-MA</td>\n",
              "      <td>95 min</td>\n",
              "      <td>Horror Movies, International Movies</td>\n",
              "      <td>After an awful accident, a couple admitted to ...</td>\n",
              "      <td>1.0</td>\n",
              "      <td>2020.0</td>\n",
              "      <td>6.0</td>\n",
              "    </tr>\n",
              "  </tbody>\n",
              "</table>\n",
              "</div>\n",
              "      <button class=\"colab-df-convert\" onclick=\"convertToInteractive('df-0f82b8b6-9842-4a78-b8a7-717992128e6f')\"\n",
              "              title=\"Convert this dataframe to an interactive table.\"\n",
              "              style=\"display:none;\">\n",
              "        \n",
              "  <svg xmlns=\"http://www.w3.org/2000/svg\" height=\"24px\"viewBox=\"0 0 24 24\"\n",
              "       width=\"24px\">\n",
              "    <path d=\"M0 0h24v24H0V0z\" fill=\"none\"/>\n",
              "    <path d=\"M18.56 5.44l.94 2.06.94-2.06 2.06-.94-2.06-.94-.94-2.06-.94 2.06-2.06.94zm-11 1L8.5 8.5l.94-2.06 2.06-.94-2.06-.94L8.5 2.5l-.94 2.06-2.06.94zm10 10l.94 2.06.94-2.06 2.06-.94-2.06-.94-.94-2.06-.94 2.06-2.06.94z\"/><path d=\"M17.41 7.96l-1.37-1.37c-.4-.4-.92-.59-1.43-.59-.52 0-1.04.2-1.43.59L10.3 9.45l-7.72 7.72c-.78.78-.78 2.05 0 2.83L4 21.41c.39.39.9.59 1.41.59.51 0 1.02-.2 1.41-.59l7.78-7.78 2.81-2.81c.8-.78.8-2.07 0-2.86zM5.41 20L4 18.59l7.72-7.72 1.47 1.35L5.41 20z\"/>\n",
              "  </svg>\n",
              "      </button>\n",
              "      \n",
              "  <style>\n",
              "    .colab-df-container {\n",
              "      display:flex;\n",
              "      flex-wrap:wrap;\n",
              "      gap: 12px;\n",
              "    }\n",
              "\n",
              "    .colab-df-convert {\n",
              "      background-color: #E8F0FE;\n",
              "      border: none;\n",
              "      border-radius: 50%;\n",
              "      cursor: pointer;\n",
              "      display: none;\n",
              "      fill: #1967D2;\n",
              "      height: 32px;\n",
              "      padding: 0 0 0 0;\n",
              "      width: 32px;\n",
              "    }\n",
              "\n",
              "    .colab-df-convert:hover {\n",
              "      background-color: #E2EBFA;\n",
              "      box-shadow: 0px 1px 2px rgba(60, 64, 67, 0.3), 0px 1px 3px 1px rgba(60, 64, 67, 0.15);\n",
              "      fill: #174EA6;\n",
              "    }\n",
              "\n",
              "    [theme=dark] .colab-df-convert {\n",
              "      background-color: #3B4455;\n",
              "      fill: #D2E3FC;\n",
              "    }\n",
              "\n",
              "    [theme=dark] .colab-df-convert:hover {\n",
              "      background-color: #434B5C;\n",
              "      box-shadow: 0px 1px 3px 1px rgba(0, 0, 0, 0.15);\n",
              "      filter: drop-shadow(0px 1px 2px rgba(0, 0, 0, 0.3));\n",
              "      fill: #FFFFFF;\n",
              "    }\n",
              "  </style>\n",
              "\n",
              "      <script>\n",
              "        const buttonEl =\n",
              "          document.querySelector('#df-0f82b8b6-9842-4a78-b8a7-717992128e6f button.colab-df-convert');\n",
              "        buttonEl.style.display =\n",
              "          google.colab.kernel.accessAllowed ? 'block' : 'none';\n",
              "\n",
              "        async function convertToInteractive(key) {\n",
              "          const element = document.querySelector('#df-0f82b8b6-9842-4a78-b8a7-717992128e6f');\n",
              "          const dataTable =\n",
              "            await google.colab.kernel.invokeFunction('convertToInteractive',\n",
              "                                                     [key], {});\n",
              "          if (!dataTable) return;\n",
              "\n",
              "          const docLinkHtml = 'Like what you see? Visit the ' +\n",
              "            '<a target=\"_blank\" href=https://colab.research.google.com/notebooks/data_table.ipynb>data table notebook</a>'\n",
              "            + ' to learn more about interactive tables.';\n",
              "          element.innerHTML = '';\n",
              "          dataTable['output_type'] = 'display_data';\n",
              "          await google.colab.output.renderOutput(dataTable, element);\n",
              "          const docLink = document.createElement('div');\n",
              "          docLink.innerHTML = docLinkHtml;\n",
              "          element.appendChild(docLink);\n",
              "        }\n",
              "      </script>\n",
              "    </div>\n",
              "  </div>\n",
              "  "
            ]
          },
          "metadata": {},
          "execution_count": 22
        }
      ]
    },
    {
      "cell_type": "code",
      "source": [
        "df_shows = content_df[content_df['type']=='TV Show'].copy()\n",
        "df_shows.head()"
      ],
      "metadata": {
        "id": "T6R4IyynyELr",
        "colab": {
          "base_uri": "https://localhost:8080/",
          "height": 632
        },
        "outputId": "a53a0cdb-7fb3-41a0-e091-f19fc636987c"
      },
      "execution_count": null,
      "outputs": [
        {
          "output_type": "execute_result",
          "data": {
            "text/plain": [
              "   show_id     type   title              director  \\\n",
              "0       s1  TV Show      3%                   NaN   \n",
              "5       s6  TV Show      46           Serdar Akar   \n",
              "11     s12  TV Show    1983                   NaN   \n",
              "12     s13  TV Show    1994  Diego Enrique Osorno   \n",
              "16     s17  TV Show  Feb-09                   NaN   \n",
              "\n",
              "                                                 cast                country  \\\n",
              "0   João Miguel, Bianca Comparato, Michel Gomes, R...                 Brazil   \n",
              "5   Erdal Beşikçioğlu, Yasemin Allen, Melis Birkan...                 Turkey   \n",
              "11  Robert Więckiewicz, Maciej Musiał, Michalina O...  Poland, United States   \n",
              "12                                                NaN                 Mexico   \n",
              "16  Shahd El Yaseen, Shaila Sabt, Hala, Hanadi Al-...                    NaN   \n",
              "\n",
              "   date_added  release_year rating   duration  \\\n",
              "0  2020-08-14          2020  TV-MA  4 Seasons   \n",
              "5  2017-07-01          2016  TV-MA   1 Season   \n",
              "11 2018-11-30          2018  TV-MA   1 Season   \n",
              "12 2019-05-17          2019  TV-MA   1 Season   \n",
              "16 2019-03-20          2018  TV-14   1 Season   \n",
              "\n",
              "                                            listed_in  \\\n",
              "0   International TV Shows, TV Dramas, TV Sci-Fi &...   \n",
              "5     International TV Shows, TV Dramas, TV Mysteries   \n",
              "11  Crime TV Shows, International TV Shows, TV Dramas   \n",
              "12  Crime TV Shows, Docuseries, International TV S...   \n",
              "16                  International TV Shows, TV Dramas   \n",
              "\n",
              "                                          description  day_added  year_added  \\\n",
              "0   In a future where the elite inhabit an island ...       14.0      2020.0   \n",
              "5   A genetics professor experiments with a treatm...        1.0      2017.0   \n",
              "11  In this dark alt-history thriller, a naïve law...       30.0      2018.0   \n",
              "12  Archival video and new interviews examine Mexi...       17.0      2019.0   \n",
              "16  As a psychology professor faces Alzheimer's, h...       20.0      2019.0   \n",
              "\n",
              "    month_added  \n",
              "0           8.0  \n",
              "5           7.0  \n",
              "11         11.0  \n",
              "12          5.0  \n",
              "16          3.0  "
            ],
            "text/html": [
              "\n",
              "  <div id=\"df-5e5b3c98-3fb2-41ba-a02f-f3406e58730c\">\n",
              "    <div class=\"colab-df-container\">\n",
              "      <div>\n",
              "<style scoped>\n",
              "    .dataframe tbody tr th:only-of-type {\n",
              "        vertical-align: middle;\n",
              "    }\n",
              "\n",
              "    .dataframe tbody tr th {\n",
              "        vertical-align: top;\n",
              "    }\n",
              "\n",
              "    .dataframe thead th {\n",
              "        text-align: right;\n",
              "    }\n",
              "</style>\n",
              "<table border=\"1\" class=\"dataframe\">\n",
              "  <thead>\n",
              "    <tr style=\"text-align: right;\">\n",
              "      <th></th>\n",
              "      <th>show_id</th>\n",
              "      <th>type</th>\n",
              "      <th>title</th>\n",
              "      <th>director</th>\n",
              "      <th>cast</th>\n",
              "      <th>country</th>\n",
              "      <th>date_added</th>\n",
              "      <th>release_year</th>\n",
              "      <th>rating</th>\n",
              "      <th>duration</th>\n",
              "      <th>listed_in</th>\n",
              "      <th>description</th>\n",
              "      <th>day_added</th>\n",
              "      <th>year_added</th>\n",
              "      <th>month_added</th>\n",
              "    </tr>\n",
              "  </thead>\n",
              "  <tbody>\n",
              "    <tr>\n",
              "      <th>0</th>\n",
              "      <td>s1</td>\n",
              "      <td>TV Show</td>\n",
              "      <td>3%</td>\n",
              "      <td>NaN</td>\n",
              "      <td>João Miguel, Bianca Comparato, Michel Gomes, R...</td>\n",
              "      <td>Brazil</td>\n",
              "      <td>2020-08-14</td>\n",
              "      <td>2020</td>\n",
              "      <td>TV-MA</td>\n",
              "      <td>4 Seasons</td>\n",
              "      <td>International TV Shows, TV Dramas, TV Sci-Fi &amp;...</td>\n",
              "      <td>In a future where the elite inhabit an island ...</td>\n",
              "      <td>14.0</td>\n",
              "      <td>2020.0</td>\n",
              "      <td>8.0</td>\n",
              "    </tr>\n",
              "    <tr>\n",
              "      <th>5</th>\n",
              "      <td>s6</td>\n",
              "      <td>TV Show</td>\n",
              "      <td>46</td>\n",
              "      <td>Serdar Akar</td>\n",
              "      <td>Erdal Beşikçioğlu, Yasemin Allen, Melis Birkan...</td>\n",
              "      <td>Turkey</td>\n",
              "      <td>2017-07-01</td>\n",
              "      <td>2016</td>\n",
              "      <td>TV-MA</td>\n",
              "      <td>1 Season</td>\n",
              "      <td>International TV Shows, TV Dramas, TV Mysteries</td>\n",
              "      <td>A genetics professor experiments with a treatm...</td>\n",
              "      <td>1.0</td>\n",
              "      <td>2017.0</td>\n",
              "      <td>7.0</td>\n",
              "    </tr>\n",
              "    <tr>\n",
              "      <th>11</th>\n",
              "      <td>s12</td>\n",
              "      <td>TV Show</td>\n",
              "      <td>1983</td>\n",
              "      <td>NaN</td>\n",
              "      <td>Robert Więckiewicz, Maciej Musiał, Michalina O...</td>\n",
              "      <td>Poland, United States</td>\n",
              "      <td>2018-11-30</td>\n",
              "      <td>2018</td>\n",
              "      <td>TV-MA</td>\n",
              "      <td>1 Season</td>\n",
              "      <td>Crime TV Shows, International TV Shows, TV Dramas</td>\n",
              "      <td>In this dark alt-history thriller, a naïve law...</td>\n",
              "      <td>30.0</td>\n",
              "      <td>2018.0</td>\n",
              "      <td>11.0</td>\n",
              "    </tr>\n",
              "    <tr>\n",
              "      <th>12</th>\n",
              "      <td>s13</td>\n",
              "      <td>TV Show</td>\n",
              "      <td>1994</td>\n",
              "      <td>Diego Enrique Osorno</td>\n",
              "      <td>NaN</td>\n",
              "      <td>Mexico</td>\n",
              "      <td>2019-05-17</td>\n",
              "      <td>2019</td>\n",
              "      <td>TV-MA</td>\n",
              "      <td>1 Season</td>\n",
              "      <td>Crime TV Shows, Docuseries, International TV S...</td>\n",
              "      <td>Archival video and new interviews examine Mexi...</td>\n",
              "      <td>17.0</td>\n",
              "      <td>2019.0</td>\n",
              "      <td>5.0</td>\n",
              "    </tr>\n",
              "    <tr>\n",
              "      <th>16</th>\n",
              "      <td>s17</td>\n",
              "      <td>TV Show</td>\n",
              "      <td>Feb-09</td>\n",
              "      <td>NaN</td>\n",
              "      <td>Shahd El Yaseen, Shaila Sabt, Hala, Hanadi Al-...</td>\n",
              "      <td>NaN</td>\n",
              "      <td>2019-03-20</td>\n",
              "      <td>2018</td>\n",
              "      <td>TV-14</td>\n",
              "      <td>1 Season</td>\n",
              "      <td>International TV Shows, TV Dramas</td>\n",
              "      <td>As a psychology professor faces Alzheimer's, h...</td>\n",
              "      <td>20.0</td>\n",
              "      <td>2019.0</td>\n",
              "      <td>3.0</td>\n",
              "    </tr>\n",
              "  </tbody>\n",
              "</table>\n",
              "</div>\n",
              "      <button class=\"colab-df-convert\" onclick=\"convertToInteractive('df-5e5b3c98-3fb2-41ba-a02f-f3406e58730c')\"\n",
              "              title=\"Convert this dataframe to an interactive table.\"\n",
              "              style=\"display:none;\">\n",
              "        \n",
              "  <svg xmlns=\"http://www.w3.org/2000/svg\" height=\"24px\"viewBox=\"0 0 24 24\"\n",
              "       width=\"24px\">\n",
              "    <path d=\"M0 0h24v24H0V0z\" fill=\"none\"/>\n",
              "    <path d=\"M18.56 5.44l.94 2.06.94-2.06 2.06-.94-2.06-.94-.94-2.06-.94 2.06-2.06.94zm-11 1L8.5 8.5l.94-2.06 2.06-.94-2.06-.94L8.5 2.5l-.94 2.06-2.06.94zm10 10l.94 2.06.94-2.06 2.06-.94-2.06-.94-.94-2.06-.94 2.06-2.06.94z\"/><path d=\"M17.41 7.96l-1.37-1.37c-.4-.4-.92-.59-1.43-.59-.52 0-1.04.2-1.43.59L10.3 9.45l-7.72 7.72c-.78.78-.78 2.05 0 2.83L4 21.41c.39.39.9.59 1.41.59.51 0 1.02-.2 1.41-.59l7.78-7.78 2.81-2.81c.8-.78.8-2.07 0-2.86zM5.41 20L4 18.59l7.72-7.72 1.47 1.35L5.41 20z\"/>\n",
              "  </svg>\n",
              "      </button>\n",
              "      \n",
              "  <style>\n",
              "    .colab-df-container {\n",
              "      display:flex;\n",
              "      flex-wrap:wrap;\n",
              "      gap: 12px;\n",
              "    }\n",
              "\n",
              "    .colab-df-convert {\n",
              "      background-color: #E8F0FE;\n",
              "      border: none;\n",
              "      border-radius: 50%;\n",
              "      cursor: pointer;\n",
              "      display: none;\n",
              "      fill: #1967D2;\n",
              "      height: 32px;\n",
              "      padding: 0 0 0 0;\n",
              "      width: 32px;\n",
              "    }\n",
              "\n",
              "    .colab-df-convert:hover {\n",
              "      background-color: #E2EBFA;\n",
              "      box-shadow: 0px 1px 2px rgba(60, 64, 67, 0.3), 0px 1px 3px 1px rgba(60, 64, 67, 0.15);\n",
              "      fill: #174EA6;\n",
              "    }\n",
              "\n",
              "    [theme=dark] .colab-df-convert {\n",
              "      background-color: #3B4455;\n",
              "      fill: #D2E3FC;\n",
              "    }\n",
              "\n",
              "    [theme=dark] .colab-df-convert:hover {\n",
              "      background-color: #434B5C;\n",
              "      box-shadow: 0px 1px 3px 1px rgba(0, 0, 0, 0.15);\n",
              "      filter: drop-shadow(0px 1px 2px rgba(0, 0, 0, 0.3));\n",
              "      fill: #FFFFFF;\n",
              "    }\n",
              "  </style>\n",
              "\n",
              "      <script>\n",
              "        const buttonEl =\n",
              "          document.querySelector('#df-5e5b3c98-3fb2-41ba-a02f-f3406e58730c button.colab-df-convert');\n",
              "        buttonEl.style.display =\n",
              "          google.colab.kernel.accessAllowed ? 'block' : 'none';\n",
              "\n",
              "        async function convertToInteractive(key) {\n",
              "          const element = document.querySelector('#df-5e5b3c98-3fb2-41ba-a02f-f3406e58730c');\n",
              "          const dataTable =\n",
              "            await google.colab.kernel.invokeFunction('convertToInteractive',\n",
              "                                                     [key], {});\n",
              "          if (!dataTable) return;\n",
              "\n",
              "          const docLinkHtml = 'Like what you see? Visit the ' +\n",
              "            '<a target=\"_blank\" href=https://colab.research.google.com/notebooks/data_table.ipynb>data table notebook</a>'\n",
              "            + ' to learn more about interactive tables.';\n",
              "          element.innerHTML = '';\n",
              "          dataTable['output_type'] = 'display_data';\n",
              "          await google.colab.output.renderOutput(dataTable, element);\n",
              "          const docLink = document.createElement('div');\n",
              "          docLink.innerHTML = docLinkHtml;\n",
              "          element.appendChild(docLink);\n",
              "        }\n",
              "      </script>\n",
              "    </div>\n",
              "  </div>\n",
              "  "
            ]
          },
          "metadata": {},
          "execution_count": 23
        }
      ]
    },
    {
      "cell_type": "markdown",
      "source": [
        "> Duration manipulation"
      ],
      "metadata": {
        "id": "lZ9Vxlr8DXPV"
      }
    },
    {
      "cell_type": "code",
      "source": [
        "# duration manipulation for movie\n",
        "df_movies.duration = df_movies.duration.str.replace(' min','').astype(int)\n",
        "\n",
        "# duration manipulation for tv shows\n",
        "df_shows.rename(columns={'duration':'seasons'}, inplace=True)\n",
        "df_shows.replace({'seasons':{'1 Season':'1 Seasons'}}, inplace=True)\n",
        "df_shows.seasons = df_shows.seasons.str.replace(' Seasons','').astype(int)\n",
        "\n"
      ],
      "metadata": {
        "id": "Yf40cFxLC0Mz"
      },
      "execution_count": null,
      "outputs": []
    },
    {
      "cell_type": "markdown",
      "source": [
        "### What all manipulations have you done and insights you found?"
      ],
      "metadata": {
        "id": "MSa1f5Uengrz"
      }
    },
    {
      "cell_type": "markdown",
      "source": [
        "Answer Here."
      ],
      "metadata": {
        "id": "LbyXE7I1olp8"
      }
    },
    {
      "cell_type": "markdown",
      "source": [
        "## ***4. Data Vizualization, Storytelling & Experimenting with charts : Understand the relationships between variables***"
      ],
      "metadata": {
        "id": "GF8Ens_Soomf"
      }
    },
    {
      "cell_type": "markdown",
      "source": [
        "#### Chart - 1"
      ],
      "metadata": {
        "id": "0wOQAZs5pc--"
      }
    },
    {
      "cell_type": "code",
      "source": [
        "# Chart - 1 visualization code\n",
        "# pie chart for movie and tv show\n",
        "labels = ['Movie', 'TV show']\n",
        "size = content_df['type'].value_counts()\n",
        "colors = plt.cm.Wistia(np.linspace(0, 1, 2))\n",
        "explode = [0, 0.1]\n",
        "plt.rcParams['figure.figsize'] = (6, 7)\n",
        "plt.pie(size,labels=labels, colors = colors,autopct='%1.1f%%', explode = explode, shadow = True, startangle = 90)\n",
        "plt.title('Distribution of Type', fontsize = 25)\n",
        "plt.legend()\n",
        "plt.show()"
      ],
      "metadata": {
        "id": "7v_ESjsspbW7",
        "colab": {
          "base_uri": "https://localhost:8080/",
          "height": 391
        },
        "outputId": "ed2a056d-9ac3-424b-be82-547d4209a4bd"
      },
      "execution_count": null,
      "outputs": [
        {
          "output_type": "display_data",
          "data": {
            "text/plain": [
              "<Figure size 432x504 with 1 Axes>"
            ],
            "image/png": "[encoded data removed]"
          },
          "metadata": {}
        }
      ]
    },
    {
      "cell_type": "code",
      "source": [
        "# Balance of Netflix products\n",
        "plot_donut_chart(df=content_df, col='type', colors=['red','black'], title='Does Netflix had more \\nMovies or TV Shows in 2019?')\n",
        "     \n"
      ],
      "metadata": {
        "id": "Hj-5VVmxA_4J",
        "colab": {
          "base_uri": "https://localhost:8080/",
          "height": 501
        },
        "outputId": "ee78910d-df58-490d-b206-13f67bc7894f"
      },
      "execution_count": null,
      "outputs": [
        {
          "output_type": "display_data",
          "data": {
            "text/plain": [
              "<Figure size 576x576 with 1 Axes>"
            ],
            "image/png": "[encoded data removed]"
          },
          "metadata": {}
        }
      ]
    },
    {
      "cell_type": "markdown",
      "source": [
        "##### 1. Why did you pick the specific chart?"
      ],
      "metadata": {
        "id": "K5QZ13OEpz2H"
      }
    },
    {
      "cell_type": "markdown",
      "source": [
        "Answer Here."
      ],
      "metadata": {
        "id": "XESiWehPqBRc"
      }
    },
    {
      "cell_type": "markdown",
      "source": [
        "##### 2. What is/are the insight(s) found from the chart?"
      ],
      "metadata": {
        "id": "lQ7QKXXCp7Bj"
      }
    },
    {
      "cell_type": "markdown",
      "source": [
        "Answer Here"
      ],
      "metadata": {
        "id": "C_j1G7yiqdRP"
      }
    },
    {
      "cell_type": "markdown",
      "source": [
        "##### 3. Will the gained insights help creating a positive business impact? \n",
        "Are there any insights that lead to negative growth? Justify with specific reason."
      ],
      "metadata": {
        "id": "448CDAPjqfQr"
      }
    },
    {
      "cell_type": "markdown",
      "source": [
        "Answer Here"
      ],
      "metadata": {
        "id": "3cspy4FjqxJW"
      }
    },
    {
      "cell_type": "markdown",
      "source": [
        "#### Chart - 2"
      ],
      "metadata": {
        "id": "KSlN3yHqYklG"
      }
    },
    {
      "cell_type": "code",
      "source": [
        "# Chart - 2 visualization code\n",
        "# count plot for ratings\n",
        "sns.countplot(content_df['rating'])\n",
        "sns.countplot(content_df['rating']).set_xticklabels(sns.countplot(content_df['rating']).get_xticklabels(), rotation=90, ha=\"right\")\n",
        "fig = plt.gcf()\n",
        "fig.set_size_inches(12,7)\n",
        "plt.title('Rating')\n"
      ],
      "metadata": {
        "id": "R4YgtaqtYklH",
        "colab": {
          "base_uri": "https://localhost:8080/",
          "height": 509
        },
        "outputId": "4756ad8b-15eb-4078-8a59-dfe81158ccbe"
      },
      "execution_count": null,
      "outputs": [
        {
          "output_type": "execute_result",
          "data": {
            "text/plain": [
              "Text(0.5, 1.0, 'Rating')"
            ]
          },
          "metadata": {},
          "execution_count": 27
        },
        {
          "output_type": "display_data",
          "data": {
            "text/plain": [
              "<Figure size 864x504 with 1 Axes>"
            ],
            "image/png": "[encoded data removed]"
          },
          "metadata": {
            "needs_background": "light"
          }
        }
      ]
    },
    {
      "cell_type": "markdown",
      "source": [
        "##### 1. Why did you pick the specific chart?"
      ],
      "metadata": {
        "id": "t6dVpIINYklI"
      }
    },
    {
      "cell_type": "markdown",
      "source": [
        "Answer Here."
      ],
      "metadata": {
        "id": "5aaW0BYyYklI"
      }
    },
    {
      "cell_type": "markdown",
      "source": [
        "##### 2. What is/are the insight(s) found from the chart?"
      ],
      "metadata": {
        "id": "ijmpgYnKYklI"
      }
    },
    {
      "cell_type": "markdown",
      "source": [
        "Answer Here"
      ],
      "metadata": {
        "id": "PSx9atu2YklI"
      }
    },
    {
      "cell_type": "markdown",
      "source": [
        "##### 3. Will the gained insights help creating a positive business impact? \n",
        "Are there any insights that lead to negative growth? Justify with specific reason."
      ],
      "metadata": {
        "id": "-JiQyfWJYklI"
      }
    },
    {
      "cell_type": "markdown",
      "source": [
        "Answer Here"
      ],
      "metadata": {
        "id": "BcBbebzrYklV"
      }
    },
    {
      "cell_type": "markdown",
      "source": [
        "#### Chart - 3"
      ],
      "metadata": {
        "id": "EM7whBJCYoAo"
      }
    },
    {
      "cell_type": "code",
      "source": [
        "# Chart - 3 visualization code\n",
        "# graph for different rating on movies and tv shows\n",
        "plt.figure(figsize=(12,8))\n",
        "sns.countplot(x='rating',hue='type',data=content_df,palette=\"Set2\")\n",
        "plt.title('Relation between Type and Rating')\n",
        "plt.show()"
      ],
      "metadata": {
        "id": "t6GMdE67YoAp",
        "colab": {
          "base_uri": "https://localhost:8080/",
          "height": 513
        },
        "outputId": "d60c76e9-f900-4928-ba80-c42ce3f2afda"
      },
      "execution_count": null,
      "outputs": [
        {
          "output_type": "display_data",
          "data": {
            "text/plain": [
              "<Figure size 864x576 with 1 Axes>"
            ],
            "image/png": "[encoded data removed]"
          },
          "metadata": {
            "needs_background": "light"
          }
        }
      ]
    },
    {
      "cell_type": "markdown",
      "source": [
        "##### 1. Why did you pick the specific chart?"
      ],
      "metadata": {
        "id": "fge-S5ZAYoAp"
      }
    },
    {
      "cell_type": "markdown",
      "source": [
        "Answer Here."
      ],
      "metadata": {
        "id": "5dBItgRVYoAp"
      }
    },
    {
      "cell_type": "markdown",
      "source": [
        "##### 2. What is/are the insight(s) found from the chart?"
      ],
      "metadata": {
        "id": "85gYPyotYoAp"
      }
    },
    {
      "cell_type": "markdown",
      "source": [
        "Answer Here"
      ],
      "metadata": {
        "id": "4jstXR6OYoAp"
      }
    },
    {
      "cell_type": "markdown",
      "source": [
        "##### 3. Will the gained insights help creating a positive business impact? \n",
        "Are there any insights that lead to negative growth? Justify with specific reason."
      ],
      "metadata": {
        "id": "RoGjAbkUYoAp"
      }
    },
    {
      "cell_type": "markdown",
      "source": [
        "Answer Here"
      ],
      "metadata": {
        "id": "zfJ8IqMcYoAp"
      }
    },
    {
      "cell_type": "markdown",
      "source": [
        "#### Chart - 4"
      ],
      "metadata": {
        "id": "4Of9eVA-YrdM"
      }
    },
    {
      "cell_type": "code",
      "source": [
        "# Chart - 4 visualization code\n",
        "# Plotting and customizing a rating analysis\n",
        "plot_countplot(content_df, 'rating', order=True, figsize=(18, 10),\n",
        "               title='Rating Analysis on Netflix Titles', size_title=20)\n",
        "plt.xticks(fontsize=16)\n",
        "plt.show()\n",
        "     \n"
      ],
      "metadata": {
        "id": "irlUoxc8YrdO",
        "colab": {
          "base_uri": "https://localhost:8080/",
          "height": 646
        },
        "outputId": "6502889f-98ed-49fa-8a1e-1294ca7a5499"
      },
      "execution_count": null,
      "outputs": [
        {
          "output_type": "display_data",
          "data": {
            "text/plain": [
              "<Figure size 1296x720 with 1 Axes>"
            ],
            "image/png": "[encoded data removed]"
          },
          "metadata": {
            "needs_background": "light"
          }
        }
      ]
    },
    {
      "cell_type": "markdown",
      "source": [
        "##### 1. Why did you pick the specific chart?"
      ],
      "metadata": {
        "id": "iky9q4vBYrdO"
      }
    },
    {
      "cell_type": "markdown",
      "source": [
        "Answer Here."
      ],
      "metadata": {
        "id": "aJRCwT6DYrdO"
      }
    },
    {
      "cell_type": "markdown",
      "source": [
        "##### 2. What is/are the insight(s) found from the chart?"
      ],
      "metadata": {
        "id": "F6T5p64dYrdO"
      }
    },
    {
      "cell_type": "markdown",
      "source": [
        "Answer Here"
      ],
      "metadata": {
        "id": "Xx8WAJvtYrdO"
      }
    },
    {
      "cell_type": "markdown",
      "source": [
        "##### 3. Will the gained insights help creating a positive business impact? \n",
        "Are there any insights that lead to negative growth? Justify with specific reason."
      ],
      "metadata": {
        "id": "y-Ehk30pYrdP"
      }
    },
    {
      "cell_type": "markdown",
      "source": [
        "Answer Here"
      ],
      "metadata": {
        "id": "jLNxxz7MYrdP"
      }
    },
    {
      "cell_type": "markdown",
      "source": [
        "#### Chart - 5"
      ],
      "metadata": {
        "id": "bamQiAODYuh1"
      }
    },
    {
      "cell_type": "code",
      "source": [
        "# Chart - 5 visualization code\n"
      ],
      "metadata": {
        "id": "TIJwrbroYuh3"
      },
      "execution_count": null,
      "outputs": []
    },
    {
      "cell_type": "markdown",
      "source": [
        "##### 1. Why did you pick the specific chart?"
      ],
      "metadata": {
        "id": "QHF8YVU7Yuh3"
      }
    },
    {
      "cell_type": "markdown",
      "source": [
        "Answer Here."
      ],
      "metadata": {
        "id": "dcxuIMRPYuh3"
      }
    },
    {
      "cell_type": "markdown",
      "source": [
        "##### 2. What is/are the insight(s) found from the chart?"
      ],
      "metadata": {
        "id": "GwzvFGzlYuh3"
      }
    },
    {
      "cell_type": "markdown",
      "source": [
        "Answer Here"
      ],
      "metadata": {
        "id": "uyqkiB8YYuh3"
      }
    },
    {
      "cell_type": "markdown",
      "source": [
        "##### 3. Will the gained insights help creating a positive business impact? \n",
        "Are there any insights that lead to negative growth? Justify with specific reason."
      ],
      "metadata": {
        "id": "qYpmQ266Yuh3"
      }
    },
    {
      "cell_type": "markdown",
      "source": [
        "Answer Here"
      ],
      "metadata": {
        "id": "_WtzZ_hCYuh4"
      }
    },
    {
      "cell_type": "markdown",
      "source": [
        "#### Chart - 6"
      ],
      "metadata": {
        "id": "OH-pJp9IphqM"
      }
    },
    {
      "cell_type": "code",
      "source": [
        "# Chart - 6 visualization code\n",
        "\n",
        "df_movies['originals'] = np.where(df_movies['release_year'] == df_movies['year_added'], 'Yes', 'No')\n",
        "# pie plot showing percentage of originals and others in movies\n",
        "fig, ax = plt.subplots(nrows= 1, ncols=2, figsize=(18,5),facecolor=\"#383838\")\n",
        "explode = (0, 0.1)\n",
        "ax[0].set_title('Movies', color='white', fontsize = 20)\n",
        "ax[0].pie(df_movies['originals'].value_counts(), explode=explode, autopct='%.2f%%', labels= ['Others', 'Originals'],\n",
        "       shadow=True, startangle=90,textprops={'color':\"white\", 'fontsize': 20}, colors =['black','red'])\n",
        "# pie plot showing percentage of originals and others in TV_shows\n",
        "df_shows['originals'] = np.where(df_shows['release_year'] == df_shows['year_added'], 'Yes', 'No')\n",
        "ax[1].set_title('TV shows', color='white', fontsize = 20 )\n",
        "ax[1].pie(df_shows['originals'].value_counts(), explode=explode, autopct='%.2f%%', labels= ['Others', 'Originals'],\n",
        "       shadow=True, startangle=90,textprops={'color':\"white\", 'fontsize': 20}, colors =['black','red'])"
      ],
      "metadata": {
        "id": "kuRf4wtuphqN",
        "colab": {
          "base_uri": "https://localhost:8080/",
          "height": 428
        },
        "outputId": "30ccf7c7-e0d6-43a6-85e9-b9f2c6a6afb9"
      },
      "execution_count": null,
      "outputs": [
        {
          "output_type": "execute_result",
          "data": {
            "text/plain": [
              "([<matplotlib.patches.Wedge at 0x7fe801e84eb0>,\n",
              "  <matplotlib.patches.Wedge at 0x7fe801e349a0>],\n",
              " [Text(-1.0999663543761926, -0.008603443516892913, 'Others'),\n",
              "  Text(1.1999632956831192, 0.00938557474570121, 'Originals')],\n",
              " [Text(-0.5999816478415596, -0.004692787372850679, '50.25%'),\n",
              "  Text(0.6999785891484862, 0.005474918601659039, '49.75%')])"
            ]
          },
          "metadata": {},
          "execution_count": 31
        },
        {
          "output_type": "display_data",
          "data": {
            "text/plain": [
              "<Figure size 1296x360 with 2 Axes>"
            ],
            "image/png": "[encoded data removed]"
          },
          "metadata": {}
        }
      ]
    },
    {
      "cell_type": "markdown",
      "source": [
        "##### 1. Why did you pick the specific chart?"
      ],
      "metadata": {
        "id": "bbFf2-_FphqN"
      }
    },
    {
      "cell_type": "markdown",
      "source": [
        "Answer Here."
      ],
      "metadata": {
        "id": "loh7H2nzphqN"
      }
    },
    {
      "cell_type": "markdown",
      "source": [
        "##### 2. What is/are the insight(s) found from the chart?"
      ],
      "metadata": {
        "id": "_ouA3fa0phqN"
      }
    },
    {
      "cell_type": "markdown",
      "source": [
        "Answer Here"
      ],
      "metadata": {
        "id": "VECbqPI7phqN"
      }
    },
    {
      "cell_type": "markdown",
      "source": [
        "##### 3. Will the gained insights help creating a positive business impact? \n",
        "Are there any insights that lead to negative growth? Justify with specific reason."
      ],
      "metadata": {
        "id": "Seke61FWphqN"
      }
    },
    {
      "cell_type": "markdown",
      "source": [
        "Answer Here"
      ],
      "metadata": {
        "id": "DW4_bGpfphqN"
      }
    },
    {
      "cell_type": "markdown",
      "source": [
        "#### Chart - 7"
      ],
      "metadata": {
        "id": "PIIx-8_IphqN"
      }
    },
    {
      "cell_type": "code",
      "source": [
        "# Chart - 7 visualization code"
      ],
      "metadata": {
        "id": "lqAIGUfyphqO"
      },
      "execution_count": null,
      "outputs": []
    },
    {
      "cell_type": "markdown",
      "source": [
        "##### 1. Why did you pick the specific chart?"
      ],
      "metadata": {
        "id": "t27r6nlMphqO"
      }
    },
    {
      "cell_type": "markdown",
      "source": [
        "Answer Here."
      ],
      "metadata": {
        "id": "iv6ro40sphqO"
      }
    },
    {
      "cell_type": "markdown",
      "source": [
        "##### 2. What is/are the insight(s) found from the chart?"
      ],
      "metadata": {
        "id": "r2jJGEOYphqO"
      }
    },
    {
      "cell_type": "markdown",
      "source": [
        "Answer Here"
      ],
      "metadata": {
        "id": "Po6ZPi4hphqO"
      }
    },
    {
      "cell_type": "markdown",
      "source": [
        "##### 3. Will the gained insights help creating a positive business impact? \n",
        "Are there any insights that lead to negative growth? Justify with specific reason."
      ],
      "metadata": {
        "id": "b0JNsNcRphqO"
      }
    },
    {
      "cell_type": "markdown",
      "source": [
        "Answer Here"
      ],
      "metadata": {
        "id": "xvSq8iUTphqO"
      }
    },
    {
      "cell_type": "markdown",
      "source": [
        "#### Chart - 8 - Duration"
      ],
      "metadata": {
        "id": "BZR9WyysphqO"
      }
    },
    {
      "cell_type": "code",
      "source": [
        "# Chart - 8 visualization code\n",
        "fig, ax = plt.subplots(1,2, figsize=(20, 5))\n",
        "g1 = sns.distplot(df_movies.duration, color='blue',ax=ax[0]);\n",
        "g1.set_xticks(np.arange(0,360,30))\n",
        "g1.set_title(\"Duration Distribution for Netflix Movies\")\n",
        "g1.set_ylabel(\"% of All Netflix Movies\")\n",
        "g1.set_xlabel(\"Duration (minutes)\")\n",
        "g2 = sns.countplot(df_shows.seasons, color='blue',ax=ax[1]);\n",
        "g2.set_title(\"Netflix TV Shows Seasons\")\n",
        "g2.set_ylabel(\"Count\")\n",
        "g2.set_xlabel(\"Season\")\n",
        "fig.show()"
      ],
      "metadata": {
        "id": "TdPTWpAVphqO",
        "colab": {
          "base_uri": "https://localhost:8080/",
          "height": 350
        },
        "outputId": "204db13a-7e75-4f66-c3d7-81fb1338da71"
      },
      "execution_count": null,
      "outputs": [
        {
          "output_type": "display_data",
          "data": {
            "text/plain": [
              "<Figure size 1440x360 with 2 Axes>"
            ],
            "image/png": "[encoded data removed]"
          },
          "metadata": {
            "needs_background": "light"
          }
        }
      ]
    },
    {
      "cell_type": "markdown",
      "source": [
        "##### 1. Why did you pick the specific chart?"
      ],
      "metadata": {
        "id": "jj7wYXLtphqO"
      }
    },
    {
      "cell_type": "markdown",
      "source": [
        "Answer Here."
      ],
      "metadata": {
        "id": "Ob8u6rCTphqO"
      }
    },
    {
      "cell_type": "markdown",
      "source": [
        "##### 2. What is/are the insight(s) found from the chart?"
      ],
      "metadata": {
        "id": "eZrbJ2SmphqO"
      }
    },
    {
      "cell_type": "markdown",
      "source": [
        "Answer Here"
      ],
      "metadata": {
        "id": "mZtgC_hjphqO"
      }
    },
    {
      "cell_type": "markdown",
      "source": [
        "##### 3. Will the gained insights help creating a positive business impact? \n",
        "Are there any insights that lead to negative growth? Justify with specific reason."
      ],
      "metadata": {
        "id": "rFu4xreNphqO"
      }
    },
    {
      "cell_type": "markdown",
      "source": [
        "Answer Here"
      ],
      "metadata": {
        "id": "ey_0qi68phqO"
      }
    },
    {
      "cell_type": "markdown",
      "source": [
        "#### Chart - 9"
      ],
      "metadata": {
        "id": "YJ55k-q6phqO"
      }
    },
    {
      "cell_type": "code",
      "source": [
        "# Chart - 9 visualization code\n",
        "fig = plt.figure(figsize=(18,6))\n",
        "sns.set(style='whitegrid')\n",
        "fig.set_facecolor(\"lightblue\")\n",
        "sns.countplot(data = content_df,x = 'year_added',palette =\"autumn_r\")\n",
        "plt.title('Movies added to Netflix each year ', fontsize=10)\n",
        "plt.ylabel('No. of movies added to Netflix', fontsize=10)\n",
        "plt.xlabel('Year -> (Movies added to Netflix) ', fontsize=10)\n",
        "     "
      ],
      "metadata": {
        "id": "B2aS4O1ophqO",
        "colab": {
          "base_uri": "https://localhost:8080/",
          "height": 422
        },
        "outputId": "305eb03d-091a-44d7-c67f-9fb5aa3d9c61"
      },
      "execution_count": null,
      "outputs": [
        {
          "output_type": "execute_result",
          "data": {
            "text/plain": [
              "Text(0.5, 0, 'Year -> (Movies added to Netflix) ')"
            ]
          },
          "metadata": {},
          "execution_count": 34
        },
        {
          "output_type": "display_data",
          "data": {
            "text/plain": [
              "<Figure size 1296x432 with 1 Axes>"
            ],
            "image/png": "[encoded data removed]"
          },
          "metadata": {}
        }
      ]
    },
    {
      "cell_type": "markdown",
      "source": [
        "##### 1. Why did you pick the specific chart?"
      ],
      "metadata": {
        "id": "gCFgpxoyphqP"
      }
    },
    {
      "cell_type": "markdown",
      "source": [
        "Answer Here."
      ],
      "metadata": {
        "id": "TVxDimi2phqP"
      }
    },
    {
      "cell_type": "markdown",
      "source": [
        "##### 2. What is/are the insight(s) found from the chart?"
      ],
      "metadata": {
        "id": "OVtJsKN_phqQ"
      }
    },
    {
      "cell_type": "markdown",
      "source": [
        "Answer Here"
      ],
      "metadata": {
        "id": "ngGi97qjphqQ"
      }
    },
    {
      "cell_type": "markdown",
      "source": [
        "##### 3. Will the gained insights help creating a positive business impact? \n",
        "Are there any insights that lead to negative growth? Justify with specific reason."
      ],
      "metadata": {
        "id": "lssrdh5qphqQ"
      }
    },
    {
      "cell_type": "markdown",
      "source": [
        "Answer Here"
      ],
      "metadata": {
        "id": "tBpY5ekJphqQ"
      }
    },
    {
      "cell_type": "markdown",
      "source": [
        "#### Chart - 10"
      ],
      "metadata": {
        "id": "U2RJ9gkRphqQ"
      }
    },
    {
      "cell_type": "code",
      "source": [
        "# Chart - 10 visualization code\n",
        "fig = plt.figure(figsize=(18,6))\n",
        "sns.set(style='whitegrid')\n",
        "fig.set_facecolor(\"lightblue\")\n",
        "sns.countplot(data=content_df,x = 'month_added',palette =\"autumn_r\")\n",
        "plt.title('Count Plot - Movies added to Netflix by month ', fontsize=10)\n",
        "plt.ylabel('\"No. of movies added to Netflix', fontsize=10)\n",
        "plt.xlabel('Month -> (Movies added to Netflix) ', fontsize=10)"
      ],
      "metadata": {
        "id": "GM7a4YP4phqQ",
        "colab": {
          "base_uri": "https://localhost:8080/",
          "height": 422
        },
        "outputId": "a559f3a5-33db-4ae6-8cc9-24c9d44ab766"
      },
      "execution_count": null,
      "outputs": [
        {
          "output_type": "execute_result",
          "data": {
            "text/plain": [
              "Text(0.5, 0, 'Month -> (Movies added to Netflix) ')"
            ]
          },
          "metadata": {},
          "execution_count": 35
        },
        {
          "output_type": "display_data",
          "data": {
            "text/plain": [
              "<Figure size 1296x432 with 1 Axes>"
            ],
            "image/png": "[encoded data removed]"
          },
          "metadata": {}
        }
      ]
    },
    {
      "cell_type": "markdown",
      "source": [
        "##### 1. Why did you pick the specific chart?"
      ],
      "metadata": {
        "id": "1M8mcRywphqQ"
      }
    },
    {
      "cell_type": "markdown",
      "source": [
        "Answer Here."
      ],
      "metadata": {
        "id": "8agQvks0phqQ"
      }
    },
    {
      "cell_type": "markdown",
      "source": [
        "##### 2. What is/are the insight(s) found from the chart?"
      ],
      "metadata": {
        "id": "tgIPom80phqQ"
      }
    },
    {
      "cell_type": "markdown",
      "source": [
        "Answer Here"
      ],
      "metadata": {
        "id": "Qp13pnNzphqQ"
      }
    },
    {
      "cell_type": "markdown",
      "source": [
        "##### 3. Will the gained insights help creating a positive business impact? \n",
        "Are there any insights that lead to negative growth? Justify with specific reason."
      ],
      "metadata": {
        "id": "JMzcOPDDphqR"
      }
    },
    {
      "cell_type": "markdown",
      "source": [
        "Answer Here"
      ],
      "metadata": {
        "id": "R4Ka1PC2phqR"
      }
    },
    {
      "cell_type": "markdown",
      "source": [
        "#### Chart - 11"
      ],
      "metadata": {
        "id": "x-EpHcCOp1ci"
      }
    },
    {
      "cell_type": "code",
      "source": [
        "# Chart - 11 visualization code"
      ],
      "metadata": {
        "id": "mAQTIvtqp1cj"
      },
      "execution_count": null,
      "outputs": []
    },
    {
      "cell_type": "markdown",
      "source": [
        "##### 1. Why did you pick the specific chart?"
      ],
      "metadata": {
        "id": "X_VqEhTip1ck"
      }
    },
    {
      "cell_type": "markdown",
      "source": [
        "Answer Here."
      ],
      "metadata": {
        "id": "-vsMzt_np1ck"
      }
    },
    {
      "cell_type": "markdown",
      "source": [
        "##### 2. What is/are the insight(s) found from the chart?"
      ],
      "metadata": {
        "id": "8zGJKyg5p1ck"
      }
    },
    {
      "cell_type": "markdown",
      "source": [
        "Answer Here"
      ],
      "metadata": {
        "id": "ZYdMsrqVp1ck"
      }
    },
    {
      "cell_type": "markdown",
      "source": [
        "##### 3. Will the gained insights help creating a positive business impact? \n",
        "Are there any insights that lead to negative growth? Justify with specific reason."
      ],
      "metadata": {
        "id": "PVzmfK_Ep1ck"
      }
    },
    {
      "cell_type": "markdown",
      "source": [
        "Answer Here"
      ],
      "metadata": {
        "id": "druuKYZpp1ck"
      }
    },
    {
      "cell_type": "markdown",
      "source": [
        "#### Chart - 12"
      ],
      "metadata": {
        "id": "n3dbpmDWp1ck"
      }
    },
    {
      "cell_type": "code",
      "source": [
        "# Chart - 12 visualization code"
      ],
      "metadata": {
        "id": "bwevp1tKp1ck"
      },
      "execution_count": null,
      "outputs": []
    },
    {
      "cell_type": "markdown",
      "source": [
        "##### 1. Why did you pick the specific chart?"
      ],
      "metadata": {
        "id": "ylSl6qgtp1ck"
      }
    },
    {
      "cell_type": "markdown",
      "source": [
        "Answer Here."
      ],
      "metadata": {
        "id": "m2xqNkiQp1ck"
      }
    },
    {
      "cell_type": "markdown",
      "source": [
        "##### 2. What is/are the insight(s) found from the chart?"
      ],
      "metadata": {
        "id": "ZWILFDl5p1ck"
      }
    },
    {
      "cell_type": "markdown",
      "source": [
        "Answer Here"
      ],
      "metadata": {
        "id": "x-lUsV2mp1ck"
      }
    },
    {
      "cell_type": "markdown",
      "source": [
        "##### 3. Will the gained insights help creating a positive business impact? \n",
        "Are there any insights that lead to negative growth? Justify with specific reason."
      ],
      "metadata": {
        "id": "M7G43BXep1ck"
      }
    },
    {
      "cell_type": "markdown",
      "source": [
        "Answer Here"
      ],
      "metadata": {
        "id": "5wwDJXsLp1cl"
      }
    },
    {
      "cell_type": "markdown",
      "source": [
        "#### Chart - 13"
      ],
      "metadata": {
        "id": "Ag9LCva-p1cl"
      }
    },
    {
      "cell_type": "markdown",
      "source": [
        "![Netflix Dashboard.png](data:image/png;base64,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)\n",
        "\n",
        "For interactive dashboard- [Click here](https://public.tableau.com/views/Netflixdasboard_16717379913640/NetflixDashboard?:language=en-US&:display_count=n&:origin=viz_share_link)  (please select fullscreen option given at bottom right corner of dashboard for better experience. )"
      ],
      "metadata": {
        "id": "JSAJKbh5NsWU"
      }
    },
    {
      "cell_type": "code",
      "source": [
        "# Chart - 13 visualization code"
      ],
      "metadata": {
        "id": "EUfxeq9-p1cl"
      },
      "execution_count": null,
      "outputs": []
    },
    {
      "cell_type": "markdown",
      "source": [
        "##### 1. Why did you pick the specific chart?"
      ],
      "metadata": {
        "id": "E6MkPsBcp1cl"
      }
    },
    {
      "cell_type": "markdown",
      "source": [
        "Answer Here."
      ],
      "metadata": {
        "id": "V22bRsFWp1cl"
      }
    },
    {
      "cell_type": "markdown",
      "source": [
        "##### 2. What is/are the insight(s) found from the chart?"
      ],
      "metadata": {
        "id": "2cELzS2fp1cl"
      }
    },
    {
      "cell_type": "markdown",
      "source": [
        "Answer Here"
      ],
      "metadata": {
        "id": "ozQPc2_Ip1cl"
      }
    },
    {
      "cell_type": "markdown",
      "source": [
        "##### 3. Will the gained insights help creating a positive business impact? \n",
        "Are there any insights that lead to negative growth? Justify with specific reason."
      ],
      "metadata": {
        "id": "3MPXvC8up1cl"
      }
    },
    {
      "cell_type": "markdown",
      "source": [
        "Answer Here"
      ],
      "metadata": {
        "id": "GL8l1tdLp1cl"
      }
    },
    {
      "cell_type": "markdown",
      "source": [
        "#### Chart - 14 - Correlation Heatmap"
      ],
      "metadata": {
        "id": "NC_X3p0fY2L0"
      }
    },
    {
      "cell_type": "code",
      "source": [
        "# Correlation Heatmap visualization code"
      ],
      "metadata": {
        "id": "xyC9zolEZNRQ"
      },
      "execution_count": null,
      "outputs": []
    },
    {
      "cell_type": "markdown",
      "source": [
        "##### 1. Why did you pick the specific chart?"
      ],
      "metadata": {
        "id": "UV0SzAkaZNRQ"
      }
    },
    {
      "cell_type": "markdown",
      "source": [
        "Answer Here."
      ],
      "metadata": {
        "id": "DVPuT8LYZNRQ"
      }
    },
    {
      "cell_type": "markdown",
      "source": [
        "##### 2. What is/are the insight(s) found from the chart?"
      ],
      "metadata": {
        "id": "YPEH6qLeZNRQ"
      }
    },
    {
      "cell_type": "markdown",
      "source": [
        "Answer Here"
      ],
      "metadata": {
        "id": "bfSqtnDqZNRR"
      }
    },
    {
      "cell_type": "markdown",
      "source": [
        "#### Chart - 15 - Pair Plot "
      ],
      "metadata": {
        "id": "q29F0dvdveiT"
      }
    },
    {
      "cell_type": "code",
      "source": [
        "# Pair Plot visualization code"
      ],
      "metadata": {
        "id": "o58-TEIhveiU"
      },
      "execution_count": null,
      "outputs": []
    },
    {
      "cell_type": "markdown",
      "source": [
        "##### 1. Why did you pick the specific chart?"
      ],
      "metadata": {
        "id": "EXh0U9oCveiU"
      }
    },
    {
      "cell_type": "markdown",
      "source": [
        "Answer Here."
      ],
      "metadata": {
        "id": "eMmPjTByveiU"
      }
    },
    {
      "cell_type": "markdown",
      "source": [
        "##### 2. What is/are the insight(s) found from the chart?"
      ],
      "metadata": {
        "id": "22aHeOlLveiV"
      }
    },
    {
      "cell_type": "markdown",
      "source": [
        "Answer Here"
      ],
      "metadata": {
        "id": "uPQ8RGwHveiV"
      }
    },
    {
      "cell_type": "markdown",
      "source": [
        "## ***5. Hypothesis Testing***"
      ],
      "metadata": {
        "id": "g-ATYxFrGrvw"
      }
    },
    {
      "cell_type": "markdown",
      "source": [
        "### Based on your chart experiments, define three hypothetical statements from the dataset. In the next three questions, perform hypothesis testing to obtain final conclusion about the statements through your code and statistical testing."
      ],
      "metadata": {
        "id": "Yfr_Vlr8HBkt"
      }
    },
    {
      "cell_type": "markdown",
      "source": [
        "Answer Here."
      ],
      "metadata": {
        "id": "-7MS06SUHkB-"
      }
    },
    {
      "cell_type": "markdown",
      "source": [
        "### Hypothetical Statement - 1"
      ],
      "metadata": {
        "id": "8yEUt7NnHlrM"
      }
    },
    {
      "cell_type": "markdown",
      "source": [
        "#### 1. State Your research hypothesis as a null hypothesis and alternate hypothesis."
      ],
      "metadata": {
        "id": "tEA2Xm5dHt1r"
      }
    },
    {
      "cell_type": "markdown",
      "source": [
        "Answer Here."
      ],
      "metadata": {
        "id": "HI9ZP0laH0D-"
      }
    },
    {
      "cell_type": "markdown",
      "source": [
        "#### 2. Perform an appropriate statistical test."
      ],
      "metadata": {
        "id": "I79__PHVH19G"
      }
    },
    {
      "cell_type": "code",
      "source": [
        "# Perform Statistical Test to obtain P-Value"
      ],
      "metadata": {
        "id": "oZrfquKtyian"
      },
      "execution_count": null,
      "outputs": []
    },
    {
      "cell_type": "markdown",
      "source": [
        "##### Which statistical test have you done to obtain P-Value?"
      ],
      "metadata": {
        "id": "Ou-I18pAyIpj"
      }
    },
    {
      "cell_type": "markdown",
      "source": [
        "Answer Here."
      ],
      "metadata": {
        "id": "s2U0kk00ygSB"
      }
    },
    {
      "cell_type": "markdown",
      "source": [
        "##### Why did you choose the specific statistical test?"
      ],
      "metadata": {
        "id": "fF3858GYyt-u"
      }
    },
    {
      "cell_type": "markdown",
      "source": [
        "Answer Here."
      ],
      "metadata": {
        "id": "HO4K0gP5y3B4"
      }
    },
    {
      "cell_type": "markdown",
      "source": [
        "### Hypothetical Statement - 2"
      ],
      "metadata": {
        "id": "4_0_7-oCpUZd"
      }
    },
    {
      "cell_type": "markdown",
      "source": [
        "#### 1. State Your research hypothesis as a null hypothesis and alternate hypothesis."
      ],
      "metadata": {
        "id": "hwyV_J3ipUZe"
      }
    },
    {
      "cell_type": "markdown",
      "source": [
        "Answer Here."
      ],
      "metadata": {
        "id": "FnpLGJ-4pUZe"
      }
    },
    {
      "cell_type": "markdown",
      "source": [
        "#### 2. Perform an appropriate statistical test."
      ],
      "metadata": {
        "id": "3yB-zSqbpUZe"
      }
    },
    {
      "cell_type": "code",
      "source": [
        "# Perform Statistical Test to obtain P-Value\n"
      ],
      "metadata": {
        "id": "sWxdNTXNpUZe"
      },
      "execution_count": null,
      "outputs": []
    },
    {
      "cell_type": "markdown",
      "source": [
        "##### Which statistical test have you done to obtain P-Value?"
      ],
      "metadata": {
        "id": "dEUvejAfpUZe"
      }
    },
    {
      "cell_type": "markdown",
      "source": [
        "Answer Here."
      ],
      "metadata": {
        "id": "oLDrPz7HpUZf"
      }
    },
    {
      "cell_type": "markdown",
      "source": [
        "##### Why did you choose the specific statistical test?"
      ],
      "metadata": {
        "id": "Fd15vwWVpUZf"
      }
    },
    {
      "cell_type": "markdown",
      "source": [
        "Answer Here."
      ],
      "metadata": {
        "id": "4xOGYyiBpUZf"
      }
    },
    {
      "cell_type": "markdown",
      "source": [
        "### Hypothetical Statement - 3"
      ],
      "metadata": {
        "id": "bn_IUdTipZyH"
      }
    },
    {
      "cell_type": "markdown",
      "source": [
        "#### 1. State Your research hypothesis as a null hypothesis and alternate hypothesis."
      ],
      "metadata": {
        "id": "49K5P_iCpZyH"
      }
    },
    {
      "cell_type": "markdown",
      "source": [
        "Answer Here."
      ],
      "metadata": {
        "id": "7gWI5rT9pZyH"
      }
    },
    {
      "cell_type": "markdown",
      "source": [
        "#### 2. Perform an appropriate statistical test."
      ],
      "metadata": {
        "id": "Nff-vKELpZyI"
      }
    },
    {
      "cell_type": "code",
      "source": [
        "# Perform Statistical Test to obtain P-Value"
      ],
      "metadata": {
        "id": "s6AnJQjtpZyI"
      },
      "execution_count": null,
      "outputs": []
    },
    {
      "cell_type": "markdown",
      "source": [
        "##### Which statistical test have you done to obtain P-Value?"
      ],
      "metadata": {
        "id": "kLW572S8pZyI"
      }
    },
    {
      "cell_type": "markdown",
      "source": [
        "Answer Here."
      ],
      "metadata": {
        "id": "ytWJ8v15pZyI"
      }
    },
    {
      "cell_type": "markdown",
      "source": [
        "##### Why did you choose the specific statistical test?"
      ],
      "metadata": {
        "id": "dWbDXHzopZyI"
      }
    },
    {
      "cell_type": "markdown",
      "source": [
        "Answer Here."
      ],
      "metadata": {
        "id": "M99G98V6pZyI"
      }
    },
    {
      "cell_type": "markdown",
      "source": [
        "## ***6. Feature Engineering & Data Pre-processing***"
      ],
      "metadata": {
        "id": "yLjJCtPM0KBk"
      }
    },
    {
      "cell_type": "markdown",
      "source": [
        "### 1. Handling Missing Values"
      ],
      "metadata": {
        "id": "xiyOF9F70UgQ"
      }
    },
    {
      "cell_type": "code",
      "source": [
        "# Handling Missing Values & Missing Value Imputation"
      ],
      "metadata": {
        "id": "iRsAHk1K0fpS"
      },
      "execution_count": null,
      "outputs": []
    },
    {
      "cell_type": "markdown",
      "source": [
        "#### What all missing value imputation techniques have you used and why did you use those techniques?"
      ],
      "metadata": {
        "id": "7wuGOrhz0itI"
      }
    },
    {
      "cell_type": "markdown",
      "source": [
        "Answer Here."
      ],
      "metadata": {
        "id": "1ixusLtI0pqI"
      }
    },
    {
      "cell_type": "markdown",
      "source": [
        "### 2. Handling Outliers"
      ],
      "metadata": {
        "id": "id1riN9m0vUs"
      }
    },
    {
      "cell_type": "code",
      "source": [
        "# Handling Outliers & Outlier treatments"
      ],
      "metadata": {
        "id": "M6w2CzZf04JK"
      },
      "execution_count": null,
      "outputs": []
    },
    {
      "cell_type": "markdown",
      "source": [
        "##### What all outlier treatment techniques have you used and why did you use those techniques?"
      ],
      "metadata": {
        "id": "578E2V7j08f6"
      }
    },
    {
      "cell_type": "markdown",
      "source": [
        "Answer Here."
      ],
      "metadata": {
        "id": "uGZz5OrT1HH-"
      }
    },
    {
      "cell_type": "markdown",
      "source": [
        "### 3. Categorical Encoding"
      ],
      "metadata": {
        "id": "89xtkJwZ18nB"
      }
    },
    {
      "cell_type": "code",
      "source": [
        "# Encode your categorical columns"
      ],
      "metadata": {
        "id": "21JmIYMG2hEo"
      },
      "execution_count": null,
      "outputs": []
    },
    {
      "cell_type": "markdown",
      "source": [
        "#### What all categorical encoding techniques have you used & why did you use those techniques?"
      ],
      "metadata": {
        "id": "67NQN5KX2AMe"
      }
    },
    {
      "cell_type": "markdown",
      "source": [
        "Answer Here."
      ],
      "metadata": {
        "id": "UDaue5h32n_G"
      }
    },
    {
      "cell_type": "markdown",
      "source": [
        "### 4. Textual Data Preprocessing \n",
        "(It's mandatory for textual dataset i.e., NLP, Sentiment Analysis, Text Clustering etc.)"
      ],
      "metadata": {
        "id": "Iwf50b-R2tYG"
      }
    },
    {
      "cell_type": "markdown",
      "source": [
        "#### 1. Expand Contraction"
      ],
      "metadata": {
        "id": "GMQiZwjn3iu7"
      }
    },
    {
      "cell_type": "code",
      "source": [
        "# Expand Contraction"
      ],
      "metadata": {
        "id": "PTouz10C3oNN"
      },
      "execution_count": null,
      "outputs": []
    },
    {
      "cell_type": "markdown",
      "source": [
        "#### 2. Lower Casing"
      ],
      "metadata": {
        "id": "WVIkgGqN3qsr"
      }
    },
    {
      "cell_type": "code",
      "source": [
        "# Lower Casing"
      ],
      "metadata": {
        "id": "88JnJ1jN3w7j"
      },
      "execution_count": null,
      "outputs": []
    },
    {
      "cell_type": "markdown",
      "source": [
        "#### 3. Removing Punctuations"
      ],
      "metadata": {
        "id": "XkPnILGE3zoT"
      }
    },
    {
      "cell_type": "code",
      "source": [
        "# Remove Punctuations"
      ],
      "metadata": {
        "id": "vqbBqNaA33c0"
      },
      "execution_count": null,
      "outputs": []
    },
    {
      "cell_type": "markdown",
      "source": [
        "#### 4. Removing URLs & Removing words and digits contain digits."
      ],
      "metadata": {
        "id": "Hlsf0x5436Go"
      }
    },
    {
      "cell_type": "code",
      "source": [
        "# Remove URLs & Remove words and digits contain digits"
      ],
      "metadata": {
        "id": "2sxKgKxu4Ip3"
      },
      "execution_count": null,
      "outputs": []
    },
    {
      "cell_type": "markdown",
      "source": [
        "#### 5. Removing Stopwords & Removing White spaces"
      ],
      "metadata": {
        "id": "mT9DMSJo4nBL"
      }
    },
    {
      "cell_type": "code",
      "source": [
        "# Remove Stopwords"
      ],
      "metadata": {
        "id": "T2LSJh154s8W"
      },
      "execution_count": null,
      "outputs": []
    },
    {
      "cell_type": "code",
      "source": [
        "# Remove White spaces"
      ],
      "metadata": {
        "id": "EgLJGffy4vm0"
      },
      "execution_count": null,
      "outputs": []
    },
    {
      "cell_type": "markdown",
      "source": [
        "#### 6. Rephrase Text"
      ],
      "metadata": {
        "id": "c49ITxTc407N"
      }
    },
    {
      "cell_type": "code",
      "source": [
        "# Rephrase Text"
      ],
      "metadata": {
        "id": "foqY80Qu48N2"
      },
      "execution_count": null,
      "outputs": []
    },
    {
      "cell_type": "markdown",
      "source": [
        "#### 7. Tokenization"
      ],
      "metadata": {
        "id": "OeJFEK0N496M"
      }
    },
    {
      "cell_type": "code",
      "source": [
        "# Tokenization"
      ],
      "metadata": {
        "id": "ijx1rUOS5CUU"
      },
      "execution_count": null,
      "outputs": []
    },
    {
      "cell_type": "markdown",
      "source": [
        "#### 8. Text Normalization"
      ],
      "metadata": {
        "id": "9ExmJH0g5HBk"
      }
    },
    {
      "cell_type": "code",
      "source": [
        "# Normalizing Text (i.e., Stemming, Lemmatization etc.)"
      ],
      "metadata": {
        "id": "AIJ1a-Zc5PY8"
      },
      "execution_count": null,
      "outputs": []
    },
    {
      "cell_type": "markdown",
      "source": [
        "##### Which text normalization technique have you used and why?"
      ],
      "metadata": {
        "id": "cJNqERVU536h"
      }
    },
    {
      "cell_type": "markdown",
      "source": [
        "Answer Here."
      ],
      "metadata": {
        "id": "Z9jKVxE06BC1"
      }
    },
    {
      "cell_type": "markdown",
      "source": [
        "#### 9. Part of speech tagging"
      ],
      "metadata": {
        "id": "k5UmGsbsOxih"
      }
    },
    {
      "cell_type": "code",
      "source": [
        "# POS Taging"
      ],
      "metadata": {
        "id": "btT3ZJBAO6Ik"
      },
      "execution_count": null,
      "outputs": []
    },
    {
      "cell_type": "markdown",
      "source": [
        "#### 10. Text Vectorization"
      ],
      "metadata": {
        "id": "T0VqWOYE6DLQ"
      }
    },
    {
      "cell_type": "code",
      "source": [
        "# Vectorizing Text"
      ],
      "metadata": {
        "id": "yBRtdhth6JDE"
      },
      "execution_count": null,
      "outputs": []
    },
    {
      "cell_type": "markdown",
      "source": [
        "##### Which text vectorization technique have you used and why?"
      ],
      "metadata": {
        "id": "qBMux9mC6MCf"
      }
    },
    {
      "cell_type": "markdown",
      "source": [
        "Answer Here."
      ],
      "metadata": {
        "id": "su2EnbCh6UKQ"
      }
    },
    {
      "cell_type": "markdown",
      "source": [
        "### 4. Feature Manipulation & Selection"
      ],
      "metadata": {
        "id": "-oLEiFgy-5Pf"
      }
    },
    {
      "cell_type": "markdown",
      "source": [
        "#### 1. Feature Manipulation"
      ],
      "metadata": {
        "id": "C74aWNz2AliB"
      }
    },
    {
      "cell_type": "code",
      "source": [
        "# Manipulate Features to minimize feature correlation and create new features"
      ],
      "metadata": {
        "id": "h1qC4yhBApWC"
      },
      "execution_count": null,
      "outputs": []
    },
    {
      "cell_type": "markdown",
      "source": [
        "#### 2. Feature Selection"
      ],
      "metadata": {
        "id": "2DejudWSA-a0"
      }
    },
    {
      "cell_type": "code",
      "source": [
        "# Select your features wisely to avoid overfitting"
      ],
      "metadata": {
        "id": "YLhe8UmaBCEE"
      },
      "execution_count": null,
      "outputs": []
    },
    {
      "cell_type": "markdown",
      "source": [
        "##### What all feature selection methods have you used  and why?"
      ],
      "metadata": {
        "id": "pEMng2IbBLp7"
      }
    },
    {
      "cell_type": "markdown",
      "source": [
        "Answer Here."
      ],
      "metadata": {
        "id": "rb2Lh6Z8BgGs"
      }
    },
    {
      "cell_type": "markdown",
      "source": [
        "##### Which all features you found important and why?"
      ],
      "metadata": {
        "id": "rAdphbQ9Bhjc"
      }
    },
    {
      "cell_type": "markdown",
      "source": [
        "Answer Here."
      ],
      "metadata": {
        "id": "fGgaEstsBnaf"
      }
    },
    {
      "cell_type": "markdown",
      "source": [
        "### 5. Data Transformation"
      ],
      "metadata": {
        "id": "TNVZ9zx19K6k"
      }
    },
    {
      "cell_type": "markdown",
      "source": [
        "#### Do you think that your data needs to be transformed? If yes, which transformation have you used. Explain Why?"
      ],
      "metadata": {
        "id": "nqoHp30x9hH9"
      }
    },
    {
      "cell_type": "code",
      "source": [
        "# Transform Your data"
      ],
      "metadata": {
        "id": "I6quWQ1T9rtH"
      },
      "execution_count": null,
      "outputs": []
    },
    {
      "cell_type": "markdown",
      "source": [
        "### 6. Data Scaling"
      ],
      "metadata": {
        "id": "rMDnDkt2B6du"
      }
    },
    {
      "cell_type": "code",
      "source": [
        "# Scaling your data"
      ],
      "metadata": {
        "id": "dL9LWpySC6x_"
      },
      "execution_count": null,
      "outputs": []
    },
    {
      "cell_type": "markdown",
      "source": [
        "##### Which method have you used to scale you data and why?"
      ],
      "metadata": {
        "id": "yiiVWRdJDDil"
      }
    },
    {
      "cell_type": "markdown",
      "source": [
        "### 7. Dimesionality Reduction"
      ],
      "metadata": {
        "id": "1UUpS68QDMuG"
      }
    },
    {
      "cell_type": "markdown",
      "source": [
        "##### Do you think that dimensionality reduction is needed? Explain Why?"
      ],
      "metadata": {
        "id": "kexQrXU-DjzY"
      }
    },
    {
      "cell_type": "markdown",
      "source": [
        "Answer Here."
      ],
      "metadata": {
        "id": "GGRlBsSGDtTQ"
      }
    },
    {
      "cell_type": "code",
      "source": [
        "# DImensionality Reduction (If needed)"
      ],
      "metadata": {
        "id": "kQfvxBBHDvCa"
      },
      "execution_count": null,
      "outputs": []
    },
    {
      "cell_type": "markdown",
      "source": [
        "##### Which dimensionality reduction technique have you used and why? (If dimensionality reduction done on dataset.)"
      ],
      "metadata": {
        "id": "T5CmagL3EC8N"
      }
    },
    {
      "cell_type": "markdown",
      "source": [
        "Answer Here."
      ],
      "metadata": {
        "id": "ZKr75IDuEM7t"
      }
    },
    {
      "cell_type": "markdown",
      "source": [
        "### 8. Data Splitting"
      ],
      "metadata": {
        "id": "BhH2vgX9EjGr"
      }
    },
    {
      "cell_type": "code",
      "source": [
        "# Split your data to train and test. Choose Splitting ratio wisely."
      ],
      "metadata": {
        "id": "0CTyd2UwEyNM"
      },
      "execution_count": null,
      "outputs": []
    },
    {
      "cell_type": "markdown",
      "source": [
        "##### What data splitting ratio have you used and why? "
      ],
      "metadata": {
        "id": "qjKvONjwE8ra"
      }
    },
    {
      "cell_type": "markdown",
      "source": [
        "Answer Here."
      ],
      "metadata": {
        "id": "Y2lJ8cobFDb_"
      }
    },
    {
      "cell_type": "markdown",
      "source": [
        "### 9. Handling Imbalanced Dataset"
      ],
      "metadata": {
        "id": "P1XJ9OREExlT"
      }
    },
    {
      "cell_type": "markdown",
      "source": [
        "##### Do you think the dataset is imbalanced? Explain Why."
      ],
      "metadata": {
        "id": "VFOzZv6IFROw"
      }
    },
    {
      "cell_type": "markdown",
      "source": [
        "Answer Here."
      ],
      "metadata": {
        "id": "GeKDIv7pFgcC"
      }
    },
    {
      "cell_type": "code",
      "source": [
        "# Handling Imbalanced Dataset (If needed)"
      ],
      "metadata": {
        "id": "nQsRhhZLFiDs"
      },
      "execution_count": null,
      "outputs": []
    },
    {
      "cell_type": "markdown",
      "source": [
        "##### What technique did you use to handle the imbalance dataset and why? (If needed to be balanced)"
      ],
      "metadata": {
        "id": "TIqpNgepFxVj"
      }
    },
    {
      "cell_type": "markdown",
      "source": [
        "Answer Here."
      ],
      "metadata": {
        "id": "qbet1HwdGDTz"
      }
    },
    {
      "cell_type": "markdown",
      "source": [
        "## ***7. ML Model Implementation***"
      ],
      "metadata": {
        "id": "VfCC591jGiD4"
      }
    },
    {
      "cell_type": "markdown",
      "source": [
        "### ML Model - 1"
      ],
      "metadata": {
        "id": "OB4l2ZhMeS1U"
      }
    },
    {
      "cell_type": "code",
      "source": [
        "# ML Model - 1 Implementation\n",
        "\n",
        "# Fit the Algorithm\n",
        "\n",
        "# Predict on the model"
      ],
      "metadata": {
        "id": "7ebyywQieS1U"
      },
      "execution_count": null,
      "outputs": []
    },
    {
      "cell_type": "markdown",
      "source": [
        "#### 1. Explain the ML Model used and it's performance using Evaluation metric Score Chart."
      ],
      "metadata": {
        "id": "ArJBuiUVfxKd"
      }
    },
    {
      "cell_type": "code",
      "source": [
        "# Visualizing evaluation Metric Score chart"
      ],
      "metadata": {
        "id": "rqD5ZohzfxKe"
      },
      "execution_count": null,
      "outputs": []
    },
    {
      "cell_type": "markdown",
      "source": [
        "#### 2. Cross- Validation & Hyperparameter Tuning"
      ],
      "metadata": {
        "id": "4qY1EAkEfxKe"
      }
    },
    {
      "cell_type": "code",
      "source": [
        "# ML Model - 1 Implementation with hyperparameter optimization techniques (i.e., GridSearch CV, RandomSearch CV, Bayesian Optimization etc.)\n",
        "\n",
        "# Fit the Algorithm\n",
        "\n",
        "# Predict on the model"
      ],
      "metadata": {
        "id": "Dy61ujd6fxKe"
      },
      "execution_count": null,
      "outputs": []
    },
    {
      "cell_type": "markdown",
      "source": [
        "##### Which hyperparameter optimization technique have you used and why?"
      ],
      "metadata": {
        "id": "PiV4Ypx8fxKe"
      }
    },
    {
      "cell_type": "markdown",
      "source": [
        "Answer Here."
      ],
      "metadata": {
        "id": "negyGRa7fxKf"
      }
    },
    {
      "cell_type": "markdown",
      "source": [
        "##### Have you seen any improvement? Note down the improvement with updates Evaluation metric Score Chart."
      ],
      "metadata": {
        "id": "TfvqoZmBfxKf"
      }
    },
    {
      "cell_type": "markdown",
      "source": [
        "Answer Here."
      ],
      "metadata": {
        "id": "OaLui8CcfxKf"
      }
    },
    {
      "cell_type": "markdown",
      "source": [
        "### ML Model - 2"
      ],
      "metadata": {
        "id": "dJ2tPlVmpsJ0"
      }
    },
    {
      "cell_type": "markdown",
      "source": [
        "#### 1. Explain the ML Model used and it's performance using Evaluation metric Score Chart."
      ],
      "metadata": {
        "id": "JWYfwnehpsJ1"
      }
    },
    {
      "cell_type": "code",
      "source": [
        "# Visualizing evaluation Metric Score chart"
      ],
      "metadata": {
        "id": "yEl-hgQWpsJ1"
      },
      "execution_count": null,
      "outputs": []
    },
    {
      "cell_type": "markdown",
      "source": [
        "#### 2. Cross- Validation & Hyperparameter Tuning"
      ],
      "metadata": {
        "id": "-jK_YjpMpsJ2"
      }
    },
    {
      "cell_type": "code",
      "source": [
        "# ML Model - 1 Implementation with hyperparameter optimization techniques (i.e., GridSearch CV, RandomSearch CV, Bayesian Optimization etc.)\n",
        "\n",
        "# Fit the Algorithm\n",
        "\n",
        "# Predict on the model"
      ],
      "metadata": {
        "id": "Dn0EOfS6psJ2"
      },
      "execution_count": null,
      "outputs": []
    },
    {
      "cell_type": "markdown",
      "source": [
        "##### Which hyperparameter optimization technique have you used and why?"
      ],
      "metadata": {
        "id": "HAih1iBOpsJ2"
      }
    },
    {
      "cell_type": "markdown",
      "source": [
        "Answer Here."
      ],
      "metadata": {
        "id": "9kBgjYcdpsJ2"
      }
    },
    {
      "cell_type": "markdown",
      "source": [
        "##### Have you seen any improvement? Note down the improvement with updates Evaluation metric Score Chart."
      ],
      "metadata": {
        "id": "zVGeBEFhpsJ2"
      }
    },
    {
      "cell_type": "markdown",
      "source": [
        "Answer Here."
      ],
      "metadata": {
        "id": "74yRdG6UpsJ3"
      }
    },
    {
      "cell_type": "markdown",
      "source": [
        "#### 3. Explain each evaluation metric's indication towards business and the business impact pf the ML model used."
      ],
      "metadata": {
        "id": "bmKjuQ-FpsJ3"
      }
    },
    {
      "cell_type": "markdown",
      "source": [
        "Answer Here."
      ],
      "metadata": {
        "id": "BDKtOrBQpsJ3"
      }
    },
    {
      "cell_type": "markdown",
      "source": [
        "### ML Model - 3"
      ],
      "metadata": {
        "id": "Fze-IPXLpx6K"
      }
    },
    {
      "cell_type": "code",
      "source": [
        "# ML Model - 3 Implementation\n",
        "\n",
        "# Fit the Algorithm\n",
        "\n",
        "# Predict on the model"
      ],
      "metadata": {
        "id": "FFrSXAtrpx6M"
      },
      "execution_count": null,
      "outputs": []
    },
    {
      "cell_type": "markdown",
      "source": [
        "#### 1. Explain the ML Model used and it's performance using Evaluation metric Score Chart."
      ],
      "metadata": {
        "id": "7AN1z2sKpx6M"
      }
    },
    {
      "cell_type": "code",
      "source": [
        "# Visualizing evaluation Metric Score chart"
      ],
      "metadata": {
        "id": "xIY4lxxGpx6M"
      },
      "execution_count": null,
      "outputs": []
    },
    {
      "cell_type": "markdown",
      "source": [
        "#### 2. Cross- Validation & Hyperparameter Tuning"
      ],
      "metadata": {
        "id": "9PIHJqyupx6M"
      }
    },
    {
      "cell_type": "code",
      "source": [
        "# ML Model - 3 Implementation with hyperparameter optimization techniques (i.e., GridSearch CV, RandomSearch CV, Bayesian Optimization etc.)\n",
        "\n",
        "# Fit the Algorithm\n",
        "\n",
        "# Predict on the model"
      ],
      "metadata": {
        "id": "eSVXuaSKpx6M"
      },
      "execution_count": null,
      "outputs": []
    },
    {
      "cell_type": "markdown",
      "source": [
        "##### Which hyperparameter optimization technique have you used and why?"
      ],
      "metadata": {
        "id": "_-qAgymDpx6N"
      }
    },
    {
      "cell_type": "markdown",
      "source": [
        "Answer Here."
      ],
      "metadata": {
        "id": "lQMffxkwpx6N"
      }
    },
    {
      "cell_type": "markdown",
      "source": [
        "##### Have you seen any improvement? Note down the improvement with updates Evaluation metric Score Chart."
      ],
      "metadata": {
        "id": "Z-hykwinpx6N"
      }
    },
    {
      "cell_type": "markdown",
      "source": [
        "Answer Here."
      ],
      "metadata": {
        "id": "MzVzZC6opx6N"
      }
    },
    {
      "cell_type": "markdown",
      "source": [
        "### 1. Which Evaluation metrics did you consider for a positive business impact and why?"
      ],
      "metadata": {
        "id": "h_CCil-SKHpo"
      }
    },
    {
      "cell_type": "markdown",
      "source": [
        "Answer Here."
      ],
      "metadata": {
        "id": "jHVz9hHDKFms"
      }
    },
    {
      "cell_type": "markdown",
      "source": [
        "### 2. Which ML model did you choose from the above created models as your final prediction model and why?"
      ],
      "metadata": {
        "id": "cBFFvTBNJzUa"
      }
    },
    {
      "cell_type": "markdown",
      "source": [
        "Answer Here."
      ],
      "metadata": {
        "id": "6ksF5Q1LKTVm"
      }
    },
    {
      "cell_type": "markdown",
      "source": [
        "### 3. Explain the model which you have used and the feature importance using any model explainability tool?"
      ],
      "metadata": {
        "id": "HvGl1hHyA_VK"
      }
    },
    {
      "cell_type": "markdown",
      "source": [
        "Answer Here."
      ],
      "metadata": {
        "id": "YnvVTiIxBL-C"
      }
    },
    {
      "cell_type": "markdown",
      "source": [
        "## ***8.*** ***Future Work (Optional)***"
      ],
      "metadata": {
        "id": "EyNgTHvd2WFk"
      }
    },
    {
      "cell_type": "markdown",
      "source": [
        "### 1. Save the best performing ml model in a pickle file or joblib file format for deployment process.\n"
      ],
      "metadata": {
        "id": "KH5McJBi2d8v"
      }
    },
    {
      "cell_type": "code",
      "source": [
        "# Save the File"
      ],
      "metadata": {
        "id": "bQIANRl32f4J"
      },
      "execution_count": null,
      "outputs": []
    },
    {
      "cell_type": "markdown",
      "source": [
        "### 2. Again Load the saved model file and try to predict unseen data for a sanity check.\n"
      ],
      "metadata": {
        "id": "iW_Lq9qf2h6X"
      }
    },
    {
      "cell_type": "code",
      "source": [
        "# Load the File and predict unseen data."
      ],
      "metadata": {
        "id": "oEXk9ydD2nVC"
      },
      "execution_count": null,
      "outputs": []
    },
    {
      "cell_type": "markdown",
      "source": [
        "### ***Congrats! Your model is successfully created and ready for deployment on a live server for a real user interaction !!!***"
      ],
      "metadata": {
        "id": "-Kee-DAl2viO"
      }
    },
    {
      "cell_type": "markdown",
      "source": [
        "# **Conclusion**"
      ],
      "metadata": {
        "id": "gCX9965dhzqZ"
      }
    },
    {
      "cell_type": "markdown",
      "source": [
        "Write the conclusion here."
      ],
      "metadata": {
        "id": "Fjb1IsQkh3yE"
      }
    },
    {
      "cell_type": "markdown",
      "source": [
        "### ***Hurrah! You have successfully completed your Machine Learning Capstone Project !!!***"
      ],
      "metadata": {
        "id": "gIfDvo9L0UH2"
      }
    }
  ]
}